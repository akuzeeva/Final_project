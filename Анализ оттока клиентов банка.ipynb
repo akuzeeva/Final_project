{
 "cells": [
  {
   "cell_type": "markdown",
   "metadata": {},
   "source": [
    "<div style=\"border:solid Purple 2px; padding: 40px\">\n",
    "\n",
    "<b>Привет, Алина!👋\n",
    "\n",
    "Это твой тимлид - Эльвира Нургалиева. Предлагаю общаться на «ты», но если это не удобно - дай мне знать, и мы перейдем на «вы».\n",
    "\n",
    "\n",
    "Ты можешь найти мои комментарии, обозначенные <font color='green'>зеленым</font>, <font color='gold'>желтым</font> и <font color='red'>красным</font> цветами, например:\n",
    "\n",
    "\n",
    "<div class=\"alert alert-success\">\n",
    "<h2> Комментарий тимлида 😊<a class=\"tocSkip\"> </h2>\n",
    "    \n",
    "Такими комментариями я буду помечать отлично проделаную работу😉\n",
    "</div>\n",
    "    \n",
    "<div class=\"alert alert-warning\">\n",
    "<h2> Комментарий тимлида 🤓<a class=\"tocSkip\"> </h2>\n",
    "        \n",
    "В таких комментариях я постараюсь подсказать тебе более элегантное или легкое решение, некоторые хитрости и фишки. Части проекта, помеченные такими комментариями, можно не исправлять, но рекомендую обратить на них внимание.</div>\n",
    "\n",
    "<div class=\"alert alert-block alert-danger\">\n",
    "<h2> Комментарий тимлида ⛔️<a class=\"tocSkip\"></h2>\n",
    "    \n",
    "В случае, когда решение на отдельном шаге требует существенной переработки и внесения правок. Если ты видишь такой комментарий, значит здесть есть недочет, который следует исправить.\n",
    "</div>\n",
    "\n",
    "Ты также можешь реагировать на мои комментарии своими, выделяя их цветами и наиболее понравившимся тебе способом оформления, но явно  отличающимся от моих комментариев. Это нужно, чтобы не создавалась путаница🙃\n",
    "    \n",
    "`<div class=\"alert alert-info\"> <b>Комментарий студента:</b> Например, вот так.</div>`\n",
    "\n",
    "Чтобы сделать подобный блок, кликни здесь дважды и скопируй всю предыдущую строку ;)\n",
    "    \n",
    "Пожалуйста, не удаляй и не перемещай мои комментарии, они будут особенно полезны для нашей работы в случае повторной проверки проекта.</div></b>"
   ]
  },
  {
   "cell_type": "markdown",
   "metadata": {},
   "source": [
    "# Выпускной проект: анализ оттока клиентов банка"
   ]
  },
  {
   "cell_type": "markdown",
   "metadata": {},
   "source": [
    "## Материалы:\n",
    "* Презентация: https://disk.yandex.ru/i/MsFrN_e-NER1QA"
   ]
  },
  {
   "cell_type": "markdown",
   "metadata": {},
   "source": [
    "**Задача:**<br>\n",
    "Проанализируйте клиентов регионального банка и выделите сегменты клиентов, которые склонны уходить из банка.\n",
    "- Проведите исследовательский анализ данных, определите все значимые признаки отточности (интервалы значений характеристик, которые связаны с повышенным оттоком, сравните портреты типичных клиентов, которые склонны и не склонны уходить из банка и т.д)\n",
    "- Сформулируйте и проверьте статистические гипотезы.\n",
    "    - Проверьте гипотезу различия дохода между теми клиентами, которые ушли и теми, которые остались.\n",
    "    - Сформулируйте и проверьте статистическую гипотезу относительно представленных данных, которая поможет внести ясность в исследование\n",
    "- Объединяя признаки отточности, сформируйте сегменты, отберите из них лучшие и дайте по ним рекомендации\n",
    "\n",
    "**Описание датасета**\n",
    "\n",
    "`/datasets/bank_scrooge.csv`<br>\n",
    "Датасет содержит данные о клиентах банка «Метанпром». Банк располагается в Ярославле и областных городах: Ростов Великий и Рыбинск.\n",
    "\n",
    "Колонки:\n",
    "- `USERID` — идентификатор пользователя,\n",
    "- `score` — баллы кредитного скоринга,\n",
    "- `city` — город,\n",
    "- `gender` — пол,\n",
    "- `age` — возраст,\n",
    "- `equity` — количество баллов собственности\n",
    "- `balance` — баланс на счёте,\n",
    "- `products` — количество продуктов, которыми пользуется клиент,\n",
    "- `credit_card` — есть ли кредитная карта,\n",
    "- `last_activity` — активный клиент,\n",
    "- `EST_SALARY` — оценочный доход клиента,\n",
    "- `сhurn` — признак оттока."
   ]
  },
  {
   "cell_type": "markdown",
   "metadata": {},
   "source": [
    "# Декомпозиция"
   ]
  },
  {
   "cell_type": "markdown",
   "metadata": {},
   "source": [
    "1. Загрузка и изучение общей информации о данных\n",
    "    - Импорт необходимых для дальнейшего исследования библиотек\n",
    "    - Считывание данных из файла `/datasets/bank_scrooge.csv` и сохранение в переменной\n",
    "    - Изучение общей информации о датафрейме\n",
    "2. Предобработка данных:\n",
    "    - Переименование столбцов\n",
    "    - Исследование и обработка пропущенных значений\n",
    "    - Исследование и обработка явных и неявных дубликатов\n",
    "    - Проверка на наличие аномальных значений\n",
    "    - Кодирование данных для корреляционного анализа\n",
    "3. Исследовательский анализ данных:\n",
    "    - Составление и сравнение портретов типичных клиентов банка\n",
    "    - Анализ распределения клиентов по непрерывным показателям, в т.ч. в разрезе оттока (определение интервалов значений характеристик, демонстрирующих повышенный отток)\n",
    "    - Анализ уровня оттока по категориальным показателям\n",
    "    - Корреляционный анализ\n",
    "4. Формулирование и проверка гипотез\n",
    "    - Проверка гипотезы различия дохода между теми клиентами, которые ушли и теми, которые остались.\n",
    "    - Проверка гипотезы различия среднего количества баллов собственности клиентов, которые ушли, и клиентов, которые остались.\n",
    "    - Подведение промежуточного итога о том, какие показатели имеют наибольшее стратегическое влияние на отток\n",
    "5. Сегментация клиентов на основе определенных стратегических показателей и приоритизация сегментов\n",
    "6. Формирование вывода и рекомендаций для заказчика по работе с приоритетными сегментами клиентов\n",
    "7. Подготовка презентации"
   ]
  },
  {
   "cell_type": "markdown",
   "metadata": {},
   "source": [
    "<div class=\"alert alert-success\">\n",
    "<h2> Комментарий тимлида 😊<a class=\"tocSkip\"> </h2>\n",
    "    \n",
    "Отлично, что есть введение к проекту)"
   ]
  },
  {
   "cell_type": "markdown",
   "metadata": {},
   "source": [
    "## Загрузка и изучение общей информации о данных"
   ]
  },
  {
   "cell_type": "markdown",
   "metadata": {},
   "source": [
    "### Импорт библиотек"
   ]
  },
  {
   "cell_type": "code",
   "execution_count": 1,
   "metadata": {},
   "outputs": [],
   "source": [
    "# импорт библиотеки pandas\n",
    "import pandas as pd\n",
    "# импорт библиотеки numpy\n",
    "import numpy as np\n",
    "# импорт библиотеки matplotlib\n",
    "import matplotlib.pyplot as plt\n",
    "# импорт модуля stats библиотеки scipy\n",
    "from scipy import stats as st\n",
    "# импорт библиотеки datetime\n",
    "import datetime as dt\n",
    "# импорт бибилиотеки math\n",
    "import math as mth\n",
    "# импорт библиотеки seaborn\n",
    "import seaborn as sns"
   ]
  },
  {
   "cell_type": "markdown",
   "metadata": {},
   "source": [
    "<div class=\"alert alert-success\">\n",
    "<h2> Комментарий тимлида 😊<a class=\"tocSkip\"> </h2>\n",
    "    \n",
    "Необходимые библиотеки загружены)"
   ]
  },
  {
   "cell_type": "markdown",
   "metadata": {},
   "source": [
    "### Загрузка данных"
   ]
  },
  {
   "cell_type": "code",
   "execution_count": 2,
   "metadata": {},
   "outputs": [],
   "source": [
    "# считывание данных из csv-файла и сохранение в переменной df\n",
    "try:\n",
    "    df = pd.read_csv('/datasets/datasets/bank_scrooge.csv')\n",
    "except:\n",
    "    df = pd.read_csv('https://code.s3.yandex.net/datasets/bank_scrooge.csv')"
   ]
  },
  {
   "cell_type": "code",
   "execution_count": 3,
   "metadata": {},
   "outputs": [
    {
     "data": {
      "text/html": [
       "<div>\n",
       "<style scoped>\n",
       "    .dataframe tbody tr th:only-of-type {\n",
       "        vertical-align: middle;\n",
       "    }\n",
       "\n",
       "    .dataframe tbody tr th {\n",
       "        vertical-align: top;\n",
       "    }\n",
       "\n",
       "    .dataframe thead th {\n",
       "        text-align: right;\n",
       "    }\n",
       "</style>\n",
       "<table border=\"1\" class=\"dataframe\">\n",
       "  <thead>\n",
       "    <tr style=\"text-align: right;\">\n",
       "      <th></th>\n",
       "      <th>USERID</th>\n",
       "      <th>score</th>\n",
       "      <th>city</th>\n",
       "      <th>gender</th>\n",
       "      <th>age</th>\n",
       "      <th>equity</th>\n",
       "      <th>balance</th>\n",
       "      <th>products</th>\n",
       "      <th>credit_card</th>\n",
       "      <th>last_activity</th>\n",
       "      <th>EST_SALARY</th>\n",
       "      <th>churn</th>\n",
       "    </tr>\n",
       "  </thead>\n",
       "  <tbody>\n",
       "    <tr>\n",
       "      <th>0</th>\n",
       "      <td>183012</td>\n",
       "      <td>850.0</td>\n",
       "      <td>Рыбинск</td>\n",
       "      <td>Ж</td>\n",
       "      <td>25.0</td>\n",
       "      <td>1</td>\n",
       "      <td>59214.82</td>\n",
       "      <td>2</td>\n",
       "      <td>0</td>\n",
       "      <td>1</td>\n",
       "      <td>75719.14</td>\n",
       "      <td>1</td>\n",
       "    </tr>\n",
       "    <tr>\n",
       "      <th>1</th>\n",
       "      <td>146556</td>\n",
       "      <td>861.0</td>\n",
       "      <td>Рыбинск</td>\n",
       "      <td>Ж</td>\n",
       "      <td>37.0</td>\n",
       "      <td>5</td>\n",
       "      <td>850594.33</td>\n",
       "      <td>3</td>\n",
       "      <td>1</td>\n",
       "      <td>0</td>\n",
       "      <td>86621.77</td>\n",
       "      <td>0</td>\n",
       "    </tr>\n",
       "    <tr>\n",
       "      <th>2</th>\n",
       "      <td>120722</td>\n",
       "      <td>892.0</td>\n",
       "      <td>Рыбинск</td>\n",
       "      <td>Ж</td>\n",
       "      <td>30.0</td>\n",
       "      <td>0</td>\n",
       "      <td>NaN</td>\n",
       "      <td>1</td>\n",
       "      <td>1</td>\n",
       "      <td>1</td>\n",
       "      <td>107683.34</td>\n",
       "      <td>0</td>\n",
       "    </tr>\n",
       "    <tr>\n",
       "      <th>3</th>\n",
       "      <td>225363</td>\n",
       "      <td>866.0</td>\n",
       "      <td>Ярославль</td>\n",
       "      <td>Ж</td>\n",
       "      <td>51.0</td>\n",
       "      <td>5</td>\n",
       "      <td>1524746.26</td>\n",
       "      <td>2</td>\n",
       "      <td>0</td>\n",
       "      <td>1</td>\n",
       "      <td>174423.53</td>\n",
       "      <td>1</td>\n",
       "    </tr>\n",
       "    <tr>\n",
       "      <th>4</th>\n",
       "      <td>157978</td>\n",
       "      <td>730.0</td>\n",
       "      <td>Ярославль</td>\n",
       "      <td>М</td>\n",
       "      <td>34.0</td>\n",
       "      <td>5</td>\n",
       "      <td>174.00</td>\n",
       "      <td>1</td>\n",
       "      <td>1</td>\n",
       "      <td>0</td>\n",
       "      <td>67353.16</td>\n",
       "      <td>1</td>\n",
       "    </tr>\n",
       "    <tr>\n",
       "      <th>...</th>\n",
       "      <td>...</td>\n",
       "      <td>...</td>\n",
       "      <td>...</td>\n",
       "      <td>...</td>\n",
       "      <td>...</td>\n",
       "      <td>...</td>\n",
       "      <td>...</td>\n",
       "      <td>...</td>\n",
       "      <td>...</td>\n",
       "      <td>...</td>\n",
       "      <td>...</td>\n",
       "      <td>...</td>\n",
       "    </tr>\n",
       "    <tr>\n",
       "      <th>9995</th>\n",
       "      <td>120553</td>\n",
       "      <td>814.0</td>\n",
       "      <td>Рыбинск</td>\n",
       "      <td>М</td>\n",
       "      <td>27.0</td>\n",
       "      <td>1</td>\n",
       "      <td>78144.65</td>\n",
       "      <td>1</td>\n",
       "      <td>0</td>\n",
       "      <td>1</td>\n",
       "      <td>18943.64</td>\n",
       "      <td>0</td>\n",
       "    </tr>\n",
       "    <tr>\n",
       "      <th>9996</th>\n",
       "      <td>139170</td>\n",
       "      <td>894.0</td>\n",
       "      <td>Ярославль</td>\n",
       "      <td>М</td>\n",
       "      <td>46.0</td>\n",
       "      <td>0</td>\n",
       "      <td>NaN</td>\n",
       "      <td>1</td>\n",
       "      <td>1</td>\n",
       "      <td>0</td>\n",
       "      <td>196898.29</td>\n",
       "      <td>0</td>\n",
       "    </tr>\n",
       "    <tr>\n",
       "      <th>9997</th>\n",
       "      <td>115639</td>\n",
       "      <td>903.0</td>\n",
       "      <td>Ярославль</td>\n",
       "      <td>М</td>\n",
       "      <td>24.0</td>\n",
       "      <td>0</td>\n",
       "      <td>NaN</td>\n",
       "      <td>2</td>\n",
       "      <td>1</td>\n",
       "      <td>1</td>\n",
       "      <td>108905.09</td>\n",
       "      <td>0</td>\n",
       "    </tr>\n",
       "    <tr>\n",
       "      <th>9998</th>\n",
       "      <td>148700</td>\n",
       "      <td>777.0</td>\n",
       "      <td>Ярославль</td>\n",
       "      <td>Ж</td>\n",
       "      <td>68.0</td>\n",
       "      <td>3</td>\n",
       "      <td>865457.97</td>\n",
       "      <td>3</td>\n",
       "      <td>0</td>\n",
       "      <td>1</td>\n",
       "      <td>86874.90</td>\n",
       "      <td>0</td>\n",
       "    </tr>\n",
       "    <tr>\n",
       "      <th>9999</th>\n",
       "      <td>96267</td>\n",
       "      <td>828.0</td>\n",
       "      <td>Рыбинск</td>\n",
       "      <td>Ж</td>\n",
       "      <td>58.0</td>\n",
       "      <td>3</td>\n",
       "      <td>1180886.70</td>\n",
       "      <td>4</td>\n",
       "      <td>0</td>\n",
       "      <td>1</td>\n",
       "      <td>21422.37</td>\n",
       "      <td>0</td>\n",
       "    </tr>\n",
       "  </tbody>\n",
       "</table>\n",
       "<p>10000 rows × 12 columns</p>\n",
       "</div>"
      ],
      "text/plain": [
       "      USERID  score       city gender   age  equity     balance  products  \\\n",
       "0     183012  850.0    Рыбинск      Ж  25.0       1    59214.82         2   \n",
       "1     146556  861.0    Рыбинск      Ж  37.0       5   850594.33         3   \n",
       "2     120722  892.0    Рыбинск      Ж  30.0       0         NaN         1   \n",
       "3     225363  866.0  Ярославль      Ж  51.0       5  1524746.26         2   \n",
       "4     157978  730.0  Ярославль      М  34.0       5      174.00         1   \n",
       "...      ...    ...        ...    ...   ...     ...         ...       ...   \n",
       "9995  120553  814.0    Рыбинск      М  27.0       1    78144.65         1   \n",
       "9996  139170  894.0  Ярославль      М  46.0       0         NaN         1   \n",
       "9997  115639  903.0  Ярославль      М  24.0       0         NaN         2   \n",
       "9998  148700  777.0  Ярославль      Ж  68.0       3   865457.97         3   \n",
       "9999   96267  828.0    Рыбинск      Ж  58.0       3  1180886.70         4   \n",
       "\n",
       "      credit_card  last_activity  EST_SALARY  churn  \n",
       "0               0              1    75719.14      1  \n",
       "1               1              0    86621.77      0  \n",
       "2               1              1   107683.34      0  \n",
       "3               0              1   174423.53      1  \n",
       "4               1              0    67353.16      1  \n",
       "...           ...            ...         ...    ...  \n",
       "9995            0              1    18943.64      0  \n",
       "9996            1              0   196898.29      0  \n",
       "9997            1              1   108905.09      0  \n",
       "9998            0              1    86874.90      0  \n",
       "9999            0              1    21422.37      0  \n",
       "\n",
       "[10000 rows x 12 columns]"
      ]
     },
     "execution_count": 3,
     "metadata": {},
     "output_type": "execute_result"
    }
   ],
   "source": [
    "# вывод датафрейма\n",
    "df"
   ]
  },
  {
   "cell_type": "markdown",
   "metadata": {},
   "source": [
    "### Изучение общей информации"
   ]
  },
  {
   "cell_type": "code",
   "execution_count": 4,
   "metadata": {},
   "outputs": [
    {
     "name": "stdout",
     "output_type": "stream",
     "text": [
      "<class 'pandas.core.frame.DataFrame'>\n",
      "RangeIndex: 10000 entries, 0 to 9999\n",
      "Data columns (total 12 columns):\n",
      " #   Column         Non-Null Count  Dtype  \n",
      "---  ------         --------------  -----  \n",
      " 0   USERID         10000 non-null  int64  \n",
      " 1   score          10000 non-null  float64\n",
      " 2   city           10000 non-null  object \n",
      " 3   gender         10000 non-null  object \n",
      " 4   age            9974 non-null   float64\n",
      " 5   equity         10000 non-null  int64  \n",
      " 6   balance        7705 non-null   float64\n",
      " 7   products       10000 non-null  int64  \n",
      " 8   credit_card    10000 non-null  int64  \n",
      " 9   last_activity  10000 non-null  int64  \n",
      " 10  EST_SALARY     10000 non-null  float64\n",
      " 11  churn          10000 non-null  int64  \n",
      "dtypes: float64(4), int64(6), object(2)\n",
      "memory usage: 937.6+ KB\n"
     ]
    }
   ],
   "source": [
    "# получение общей информации о данных\n",
    "df.info()"
   ]
  },
  {
   "cell_type": "code",
   "execution_count": 5,
   "metadata": {},
   "outputs": [
    {
     "data": {
      "text/html": [
       "<div>\n",
       "<style scoped>\n",
       "    .dataframe tbody tr th:only-of-type {\n",
       "        vertical-align: middle;\n",
       "    }\n",
       "\n",
       "    .dataframe tbody tr th {\n",
       "        vertical-align: top;\n",
       "    }\n",
       "\n",
       "    .dataframe thead th {\n",
       "        text-align: right;\n",
       "    }\n",
       "</style>\n",
       "<table border=\"1\" class=\"dataframe\">\n",
       "  <thead>\n",
       "    <tr style=\"text-align: right;\">\n",
       "      <th></th>\n",
       "      <th>USERID</th>\n",
       "      <th>score</th>\n",
       "      <th>age</th>\n",
       "      <th>equity</th>\n",
       "      <th>balance</th>\n",
       "      <th>products</th>\n",
       "      <th>credit_card</th>\n",
       "      <th>last_activity</th>\n",
       "      <th>EST_SALARY</th>\n",
       "      <th>churn</th>\n",
       "    </tr>\n",
       "  </thead>\n",
       "  <tbody>\n",
       "    <tr>\n",
       "      <th>count</th>\n",
       "      <td>10000.00</td>\n",
       "      <td>10000.00</td>\n",
       "      <td>9974.00</td>\n",
       "      <td>10000.00</td>\n",
       "      <td>7705.00</td>\n",
       "      <td>10000.00</td>\n",
       "      <td>10000.00</td>\n",
       "      <td>10000.00</td>\n",
       "      <td>10000.00</td>\n",
       "      <td>10000.00</td>\n",
       "    </tr>\n",
       "    <tr>\n",
       "      <th>mean</th>\n",
       "      <td>171814.71</td>\n",
       "      <td>848.70</td>\n",
       "      <td>42.73</td>\n",
       "      <td>2.63</td>\n",
       "      <td>827794.31</td>\n",
       "      <td>1.87</td>\n",
       "      <td>0.68</td>\n",
       "      <td>0.52</td>\n",
       "      <td>147866.89</td>\n",
       "      <td>0.18</td>\n",
       "    </tr>\n",
       "    <tr>\n",
       "      <th>std</th>\n",
       "      <td>33708.24</td>\n",
       "      <td>65.45</td>\n",
       "      <td>12.18</td>\n",
       "      <td>1.98</td>\n",
       "      <td>1980614.15</td>\n",
       "      <td>0.79</td>\n",
       "      <td>0.47</td>\n",
       "      <td>0.50</td>\n",
       "      <td>139388.51</td>\n",
       "      <td>0.39</td>\n",
       "    </tr>\n",
       "    <tr>\n",
       "      <th>min</th>\n",
       "      <td>94561.00</td>\n",
       "      <td>642.00</td>\n",
       "      <td>18.00</td>\n",
       "      <td>0.00</td>\n",
       "      <td>0.00</td>\n",
       "      <td>0.00</td>\n",
       "      <td>0.00</td>\n",
       "      <td>0.00</td>\n",
       "      <td>2546.30</td>\n",
       "      <td>0.00</td>\n",
       "    </tr>\n",
       "    <tr>\n",
       "      <th>25%</th>\n",
       "      <td>142810.25</td>\n",
       "      <td>802.00</td>\n",
       "      <td>33.00</td>\n",
       "      <td>0.00</td>\n",
       "      <td>295554.16</td>\n",
       "      <td>1.00</td>\n",
       "      <td>0.00</td>\n",
       "      <td>0.00</td>\n",
       "      <td>75251.90</td>\n",
       "      <td>0.00</td>\n",
       "    </tr>\n",
       "    <tr>\n",
       "      <th>50%</th>\n",
       "      <td>172728.00</td>\n",
       "      <td>853.00</td>\n",
       "      <td>40.00</td>\n",
       "      <td>3.00</td>\n",
       "      <td>524272.20</td>\n",
       "      <td>2.00</td>\n",
       "      <td>1.00</td>\n",
       "      <td>1.00</td>\n",
       "      <td>119658.10</td>\n",
       "      <td>0.00</td>\n",
       "    </tr>\n",
       "    <tr>\n",
       "      <th>75%</th>\n",
       "      <td>201261.75</td>\n",
       "      <td>900.00</td>\n",
       "      <td>51.00</td>\n",
       "      <td>4.00</td>\n",
       "      <td>980705.85</td>\n",
       "      <td>2.00</td>\n",
       "      <td>1.00</td>\n",
       "      <td>1.00</td>\n",
       "      <td>174500.54</td>\n",
       "      <td>0.00</td>\n",
       "    </tr>\n",
       "    <tr>\n",
       "      <th>max</th>\n",
       "      <td>229145.00</td>\n",
       "      <td>1000.00</td>\n",
       "      <td>86.00</td>\n",
       "      <td>9.00</td>\n",
       "      <td>119113552.01</td>\n",
       "      <td>5.00</td>\n",
       "      <td>1.00</td>\n",
       "      <td>1.00</td>\n",
       "      <td>1395064.45</td>\n",
       "      <td>1.00</td>\n",
       "    </tr>\n",
       "  </tbody>\n",
       "</table>\n",
       "</div>"
      ],
      "text/plain": [
       "         USERID    score     age   equity      balance  products  credit_card  \\\n",
       "count  10000.00 10000.00 9974.00 10000.00      7705.00  10000.00     10000.00   \n",
       "mean  171814.71   848.70   42.73     2.63    827794.31      1.87         0.68   \n",
       "std    33708.24    65.45   12.18     1.98   1980614.15      0.79         0.47   \n",
       "min    94561.00   642.00   18.00     0.00         0.00      0.00         0.00   \n",
       "25%   142810.25   802.00   33.00     0.00    295554.16      1.00         0.00   \n",
       "50%   172728.00   853.00   40.00     3.00    524272.20      2.00         1.00   \n",
       "75%   201261.75   900.00   51.00     4.00    980705.85      2.00         1.00   \n",
       "max   229145.00  1000.00   86.00     9.00 119113552.01      5.00         1.00   \n",
       "\n",
       "       last_activity  EST_SALARY    churn  \n",
       "count       10000.00    10000.00 10000.00  \n",
       "mean            0.52   147866.89     0.18  \n",
       "std             0.50   139388.51     0.39  \n",
       "min             0.00     2546.30     0.00  \n",
       "25%             0.00    75251.90     0.00  \n",
       "50%             1.00   119658.10     0.00  \n",
       "75%             1.00   174500.54     0.00  \n",
       "max             1.00  1395064.45     1.00  "
      ]
     },
     "metadata": {},
     "output_type": "display_data"
    }
   ],
   "source": [
    "# вывод статического описания данных\n",
    "with pd.option_context('display.float_format', '{:.2f}'.format):\n",
    "    display(df.describe())"
   ]
  },
  {
   "cell_type": "markdown",
   "metadata": {},
   "source": [
    "На данном этапе:\n",
    "- были импортированы необходимые для дальнейшей работы библиотеки\n",
    "- данные из csv-файла `bank_scrooge` сохранены в переменной `df`\n",
    "- получена общая информация о данных\n",
    "\n",
    "Изучение общей информации выявило, что:\n",
    "- В наименованиях столбцов не соблюден единый стиль\n",
    "- Количество значений в столбцах различается, следовательно, в данных присутствуют пропуски, а именно в столбцах `age` и `balance`\n",
    "- Для всех переменных установлены корректные типы данных\n",
    "- В статистическом описании данных прослеживаются аномальные значения в столбцах `balance`, `products` и `EST_SALARY`"
   ]
  },
  {
   "cell_type": "markdown",
   "metadata": {},
   "source": [
    "<div class=\"alert alert-success\">\n",
    "<h2> Комментарий тимлида 😊 <a class=\"tocSkip\"> </h2>\n",
    "\n",
    "Соглашусь с твоими выводами после первого знакомства с данными! Основной фронт работы определен, проблемы в данных выявлены, давай посмотрим, что у тебя получилось на последующих шагах👀\n",
    "</div>"
   ]
  },
  {
   "cell_type": "markdown",
   "metadata": {},
   "source": [
    "## Предобработка данных"
   ]
  },
  {
   "cell_type": "markdown",
   "metadata": {},
   "source": [
    "### Переименование столбцов"
   ]
  },
  {
   "cell_type": "code",
   "execution_count": 6,
   "metadata": {},
   "outputs": [
    {
     "data": {
      "text/plain": [
       "Index(['user_id', 'score', 'city', 'gender', 'age', 'equity', 'balance',\n",
       "       'products', 'credit_card', 'last_activity', 'est_salary', 'churn'],\n",
       "      dtype='object')"
      ]
     },
     "execution_count": 6,
     "metadata": {},
     "output_type": "execute_result"
    }
   ],
   "source": [
    "# приведение названий столбцов к единому стилю: нижнему регистру и snake_case\n",
    "df = df.rename(columns={'USERID' : 'user_id', \n",
    "                        'EST_SALARY' : 'est_salary'})\n",
    "df.columns"
   ]
  },
  {
   "cell_type": "markdown",
   "metadata": {},
   "source": [
    "### Исследование пропущенных значений"
   ]
  },
  {
   "cell_type": "code",
   "execution_count": 7,
   "metadata": {},
   "outputs": [
    {
     "data": {
      "text/html": [
       "<style  type=\"text/css\" >\n",
       "#T_7b9b8_row0_col0,#T_7b9b8_row1_col0,#T_7b9b8_row2_col0,#T_7b9b8_row3_col0,#T_7b9b8_row4_col0,#T_7b9b8_row5_col0,#T_7b9b8_row6_col0,#T_7b9b8_row7_col0,#T_7b9b8_row8_col0,#T_7b9b8_row9_col0{\n",
       "            background-color:  #3b4cc0;\n",
       "            color:  #f1f1f1;\n",
       "        }#T_7b9b8_row10_col0{\n",
       "            background-color:  #3d50c3;\n",
       "            color:  #f1f1f1;\n",
       "        }#T_7b9b8_row11_col0{\n",
       "            background-color:  #b40426;\n",
       "            color:  #f1f1f1;\n",
       "        }</style><table id=\"T_7b9b8_\" ><thead>    <tr>        <th class=\"blank level0\" ></th>        <th class=\"col_heading level0 col0\" >0</th>    </tr></thead><tbody>\n",
       "                <tr>\n",
       "                        <th id=\"T_7b9b8_level0_row0\" class=\"row_heading level0 row0\" >user_id</th>\n",
       "                        <td id=\"T_7b9b8_row0_col0\" class=\"data row0 col0\" >0.00</td>\n",
       "            </tr>\n",
       "            <tr>\n",
       "                        <th id=\"T_7b9b8_level0_row1\" class=\"row_heading level0 row1\" >score</th>\n",
       "                        <td id=\"T_7b9b8_row1_col0\" class=\"data row1 col0\" >0.00</td>\n",
       "            </tr>\n",
       "            <tr>\n",
       "                        <th id=\"T_7b9b8_level0_row2\" class=\"row_heading level0 row2\" >city</th>\n",
       "                        <td id=\"T_7b9b8_row2_col0\" class=\"data row2 col0\" >0.00</td>\n",
       "            </tr>\n",
       "            <tr>\n",
       "                        <th id=\"T_7b9b8_level0_row3\" class=\"row_heading level0 row3\" >gender</th>\n",
       "                        <td id=\"T_7b9b8_row3_col0\" class=\"data row3 col0\" >0.00</td>\n",
       "            </tr>\n",
       "            <tr>\n",
       "                        <th id=\"T_7b9b8_level0_row4\" class=\"row_heading level0 row4\" >equity</th>\n",
       "                        <td id=\"T_7b9b8_row4_col0\" class=\"data row4 col0\" >0.00</td>\n",
       "            </tr>\n",
       "            <tr>\n",
       "                        <th id=\"T_7b9b8_level0_row5\" class=\"row_heading level0 row5\" >products</th>\n",
       "                        <td id=\"T_7b9b8_row5_col0\" class=\"data row5 col0\" >0.00</td>\n",
       "            </tr>\n",
       "            <tr>\n",
       "                        <th id=\"T_7b9b8_level0_row6\" class=\"row_heading level0 row6\" >credit_card</th>\n",
       "                        <td id=\"T_7b9b8_row6_col0\" class=\"data row6 col0\" >0.00</td>\n",
       "            </tr>\n",
       "            <tr>\n",
       "                        <th id=\"T_7b9b8_level0_row7\" class=\"row_heading level0 row7\" >last_activity</th>\n",
       "                        <td id=\"T_7b9b8_row7_col0\" class=\"data row7 col0\" >0.00</td>\n",
       "            </tr>\n",
       "            <tr>\n",
       "                        <th id=\"T_7b9b8_level0_row8\" class=\"row_heading level0 row8\" >est_salary</th>\n",
       "                        <td id=\"T_7b9b8_row8_col0\" class=\"data row8 col0\" >0.00</td>\n",
       "            </tr>\n",
       "            <tr>\n",
       "                        <th id=\"T_7b9b8_level0_row9\" class=\"row_heading level0 row9\" >churn</th>\n",
       "                        <td id=\"T_7b9b8_row9_col0\" class=\"data row9 col0\" >0.00</td>\n",
       "            </tr>\n",
       "            <tr>\n",
       "                        <th id=\"T_7b9b8_level0_row10\" class=\"row_heading level0 row10\" >age</th>\n",
       "                        <td id=\"T_7b9b8_row10_col0\" class=\"data row10 col0\" >0.26</td>\n",
       "            </tr>\n",
       "            <tr>\n",
       "                        <th id=\"T_7b9b8_level0_row11\" class=\"row_heading level0 row11\" >balance</th>\n",
       "                        <td id=\"T_7b9b8_row11_col0\" class=\"data row11 col0\" >22.95</td>\n",
       "            </tr>\n",
       "    </tbody></table>"
      ],
      "text/plain": [
       "<pandas.io.formats.style.Styler at 0x7f0ac8cc5c10>"
      ]
     },
     "execution_count": 7,
     "metadata": {},
     "output_type": "execute_result"
    }
   ],
   "source": [
    "# проверка количества пропусков в %\n",
    "pd.DataFrame(df.isna().mean()*100).sort_values(by=0).style.format('{:.2f}').background_gradient('coolwarm')"
   ]
  },
  {
   "cell_type": "code",
   "execution_count": 8,
   "metadata": {},
   "outputs": [],
   "source": [
    "# создание дополнительных столбцов с признаком пропуска значения\n",
    "df['nan_age'] = df['age'].isnull().astype(int)\n",
    "df['nan_balance'] = df['balance'].isnull().astype(int)"
   ]
  },
  {
   "cell_type": "code",
   "execution_count": 9,
   "metadata": {},
   "outputs": [
    {
     "data": {
      "text/html": [
       "<div>\n",
       "<style scoped>\n",
       "    .dataframe tbody tr th:only-of-type {\n",
       "        vertical-align: middle;\n",
       "    }\n",
       "\n",
       "    .dataframe tbody tr th {\n",
       "        vertical-align: top;\n",
       "    }\n",
       "\n",
       "    .dataframe thead tr th {\n",
       "        text-align: left;\n",
       "    }\n",
       "\n",
       "    .dataframe thead tr:last-of-type th {\n",
       "        text-align: right;\n",
       "    }\n",
       "</style>\n",
       "<table border=\"1\" class=\"dataframe\">\n",
       "  <thead>\n",
       "    <tr>\n",
       "      <th></th>\n",
       "      <th>score</th>\n",
       "      <th colspan=\"2\" halign=\"left\">balance</th>\n",
       "      <th colspan=\"2\" halign=\"left\">est_salary</th>\n",
       "      <th>city</th>\n",
       "      <th>gender</th>\n",
       "      <th>equity</th>\n",
       "      <th>products</th>\n",
       "      <th>credit_card</th>\n",
       "      <th>last_activity</th>\n",
       "      <th>churn</th>\n",
       "    </tr>\n",
       "    <tr>\n",
       "      <th></th>\n",
       "      <th>mean</th>\n",
       "      <th>mean</th>\n",
       "      <th>median</th>\n",
       "      <th>mean</th>\n",
       "      <th>median</th>\n",
       "      <th>mode</th>\n",
       "      <th>mode</th>\n",
       "      <th>median</th>\n",
       "      <th>median</th>\n",
       "      <th>median</th>\n",
       "      <th>median</th>\n",
       "      <th>median</th>\n",
       "    </tr>\n",
       "    <tr>\n",
       "      <th>nan_age</th>\n",
       "      <th></th>\n",
       "      <th></th>\n",
       "      <th></th>\n",
       "      <th></th>\n",
       "      <th></th>\n",
       "      <th></th>\n",
       "      <th></th>\n",
       "      <th></th>\n",
       "      <th></th>\n",
       "      <th></th>\n",
       "      <th></th>\n",
       "      <th></th>\n",
       "    </tr>\n",
       "  </thead>\n",
       "  <tbody>\n",
       "    <tr>\n",
       "      <th>0</th>\n",
       "      <td>848.68</td>\n",
       "      <td>827245.59</td>\n",
       "      <td>524295.33</td>\n",
       "      <td>147786.81</td>\n",
       "      <td>119626.80</td>\n",
       "      <td>Ярославль</td>\n",
       "      <td>М</td>\n",
       "      <td>3</td>\n",
       "      <td>2</td>\n",
       "      <td>1</td>\n",
       "      <td>1</td>\n",
       "      <td>0</td>\n",
       "    </tr>\n",
       "    <tr>\n",
       "      <th>1</th>\n",
       "      <td>855.15</td>\n",
       "      <td>1250033.57</td>\n",
       "      <td>417361.12</td>\n",
       "      <td>178585.20</td>\n",
       "      <td>142598.86</td>\n",
       "      <td>Ярославль</td>\n",
       "      <td>М</td>\n",
       "      <td>0</td>\n",
       "      <td>1</td>\n",
       "      <td>1</td>\n",
       "      <td>1</td>\n",
       "      <td>0</td>\n",
       "    </tr>\n",
       "  </tbody>\n",
       "</table>\n",
       "</div>"
      ],
      "text/plain": [
       "          score     balance            est_salary                  city  \\\n",
       "           mean        mean     median       mean     median       mode   \n",
       "nan_age                                                                   \n",
       "0        848.68   827245.59  524295.33  147786.81  119626.80  Ярославль   \n",
       "1        855.15  1250033.57  417361.12  178585.20  142598.86  Ярославль   \n",
       "\n",
       "        gender equity products credit_card last_activity  churn  \n",
       "          mode median   median      median        median median  \n",
       "nan_age                                                          \n",
       "0            М      3        2           1             1      0  \n",
       "1            М      0        1           1             1      0  "
      ]
     },
     "execution_count": 9,
     "metadata": {},
     "output_type": "execute_result"
    }
   ],
   "source": [
    "df.groupby('nan_age').agg({\n",
    "    'score' : 'mean',\n",
    "    'balance' : ['mean', 'median'],\n",
    "    'est_salary' : ['mean', 'median'], \n",
    "    'city' : pd.Series.mode,\n",
    "    'gender' : pd.Series.mode,\n",
    "    'equity' : 'median',\n",
    "    'products' : 'median',\n",
    "    'credit_card': 'median',\n",
    "    'last_activity': 'median',\n",
    "    'churn': 'median'\n",
    "}).round(2)"
   ]
  },
  {
   "cell_type": "markdown",
   "metadata": {},
   "source": [
    "Прослеживается зависимость пропущенных значений в переменной age от значений признаков balance, est_salary, equity и products, следовательно, данные пропуски относятся к типу MNAR (Отсутствуют не случайно) и без дополнительного обоснования мы не можем их отбросить или заполнить одним значением, т.к. это приведёт к искажению данных."
   ]
  },
  {
   "cell_type": "code",
   "execution_count": 10,
   "metadata": {},
   "outputs": [
    {
     "data": {
      "text/html": [
       "<div>\n",
       "<style scoped>\n",
       "    .dataframe tbody tr th:only-of-type {\n",
       "        vertical-align: middle;\n",
       "    }\n",
       "\n",
       "    .dataframe tbody tr th {\n",
       "        vertical-align: top;\n",
       "    }\n",
       "\n",
       "    .dataframe thead tr th {\n",
       "        text-align: left;\n",
       "    }\n",
       "\n",
       "    .dataframe thead tr:last-of-type th {\n",
       "        text-align: right;\n",
       "    }\n",
       "</style>\n",
       "<table border=\"1\" class=\"dataframe\">\n",
       "  <thead>\n",
       "    <tr>\n",
       "      <th></th>\n",
       "      <th>score</th>\n",
       "      <th>age</th>\n",
       "      <th colspan=\"2\" halign=\"left\">est_salary</th>\n",
       "      <th>city</th>\n",
       "      <th>gender</th>\n",
       "      <th>equity</th>\n",
       "      <th>products</th>\n",
       "      <th>credit_card</th>\n",
       "      <th>last_activity</th>\n",
       "      <th>churn</th>\n",
       "    </tr>\n",
       "    <tr>\n",
       "      <th></th>\n",
       "      <th>mean</th>\n",
       "      <th>mean</th>\n",
       "      <th>mean</th>\n",
       "      <th>median</th>\n",
       "      <th>mode</th>\n",
       "      <th>mode</th>\n",
       "      <th>median</th>\n",
       "      <th>median</th>\n",
       "      <th>median</th>\n",
       "      <th>median</th>\n",
       "      <th>median</th>\n",
       "    </tr>\n",
       "    <tr>\n",
       "      <th>nan_balance</th>\n",
       "      <th></th>\n",
       "      <th></th>\n",
       "      <th></th>\n",
       "      <th></th>\n",
       "      <th></th>\n",
       "      <th></th>\n",
       "      <th></th>\n",
       "      <th></th>\n",
       "      <th></th>\n",
       "      <th></th>\n",
       "      <th></th>\n",
       "    </tr>\n",
       "  </thead>\n",
       "  <tbody>\n",
       "    <tr>\n",
       "      <th>0</th>\n",
       "      <td>843.74</td>\n",
       "      <td>42.92</td>\n",
       "      <td>124501.87</td>\n",
       "      <td>106222.20</td>\n",
       "      <td>Ярославль</td>\n",
       "      <td>Ж</td>\n",
       "      <td>4</td>\n",
       "      <td>2</td>\n",
       "      <td>1</td>\n",
       "      <td>1</td>\n",
       "      <td>0</td>\n",
       "    </tr>\n",
       "    <tr>\n",
       "      <th>1</th>\n",
       "      <td>865.35</td>\n",
       "      <td>42.09</td>\n",
       "      <td>226310.21</td>\n",
       "      <td>174160.68</td>\n",
       "      <td>Ярославль</td>\n",
       "      <td>М</td>\n",
       "      <td>0</td>\n",
       "      <td>1</td>\n",
       "      <td>1</td>\n",
       "      <td>1</td>\n",
       "      <td>0</td>\n",
       "    </tr>\n",
       "  </tbody>\n",
       "</table>\n",
       "</div>"
      ],
      "text/plain": [
       "              score    age est_salary                  city gender equity  \\\n",
       "               mean   mean       mean     median       mode   mode median   \n",
       "nan_balance                                                                 \n",
       "0            843.74  42.92  124501.87  106222.20  Ярославль      Ж      4   \n",
       "1            865.35  42.09  226310.21  174160.68  Ярославль      М      0   \n",
       "\n",
       "            products credit_card last_activity  churn  \n",
       "              median      median        median median  \n",
       "nan_balance                                            \n",
       "0                  2           1             1      0  \n",
       "1                  1           1             1      0  "
      ]
     },
     "execution_count": 10,
     "metadata": {},
     "output_type": "execute_result"
    }
   ],
   "source": [
    "df.groupby('nan_balance').agg({\n",
    "    'score' : 'mean',\n",
    "    'age' : 'mean',\n",
    "    'est_salary' : ['mean', 'median'], \n",
    "    'city' : pd.Series.mode,\n",
    "    'gender' : pd.Series.mode,\n",
    "    'equity' : 'median',\n",
    "    'products' : 'median',\n",
    "    'credit_card': 'median',\n",
    "    'last_activity': 'median',\n",
    "    'churn': 'median',\n",
    "}).round(2)"
   ]
  },
  {
   "cell_type": "markdown",
   "metadata": {},
   "source": [
    "Аналогично переменной age, пропущенные значения в переменной balance можно отнести к типу MNAR, т.к. присутствует зависимость пропусков в этой переменной и значений переменных score, est_salary, gender, equity и products, поэтому оставим их без изменений."
   ]
  },
  {
   "cell_type": "markdown",
   "metadata": {},
   "source": [
    "Так как для дальнейшего исследования столбцы с признаком пропуска значения не понадобятся, удалим их."
   ]
  },
  {
   "cell_type": "code",
   "execution_count": 11,
   "metadata": {},
   "outputs": [
    {
     "data": {
      "text/html": [
       "<div>\n",
       "<style scoped>\n",
       "    .dataframe tbody tr th:only-of-type {\n",
       "        vertical-align: middle;\n",
       "    }\n",
       "\n",
       "    .dataframe tbody tr th {\n",
       "        vertical-align: top;\n",
       "    }\n",
       "\n",
       "    .dataframe thead th {\n",
       "        text-align: right;\n",
       "    }\n",
       "</style>\n",
       "<table border=\"1\" class=\"dataframe\">\n",
       "  <thead>\n",
       "    <tr style=\"text-align: right;\">\n",
       "      <th></th>\n",
       "      <th>user_id</th>\n",
       "      <th>score</th>\n",
       "      <th>city</th>\n",
       "      <th>gender</th>\n",
       "      <th>age</th>\n",
       "      <th>equity</th>\n",
       "      <th>balance</th>\n",
       "      <th>products</th>\n",
       "      <th>credit_card</th>\n",
       "      <th>last_activity</th>\n",
       "      <th>est_salary</th>\n",
       "      <th>churn</th>\n",
       "    </tr>\n",
       "  </thead>\n",
       "  <tbody>\n",
       "    <tr>\n",
       "      <th>0</th>\n",
       "      <td>183012</td>\n",
       "      <td>850.0</td>\n",
       "      <td>Рыбинск</td>\n",
       "      <td>Ж</td>\n",
       "      <td>25.0</td>\n",
       "      <td>1</td>\n",
       "      <td>59214.82</td>\n",
       "      <td>2</td>\n",
       "      <td>0</td>\n",
       "      <td>1</td>\n",
       "      <td>75719.14</td>\n",
       "      <td>1</td>\n",
       "    </tr>\n",
       "    <tr>\n",
       "      <th>1</th>\n",
       "      <td>146556</td>\n",
       "      <td>861.0</td>\n",
       "      <td>Рыбинск</td>\n",
       "      <td>Ж</td>\n",
       "      <td>37.0</td>\n",
       "      <td>5</td>\n",
       "      <td>850594.33</td>\n",
       "      <td>3</td>\n",
       "      <td>1</td>\n",
       "      <td>0</td>\n",
       "      <td>86621.77</td>\n",
       "      <td>0</td>\n",
       "    </tr>\n",
       "    <tr>\n",
       "      <th>2</th>\n",
       "      <td>120722</td>\n",
       "      <td>892.0</td>\n",
       "      <td>Рыбинск</td>\n",
       "      <td>Ж</td>\n",
       "      <td>30.0</td>\n",
       "      <td>0</td>\n",
       "      <td>NaN</td>\n",
       "      <td>1</td>\n",
       "      <td>1</td>\n",
       "      <td>1</td>\n",
       "      <td>107683.34</td>\n",
       "      <td>0</td>\n",
       "    </tr>\n",
       "    <tr>\n",
       "      <th>3</th>\n",
       "      <td>225363</td>\n",
       "      <td>866.0</td>\n",
       "      <td>Ярославль</td>\n",
       "      <td>Ж</td>\n",
       "      <td>51.0</td>\n",
       "      <td>5</td>\n",
       "      <td>1524746.26</td>\n",
       "      <td>2</td>\n",
       "      <td>0</td>\n",
       "      <td>1</td>\n",
       "      <td>174423.53</td>\n",
       "      <td>1</td>\n",
       "    </tr>\n",
       "    <tr>\n",
       "      <th>4</th>\n",
       "      <td>157978</td>\n",
       "      <td>730.0</td>\n",
       "      <td>Ярославль</td>\n",
       "      <td>М</td>\n",
       "      <td>34.0</td>\n",
       "      <td>5</td>\n",
       "      <td>174.00</td>\n",
       "      <td>1</td>\n",
       "      <td>1</td>\n",
       "      <td>0</td>\n",
       "      <td>67353.16</td>\n",
       "      <td>1</td>\n",
       "    </tr>\n",
       "  </tbody>\n",
       "</table>\n",
       "</div>"
      ],
      "text/plain": [
       "   user_id  score       city gender   age  equity     balance  products  \\\n",
       "0   183012  850.0    Рыбинск      Ж  25.0       1    59214.82         2   \n",
       "1   146556  861.0    Рыбинск      Ж  37.0       5   850594.33         3   \n",
       "2   120722  892.0    Рыбинск      Ж  30.0       0         NaN         1   \n",
       "3   225363  866.0  Ярославль      Ж  51.0       5  1524746.26         2   \n",
       "4   157978  730.0  Ярославль      М  34.0       5      174.00         1   \n",
       "\n",
       "   credit_card  last_activity  est_salary  churn  \n",
       "0            0              1    75719.14      1  \n",
       "1            1              0    86621.77      0  \n",
       "2            1              1   107683.34      0  \n",
       "3            0              1   174423.53      1  \n",
       "4            1              0    67353.16      1  "
      ]
     },
     "execution_count": 11,
     "metadata": {},
     "output_type": "execute_result"
    }
   ],
   "source": [
    "df.drop(['nan_age', 'nan_balance'], axis=1, inplace=True)\n",
    "df.head()"
   ]
  },
  {
   "cell_type": "markdown",
   "metadata": {},
   "source": [
    "<div class=\"alert alert-success\">\n",
    "<h2> Комментарий тимлида 😊 <a class=\"tocSkip\"> </h2>\n",
    "\n",
    "Пропуски изучены верно! Молодец, что используешь классификацию и верно определила типы)"
   ]
  },
  {
   "cell_type": "markdown",
   "metadata": {},
   "source": [
    "### Проверка на наличие явных и неявных дубликатов"
   ]
  },
  {
   "cell_type": "code",
   "execution_count": 12,
   "metadata": {},
   "outputs": [
    {
     "data": {
      "text/plain": [
       "0"
      ]
     },
     "execution_count": 12,
     "metadata": {},
     "output_type": "execute_result"
    }
   ],
   "source": [
    "# проверка на наличие явных дубликатов\n",
    "df.duplicated().sum()"
   ]
  },
  {
   "cell_type": "markdown",
   "metadata": {},
   "source": [
    "Явные дубликаты отсутствуют.<br>\n",
    "Также произведем проверку на наличие дубликатов по столбцу `user_id`."
   ]
  },
  {
   "cell_type": "code",
   "execution_count": 13,
   "metadata": {},
   "outputs": [
    {
     "data": {
      "text/plain": [
       "73"
      ]
     },
     "execution_count": 13,
     "metadata": {},
     "output_type": "execute_result"
    }
   ],
   "source": [
    "df.duplicated(subset=['user_id']).sum()"
   ]
  },
  {
   "cell_type": "markdown",
   "metadata": {},
   "source": [
    "Рассмотрим данные дубликаты более детально, чтобы установить их природу."
   ]
  },
  {
   "cell_type": "code",
   "execution_count": 14,
   "metadata": {},
   "outputs": [
    {
     "data": {
      "text/html": [
       "<div>\n",
       "<style scoped>\n",
       "    .dataframe tbody tr th:only-of-type {\n",
       "        vertical-align: middle;\n",
       "    }\n",
       "\n",
       "    .dataframe tbody tr th {\n",
       "        vertical-align: top;\n",
       "    }\n",
       "\n",
       "    .dataframe thead th {\n",
       "        text-align: right;\n",
       "    }\n",
       "</style>\n",
       "<table border=\"1\" class=\"dataframe\">\n",
       "  <thead>\n",
       "    <tr style=\"text-align: right;\">\n",
       "      <th></th>\n",
       "      <th>user_id</th>\n",
       "      <th>score</th>\n",
       "      <th>city</th>\n",
       "      <th>gender</th>\n",
       "      <th>age</th>\n",
       "      <th>equity</th>\n",
       "      <th>balance</th>\n",
       "      <th>products</th>\n",
       "      <th>credit_card</th>\n",
       "      <th>last_activity</th>\n",
       "      <th>est_salary</th>\n",
       "      <th>churn</th>\n",
       "    </tr>\n",
       "  </thead>\n",
       "  <tbody>\n",
       "    <tr>\n",
       "      <th>1893</th>\n",
       "      <td>116540</td>\n",
       "      <td>883.0</td>\n",
       "      <td>Рыбинск</td>\n",
       "      <td>Ж</td>\n",
       "      <td>55.0</td>\n",
       "      <td>1</td>\n",
       "      <td>362756.49</td>\n",
       "      <td>3</td>\n",
       "      <td>0</td>\n",
       "      <td>1</td>\n",
       "      <td>175920.48</td>\n",
       "      <td>1</td>\n",
       "    </tr>\n",
       "    <tr>\n",
       "      <th>7694</th>\n",
       "      <td>116540</td>\n",
       "      <td>887.0</td>\n",
       "      <td>Ярославль</td>\n",
       "      <td>Ж</td>\n",
       "      <td>38.0</td>\n",
       "      <td>0</td>\n",
       "      <td>NaN</td>\n",
       "      <td>1</td>\n",
       "      <td>0</td>\n",
       "      <td>1</td>\n",
       "      <td>119247.61</td>\n",
       "      <td>0</td>\n",
       "    </tr>\n",
       "    <tr>\n",
       "      <th>7542</th>\n",
       "      <td>117943</td>\n",
       "      <td>880.0</td>\n",
       "      <td>Ярославль</td>\n",
       "      <td>Ж</td>\n",
       "      <td>40.0</td>\n",
       "      <td>0</td>\n",
       "      <td>NaN</td>\n",
       "      <td>1</td>\n",
       "      <td>1</td>\n",
       "      <td>0</td>\n",
       "      <td>137718.93</td>\n",
       "      <td>0</td>\n",
       "    </tr>\n",
       "    <tr>\n",
       "      <th>4866</th>\n",
       "      <td>117943</td>\n",
       "      <td>855.0</td>\n",
       "      <td>Рыбинск</td>\n",
       "      <td>Ж</td>\n",
       "      <td>32.0</td>\n",
       "      <td>6</td>\n",
       "      <td>1036832.93</td>\n",
       "      <td>4</td>\n",
       "      <td>1</td>\n",
       "      <td>1</td>\n",
       "      <td>107792.71</td>\n",
       "      <td>1</td>\n",
       "    </tr>\n",
       "    <tr>\n",
       "      <th>5896</th>\n",
       "      <td>120258</td>\n",
       "      <td>905.0</td>\n",
       "      <td>Ярославль</td>\n",
       "      <td>М</td>\n",
       "      <td>30.0</td>\n",
       "      <td>0</td>\n",
       "      <td>NaN</td>\n",
       "      <td>1</td>\n",
       "      <td>1</td>\n",
       "      <td>1</td>\n",
       "      <td>146427.96</td>\n",
       "      <td>0</td>\n",
       "    </tr>\n",
       "    <tr>\n",
       "      <th>5863</th>\n",
       "      <td>120258</td>\n",
       "      <td>908.0</td>\n",
       "      <td>Рыбинск</td>\n",
       "      <td>Ж</td>\n",
       "      <td>38.0</td>\n",
       "      <td>4</td>\n",
       "      <td>2213581.63</td>\n",
       "      <td>2</td>\n",
       "      <td>0</td>\n",
       "      <td>1</td>\n",
       "      <td>160327.77</td>\n",
       "      <td>1</td>\n",
       "    </tr>\n",
       "    <tr>\n",
       "      <th>1411</th>\n",
       "      <td>123461</td>\n",
       "      <td>829.0</td>\n",
       "      <td>Ярославль</td>\n",
       "      <td>Ж</td>\n",
       "      <td>59.0</td>\n",
       "      <td>0</td>\n",
       "      <td>96222.44</td>\n",
       "      <td>2</td>\n",
       "      <td>0</td>\n",
       "      <td>1</td>\n",
       "      <td>102771.55</td>\n",
       "      <td>1</td>\n",
       "    </tr>\n",
       "    <tr>\n",
       "      <th>8638</th>\n",
       "      <td>123461</td>\n",
       "      <td>934.0</td>\n",
       "      <td>Рыбинск</td>\n",
       "      <td>М</td>\n",
       "      <td>34.0</td>\n",
       "      <td>0</td>\n",
       "      <td>NaN</td>\n",
       "      <td>2</td>\n",
       "      <td>1</td>\n",
       "      <td>0</td>\n",
       "      <td>291619.27</td>\n",
       "      <td>0</td>\n",
       "    </tr>\n",
       "    <tr>\n",
       "      <th>8164</th>\n",
       "      <td>124450</td>\n",
       "      <td>859.0</td>\n",
       "      <td>Ярославль</td>\n",
       "      <td>Ж</td>\n",
       "      <td>38.0</td>\n",
       "      <td>6</td>\n",
       "      <td>516811.20</td>\n",
       "      <td>1</td>\n",
       "      <td>1</td>\n",
       "      <td>1</td>\n",
       "      <td>95144.63</td>\n",
       "      <td>1</td>\n",
       "    </tr>\n",
       "    <tr>\n",
       "      <th>9775</th>\n",
       "      <td>124450</td>\n",
       "      <td>758.0</td>\n",
       "      <td>Рыбинск</td>\n",
       "      <td>Ж</td>\n",
       "      <td>36.0</td>\n",
       "      <td>0</td>\n",
       "      <td>73574.07</td>\n",
       "      <td>2</td>\n",
       "      <td>0</td>\n",
       "      <td>1</td>\n",
       "      <td>79963.59</td>\n",
       "      <td>0</td>\n",
       "    </tr>\n",
       "    <tr>\n",
       "      <th>4850</th>\n",
       "      <td>126368</td>\n",
       "      <td>909.0</td>\n",
       "      <td>Ярославль</td>\n",
       "      <td>Ж</td>\n",
       "      <td>30.0</td>\n",
       "      <td>4</td>\n",
       "      <td>1322623.29</td>\n",
       "      <td>2</td>\n",
       "      <td>0</td>\n",
       "      <td>1</td>\n",
       "      <td>140675.66</td>\n",
       "      <td>1</td>\n",
       "    </tr>\n",
       "    <tr>\n",
       "      <th>5420</th>\n",
       "      <td>126368</td>\n",
       "      <td>832.0</td>\n",
       "      <td>Рыбинск</td>\n",
       "      <td>Ж</td>\n",
       "      <td>33.0</td>\n",
       "      <td>0</td>\n",
       "      <td>NaN</td>\n",
       "      <td>1</td>\n",
       "      <td>0</td>\n",
       "      <td>0</td>\n",
       "      <td>118465.34</td>\n",
       "      <td>0</td>\n",
       "    </tr>\n",
       "    <tr>\n",
       "      <th>8785</th>\n",
       "      <td>127440</td>\n",
       "      <td>663.0</td>\n",
       "      <td>Ярославль</td>\n",
       "      <td>М</td>\n",
       "      <td>NaN</td>\n",
       "      <td>0</td>\n",
       "      <td>NaN</td>\n",
       "      <td>1</td>\n",
       "      <td>1</td>\n",
       "      <td>1</td>\n",
       "      <td>117197.56</td>\n",
       "      <td>0</td>\n",
       "    </tr>\n",
       "    <tr>\n",
       "      <th>4443</th>\n",
       "      <td>127440</td>\n",
       "      <td>846.0</td>\n",
       "      <td>Рыбинск</td>\n",
       "      <td>М</td>\n",
       "      <td>66.0</td>\n",
       "      <td>1</td>\n",
       "      <td>57405.67</td>\n",
       "      <td>2</td>\n",
       "      <td>0</td>\n",
       "      <td>1</td>\n",
       "      <td>17831.63</td>\n",
       "      <td>0</td>\n",
       "    </tr>\n",
       "    <tr>\n",
       "      <th>3988</th>\n",
       "      <td>129785</td>\n",
       "      <td>904.0</td>\n",
       "      <td>Рыбинск</td>\n",
       "      <td>М</td>\n",
       "      <td>33.0</td>\n",
       "      <td>5</td>\n",
       "      <td>2427737.60</td>\n",
       "      <td>3</td>\n",
       "      <td>0</td>\n",
       "      <td>1</td>\n",
       "      <td>188856.75</td>\n",
       "      <td>1</td>\n",
       "    </tr>\n",
       "    <tr>\n",
       "      <th>9504</th>\n",
       "      <td>129785</td>\n",
       "      <td>949.0</td>\n",
       "      <td>Ярославль</td>\n",
       "      <td>М</td>\n",
       "      <td>43.0</td>\n",
       "      <td>0</td>\n",
       "      <td>NaN</td>\n",
       "      <td>1</td>\n",
       "      <td>1</td>\n",
       "      <td>1</td>\n",
       "      <td>166845.37</td>\n",
       "      <td>0</td>\n",
       "    </tr>\n",
       "    <tr>\n",
       "      <th>904</th>\n",
       "      <td>131419</td>\n",
       "      <td>934.0</td>\n",
       "      <td>Ярославль</td>\n",
       "      <td>М</td>\n",
       "      <td>35.0</td>\n",
       "      <td>5</td>\n",
       "      <td>2348335.95</td>\n",
       "      <td>2</td>\n",
       "      <td>0</td>\n",
       "      <td>0</td>\n",
       "      <td>217105.13</td>\n",
       "      <td>1</td>\n",
       "    </tr>\n",
       "    <tr>\n",
       "      <th>2138</th>\n",
       "      <td>131419</td>\n",
       "      <td>739.0</td>\n",
       "      <td>Рыбинск</td>\n",
       "      <td>Ж</td>\n",
       "      <td>37.0</td>\n",
       "      <td>3</td>\n",
       "      <td>1307941.65</td>\n",
       "      <td>3</td>\n",
       "      <td>0</td>\n",
       "      <td>0</td>\n",
       "      <td>103867.47</td>\n",
       "      <td>0</td>\n",
       "    </tr>\n",
       "    <tr>\n",
       "      <th>7487</th>\n",
       "      <td>140377</td>\n",
       "      <td>930.0</td>\n",
       "      <td>Рыбинск</td>\n",
       "      <td>Ж</td>\n",
       "      <td>34.0</td>\n",
       "      <td>5</td>\n",
       "      <td>1123967.02</td>\n",
       "      <td>1</td>\n",
       "      <td>1</td>\n",
       "      <td>1</td>\n",
       "      <td>148336.26</td>\n",
       "      <td>0</td>\n",
       "    </tr>\n",
       "    <tr>\n",
       "      <th>1608</th>\n",
       "      <td>140377</td>\n",
       "      <td>802.0</td>\n",
       "      <td>Ярославль</td>\n",
       "      <td>М</td>\n",
       "      <td>26.0</td>\n",
       "      <td>3</td>\n",
       "      <td>539863.29</td>\n",
       "      <td>4</td>\n",
       "      <td>1</td>\n",
       "      <td>1</td>\n",
       "      <td>112167.83</td>\n",
       "      <td>1</td>\n",
       "    </tr>\n",
       "    <tr>\n",
       "      <th>9819</th>\n",
       "      <td>140934</td>\n",
       "      <td>832.0</td>\n",
       "      <td>Рыбинск</td>\n",
       "      <td>Ж</td>\n",
       "      <td>NaN</td>\n",
       "      <td>3</td>\n",
       "      <td>385763.16</td>\n",
       "      <td>2</td>\n",
       "      <td>0</td>\n",
       "      <td>1</td>\n",
       "      <td>59651.35</td>\n",
       "      <td>0</td>\n",
       "    </tr>\n",
       "    <tr>\n",
       "      <th>4212</th>\n",
       "      <td>140934</td>\n",
       "      <td>919.0</td>\n",
       "      <td>Ярославль</td>\n",
       "      <td>Ж</td>\n",
       "      <td>29.0</td>\n",
       "      <td>4</td>\n",
       "      <td>603946.18</td>\n",
       "      <td>3</td>\n",
       "      <td>0</td>\n",
       "      <td>1</td>\n",
       "      <td>158438.79</td>\n",
       "      <td>0</td>\n",
       "    </tr>\n",
       "    <tr>\n",
       "      <th>2276</th>\n",
       "      <td>141265</td>\n",
       "      <td>858.0</td>\n",
       "      <td>Ярославль</td>\n",
       "      <td>М</td>\n",
       "      <td>37.0</td>\n",
       "      <td>4</td>\n",
       "      <td>471599.16</td>\n",
       "      <td>2</td>\n",
       "      <td>1</td>\n",
       "      <td>1</td>\n",
       "      <td>148806.88</td>\n",
       "      <td>1</td>\n",
       "    </tr>\n",
       "    <tr>\n",
       "      <th>5569</th>\n",
       "      <td>141265</td>\n",
       "      <td>811.0</td>\n",
       "      <td>Рыбинск</td>\n",
       "      <td>Ж</td>\n",
       "      <td>33.0</td>\n",
       "      <td>3</td>\n",
       "      <td>1044316.88</td>\n",
       "      <td>2</td>\n",
       "      <td>1</td>\n",
       "      <td>0</td>\n",
       "      <td>46055.32</td>\n",
       "      <td>0</td>\n",
       "    </tr>\n",
       "    <tr>\n",
       "      <th>4343</th>\n",
       "      <td>141945</td>\n",
       "      <td>929.0</td>\n",
       "      <td>Рыбинск</td>\n",
       "      <td>М</td>\n",
       "      <td>33.0</td>\n",
       "      <td>0</td>\n",
       "      <td>NaN</td>\n",
       "      <td>1</td>\n",
       "      <td>1</td>\n",
       "      <td>0</td>\n",
       "      <td>381868.89</td>\n",
       "      <td>0</td>\n",
       "    </tr>\n",
       "    <tr>\n",
       "      <th>9457</th>\n",
       "      <td>141945</td>\n",
       "      <td>929.0</td>\n",
       "      <td>Ярославль</td>\n",
       "      <td>М</td>\n",
       "      <td>NaN</td>\n",
       "      <td>0</td>\n",
       "      <td>NaN</td>\n",
       "      <td>1</td>\n",
       "      <td>1</td>\n",
       "      <td>0</td>\n",
       "      <td>381868.89</td>\n",
       "      <td>0</td>\n",
       "    </tr>\n",
       "    <tr>\n",
       "      <th>5369</th>\n",
       "      <td>143592</td>\n",
       "      <td>885.0</td>\n",
       "      <td>Рыбинск</td>\n",
       "      <td>Ж</td>\n",
       "      <td>56.0</td>\n",
       "      <td>4</td>\n",
       "      <td>1201087.46</td>\n",
       "      <td>2</td>\n",
       "      <td>1</td>\n",
       "      <td>1</td>\n",
       "      <td>88223.89</td>\n",
       "      <td>1</td>\n",
       "    </tr>\n",
       "    <tr>\n",
       "      <th>5557</th>\n",
       "      <td>143592</td>\n",
       "      <td>764.0</td>\n",
       "      <td>Ярославль</td>\n",
       "      <td>Ж</td>\n",
       "      <td>68.0</td>\n",
       "      <td>3</td>\n",
       "      <td>508919.15</td>\n",
       "      <td>2</td>\n",
       "      <td>0</td>\n",
       "      <td>1</td>\n",
       "      <td>71211.66</td>\n",
       "      <td>0</td>\n",
       "    </tr>\n",
       "    <tr>\n",
       "      <th>8364</th>\n",
       "      <td>148826</td>\n",
       "      <td>909.0</td>\n",
       "      <td>Рыбинск</td>\n",
       "      <td>Ж</td>\n",
       "      <td>32.0</td>\n",
       "      <td>0</td>\n",
       "      <td>NaN</td>\n",
       "      <td>3</td>\n",
       "      <td>1</td>\n",
       "      <td>0</td>\n",
       "      <td>28843.54</td>\n",
       "      <td>0</td>\n",
       "    </tr>\n",
       "    <tr>\n",
       "      <th>5252</th>\n",
       "      <td>148826</td>\n",
       "      <td>895.0</td>\n",
       "      <td>Ярославль</td>\n",
       "      <td>М</td>\n",
       "      <td>32.0</td>\n",
       "      <td>5</td>\n",
       "      <td>1470273.14</td>\n",
       "      <td>2</td>\n",
       "      <td>0</td>\n",
       "      <td>0</td>\n",
       "      <td>118058.52</td>\n",
       "      <td>1</td>\n",
       "    </tr>\n",
       "    <tr>\n",
       "      <th>946</th>\n",
       "      <td>149365</td>\n",
       "      <td>877.0</td>\n",
       "      <td>Ярославль</td>\n",
       "      <td>М</td>\n",
       "      <td>41.0</td>\n",
       "      <td>5</td>\n",
       "      <td>819182.01</td>\n",
       "      <td>2</td>\n",
       "      <td>0</td>\n",
       "      <td>0</td>\n",
       "      <td>212316.47</td>\n",
       "      <td>1</td>\n",
       "    </tr>\n",
       "    <tr>\n",
       "      <th>8272</th>\n",
       "      <td>149365</td>\n",
       "      <td>793.0</td>\n",
       "      <td>Рыбинск</td>\n",
       "      <td>Ж</td>\n",
       "      <td>61.0</td>\n",
       "      <td>0</td>\n",
       "      <td>476496.99</td>\n",
       "      <td>2</td>\n",
       "      <td>1</td>\n",
       "      <td>1</td>\n",
       "      <td>46147.06</td>\n",
       "      <td>0</td>\n",
       "    </tr>\n",
       "    <tr>\n",
       "      <th>9267</th>\n",
       "      <td>150667</td>\n",
       "      <td>931.0</td>\n",
       "      <td>Ярославль</td>\n",
       "      <td>М</td>\n",
       "      <td>41.0</td>\n",
       "      <td>0</td>\n",
       "      <td>NaN</td>\n",
       "      <td>1</td>\n",
       "      <td>0</td>\n",
       "      <td>0</td>\n",
       "      <td>261904.44</td>\n",
       "      <td>0</td>\n",
       "    </tr>\n",
       "    <tr>\n",
       "      <th>2439</th>\n",
       "      <td>150667</td>\n",
       "      <td>813.0</td>\n",
       "      <td>Рыбинск</td>\n",
       "      <td>Ж</td>\n",
       "      <td>44.0</td>\n",
       "      <td>0</td>\n",
       "      <td>62504.47</td>\n",
       "      <td>4</td>\n",
       "      <td>1</td>\n",
       "      <td>0</td>\n",
       "      <td>152393.79</td>\n",
       "      <td>1</td>\n",
       "    </tr>\n",
       "    <tr>\n",
       "      <th>5495</th>\n",
       "      <td>151662</td>\n",
       "      <td>884.0</td>\n",
       "      <td>Рыбинск</td>\n",
       "      <td>Ж</td>\n",
       "      <td>NaN</td>\n",
       "      <td>0</td>\n",
       "      <td>NaN</td>\n",
       "      <td>1</td>\n",
       "      <td>1</td>\n",
       "      <td>1</td>\n",
       "      <td>137500.77</td>\n",
       "      <td>0</td>\n",
       "    </tr>\n",
       "    <tr>\n",
       "      <th>3683</th>\n",
       "      <td>151662</td>\n",
       "      <td>960.0</td>\n",
       "      <td>Ярославль</td>\n",
       "      <td>Ж</td>\n",
       "      <td>37.0</td>\n",
       "      <td>4</td>\n",
       "      <td>2527032.70</td>\n",
       "      <td>4</td>\n",
       "      <td>1</td>\n",
       "      <td>0</td>\n",
       "      <td>231648.50</td>\n",
       "      <td>0</td>\n",
       "    </tr>\n",
       "    <tr>\n",
       "      <th>690</th>\n",
       "      <td>152479</td>\n",
       "      <td>768.0</td>\n",
       "      <td>Рыбинск</td>\n",
       "      <td>Ж</td>\n",
       "      <td>42.0</td>\n",
       "      <td>0</td>\n",
       "      <td>126787.79</td>\n",
       "      <td>4</td>\n",
       "      <td>1</td>\n",
       "      <td>1</td>\n",
       "      <td>143233.23</td>\n",
       "      <td>1</td>\n",
       "    </tr>\n",
       "    <tr>\n",
       "      <th>5705</th>\n",
       "      <td>152479</td>\n",
       "      <td>723.0</td>\n",
       "      <td>Ярославль</td>\n",
       "      <td>Ж</td>\n",
       "      <td>22.0</td>\n",
       "      <td>0</td>\n",
       "      <td>NaN</td>\n",
       "      <td>1</td>\n",
       "      <td>1</td>\n",
       "      <td>0</td>\n",
       "      <td>83955.65</td>\n",
       "      <td>0</td>\n",
       "    </tr>\n",
       "    <tr>\n",
       "      <th>5197</th>\n",
       "      <td>155765</td>\n",
       "      <td>923.0</td>\n",
       "      <td>Рыбинск</td>\n",
       "      <td>М</td>\n",
       "      <td>30.0</td>\n",
       "      <td>0</td>\n",
       "      <td>NaN</td>\n",
       "      <td>1</td>\n",
       "      <td>1</td>\n",
       "      <td>1</td>\n",
       "      <td>120296.60</td>\n",
       "      <td>0</td>\n",
       "    </tr>\n",
       "    <tr>\n",
       "      <th>3274</th>\n",
       "      <td>155765</td>\n",
       "      <td>863.0</td>\n",
       "      <td>Ярославль</td>\n",
       "      <td>М</td>\n",
       "      <td>30.0</td>\n",
       "      <td>5</td>\n",
       "      <td>1036114.50</td>\n",
       "      <td>5</td>\n",
       "      <td>1</td>\n",
       "      <td>1</td>\n",
       "      <td>150744.50</td>\n",
       "      <td>1</td>\n",
       "    </tr>\n",
       "    <tr>\n",
       "      <th>9363</th>\n",
       "      <td>155872</td>\n",
       "      <td>714.0</td>\n",
       "      <td>Рыбинск</td>\n",
       "      <td>Ж</td>\n",
       "      <td>29.0</td>\n",
       "      <td>0</td>\n",
       "      <td>NaN</td>\n",
       "      <td>1</td>\n",
       "      <td>1</td>\n",
       "      <td>0</td>\n",
       "      <td>118052.84</td>\n",
       "      <td>0</td>\n",
       "    </tr>\n",
       "    <tr>\n",
       "      <th>1080</th>\n",
       "      <td>155872</td>\n",
       "      <td>896.0</td>\n",
       "      <td>Ярославль</td>\n",
       "      <td>М</td>\n",
       "      <td>36.0</td>\n",
       "      <td>3</td>\n",
       "      <td>1113656.92</td>\n",
       "      <td>3</td>\n",
       "      <td>0</td>\n",
       "      <td>1</td>\n",
       "      <td>291176.85</td>\n",
       "      <td>1</td>\n",
       "    </tr>\n",
       "    <tr>\n",
       "      <th>3936</th>\n",
       "      <td>160075</td>\n",
       "      <td>899.0</td>\n",
       "      <td>Ярославль</td>\n",
       "      <td>М</td>\n",
       "      <td>34.0</td>\n",
       "      <td>4</td>\n",
       "      <td>1647814.67</td>\n",
       "      <td>4</td>\n",
       "      <td>1</td>\n",
       "      <td>0</td>\n",
       "      <td>151888.42</td>\n",
       "      <td>1</td>\n",
       "    </tr>\n",
       "    <tr>\n",
       "      <th>9508</th>\n",
       "      <td>160075</td>\n",
       "      <td>824.0</td>\n",
       "      <td>Рыбинск</td>\n",
       "      <td>Ж</td>\n",
       "      <td>57.0</td>\n",
       "      <td>3</td>\n",
       "      <td>355047.33</td>\n",
       "      <td>2</td>\n",
       "      <td>0</td>\n",
       "      <td>0</td>\n",
       "      <td>64351.81</td>\n",
       "      <td>0</td>\n",
       "    </tr>\n",
       "    <tr>\n",
       "      <th>8733</th>\n",
       "      <td>162053</td>\n",
       "      <td>786.0</td>\n",
       "      <td>Ярославль</td>\n",
       "      <td>М</td>\n",
       "      <td>29.0</td>\n",
       "      <td>4</td>\n",
       "      <td>205824.97</td>\n",
       "      <td>3</td>\n",
       "      <td>1</td>\n",
       "      <td>0</td>\n",
       "      <td>121371.73</td>\n",
       "      <td>0</td>\n",
       "    </tr>\n",
       "    <tr>\n",
       "      <th>5629</th>\n",
       "      <td>162053</td>\n",
       "      <td>921.0</td>\n",
       "      <td>Рыбинск</td>\n",
       "      <td>М</td>\n",
       "      <td>33.0</td>\n",
       "      <td>3</td>\n",
       "      <td>857011.13</td>\n",
       "      <td>2</td>\n",
       "      <td>1</td>\n",
       "      <td>1</td>\n",
       "      <td>113512.57</td>\n",
       "      <td>1</td>\n",
       "    </tr>\n",
       "    <tr>\n",
       "      <th>6786</th>\n",
       "      <td>163207</td>\n",
       "      <td>838.0</td>\n",
       "      <td>Ярославль</td>\n",
       "      <td>Ж</td>\n",
       "      <td>42.0</td>\n",
       "      <td>4</td>\n",
       "      <td>652776.60</td>\n",
       "      <td>2</td>\n",
       "      <td>1</td>\n",
       "      <td>1</td>\n",
       "      <td>97545.36</td>\n",
       "      <td>0</td>\n",
       "    </tr>\n",
       "    <tr>\n",
       "      <th>3564</th>\n",
       "      <td>163207</td>\n",
       "      <td>853.0</td>\n",
       "      <td>Рыбинск</td>\n",
       "      <td>М</td>\n",
       "      <td>42.0</td>\n",
       "      <td>4</td>\n",
       "      <td>543839.62</td>\n",
       "      <td>1</td>\n",
       "      <td>1</td>\n",
       "      <td>1</td>\n",
       "      <td>105281.97</td>\n",
       "      <td>1</td>\n",
       "    </tr>\n",
       "    <tr>\n",
       "      <th>6670</th>\n",
       "      <td>163657</td>\n",
       "      <td>903.0</td>\n",
       "      <td>Рыбинск</td>\n",
       "      <td>М</td>\n",
       "      <td>45.0</td>\n",
       "      <td>4</td>\n",
       "      <td>1343339.70</td>\n",
       "      <td>4</td>\n",
       "      <td>0</td>\n",
       "      <td>1</td>\n",
       "      <td>83741.65</td>\n",
       "      <td>0</td>\n",
       "    </tr>\n",
       "    <tr>\n",
       "      <th>9667</th>\n",
       "      <td>163657</td>\n",
       "      <td>849.0</td>\n",
       "      <td>Ярославль</td>\n",
       "      <td>М</td>\n",
       "      <td>NaN</td>\n",
       "      <td>4</td>\n",
       "      <td>1254013.85</td>\n",
       "      <td>2</td>\n",
       "      <td>1</td>\n",
       "      <td>1</td>\n",
       "      <td>119106.67</td>\n",
       "      <td>0</td>\n",
       "    </tr>\n",
       "    <tr>\n",
       "      <th>58</th>\n",
       "      <td>164676</td>\n",
       "      <td>860.0</td>\n",
       "      <td>Ярославль</td>\n",
       "      <td>М</td>\n",
       "      <td>37.0</td>\n",
       "      <td>5</td>\n",
       "      <td>648594.03</td>\n",
       "      <td>2</td>\n",
       "      <td>1</td>\n",
       "      <td>1</td>\n",
       "      <td>213586.86</td>\n",
       "      <td>1</td>\n",
       "    </tr>\n",
       "    <tr>\n",
       "      <th>7271</th>\n",
       "      <td>164676</td>\n",
       "      <td>790.0</td>\n",
       "      <td>Рыбинск</td>\n",
       "      <td>Ж</td>\n",
       "      <td>77.0</td>\n",
       "      <td>1</td>\n",
       "      <td>111202.01</td>\n",
       "      <td>1</td>\n",
       "      <td>1</td>\n",
       "      <td>0</td>\n",
       "      <td>32835.45</td>\n",
       "      <td>0</td>\n",
       "    </tr>\n",
       "    <tr>\n",
       "      <th>5020</th>\n",
       "      <td>168998</td>\n",
       "      <td>886.0</td>\n",
       "      <td>Ярославль</td>\n",
       "      <td>Ж</td>\n",
       "      <td>35.0</td>\n",
       "      <td>4</td>\n",
       "      <td>394780.61</td>\n",
       "      <td>2</td>\n",
       "      <td>1</td>\n",
       "      <td>1</td>\n",
       "      <td>510577.10</td>\n",
       "      <td>1</td>\n",
       "    </tr>\n",
       "    <tr>\n",
       "      <th>9785</th>\n",
       "      <td>168998</td>\n",
       "      <td>895.0</td>\n",
       "      <td>Рыбинск</td>\n",
       "      <td>М</td>\n",
       "      <td>44.0</td>\n",
       "      <td>0</td>\n",
       "      <td>282653.53</td>\n",
       "      <td>3</td>\n",
       "      <td>0</td>\n",
       "      <td>0</td>\n",
       "      <td>255296.47</td>\n",
       "      <td>0</td>\n",
       "    </tr>\n",
       "    <tr>\n",
       "      <th>790</th>\n",
       "      <td>170312</td>\n",
       "      <td>901.0</td>\n",
       "      <td>Ярославль</td>\n",
       "      <td>М</td>\n",
       "      <td>33.0</td>\n",
       "      <td>4</td>\n",
       "      <td>3276783.93</td>\n",
       "      <td>3</td>\n",
       "      <td>0</td>\n",
       "      <td>1</td>\n",
       "      <td>358700.96</td>\n",
       "      <td>1</td>\n",
       "    </tr>\n",
       "    <tr>\n",
       "      <th>3039</th>\n",
       "      <td>170312</td>\n",
       "      <td>813.0</td>\n",
       "      <td>Рыбинск</td>\n",
       "      <td>Ж</td>\n",
       "      <td>47.0</td>\n",
       "      <td>3</td>\n",
       "      <td>370027.67</td>\n",
       "      <td>2</td>\n",
       "      <td>0</td>\n",
       "      <td>0</td>\n",
       "      <td>129835.56</td>\n",
       "      <td>0</td>\n",
       "    </tr>\n",
       "    <tr>\n",
       "      <th>9653</th>\n",
       "      <td>171751</td>\n",
       "      <td>862.0</td>\n",
       "      <td>Ярославль</td>\n",
       "      <td>М</td>\n",
       "      <td>42.0</td>\n",
       "      <td>4</td>\n",
       "      <td>481992.19</td>\n",
       "      <td>2</td>\n",
       "      <td>1</td>\n",
       "      <td>0</td>\n",
       "      <td>71816.86</td>\n",
       "      <td>0</td>\n",
       "    </tr>\n",
       "    <tr>\n",
       "      <th>4587</th>\n",
       "      <td>171751</td>\n",
       "      <td>874.0</td>\n",
       "      <td>Рыбинск</td>\n",
       "      <td>Ж</td>\n",
       "      <td>26.0</td>\n",
       "      <td>5</td>\n",
       "      <td>292054.42</td>\n",
       "      <td>2</td>\n",
       "      <td>0</td>\n",
       "      <td>1</td>\n",
       "      <td>20528.56</td>\n",
       "      <td>1</td>\n",
       "    </tr>\n",
       "    <tr>\n",
       "      <th>2941</th>\n",
       "      <td>172142</td>\n",
       "      <td>896.0</td>\n",
       "      <td>Ярославль</td>\n",
       "      <td>Ж</td>\n",
       "      <td>30.0</td>\n",
       "      <td>4</td>\n",
       "      <td>1009073.14</td>\n",
       "      <td>4</td>\n",
       "      <td>1</td>\n",
       "      <td>0</td>\n",
       "      <td>70866.29</td>\n",
       "      <td>1</td>\n",
       "    </tr>\n",
       "    <tr>\n",
       "      <th>6756</th>\n",
       "      <td>172142</td>\n",
       "      <td>751.0</td>\n",
       "      <td>Рыбинск</td>\n",
       "      <td>Ж</td>\n",
       "      <td>69.0</td>\n",
       "      <td>3</td>\n",
       "      <td>396568.03</td>\n",
       "      <td>2</td>\n",
       "      <td>0</td>\n",
       "      <td>1</td>\n",
       "      <td>45608.45</td>\n",
       "      <td>0</td>\n",
       "    </tr>\n",
       "    <tr>\n",
       "      <th>7753</th>\n",
       "      <td>175730</td>\n",
       "      <td>846.0</td>\n",
       "      <td>Ярославль</td>\n",
       "      <td>Ж</td>\n",
       "      <td>32.0</td>\n",
       "      <td>7</td>\n",
       "      <td>216764.74</td>\n",
       "      <td>4</td>\n",
       "      <td>1</td>\n",
       "      <td>1</td>\n",
       "      <td>77100.85</td>\n",
       "      <td>1</td>\n",
       "    </tr>\n",
       "    <tr>\n",
       "      <th>9970</th>\n",
       "      <td>175730</td>\n",
       "      <td>816.0</td>\n",
       "      <td>Рыбинск</td>\n",
       "      <td>М</td>\n",
       "      <td>36.0</td>\n",
       "      <td>4</td>\n",
       "      <td>477892.07</td>\n",
       "      <td>3</td>\n",
       "      <td>1</td>\n",
       "      <td>0</td>\n",
       "      <td>81100.60</td>\n",
       "      <td>0</td>\n",
       "    </tr>\n",
       "    <tr>\n",
       "      <th>8705</th>\n",
       "      <td>181526</td>\n",
       "      <td>895.0</td>\n",
       "      <td>Рыбинск</td>\n",
       "      <td>М</td>\n",
       "      <td>29.0</td>\n",
       "      <td>0</td>\n",
       "      <td>NaN</td>\n",
       "      <td>1</td>\n",
       "      <td>1</td>\n",
       "      <td>1</td>\n",
       "      <td>124786.53</td>\n",
       "      <td>0</td>\n",
       "    </tr>\n",
       "    <tr>\n",
       "      <th>2989</th>\n",
       "      <td>181526</td>\n",
       "      <td>918.0</td>\n",
       "      <td>Ярославль</td>\n",
       "      <td>Ж</td>\n",
       "      <td>37.0</td>\n",
       "      <td>5</td>\n",
       "      <td>1366382.35</td>\n",
       "      <td>4</td>\n",
       "      <td>1</td>\n",
       "      <td>1</td>\n",
       "      <td>97932.95</td>\n",
       "      <td>1</td>\n",
       "    </tr>\n",
       "    <tr>\n",
       "      <th>9146</th>\n",
       "      <td>183510</td>\n",
       "      <td>800.0</td>\n",
       "      <td>Рыбинск</td>\n",
       "      <td>Ж</td>\n",
       "      <td>42.0</td>\n",
       "      <td>7</td>\n",
       "      <td>473293.81</td>\n",
       "      <td>2</td>\n",
       "      <td>1</td>\n",
       "      <td>0</td>\n",
       "      <td>54049.88</td>\n",
       "      <td>0</td>\n",
       "    </tr>\n",
       "    <tr>\n",
       "      <th>8584</th>\n",
       "      <td>183510</td>\n",
       "      <td>922.0</td>\n",
       "      <td>Ярославль</td>\n",
       "      <td>М</td>\n",
       "      <td>26.0</td>\n",
       "      <td>5</td>\n",
       "      <td>448542.42</td>\n",
       "      <td>3</td>\n",
       "      <td>0</td>\n",
       "      <td>1</td>\n",
       "      <td>66063.13</td>\n",
       "      <td>1</td>\n",
       "    </tr>\n",
       "    <tr>\n",
       "      <th>150</th>\n",
       "      <td>185748</td>\n",
       "      <td>850.0</td>\n",
       "      <td>Рыбинск</td>\n",
       "      <td>М</td>\n",
       "      <td>36.0</td>\n",
       "      <td>5</td>\n",
       "      <td>1203376.67</td>\n",
       "      <td>2</td>\n",
       "      <td>0</td>\n",
       "      <td>1</td>\n",
       "      <td>89401.82</td>\n",
       "      <td>1</td>\n",
       "    </tr>\n",
       "    <tr>\n",
       "      <th>3106</th>\n",
       "      <td>185748</td>\n",
       "      <td>912.0</td>\n",
       "      <td>Ярославль</td>\n",
       "      <td>Ж</td>\n",
       "      <td>47.0</td>\n",
       "      <td>5</td>\n",
       "      <td>1598218.98</td>\n",
       "      <td>2</td>\n",
       "      <td>0</td>\n",
       "      <td>0</td>\n",
       "      <td>180256.98</td>\n",
       "      <td>0</td>\n",
       "    </tr>\n",
       "    <tr>\n",
       "      <th>9632</th>\n",
       "      <td>185829</td>\n",
       "      <td>927.0</td>\n",
       "      <td>Ярославль</td>\n",
       "      <td>М</td>\n",
       "      <td>NaN</td>\n",
       "      <td>0</td>\n",
       "      <td>NaN</td>\n",
       "      <td>1</td>\n",
       "      <td>1</td>\n",
       "      <td>0</td>\n",
       "      <td>231254.86</td>\n",
       "      <td>0</td>\n",
       "    </tr>\n",
       "    <tr>\n",
       "      <th>3668</th>\n",
       "      <td>185829</td>\n",
       "      <td>925.0</td>\n",
       "      <td>Рыбинск</td>\n",
       "      <td>М</td>\n",
       "      <td>40.0</td>\n",
       "      <td>0</td>\n",
       "      <td>NaN</td>\n",
       "      <td>1</td>\n",
       "      <td>1</td>\n",
       "      <td>0</td>\n",
       "      <td>228305.64</td>\n",
       "      <td>0</td>\n",
       "    </tr>\n",
       "    <tr>\n",
       "      <th>9380</th>\n",
       "      <td>187459</td>\n",
       "      <td>894.0</td>\n",
       "      <td>Рыбинск</td>\n",
       "      <td>М</td>\n",
       "      <td>NaN</td>\n",
       "      <td>0</td>\n",
       "      <td>NaN</td>\n",
       "      <td>1</td>\n",
       "      <td>1</td>\n",
       "      <td>0</td>\n",
       "      <td>178012.28</td>\n",
       "      <td>0</td>\n",
       "    </tr>\n",
       "    <tr>\n",
       "      <th>4720</th>\n",
       "      <td>187459</td>\n",
       "      <td>895.0</td>\n",
       "      <td>Ярославль</td>\n",
       "      <td>М</td>\n",
       "      <td>48.0</td>\n",
       "      <td>0</td>\n",
       "      <td>NaN</td>\n",
       "      <td>1</td>\n",
       "      <td>1</td>\n",
       "      <td>0</td>\n",
       "      <td>180887.50</td>\n",
       "      <td>0</td>\n",
       "    </tr>\n",
       "    <tr>\n",
       "      <th>2165</th>\n",
       "      <td>187635</td>\n",
       "      <td>692.0</td>\n",
       "      <td>Рыбинск</td>\n",
       "      <td>Ж</td>\n",
       "      <td>NaN</td>\n",
       "      <td>0</td>\n",
       "      <td>NaN</td>\n",
       "      <td>1</td>\n",
       "      <td>1</td>\n",
       "      <td>1</td>\n",
       "      <td>160368.82</td>\n",
       "      <td>0</td>\n",
       "    </tr>\n",
       "    <tr>\n",
       "      <th>918</th>\n",
       "      <td>187635</td>\n",
       "      <td>918.0</td>\n",
       "      <td>Ярославль</td>\n",
       "      <td>Ж</td>\n",
       "      <td>44.0</td>\n",
       "      <td>0</td>\n",
       "      <td>NaN</td>\n",
       "      <td>1</td>\n",
       "      <td>1</td>\n",
       "      <td>1</td>\n",
       "      <td>162497.52</td>\n",
       "      <td>0</td>\n",
       "    </tr>\n",
       "    <tr>\n",
       "      <th>5454</th>\n",
       "      <td>188957</td>\n",
       "      <td>853.0</td>\n",
       "      <td>Ярославль</td>\n",
       "      <td>М</td>\n",
       "      <td>35.0</td>\n",
       "      <td>1</td>\n",
       "      <td>374959.62</td>\n",
       "      <td>2</td>\n",
       "      <td>1</td>\n",
       "      <td>1</td>\n",
       "      <td>197600.97</td>\n",
       "      <td>1</td>\n",
       "    </tr>\n",
       "    <tr>\n",
       "      <th>6005</th>\n",
       "      <td>188957</td>\n",
       "      <td>882.0</td>\n",
       "      <td>Рыбинск</td>\n",
       "      <td>Ж</td>\n",
       "      <td>64.0</td>\n",
       "      <td>3</td>\n",
       "      <td>893392.91</td>\n",
       "      <td>3</td>\n",
       "      <td>1</td>\n",
       "      <td>0</td>\n",
       "      <td>69622.58</td>\n",
       "      <td>0</td>\n",
       "    </tr>\n",
       "    <tr>\n",
       "      <th>231</th>\n",
       "      <td>190253</td>\n",
       "      <td>823.0</td>\n",
       "      <td>Рыбинск</td>\n",
       "      <td>М</td>\n",
       "      <td>37.0</td>\n",
       "      <td>4</td>\n",
       "      <td>373348.39</td>\n",
       "      <td>2</td>\n",
       "      <td>0</td>\n",
       "      <td>1</td>\n",
       "      <td>131947.92</td>\n",
       "      <td>1</td>\n",
       "    </tr>\n",
       "    <tr>\n",
       "      <th>1583</th>\n",
       "      <td>190253</td>\n",
       "      <td>726.0</td>\n",
       "      <td>Ярославль</td>\n",
       "      <td>М</td>\n",
       "      <td>49.0</td>\n",
       "      <td>0</td>\n",
       "      <td>NaN</td>\n",
       "      <td>1</td>\n",
       "      <td>1</td>\n",
       "      <td>1</td>\n",
       "      <td>177700.78</td>\n",
       "      <td>0</td>\n",
       "    </tr>\n",
       "    <tr>\n",
       "      <th>7931</th>\n",
       "      <td>191520</td>\n",
       "      <td>767.0</td>\n",
       "      <td>Ярославль</td>\n",
       "      <td>М</td>\n",
       "      <td>45.0</td>\n",
       "      <td>0</td>\n",
       "      <td>NaN</td>\n",
       "      <td>1</td>\n",
       "      <td>1</td>\n",
       "      <td>1</td>\n",
       "      <td>880005.05</td>\n",
       "      <td>0</td>\n",
       "    </tr>\n",
       "    <tr>\n",
       "      <th>3859</th>\n",
       "      <td>191520</td>\n",
       "      <td>773.0</td>\n",
       "      <td>Рыбинск</td>\n",
       "      <td>М</td>\n",
       "      <td>36.0</td>\n",
       "      <td>3</td>\n",
       "      <td>1219918.08</td>\n",
       "      <td>4</td>\n",
       "      <td>1</td>\n",
       "      <td>1</td>\n",
       "      <td>119933.13</td>\n",
       "      <td>1</td>\n",
       "    </tr>\n",
       "    <tr>\n",
       "      <th>2226</th>\n",
       "      <td>195884</td>\n",
       "      <td>906.0</td>\n",
       "      <td>Ярославль</td>\n",
       "      <td>М</td>\n",
       "      <td>49.0</td>\n",
       "      <td>6</td>\n",
       "      <td>1354552.83</td>\n",
       "      <td>2</td>\n",
       "      <td>0</td>\n",
       "      <td>0</td>\n",
       "      <td>270678.42</td>\n",
       "      <td>1</td>\n",
       "    </tr>\n",
       "    <tr>\n",
       "      <th>9659</th>\n",
       "      <td>195884</td>\n",
       "      <td>767.0</td>\n",
       "      <td>Рыбинск</td>\n",
       "      <td>Ж</td>\n",
       "      <td>45.0</td>\n",
       "      <td>1</td>\n",
       "      <td>335652.56</td>\n",
       "      <td>3</td>\n",
       "      <td>1</td>\n",
       "      <td>1</td>\n",
       "      <td>100197.67</td>\n",
       "      <td>0</td>\n",
       "    </tr>\n",
       "    <tr>\n",
       "      <th>4870</th>\n",
       "      <td>197364</td>\n",
       "      <td>889.0</td>\n",
       "      <td>Ярославль</td>\n",
       "      <td>М</td>\n",
       "      <td>33.0</td>\n",
       "      <td>0</td>\n",
       "      <td>NaN</td>\n",
       "      <td>2</td>\n",
       "      <td>1</td>\n",
       "      <td>1</td>\n",
       "      <td>96173.48</td>\n",
       "      <td>0</td>\n",
       "    </tr>\n",
       "    <tr>\n",
       "      <th>161</th>\n",
       "      <td>197364</td>\n",
       "      <td>928.0</td>\n",
       "      <td>Рыбинск</td>\n",
       "      <td>Ж</td>\n",
       "      <td>53.0</td>\n",
       "      <td>6</td>\n",
       "      <td>1347183.86</td>\n",
       "      <td>2</td>\n",
       "      <td>0</td>\n",
       "      <td>1</td>\n",
       "      <td>168189.49</td>\n",
       "      <td>1</td>\n",
       "    </tr>\n",
       "    <tr>\n",
       "      <th>8015</th>\n",
       "      <td>198635</td>\n",
       "      <td>670.0</td>\n",
       "      <td>Ярославль</td>\n",
       "      <td>Ж</td>\n",
       "      <td>NaN</td>\n",
       "      <td>0</td>\n",
       "      <td>NaN</td>\n",
       "      <td>1</td>\n",
       "      <td>1</td>\n",
       "      <td>1</td>\n",
       "      <td>168699.33</td>\n",
       "      <td>0</td>\n",
       "    </tr>\n",
       "    <tr>\n",
       "      <th>1181</th>\n",
       "      <td>198635</td>\n",
       "      <td>896.0</td>\n",
       "      <td>Рыбинск</td>\n",
       "      <td>Ж</td>\n",
       "      <td>32.0</td>\n",
       "      <td>0</td>\n",
       "      <td>NaN</td>\n",
       "      <td>1</td>\n",
       "      <td>1</td>\n",
       "      <td>1</td>\n",
       "      <td>170866.01</td>\n",
       "      <td>0</td>\n",
       "    </tr>\n",
       "    <tr>\n",
       "      <th>8822</th>\n",
       "      <td>199312</td>\n",
       "      <td>911.0</td>\n",
       "      <td>Рыбинск</td>\n",
       "      <td>Ж</td>\n",
       "      <td>43.0</td>\n",
       "      <td>0</td>\n",
       "      <td>NaN</td>\n",
       "      <td>2</td>\n",
       "      <td>1</td>\n",
       "      <td>1</td>\n",
       "      <td>152189.72</td>\n",
       "      <td>0</td>\n",
       "    </tr>\n",
       "    <tr>\n",
       "      <th>2499</th>\n",
       "      <td>199312</td>\n",
       "      <td>948.0</td>\n",
       "      <td>Ярославль</td>\n",
       "      <td>М</td>\n",
       "      <td>41.0</td>\n",
       "      <td>5</td>\n",
       "      <td>3095721.85</td>\n",
       "      <td>4</td>\n",
       "      <td>1</td>\n",
       "      <td>1</td>\n",
       "      <td>307234.69</td>\n",
       "      <td>1</td>\n",
       "    </tr>\n",
       "    <tr>\n",
       "      <th>9035</th>\n",
       "      <td>200863</td>\n",
       "      <td>933.0</td>\n",
       "      <td>Рыбинск</td>\n",
       "      <td>М</td>\n",
       "      <td>29.0</td>\n",
       "      <td>7</td>\n",
       "      <td>766924.56</td>\n",
       "      <td>2</td>\n",
       "      <td>0</td>\n",
       "      <td>1</td>\n",
       "      <td>89323.33</td>\n",
       "      <td>1</td>\n",
       "    </tr>\n",
       "    <tr>\n",
       "      <th>9175</th>\n",
       "      <td>200863</td>\n",
       "      <td>832.0</td>\n",
       "      <td>Ярославль</td>\n",
       "      <td>М</td>\n",
       "      <td>42.0</td>\n",
       "      <td>5</td>\n",
       "      <td>620064.73</td>\n",
       "      <td>2</td>\n",
       "      <td>0</td>\n",
       "      <td>0</td>\n",
       "      <td>188054.46</td>\n",
       "      <td>0</td>\n",
       "    </tr>\n",
       "    <tr>\n",
       "      <th>9301</th>\n",
       "      <td>202983</td>\n",
       "      <td>942.0</td>\n",
       "      <td>Рыбинск</td>\n",
       "      <td>Ж</td>\n",
       "      <td>NaN</td>\n",
       "      <td>0</td>\n",
       "      <td>NaN</td>\n",
       "      <td>1</td>\n",
       "      <td>1</td>\n",
       "      <td>1</td>\n",
       "      <td>163804.73</td>\n",
       "      <td>0</td>\n",
       "    </tr>\n",
       "    <tr>\n",
       "      <th>8897</th>\n",
       "      <td>202983</td>\n",
       "      <td>941.0</td>\n",
       "      <td>Ярославль</td>\n",
       "      <td>Ж</td>\n",
       "      <td>39.0</td>\n",
       "      <td>0</td>\n",
       "      <td>NaN</td>\n",
       "      <td>1</td>\n",
       "      <td>0</td>\n",
       "      <td>1</td>\n",
       "      <td>159348.84</td>\n",
       "      <td>0</td>\n",
       "    </tr>\n",
       "    <tr>\n",
       "      <th>5889</th>\n",
       "      <td>206759</td>\n",
       "      <td>917.0</td>\n",
       "      <td>Ярославль</td>\n",
       "      <td>М</td>\n",
       "      <td>22.0</td>\n",
       "      <td>0</td>\n",
       "      <td>NaN</td>\n",
       "      <td>1</td>\n",
       "      <td>1</td>\n",
       "      <td>0</td>\n",
       "      <td>70617.52</td>\n",
       "      <td>0</td>\n",
       "    </tr>\n",
       "    <tr>\n",
       "      <th>8385</th>\n",
       "      <td>206759</td>\n",
       "      <td>915.0</td>\n",
       "      <td>Рыбинск</td>\n",
       "      <td>М</td>\n",
       "      <td>NaN</td>\n",
       "      <td>0</td>\n",
       "      <td>NaN</td>\n",
       "      <td>1</td>\n",
       "      <td>1</td>\n",
       "      <td>0</td>\n",
       "      <td>71179.53</td>\n",
       "      <td>0</td>\n",
       "    </tr>\n",
       "    <tr>\n",
       "      <th>1513</th>\n",
       "      <td>208081</td>\n",
       "      <td>873.0</td>\n",
       "      <td>Ярославль</td>\n",
       "      <td>М</td>\n",
       "      <td>31.0</td>\n",
       "      <td>2</td>\n",
       "      <td>232814.75</td>\n",
       "      <td>2</td>\n",
       "      <td>1</td>\n",
       "      <td>1</td>\n",
       "      <td>122505.86</td>\n",
       "      <td>1</td>\n",
       "    </tr>\n",
       "    <tr>\n",
       "      <th>2998</th>\n",
       "      <td>208081</td>\n",
       "      <td>821.0</td>\n",
       "      <td>Рыбинск</td>\n",
       "      <td>Ж</td>\n",
       "      <td>62.0</td>\n",
       "      <td>3</td>\n",
       "      <td>493608.26</td>\n",
       "      <td>2</td>\n",
       "      <td>1</td>\n",
       "      <td>1</td>\n",
       "      <td>33491.45</td>\n",
       "      <td>0</td>\n",
       "    </tr>\n",
       "    <tr>\n",
       "      <th>1580</th>\n",
       "      <td>208738</td>\n",
       "      <td>897.0</td>\n",
       "      <td>Рыбинск</td>\n",
       "      <td>Ж</td>\n",
       "      <td>45.0</td>\n",
       "      <td>5</td>\n",
       "      <td>859018.19</td>\n",
       "      <td>2</td>\n",
       "      <td>1</td>\n",
       "      <td>1</td>\n",
       "      <td>145510.08</td>\n",
       "      <td>1</td>\n",
       "    </tr>\n",
       "    <tr>\n",
       "      <th>5840</th>\n",
       "      <td>208738</td>\n",
       "      <td>839.0</td>\n",
       "      <td>Ярославль</td>\n",
       "      <td>М</td>\n",
       "      <td>60.0</td>\n",
       "      <td>5</td>\n",
       "      <td>1102438.37</td>\n",
       "      <td>2</td>\n",
       "      <td>0</td>\n",
       "      <td>1</td>\n",
       "      <td>116500.81</td>\n",
       "      <td>0</td>\n",
       "    </tr>\n",
       "    <tr>\n",
       "      <th>5570</th>\n",
       "      <td>208815</td>\n",
       "      <td>773.0</td>\n",
       "      <td>Ярославль</td>\n",
       "      <td>М</td>\n",
       "      <td>39.0</td>\n",
       "      <td>4</td>\n",
       "      <td>288110.09</td>\n",
       "      <td>2</td>\n",
       "      <td>1</td>\n",
       "      <td>0</td>\n",
       "      <td>56971.91</td>\n",
       "      <td>0</td>\n",
       "    </tr>\n",
       "    <tr>\n",
       "      <th>3350</th>\n",
       "      <td>208815</td>\n",
       "      <td>877.0</td>\n",
       "      <td>Рыбинск</td>\n",
       "      <td>М</td>\n",
       "      <td>25.0</td>\n",
       "      <td>4</td>\n",
       "      <td>239421.18</td>\n",
       "      <td>1</td>\n",
       "      <td>1</td>\n",
       "      <td>1</td>\n",
       "      <td>48638.00</td>\n",
       "      <td>1</td>\n",
       "    </tr>\n",
       "    <tr>\n",
       "      <th>3230</th>\n",
       "      <td>210135</td>\n",
       "      <td>974.0</td>\n",
       "      <td>Ярославль</td>\n",
       "      <td>Ж</td>\n",
       "      <td>50.0</td>\n",
       "      <td>5</td>\n",
       "      <td>5680148.93</td>\n",
       "      <td>4</td>\n",
       "      <td>1</td>\n",
       "      <td>1</td>\n",
       "      <td>338471.66</td>\n",
       "      <td>0</td>\n",
       "    </tr>\n",
       "    <tr>\n",
       "      <th>7236</th>\n",
       "      <td>210135</td>\n",
       "      <td>908.0</td>\n",
       "      <td>Рыбинск</td>\n",
       "      <td>Ж</td>\n",
       "      <td>NaN</td>\n",
       "      <td>4</td>\n",
       "      <td>1120340.31</td>\n",
       "      <td>3</td>\n",
       "      <td>1</td>\n",
       "      <td>1</td>\n",
       "      <td>85002.15</td>\n",
       "      <td>0</td>\n",
       "    </tr>\n",
       "    <tr>\n",
       "      <th>8521</th>\n",
       "      <td>210627</td>\n",
       "      <td>804.0</td>\n",
       "      <td>Рыбинск</td>\n",
       "      <td>М</td>\n",
       "      <td>30.0</td>\n",
       "      <td>2</td>\n",
       "      <td>347818.88</td>\n",
       "      <td>3</td>\n",
       "      <td>1</td>\n",
       "      <td>0</td>\n",
       "      <td>129015.25</td>\n",
       "      <td>0</td>\n",
       "    </tr>\n",
       "    <tr>\n",
       "      <th>7453</th>\n",
       "      <td>210627</td>\n",
       "      <td>864.0</td>\n",
       "      <td>Ярославль</td>\n",
       "      <td>Ж</td>\n",
       "      <td>38.0</td>\n",
       "      <td>4</td>\n",
       "      <td>1527225.32</td>\n",
       "      <td>4</td>\n",
       "      <td>1</td>\n",
       "      <td>1</td>\n",
       "      <td>162999.17</td>\n",
       "      <td>1</td>\n",
       "    </tr>\n",
       "    <tr>\n",
       "      <th>1837</th>\n",
       "      <td>210662</td>\n",
       "      <td>896.0</td>\n",
       "      <td>Рыбинск</td>\n",
       "      <td>Ж</td>\n",
       "      <td>37.0</td>\n",
       "      <td>0</td>\n",
       "      <td>NaN</td>\n",
       "      <td>2</td>\n",
       "      <td>0</td>\n",
       "      <td>0</td>\n",
       "      <td>90916.04</td>\n",
       "      <td>0</td>\n",
       "    </tr>\n",
       "    <tr>\n",
       "      <th>869</th>\n",
       "      <td>210662</td>\n",
       "      <td>962.0</td>\n",
       "      <td>Ярославль</td>\n",
       "      <td>Ж</td>\n",
       "      <td>54.0</td>\n",
       "      <td>5</td>\n",
       "      <td>5069231.39</td>\n",
       "      <td>1</td>\n",
       "      <td>1</td>\n",
       "      <td>1</td>\n",
       "      <td>955144.85</td>\n",
       "      <td>1</td>\n",
       "    </tr>\n",
       "    <tr>\n",
       "      <th>4986</th>\n",
       "      <td>210792</td>\n",
       "      <td>884.0</td>\n",
       "      <td>Рыбинск</td>\n",
       "      <td>М</td>\n",
       "      <td>48.0</td>\n",
       "      <td>4</td>\n",
       "      <td>2228037.20</td>\n",
       "      <td>2</td>\n",
       "      <td>0</td>\n",
       "      <td>1</td>\n",
       "      <td>207978.09</td>\n",
       "      <td>1</td>\n",
       "    </tr>\n",
       "    <tr>\n",
       "      <th>7814</th>\n",
       "      <td>210792</td>\n",
       "      <td>839.0</td>\n",
       "      <td>Ярославль</td>\n",
       "      <td>М</td>\n",
       "      <td>42.0</td>\n",
       "      <td>2</td>\n",
       "      <td>662646.97</td>\n",
       "      <td>1</td>\n",
       "      <td>1</td>\n",
       "      <td>0</td>\n",
       "      <td>138403.60</td>\n",
       "      <td>0</td>\n",
       "    </tr>\n",
       "    <tr>\n",
       "      <th>6685</th>\n",
       "      <td>210898</td>\n",
       "      <td>934.0</td>\n",
       "      <td>Рыбинск</td>\n",
       "      <td>Ж</td>\n",
       "      <td>35.0</td>\n",
       "      <td>0</td>\n",
       "      <td>NaN</td>\n",
       "      <td>1</td>\n",
       "      <td>0</td>\n",
       "      <td>1</td>\n",
       "      <td>912105.84</td>\n",
       "      <td>0</td>\n",
       "    </tr>\n",
       "    <tr>\n",
       "      <th>8449</th>\n",
       "      <td>210898</td>\n",
       "      <td>805.0</td>\n",
       "      <td>Ярославль</td>\n",
       "      <td>Ж</td>\n",
       "      <td>NaN</td>\n",
       "      <td>0</td>\n",
       "      <td>NaN</td>\n",
       "      <td>1</td>\n",
       "      <td>0</td>\n",
       "      <td>1</td>\n",
       "      <td>922080.25</td>\n",
       "      <td>0</td>\n",
       "    </tr>\n",
       "    <tr>\n",
       "      <th>1359</th>\n",
       "      <td>211130</td>\n",
       "      <td>833.0</td>\n",
       "      <td>Ярославль</td>\n",
       "      <td>М</td>\n",
       "      <td>55.0</td>\n",
       "      <td>3</td>\n",
       "      <td>1231184.90</td>\n",
       "      <td>4</td>\n",
       "      <td>0</td>\n",
       "      <td>1</td>\n",
       "      <td>187758.38</td>\n",
       "      <td>1</td>\n",
       "    </tr>\n",
       "    <tr>\n",
       "      <th>3817</th>\n",
       "      <td>211130</td>\n",
       "      <td>918.0</td>\n",
       "      <td>Рыбинск</td>\n",
       "      <td>Ж</td>\n",
       "      <td>55.0</td>\n",
       "      <td>0</td>\n",
       "      <td>NaN</td>\n",
       "      <td>2</td>\n",
       "      <td>1</td>\n",
       "      <td>1</td>\n",
       "      <td>244202.04</td>\n",
       "      <td>0</td>\n",
       "    </tr>\n",
       "    <tr>\n",
       "      <th>7409</th>\n",
       "      <td>214031</td>\n",
       "      <td>777.0</td>\n",
       "      <td>Ярославль</td>\n",
       "      <td>М</td>\n",
       "      <td>NaN</td>\n",
       "      <td>2</td>\n",
       "      <td>171510.23</td>\n",
       "      <td>1</td>\n",
       "      <td>1</td>\n",
       "      <td>1</td>\n",
       "      <td>75409.63</td>\n",
       "      <td>0</td>\n",
       "    </tr>\n",
       "    <tr>\n",
       "      <th>431</th>\n",
       "      <td>214031</td>\n",
       "      <td>856.0</td>\n",
       "      <td>Рыбинск</td>\n",
       "      <td>М</td>\n",
       "      <td>36.0</td>\n",
       "      <td>2</td>\n",
       "      <td>386426.67</td>\n",
       "      <td>4</td>\n",
       "      <td>1</td>\n",
       "      <td>1</td>\n",
       "      <td>72767.85</td>\n",
       "      <td>0</td>\n",
       "    </tr>\n",
       "    <tr>\n",
       "      <th>8293</th>\n",
       "      <td>216848</td>\n",
       "      <td>930.0</td>\n",
       "      <td>Ярославль</td>\n",
       "      <td>М</td>\n",
       "      <td>NaN</td>\n",
       "      <td>0</td>\n",
       "      <td>NaN</td>\n",
       "      <td>1</td>\n",
       "      <td>1</td>\n",
       "      <td>1</td>\n",
       "      <td>199542.51</td>\n",
       "      <td>0</td>\n",
       "    </tr>\n",
       "    <tr>\n",
       "      <th>4401</th>\n",
       "      <td>216848</td>\n",
       "      <td>929.0</td>\n",
       "      <td>Рыбинск</td>\n",
       "      <td>М</td>\n",
       "      <td>68.0</td>\n",
       "      <td>0</td>\n",
       "      <td>NaN</td>\n",
       "      <td>1</td>\n",
       "      <td>1</td>\n",
       "      <td>1</td>\n",
       "      <td>195902.59</td>\n",
       "      <td>0</td>\n",
       "    </tr>\n",
       "    <tr>\n",
       "      <th>9880</th>\n",
       "      <td>217412</td>\n",
       "      <td>886.0</td>\n",
       "      <td>Ярославль</td>\n",
       "      <td>Ж</td>\n",
       "      <td>35.0</td>\n",
       "      <td>3</td>\n",
       "      <td>1026172.14</td>\n",
       "      <td>2</td>\n",
       "      <td>1</td>\n",
       "      <td>0</td>\n",
       "      <td>53099.16</td>\n",
       "      <td>0</td>\n",
       "    </tr>\n",
       "    <tr>\n",
       "      <th>7055</th>\n",
       "      <td>217412</td>\n",
       "      <td>879.0</td>\n",
       "      <td>Рыбинск</td>\n",
       "      <td>М</td>\n",
       "      <td>42.0</td>\n",
       "      <td>5</td>\n",
       "      <td>568140.15</td>\n",
       "      <td>3</td>\n",
       "      <td>0</td>\n",
       "      <td>0</td>\n",
       "      <td>231658.67</td>\n",
       "      <td>1</td>\n",
       "    </tr>\n",
       "    <tr>\n",
       "      <th>4611</th>\n",
       "      <td>217619</td>\n",
       "      <td>903.0</td>\n",
       "      <td>Рыбинск</td>\n",
       "      <td>Ж</td>\n",
       "      <td>59.0</td>\n",
       "      <td>5</td>\n",
       "      <td>844055.83</td>\n",
       "      <td>2</td>\n",
       "      <td>0</td>\n",
       "      <td>1</td>\n",
       "      <td>133999.76</td>\n",
       "      <td>1</td>\n",
       "    </tr>\n",
       "    <tr>\n",
       "      <th>5807</th>\n",
       "      <td>217619</td>\n",
       "      <td>766.0</td>\n",
       "      <td>Ярославль</td>\n",
       "      <td>М</td>\n",
       "      <td>52.0</td>\n",
       "      <td>2</td>\n",
       "      <td>218199.47</td>\n",
       "      <td>1</td>\n",
       "      <td>1</td>\n",
       "      <td>0</td>\n",
       "      <td>120356.44</td>\n",
       "      <td>0</td>\n",
       "    </tr>\n",
       "    <tr>\n",
       "      <th>4186</th>\n",
       "      <td>217643</td>\n",
       "      <td>804.0</td>\n",
       "      <td>Рыбинск</td>\n",
       "      <td>Ж</td>\n",
       "      <td>40.0</td>\n",
       "      <td>2</td>\n",
       "      <td>301836.65</td>\n",
       "      <td>2</td>\n",
       "      <td>1</td>\n",
       "      <td>1</td>\n",
       "      <td>81137.22</td>\n",
       "      <td>0</td>\n",
       "    </tr>\n",
       "    <tr>\n",
       "      <th>1970</th>\n",
       "      <td>217643</td>\n",
       "      <td>845.0</td>\n",
       "      <td>Ярославль</td>\n",
       "      <td>М</td>\n",
       "      <td>29.0</td>\n",
       "      <td>5</td>\n",
       "      <td>733098.45</td>\n",
       "      <td>4</td>\n",
       "      <td>1</td>\n",
       "      <td>1</td>\n",
       "      <td>41443.01</td>\n",
       "      <td>1</td>\n",
       "    </tr>\n",
       "    <tr>\n",
       "      <th>4623</th>\n",
       "      <td>217826</td>\n",
       "      <td>842.0</td>\n",
       "      <td>Ярославль</td>\n",
       "      <td>М</td>\n",
       "      <td>39.0</td>\n",
       "      <td>4</td>\n",
       "      <td>439747.65</td>\n",
       "      <td>2</td>\n",
       "      <td>0</td>\n",
       "      <td>1</td>\n",
       "      <td>116736.75</td>\n",
       "      <td>1</td>\n",
       "    </tr>\n",
       "    <tr>\n",
       "      <th>9406</th>\n",
       "      <td>217826</td>\n",
       "      <td>790.0</td>\n",
       "      <td>Рыбинск</td>\n",
       "      <td>Ж</td>\n",
       "      <td>46.0</td>\n",
       "      <td>4</td>\n",
       "      <td>430414.80</td>\n",
       "      <td>2</td>\n",
       "      <td>1</td>\n",
       "      <td>1</td>\n",
       "      <td>49400.37</td>\n",
       "      <td>0</td>\n",
       "    </tr>\n",
       "    <tr>\n",
       "      <th>7</th>\n",
       "      <td>218868</td>\n",
       "      <td>825.0</td>\n",
       "      <td>Ярославль</td>\n",
       "      <td>Ж</td>\n",
       "      <td>38.0</td>\n",
       "      <td>4</td>\n",
       "      <td>458145.40</td>\n",
       "      <td>2</td>\n",
       "      <td>1</td>\n",
       "      <td>1</td>\n",
       "      <td>68085.48</td>\n",
       "      <td>0</td>\n",
       "    </tr>\n",
       "    <tr>\n",
       "      <th>5470</th>\n",
       "      <td>218868</td>\n",
       "      <td>827.0</td>\n",
       "      <td>Рыбинск</td>\n",
       "      <td>Ж</td>\n",
       "      <td>NaN</td>\n",
       "      <td>4</td>\n",
       "      <td>448959.07</td>\n",
       "      <td>2</td>\n",
       "      <td>1</td>\n",
       "      <td>1</td>\n",
       "      <td>67835.95</td>\n",
       "      <td>0</td>\n",
       "    </tr>\n",
       "    <tr>\n",
       "      <th>1010</th>\n",
       "      <td>219343</td>\n",
       "      <td>921.0</td>\n",
       "      <td>Ярославль</td>\n",
       "      <td>Ж</td>\n",
       "      <td>33.0</td>\n",
       "      <td>0</td>\n",
       "      <td>NaN</td>\n",
       "      <td>1</td>\n",
       "      <td>1</td>\n",
       "      <td>0</td>\n",
       "      <td>159475.61</td>\n",
       "      <td>0</td>\n",
       "    </tr>\n",
       "    <tr>\n",
       "      <th>7248</th>\n",
       "      <td>219343</td>\n",
       "      <td>920.0</td>\n",
       "      <td>Рыбинск</td>\n",
       "      <td>Ж</td>\n",
       "      <td>NaN</td>\n",
       "      <td>0</td>\n",
       "      <td>NaN</td>\n",
       "      <td>1</td>\n",
       "      <td>1</td>\n",
       "      <td>0</td>\n",
       "      <td>159248.67</td>\n",
       "      <td>0</td>\n",
       "    </tr>\n",
       "    <tr>\n",
       "      <th>1740</th>\n",
       "      <td>220816</td>\n",
       "      <td>840.0</td>\n",
       "      <td>Ярославль</td>\n",
       "      <td>Ж</td>\n",
       "      <td>41.0</td>\n",
       "      <td>3</td>\n",
       "      <td>1193287.13</td>\n",
       "      <td>2</td>\n",
       "      <td>1</td>\n",
       "      <td>1</td>\n",
       "      <td>76434.94</td>\n",
       "      <td>1</td>\n",
       "    </tr>\n",
       "    <tr>\n",
       "      <th>2302</th>\n",
       "      <td>220816</td>\n",
       "      <td>934.0</td>\n",
       "      <td>Рыбинск</td>\n",
       "      <td>Ж</td>\n",
       "      <td>74.0</td>\n",
       "      <td>5</td>\n",
       "      <td>1294285.39</td>\n",
       "      <td>3</td>\n",
       "      <td>1</td>\n",
       "      <td>0</td>\n",
       "      <td>95606.80</td>\n",
       "      <td>0</td>\n",
       "    </tr>\n",
       "    <tr>\n",
       "      <th>1389</th>\n",
       "      <td>221156</td>\n",
       "      <td>687.0</td>\n",
       "      <td>Рыбинск</td>\n",
       "      <td>М</td>\n",
       "      <td>61.0</td>\n",
       "      <td>0</td>\n",
       "      <td>NaN</td>\n",
       "      <td>1</td>\n",
       "      <td>1</td>\n",
       "      <td>1</td>\n",
       "      <td>136361.72</td>\n",
       "      <td>0</td>\n",
       "    </tr>\n",
       "    <tr>\n",
       "      <th>2444</th>\n",
       "      <td>221156</td>\n",
       "      <td>913.0</td>\n",
       "      <td>Ярославль</td>\n",
       "      <td>М</td>\n",
       "      <td>NaN</td>\n",
       "      <td>0</td>\n",
       "      <td>NaN</td>\n",
       "      <td>1</td>\n",
       "      <td>1</td>\n",
       "      <td>1</td>\n",
       "      <td>135693.24</td>\n",
       "      <td>0</td>\n",
       "    </tr>\n",
       "    <tr>\n",
       "      <th>440</th>\n",
       "      <td>221197</td>\n",
       "      <td>663.0</td>\n",
       "      <td>Рыбинск</td>\n",
       "      <td>М</td>\n",
       "      <td>27.0</td>\n",
       "      <td>0</td>\n",
       "      <td>NaN</td>\n",
       "      <td>1</td>\n",
       "      <td>1</td>\n",
       "      <td>1</td>\n",
       "      <td>172573.13</td>\n",
       "      <td>0</td>\n",
       "    </tr>\n",
       "    <tr>\n",
       "      <th>8632</th>\n",
       "      <td>221197</td>\n",
       "      <td>893.0</td>\n",
       "      <td>Ярославль</td>\n",
       "      <td>М</td>\n",
       "      <td>NaN</td>\n",
       "      <td>0</td>\n",
       "      <td>NaN</td>\n",
       "      <td>1</td>\n",
       "      <td>1</td>\n",
       "      <td>0</td>\n",
       "      <td>173929.92</td>\n",
       "      <td>0</td>\n",
       "    </tr>\n",
       "    <tr>\n",
       "      <th>9634</th>\n",
       "      <td>221809</td>\n",
       "      <td>917.0</td>\n",
       "      <td>Ярославль</td>\n",
       "      <td>М</td>\n",
       "      <td>NaN</td>\n",
       "      <td>0</td>\n",
       "      <td>NaN</td>\n",
       "      <td>1</td>\n",
       "      <td>1</td>\n",
       "      <td>1</td>\n",
       "      <td>192644.15</td>\n",
       "      <td>0</td>\n",
       "    </tr>\n",
       "    <tr>\n",
       "      <th>9322</th>\n",
       "      <td>221809</td>\n",
       "      <td>917.0</td>\n",
       "      <td>Рыбинск</td>\n",
       "      <td>М</td>\n",
       "      <td>45.0</td>\n",
       "      <td>0</td>\n",
       "      <td>NaN</td>\n",
       "      <td>1</td>\n",
       "      <td>1</td>\n",
       "      <td>1</td>\n",
       "      <td>199728.29</td>\n",
       "      <td>0</td>\n",
       "    </tr>\n",
       "    <tr>\n",
       "      <th>9104</th>\n",
       "      <td>222480</td>\n",
       "      <td>776.0</td>\n",
       "      <td>Рыбинск</td>\n",
       "      <td>Ж</td>\n",
       "      <td>NaN</td>\n",
       "      <td>5</td>\n",
       "      <td>796735.09</td>\n",
       "      <td>1</td>\n",
       "      <td>1</td>\n",
       "      <td>1</td>\n",
       "      <td>55073.63</td>\n",
       "      <td>0</td>\n",
       "    </tr>\n",
       "    <tr>\n",
       "      <th>6446</th>\n",
       "      <td>222480</td>\n",
       "      <td>776.0</td>\n",
       "      <td>Ярославль</td>\n",
       "      <td>Ж</td>\n",
       "      <td>38.0</td>\n",
       "      <td>5</td>\n",
       "      <td>823145.83</td>\n",
       "      <td>2</td>\n",
       "      <td>1</td>\n",
       "      <td>1</td>\n",
       "      <td>55777.44</td>\n",
       "      <td>0</td>\n",
       "    </tr>\n",
       "    <tr>\n",
       "      <th>8070</th>\n",
       "      <td>226550</td>\n",
       "      <td>940.0</td>\n",
       "      <td>Рыбинск</td>\n",
       "      <td>М</td>\n",
       "      <td>NaN</td>\n",
       "      <td>0</td>\n",
       "      <td>NaN</td>\n",
       "      <td>1</td>\n",
       "      <td>0</td>\n",
       "      <td>1</td>\n",
       "      <td>147696.95</td>\n",
       "      <td>0</td>\n",
       "    </tr>\n",
       "    <tr>\n",
       "      <th>6412</th>\n",
       "      <td>226550</td>\n",
       "      <td>939.0</td>\n",
       "      <td>Ярославль</td>\n",
       "      <td>М</td>\n",
       "      <td>34.0</td>\n",
       "      <td>0</td>\n",
       "      <td>NaN</td>\n",
       "      <td>1</td>\n",
       "      <td>1</td>\n",
       "      <td>1</td>\n",
       "      <td>145913.73</td>\n",
       "      <td>0</td>\n",
       "    </tr>\n",
       "    <tr>\n",
       "      <th>4216</th>\n",
       "      <td>226719</td>\n",
       "      <td>903.0</td>\n",
       "      <td>Рыбинск</td>\n",
       "      <td>Ж</td>\n",
       "      <td>63.0</td>\n",
       "      <td>0</td>\n",
       "      <td>NaN</td>\n",
       "      <td>1</td>\n",
       "      <td>1</td>\n",
       "      <td>0</td>\n",
       "      <td>138582.58</td>\n",
       "      <td>0</td>\n",
       "    </tr>\n",
       "    <tr>\n",
       "      <th>2597</th>\n",
       "      <td>226719</td>\n",
       "      <td>990.0</td>\n",
       "      <td>Ярославль</td>\n",
       "      <td>М</td>\n",
       "      <td>37.0</td>\n",
       "      <td>4</td>\n",
       "      <td>14648692.14</td>\n",
       "      <td>2</td>\n",
       "      <td>0</td>\n",
       "      <td>0</td>\n",
       "      <td>934412.61</td>\n",
       "      <td>1</td>\n",
       "    </tr>\n",
       "    <tr>\n",
       "      <th>8205</th>\n",
       "      <td>227795</td>\n",
       "      <td>840.0</td>\n",
       "      <td>Рыбинск</td>\n",
       "      <td>М</td>\n",
       "      <td>34.0</td>\n",
       "      <td>2</td>\n",
       "      <td>350768.03</td>\n",
       "      <td>1</td>\n",
       "      <td>1</td>\n",
       "      <td>0</td>\n",
       "      <td>102036.14</td>\n",
       "      <td>1</td>\n",
       "    </tr>\n",
       "    <tr>\n",
       "      <th>8497</th>\n",
       "      <td>227795</td>\n",
       "      <td>839.0</td>\n",
       "      <td>Ярославль</td>\n",
       "      <td>М</td>\n",
       "      <td>34.0</td>\n",
       "      <td>2</td>\n",
       "      <td>326593.14</td>\n",
       "      <td>2</td>\n",
       "      <td>1</td>\n",
       "      <td>0</td>\n",
       "      <td>103314.92</td>\n",
       "      <td>0</td>\n",
       "    </tr>\n",
       "    <tr>\n",
       "      <th>6457</th>\n",
       "      <td>228075</td>\n",
       "      <td>839.0</td>\n",
       "      <td>Рыбинск</td>\n",
       "      <td>М</td>\n",
       "      <td>39.0</td>\n",
       "      <td>5</td>\n",
       "      <td>507199.85</td>\n",
       "      <td>3</td>\n",
       "      <td>0</td>\n",
       "      <td>1</td>\n",
       "      <td>85195.80</td>\n",
       "      <td>0</td>\n",
       "    </tr>\n",
       "    <tr>\n",
       "      <th>1247</th>\n",
       "      <td>228075</td>\n",
       "      <td>932.0</td>\n",
       "      <td>Ярославль</td>\n",
       "      <td>М</td>\n",
       "      <td>NaN</td>\n",
       "      <td>5</td>\n",
       "      <td>7601719.20</td>\n",
       "      <td>2</td>\n",
       "      <td>1</td>\n",
       "      <td>1</td>\n",
       "      <td>408121.16</td>\n",
       "      <td>0</td>\n",
       "    </tr>\n",
       "  </tbody>\n",
       "</table>\n",
       "</div>"
      ],
      "text/plain": [
       "      user_id  score       city gender   age  equity      balance  products  \\\n",
       "1893   116540  883.0    Рыбинск      Ж  55.0       1    362756.49         3   \n",
       "7694   116540  887.0  Ярославль      Ж  38.0       0          NaN         1   \n",
       "7542   117943  880.0  Ярославль      Ж  40.0       0          NaN         1   \n",
       "4866   117943  855.0    Рыбинск      Ж  32.0       6   1036832.93         4   \n",
       "5896   120258  905.0  Ярославль      М  30.0       0          NaN         1   \n",
       "5863   120258  908.0    Рыбинск      Ж  38.0       4   2213581.63         2   \n",
       "1411   123461  829.0  Ярославль      Ж  59.0       0     96222.44         2   \n",
       "8638   123461  934.0    Рыбинск      М  34.0       0          NaN         2   \n",
       "8164   124450  859.0  Ярославль      Ж  38.0       6    516811.20         1   \n",
       "9775   124450  758.0    Рыбинск      Ж  36.0       0     73574.07         2   \n",
       "4850   126368  909.0  Ярославль      Ж  30.0       4   1322623.29         2   \n",
       "5420   126368  832.0    Рыбинск      Ж  33.0       0          NaN         1   \n",
       "8785   127440  663.0  Ярославль      М   NaN       0          NaN         1   \n",
       "4443   127440  846.0    Рыбинск      М  66.0       1     57405.67         2   \n",
       "3988   129785  904.0    Рыбинск      М  33.0       5   2427737.60         3   \n",
       "9504   129785  949.0  Ярославль      М  43.0       0          NaN         1   \n",
       "904    131419  934.0  Ярославль      М  35.0       5   2348335.95         2   \n",
       "2138   131419  739.0    Рыбинск      Ж  37.0       3   1307941.65         3   \n",
       "7487   140377  930.0    Рыбинск      Ж  34.0       5   1123967.02         1   \n",
       "1608   140377  802.0  Ярославль      М  26.0       3    539863.29         4   \n",
       "9819   140934  832.0    Рыбинск      Ж   NaN       3    385763.16         2   \n",
       "4212   140934  919.0  Ярославль      Ж  29.0       4    603946.18         3   \n",
       "2276   141265  858.0  Ярославль      М  37.0       4    471599.16         2   \n",
       "5569   141265  811.0    Рыбинск      Ж  33.0       3   1044316.88         2   \n",
       "4343   141945  929.0    Рыбинск      М  33.0       0          NaN         1   \n",
       "9457   141945  929.0  Ярославль      М   NaN       0          NaN         1   \n",
       "5369   143592  885.0    Рыбинск      Ж  56.0       4   1201087.46         2   \n",
       "5557   143592  764.0  Ярославль      Ж  68.0       3    508919.15         2   \n",
       "8364   148826  909.0    Рыбинск      Ж  32.0       0          NaN         3   \n",
       "5252   148826  895.0  Ярославль      М  32.0       5   1470273.14         2   \n",
       "946    149365  877.0  Ярославль      М  41.0       5    819182.01         2   \n",
       "8272   149365  793.0    Рыбинск      Ж  61.0       0    476496.99         2   \n",
       "9267   150667  931.0  Ярославль      М  41.0       0          NaN         1   \n",
       "2439   150667  813.0    Рыбинск      Ж  44.0       0     62504.47         4   \n",
       "5495   151662  884.0    Рыбинск      Ж   NaN       0          NaN         1   \n",
       "3683   151662  960.0  Ярославль      Ж  37.0       4   2527032.70         4   \n",
       "690    152479  768.0    Рыбинск      Ж  42.0       0    126787.79         4   \n",
       "5705   152479  723.0  Ярославль      Ж  22.0       0          NaN         1   \n",
       "5197   155765  923.0    Рыбинск      М  30.0       0          NaN         1   \n",
       "3274   155765  863.0  Ярославль      М  30.0       5   1036114.50         5   \n",
       "9363   155872  714.0    Рыбинск      Ж  29.0       0          NaN         1   \n",
       "1080   155872  896.0  Ярославль      М  36.0       3   1113656.92         3   \n",
       "3936   160075  899.0  Ярославль      М  34.0       4   1647814.67         4   \n",
       "9508   160075  824.0    Рыбинск      Ж  57.0       3    355047.33         2   \n",
       "8733   162053  786.0  Ярославль      М  29.0       4    205824.97         3   \n",
       "5629   162053  921.0    Рыбинск      М  33.0       3    857011.13         2   \n",
       "6786   163207  838.0  Ярославль      Ж  42.0       4    652776.60         2   \n",
       "3564   163207  853.0    Рыбинск      М  42.0       4    543839.62         1   \n",
       "6670   163657  903.0    Рыбинск      М  45.0       4   1343339.70         4   \n",
       "9667   163657  849.0  Ярославль      М   NaN       4   1254013.85         2   \n",
       "58     164676  860.0  Ярославль      М  37.0       5    648594.03         2   \n",
       "7271   164676  790.0    Рыбинск      Ж  77.0       1    111202.01         1   \n",
       "5020   168998  886.0  Ярославль      Ж  35.0       4    394780.61         2   \n",
       "9785   168998  895.0    Рыбинск      М  44.0       0    282653.53         3   \n",
       "790    170312  901.0  Ярославль      М  33.0       4   3276783.93         3   \n",
       "3039   170312  813.0    Рыбинск      Ж  47.0       3    370027.67         2   \n",
       "9653   171751  862.0  Ярославль      М  42.0       4    481992.19         2   \n",
       "4587   171751  874.0    Рыбинск      Ж  26.0       5    292054.42         2   \n",
       "2941   172142  896.0  Ярославль      Ж  30.0       4   1009073.14         4   \n",
       "6756   172142  751.0    Рыбинск      Ж  69.0       3    396568.03         2   \n",
       "7753   175730  846.0  Ярославль      Ж  32.0       7    216764.74         4   \n",
       "9970   175730  816.0    Рыбинск      М  36.0       4    477892.07         3   \n",
       "8705   181526  895.0    Рыбинск      М  29.0       0          NaN         1   \n",
       "2989   181526  918.0  Ярославль      Ж  37.0       5   1366382.35         4   \n",
       "9146   183510  800.0    Рыбинск      Ж  42.0       7    473293.81         2   \n",
       "8584   183510  922.0  Ярославль      М  26.0       5    448542.42         3   \n",
       "150    185748  850.0    Рыбинск      М  36.0       5   1203376.67         2   \n",
       "3106   185748  912.0  Ярославль      Ж  47.0       5   1598218.98         2   \n",
       "9632   185829  927.0  Ярославль      М   NaN       0          NaN         1   \n",
       "3668   185829  925.0    Рыбинск      М  40.0       0          NaN         1   \n",
       "9380   187459  894.0    Рыбинск      М   NaN       0          NaN         1   \n",
       "4720   187459  895.0  Ярославль      М  48.0       0          NaN         1   \n",
       "2165   187635  692.0    Рыбинск      Ж   NaN       0          NaN         1   \n",
       "918    187635  918.0  Ярославль      Ж  44.0       0          NaN         1   \n",
       "5454   188957  853.0  Ярославль      М  35.0       1    374959.62         2   \n",
       "6005   188957  882.0    Рыбинск      Ж  64.0       3    893392.91         3   \n",
       "231    190253  823.0    Рыбинск      М  37.0       4    373348.39         2   \n",
       "1583   190253  726.0  Ярославль      М  49.0       0          NaN         1   \n",
       "7931   191520  767.0  Ярославль      М  45.0       0          NaN         1   \n",
       "3859   191520  773.0    Рыбинск      М  36.0       3   1219918.08         4   \n",
       "2226   195884  906.0  Ярославль      М  49.0       6   1354552.83         2   \n",
       "9659   195884  767.0    Рыбинск      Ж  45.0       1    335652.56         3   \n",
       "4870   197364  889.0  Ярославль      М  33.0       0          NaN         2   \n",
       "161    197364  928.0    Рыбинск      Ж  53.0       6   1347183.86         2   \n",
       "8015   198635  670.0  Ярославль      Ж   NaN       0          NaN         1   \n",
       "1181   198635  896.0    Рыбинск      Ж  32.0       0          NaN         1   \n",
       "8822   199312  911.0    Рыбинск      Ж  43.0       0          NaN         2   \n",
       "2499   199312  948.0  Ярославль      М  41.0       5   3095721.85         4   \n",
       "9035   200863  933.0    Рыбинск      М  29.0       7    766924.56         2   \n",
       "9175   200863  832.0  Ярославль      М  42.0       5    620064.73         2   \n",
       "9301   202983  942.0    Рыбинск      Ж   NaN       0          NaN         1   \n",
       "8897   202983  941.0  Ярославль      Ж  39.0       0          NaN         1   \n",
       "5889   206759  917.0  Ярославль      М  22.0       0          NaN         1   \n",
       "8385   206759  915.0    Рыбинск      М   NaN       0          NaN         1   \n",
       "1513   208081  873.0  Ярославль      М  31.0       2    232814.75         2   \n",
       "2998   208081  821.0    Рыбинск      Ж  62.0       3    493608.26         2   \n",
       "1580   208738  897.0    Рыбинск      Ж  45.0       5    859018.19         2   \n",
       "5840   208738  839.0  Ярославль      М  60.0       5   1102438.37         2   \n",
       "5570   208815  773.0  Ярославль      М  39.0       4    288110.09         2   \n",
       "3350   208815  877.0    Рыбинск      М  25.0       4    239421.18         1   \n",
       "3230   210135  974.0  Ярославль      Ж  50.0       5   5680148.93         4   \n",
       "7236   210135  908.0    Рыбинск      Ж   NaN       4   1120340.31         3   \n",
       "8521   210627  804.0    Рыбинск      М  30.0       2    347818.88         3   \n",
       "7453   210627  864.0  Ярославль      Ж  38.0       4   1527225.32         4   \n",
       "1837   210662  896.0    Рыбинск      Ж  37.0       0          NaN         2   \n",
       "869    210662  962.0  Ярославль      Ж  54.0       5   5069231.39         1   \n",
       "4986   210792  884.0    Рыбинск      М  48.0       4   2228037.20         2   \n",
       "7814   210792  839.0  Ярославль      М  42.0       2    662646.97         1   \n",
       "6685   210898  934.0    Рыбинск      Ж  35.0       0          NaN         1   \n",
       "8449   210898  805.0  Ярославль      Ж   NaN       0          NaN         1   \n",
       "1359   211130  833.0  Ярославль      М  55.0       3   1231184.90         4   \n",
       "3817   211130  918.0    Рыбинск      Ж  55.0       0          NaN         2   \n",
       "7409   214031  777.0  Ярославль      М   NaN       2    171510.23         1   \n",
       "431    214031  856.0    Рыбинск      М  36.0       2    386426.67         4   \n",
       "8293   216848  930.0  Ярославль      М   NaN       0          NaN         1   \n",
       "4401   216848  929.0    Рыбинск      М  68.0       0          NaN         1   \n",
       "9880   217412  886.0  Ярославль      Ж  35.0       3   1026172.14         2   \n",
       "7055   217412  879.0    Рыбинск      М  42.0       5    568140.15         3   \n",
       "4611   217619  903.0    Рыбинск      Ж  59.0       5    844055.83         2   \n",
       "5807   217619  766.0  Ярославль      М  52.0       2    218199.47         1   \n",
       "4186   217643  804.0    Рыбинск      Ж  40.0       2    301836.65         2   \n",
       "1970   217643  845.0  Ярославль      М  29.0       5    733098.45         4   \n",
       "4623   217826  842.0  Ярославль      М  39.0       4    439747.65         2   \n",
       "9406   217826  790.0    Рыбинск      Ж  46.0       4    430414.80         2   \n",
       "7      218868  825.0  Ярославль      Ж  38.0       4    458145.40         2   \n",
       "5470   218868  827.0    Рыбинск      Ж   NaN       4    448959.07         2   \n",
       "1010   219343  921.0  Ярославль      Ж  33.0       0          NaN         1   \n",
       "7248   219343  920.0    Рыбинск      Ж   NaN       0          NaN         1   \n",
       "1740   220816  840.0  Ярославль      Ж  41.0       3   1193287.13         2   \n",
       "2302   220816  934.0    Рыбинск      Ж  74.0       5   1294285.39         3   \n",
       "1389   221156  687.0    Рыбинск      М  61.0       0          NaN         1   \n",
       "2444   221156  913.0  Ярославль      М   NaN       0          NaN         1   \n",
       "440    221197  663.0    Рыбинск      М  27.0       0          NaN         1   \n",
       "8632   221197  893.0  Ярославль      М   NaN       0          NaN         1   \n",
       "9634   221809  917.0  Ярославль      М   NaN       0          NaN         1   \n",
       "9322   221809  917.0    Рыбинск      М  45.0       0          NaN         1   \n",
       "9104   222480  776.0    Рыбинск      Ж   NaN       5    796735.09         1   \n",
       "6446   222480  776.0  Ярославль      Ж  38.0       5    823145.83         2   \n",
       "8070   226550  940.0    Рыбинск      М   NaN       0          NaN         1   \n",
       "6412   226550  939.0  Ярославль      М  34.0       0          NaN         1   \n",
       "4216   226719  903.0    Рыбинск      Ж  63.0       0          NaN         1   \n",
       "2597   226719  990.0  Ярославль      М  37.0       4  14648692.14         2   \n",
       "8205   227795  840.0    Рыбинск      М  34.0       2    350768.03         1   \n",
       "8497   227795  839.0  Ярославль      М  34.0       2    326593.14         2   \n",
       "6457   228075  839.0    Рыбинск      М  39.0       5    507199.85         3   \n",
       "1247   228075  932.0  Ярославль      М   NaN       5   7601719.20         2   \n",
       "\n",
       "      credit_card  last_activity  est_salary  churn  \n",
       "1893            0              1   175920.48      1  \n",
       "7694            0              1   119247.61      0  \n",
       "7542            1              0   137718.93      0  \n",
       "4866            1              1   107792.71      1  \n",
       "5896            1              1   146427.96      0  \n",
       "5863            0              1   160327.77      1  \n",
       "1411            0              1   102771.55      1  \n",
       "8638            1              0   291619.27      0  \n",
       "8164            1              1    95144.63      1  \n",
       "9775            0              1    79963.59      0  \n",
       "4850            0              1   140675.66      1  \n",
       "5420            0              0   118465.34      0  \n",
       "8785            1              1   117197.56      0  \n",
       "4443            0              1    17831.63      0  \n",
       "3988            0              1   188856.75      1  \n",
       "9504            1              1   166845.37      0  \n",
       "904             0              0   217105.13      1  \n",
       "2138            0              0   103867.47      0  \n",
       "7487            1              1   148336.26      0  \n",
       "1608            1              1   112167.83      1  \n",
       "9819            0              1    59651.35      0  \n",
       "4212            0              1   158438.79      0  \n",
       "2276            1              1   148806.88      1  \n",
       "5569            1              0    46055.32      0  \n",
       "4343            1              0   381868.89      0  \n",
       "9457            1              0   381868.89      0  \n",
       "5369            1              1    88223.89      1  \n",
       "5557            0              1    71211.66      0  \n",
       "8364            1              0    28843.54      0  \n",
       "5252            0              0   118058.52      1  \n",
       "946             0              0   212316.47      1  \n",
       "8272            1              1    46147.06      0  \n",
       "9267            0              0   261904.44      0  \n",
       "2439            1              0   152393.79      1  \n",
       "5495            1              1   137500.77      0  \n",
       "3683            1              0   231648.50      0  \n",
       "690             1              1   143233.23      1  \n",
       "5705            1              0    83955.65      0  \n",
       "5197            1              1   120296.60      0  \n",
       "3274            1              1   150744.50      1  \n",
       "9363            1              0   118052.84      0  \n",
       "1080            0              1   291176.85      1  \n",
       "3936            1              0   151888.42      1  \n",
       "9508            0              0    64351.81      0  \n",
       "8733            1              0   121371.73      0  \n",
       "5629            1              1   113512.57      1  \n",
       "6786            1              1    97545.36      0  \n",
       "3564            1              1   105281.97      1  \n",
       "6670            0              1    83741.65      0  \n",
       "9667            1              1   119106.67      0  \n",
       "58              1              1   213586.86      1  \n",
       "7271            1              0    32835.45      0  \n",
       "5020            1              1   510577.10      1  \n",
       "9785            0              0   255296.47      0  \n",
       "790             0              1   358700.96      1  \n",
       "3039            0              0   129835.56      0  \n",
       "9653            1              0    71816.86      0  \n",
       "4587            0              1    20528.56      1  \n",
       "2941            1              0    70866.29      1  \n",
       "6756            0              1    45608.45      0  \n",
       "7753            1              1    77100.85      1  \n",
       "9970            1              0    81100.60      0  \n",
       "8705            1              1   124786.53      0  \n",
       "2989            1              1    97932.95      1  \n",
       "9146            1              0    54049.88      0  \n",
       "8584            0              1    66063.13      1  \n",
       "150             0              1    89401.82      1  \n",
       "3106            0              0   180256.98      0  \n",
       "9632            1              0   231254.86      0  \n",
       "3668            1              0   228305.64      0  \n",
       "9380            1              0   178012.28      0  \n",
       "4720            1              0   180887.50      0  \n",
       "2165            1              1   160368.82      0  \n",
       "918             1              1   162497.52      0  \n",
       "5454            1              1   197600.97      1  \n",
       "6005            1              0    69622.58      0  \n",
       "231             0              1   131947.92      1  \n",
       "1583            1              1   177700.78      0  \n",
       "7931            1              1   880005.05      0  \n",
       "3859            1              1   119933.13      1  \n",
       "2226            0              0   270678.42      1  \n",
       "9659            1              1   100197.67      0  \n",
       "4870            1              1    96173.48      0  \n",
       "161             0              1   168189.49      1  \n",
       "8015            1              1   168699.33      0  \n",
       "1181            1              1   170866.01      0  \n",
       "8822            1              1   152189.72      0  \n",
       "2499            1              1   307234.69      1  \n",
       "9035            0              1    89323.33      1  \n",
       "9175            0              0   188054.46      0  \n",
       "9301            1              1   163804.73      0  \n",
       "8897            0              1   159348.84      0  \n",
       "5889            1              0    70617.52      0  \n",
       "8385            1              0    71179.53      0  \n",
       "1513            1              1   122505.86      1  \n",
       "2998            1              1    33491.45      0  \n",
       "1580            1              1   145510.08      1  \n",
       "5840            0              1   116500.81      0  \n",
       "5570            1              0    56971.91      0  \n",
       "3350            1              1    48638.00      1  \n",
       "3230            1              1   338471.66      0  \n",
       "7236            1              1    85002.15      0  \n",
       "8521            1              0   129015.25      0  \n",
       "7453            1              1   162999.17      1  \n",
       "1837            0              0    90916.04      0  \n",
       "869             1              1   955144.85      1  \n",
       "4986            0              1   207978.09      1  \n",
       "7814            1              0   138403.60      0  \n",
       "6685            0              1   912105.84      0  \n",
       "8449            0              1   922080.25      0  \n",
       "1359            0              1   187758.38      1  \n",
       "3817            1              1   244202.04      0  \n",
       "7409            1              1    75409.63      0  \n",
       "431             1              1    72767.85      0  \n",
       "8293            1              1   199542.51      0  \n",
       "4401            1              1   195902.59      0  \n",
       "9880            1              0    53099.16      0  \n",
       "7055            0              0   231658.67      1  \n",
       "4611            0              1   133999.76      1  \n",
       "5807            1              0   120356.44      0  \n",
       "4186            1              1    81137.22      0  \n",
       "1970            1              1    41443.01      1  \n",
       "4623            0              1   116736.75      1  \n",
       "9406            1              1    49400.37      0  \n",
       "7               1              1    68085.48      0  \n",
       "5470            1              1    67835.95      0  \n",
       "1010            1              0   159475.61      0  \n",
       "7248            1              0   159248.67      0  \n",
       "1740            1              1    76434.94      1  \n",
       "2302            1              0    95606.80      0  \n",
       "1389            1              1   136361.72      0  \n",
       "2444            1              1   135693.24      0  \n",
       "440             1              1   172573.13      0  \n",
       "8632            1              0   173929.92      0  \n",
       "9634            1              1   192644.15      0  \n",
       "9322            1              1   199728.29      0  \n",
       "9104            1              1    55073.63      0  \n",
       "6446            1              1    55777.44      0  \n",
       "8070            0              1   147696.95      0  \n",
       "6412            1              1   145913.73      0  \n",
       "4216            1              0   138582.58      0  \n",
       "2597            0              0   934412.61      1  \n",
       "8205            1              0   102036.14      1  \n",
       "8497            1              0   103314.92      0  \n",
       "6457            0              1    85195.80      0  \n",
       "1247            1              1   408121.16      0  "
      ]
     },
     "metadata": {},
     "output_type": "display_data"
    }
   ],
   "source": [
    "with pd.option_context('display.max_rows', None):\n",
    "    display(df.loc[df.duplicated(subset=['user_id'], keep=False)].sort_values(by='user_id'))"
   ]
  },
  {
   "cell_type": "markdown",
   "metadata": {},
   "source": [
    "Строки-дубликаты по user_id не имеют cходства по остальным параметрам, поэтому устраним дублирования посредством умножения на 10 user_id клиентов из Ярославля."
   ]
  },
  {
   "cell_type": "code",
   "execution_count": 15,
   "metadata": {},
   "outputs": [],
   "source": [
    "doubles = df.loc[df.duplicated(subset=['user_id'], keep=False), 'user_id'].tolist()\n",
    "mask = (df['user_id'].isin(doubles)) & (df['city'] == 'Ярославль')\n",
    "df.loc[mask, 'user_id'] = df.loc[mask, 'user_id'] * 10"
   ]
  },
  {
   "cell_type": "code",
   "execution_count": 16,
   "metadata": {},
   "outputs": [
    {
     "data": {
      "text/plain": [
       "0"
      ]
     },
     "execution_count": 16,
     "metadata": {},
     "output_type": "execute_result"
    }
   ],
   "source": [
    "df.duplicated(subset=['user_id']).sum()"
   ]
  },
  {
   "cell_type": "markdown",
   "metadata": {},
   "source": [
    "<div class=\"alert alert-success\">\n",
    "<h2> Комментарий тимлида 😊<a class=\"tocSkip\"> </h2>\n",
    "    \n",
    "Хорошая работа!)"
   ]
  },
  {
   "cell_type": "markdown",
   "metadata": {},
   "source": [
    "Дополнительно проверим датасет на наличие неявных дубликатов."
   ]
  },
  {
   "cell_type": "code",
   "execution_count": 17,
   "metadata": {},
   "outputs": [
    {
     "data": {
      "text/plain": [
       "array(['Ростов', 'Рыбинск', 'Ярославль'], dtype=object)"
      ]
     },
     "execution_count": 17,
     "metadata": {},
     "output_type": "execute_result"
    }
   ],
   "source": [
    "df['city'].sort_values().unique()"
   ]
  },
  {
   "cell_type": "code",
   "execution_count": 18,
   "metadata": {},
   "outputs": [
    {
     "data": {
      "text/plain": [
       "array(['Ж', 'М'], dtype=object)"
      ]
     },
     "execution_count": 18,
     "metadata": {},
     "output_type": "execute_result"
    }
   ],
   "source": [
    "df['gender'].sort_values().unique()"
   ]
  },
  {
   "cell_type": "code",
   "execution_count": 19,
   "metadata": {},
   "outputs": [
    {
     "data": {
      "text/plain": [
       "array([0, 1])"
      ]
     },
     "execution_count": 19,
     "metadata": {},
     "output_type": "execute_result"
    }
   ],
   "source": [
    "df['credit_card'].sort_values().unique()"
   ]
  },
  {
   "cell_type": "code",
   "execution_count": 20,
   "metadata": {},
   "outputs": [
    {
     "data": {
      "text/plain": [
       "array([0, 1])"
      ]
     },
     "execution_count": 20,
     "metadata": {},
     "output_type": "execute_result"
    }
   ],
   "source": [
    "df['last_activity'].sort_values().unique()"
   ]
  },
  {
   "cell_type": "code",
   "execution_count": 21,
   "metadata": {},
   "outputs": [
    {
     "data": {
      "text/plain": [
       "array([0, 1])"
      ]
     },
     "execution_count": 21,
     "metadata": {},
     "output_type": "execute_result"
    }
   ],
   "source": [
    "df['churn'].sort_values().unique()"
   ]
  },
  {
   "cell_type": "markdown",
   "metadata": {},
   "source": [
    "Неявных дубликатов в столбцах `city`, `gender`, `credit_card`, `last_activity` и `churn` не обнаружено."
   ]
  },
  {
   "cell_type": "markdown",
   "metadata": {},
   "source": [
    "### Проверка на наличие аномальных значений (выбросов)"
   ]
  },
  {
   "cell_type": "code",
   "execution_count": 22,
   "metadata": {},
   "outputs": [
    {
     "data": {
      "text/html": [
       "<div>\n",
       "<style scoped>\n",
       "    .dataframe tbody tr th:only-of-type {\n",
       "        vertical-align: middle;\n",
       "    }\n",
       "\n",
       "    .dataframe tbody tr th {\n",
       "        vertical-align: top;\n",
       "    }\n",
       "\n",
       "    .dataframe thead th {\n",
       "        text-align: right;\n",
       "    }\n",
       "</style>\n",
       "<table border=\"1\" class=\"dataframe\">\n",
       "  <thead>\n",
       "    <tr style=\"text-align: right;\">\n",
       "      <th></th>\n",
       "      <th>user_id</th>\n",
       "      <th>score</th>\n",
       "      <th>age</th>\n",
       "      <th>equity</th>\n",
       "      <th>balance</th>\n",
       "      <th>products</th>\n",
       "      <th>credit_card</th>\n",
       "      <th>last_activity</th>\n",
       "      <th>est_salary</th>\n",
       "      <th>churn</th>\n",
       "    </tr>\n",
       "  </thead>\n",
       "  <tbody>\n",
       "    <tr>\n",
       "      <th>count</th>\n",
       "      <td>10000.00</td>\n",
       "      <td>10000.00</td>\n",
       "      <td>9974.00</td>\n",
       "      <td>10000.00</td>\n",
       "      <td>7705.00</td>\n",
       "      <td>10000.00</td>\n",
       "      <td>10000.00</td>\n",
       "      <td>10000.00</td>\n",
       "      <td>10000.00</td>\n",
       "      <td>10000.00</td>\n",
       "    </tr>\n",
       "    <tr>\n",
       "      <th>mean</th>\n",
       "      <td>183778.70</td>\n",
       "      <td>848.70</td>\n",
       "      <td>42.73</td>\n",
       "      <td>2.63</td>\n",
       "      <td>827794.31</td>\n",
       "      <td>1.87</td>\n",
       "      <td>0.68</td>\n",
       "      <td>0.52</td>\n",
       "      <td>147866.89</td>\n",
       "      <td>0.18</td>\n",
       "    </tr>\n",
       "    <tr>\n",
       "      <th>std</th>\n",
       "      <td>147210.87</td>\n",
       "      <td>65.45</td>\n",
       "      <td>12.18</td>\n",
       "      <td>1.98</td>\n",
       "      <td>1980614.15</td>\n",
       "      <td>0.79</td>\n",
       "      <td>0.47</td>\n",
       "      <td>0.50</td>\n",
       "      <td>139388.51</td>\n",
       "      <td>0.39</td>\n",
       "    </tr>\n",
       "    <tr>\n",
       "      <th>min</th>\n",
       "      <td>94561.00</td>\n",
       "      <td>642.00</td>\n",
       "      <td>18.00</td>\n",
       "      <td>0.00</td>\n",
       "      <td>0.00</td>\n",
       "      <td>0.00</td>\n",
       "      <td>0.00</td>\n",
       "      <td>0.00</td>\n",
       "      <td>2546.30</td>\n",
       "      <td>0.00</td>\n",
       "    </tr>\n",
       "    <tr>\n",
       "      <th>25%</th>\n",
       "      <td>142954.00</td>\n",
       "      <td>802.00</td>\n",
       "      <td>33.00</td>\n",
       "      <td>0.00</td>\n",
       "      <td>295554.16</td>\n",
       "      <td>1.00</td>\n",
       "      <td>0.00</td>\n",
       "      <td>0.00</td>\n",
       "      <td>75251.90</td>\n",
       "      <td>0.00</td>\n",
       "    </tr>\n",
       "    <tr>\n",
       "      <th>50%</th>\n",
       "      <td>173033.50</td>\n",
       "      <td>853.00</td>\n",
       "      <td>40.00</td>\n",
       "      <td>3.00</td>\n",
       "      <td>524272.20</td>\n",
       "      <td>2.00</td>\n",
       "      <td>1.00</td>\n",
       "      <td>1.00</td>\n",
       "      <td>119658.10</td>\n",
       "      <td>0.00</td>\n",
       "    </tr>\n",
       "    <tr>\n",
       "      <th>75%</th>\n",
       "      <td>201625.00</td>\n",
       "      <td>900.00</td>\n",
       "      <td>51.00</td>\n",
       "      <td>4.00</td>\n",
       "      <td>980705.85</td>\n",
       "      <td>2.00</td>\n",
       "      <td>1.00</td>\n",
       "      <td>1.00</td>\n",
       "      <td>174500.54</td>\n",
       "      <td>0.00</td>\n",
       "    </tr>\n",
       "    <tr>\n",
       "      <th>max</th>\n",
       "      <td>2280750.00</td>\n",
       "      <td>1000.00</td>\n",
       "      <td>86.00</td>\n",
       "      <td>9.00</td>\n",
       "      <td>119113552.01</td>\n",
       "      <td>5.00</td>\n",
       "      <td>1.00</td>\n",
       "      <td>1.00</td>\n",
       "      <td>1395064.45</td>\n",
       "      <td>1.00</td>\n",
       "    </tr>\n",
       "  </tbody>\n",
       "</table>\n",
       "</div>"
      ],
      "text/plain": [
       "         user_id    score     age   equity      balance  products  \\\n",
       "count   10000.00 10000.00 9974.00 10000.00      7705.00  10000.00   \n",
       "mean   183778.70   848.70   42.73     2.63    827794.31      1.87   \n",
       "std    147210.87    65.45   12.18     1.98   1980614.15      0.79   \n",
       "min     94561.00   642.00   18.00     0.00         0.00      0.00   \n",
       "25%    142954.00   802.00   33.00     0.00    295554.16      1.00   \n",
       "50%    173033.50   853.00   40.00     3.00    524272.20      2.00   \n",
       "75%    201625.00   900.00   51.00     4.00    980705.85      2.00   \n",
       "max   2280750.00  1000.00   86.00     9.00 119113552.01      5.00   \n",
       "\n",
       "       credit_card  last_activity  est_salary    churn  \n",
       "count     10000.00       10000.00    10000.00 10000.00  \n",
       "mean          0.68           0.52   147866.89     0.18  \n",
       "std           0.47           0.50   139388.51     0.39  \n",
       "min           0.00           0.00     2546.30     0.00  \n",
       "25%           0.00           0.00    75251.90     0.00  \n",
       "50%           1.00           1.00   119658.10     0.00  \n",
       "75%           1.00           1.00   174500.54     0.00  \n",
       "max           1.00           1.00  1395064.45     1.00  "
      ]
     },
     "metadata": {},
     "output_type": "display_data"
    }
   ],
   "source": [
    "# вывод статического описания данных\n",
    "with pd.option_context('display.float_format', '{:.2f}'.format):\n",
    "    display(df.describe())"
   ]
  },
  {
   "cell_type": "markdown",
   "metadata": {},
   "source": [
    "Так как в переменных `balance` и `est_salary` наблюдаются аномально большие значения, построим для них диаграммы размаха."
   ]
  },
  {
   "cell_type": "code",
   "execution_count": 23,
   "metadata": {},
   "outputs": [
    {
     "data": {
      "image/png": "[encoded data removed]",
      "text/plain": [
       "<Figure size 1008x720 with 1 Axes>"
      ]
     },
     "metadata": {
      "needs_background": "light"
     },
     "output_type": "display_data"
    },
    {
     "data": {
      "image/png": "[encoded data removed]",
      "text/plain": [
       "<Figure size 1008x720 with 1 Axes>"
      ]
     },
     "metadata": {
      "needs_background": "light"
     },
     "output_type": "display_data"
    }
   ],
   "source": [
    "for col in ['balance', 'est_salary']:\n",
    "    plt.figure(figsize=(14, 10))\n",
    "    plt.title(col)\n",
    "    ax = sns.boxplot(x=col, data=df)\n",
    "    plt.show()"
   ]
  },
  {
   "cell_type": "markdown",
   "metadata": {},
   "source": [
    "Диаграммы размаха не очень наглядны, поэтому дополнительно выведем 95-й и 99-й перецентили данных переменных."
   ]
  },
  {
   "cell_type": "code",
   "execution_count": 24,
   "metadata": {},
   "outputs": [
    {
     "name": "stdout",
     "output_type": "stream",
     "text": [
      "95-й и 99-й перцентили баланса на счете клиента: [2116704.784 4827443.494] руб.\n"
     ]
    }
   ],
   "source": [
    "# вывод перцентилей баланса на счете клиента\n",
    "print(f\"95-й и 99-й перцентили баланса на счете клиента: {np.nanpercentile(df['balance'], [95, 99])} руб.\")"
   ]
  },
  {
   "cell_type": "code",
   "execution_count": 25,
   "metadata": {},
   "outputs": [
    {
     "name": "stdout",
     "output_type": "stream",
     "text": [
      "95-й и 99-й перцентили оценочного дохода клиентов: [316885.3445 887903.8546] руб.\n"
     ]
    }
   ],
   "source": [
    "# вывод перцентилей оценочного дохода клиентов\n",
    "print(f\"95-й и 99-й перцентили оценочного дохода клиентов: {np.nanpercentile(df['est_salary'], [95, 99])} руб.\")"
   ]
  },
  {
   "cell_type": "markdown",
   "metadata": {},
   "source": [
    "Проверим количество клиентов, баланс и доход которых превышают 99-й перцентиль."
   ]
  },
  {
   "cell_type": "code",
   "execution_count": 26,
   "metadata": {},
   "outputs": [
    {
     "data": {
      "text/plain": [
       "78"
      ]
     },
     "execution_count": 26,
     "metadata": {},
     "output_type": "execute_result"
    }
   ],
   "source": [
    "df.query('balance > 4827443.494')['user_id'].count()"
   ]
  },
  {
   "cell_type": "code",
   "execution_count": 27,
   "metadata": {},
   "outputs": [
    {
     "data": {
      "text/plain": [
       "100"
      ]
     },
     "execution_count": 27,
     "metadata": {},
     "output_type": "execute_result"
    }
   ],
   "source": [
    "df.query('est_salary > 887938.7692')['user_id'].count()"
   ]
  },
  {
   "cell_type": "markdown",
   "metadata": {},
   "source": [
    "Клиенты с таким балансом и оценочным доходом выглядят аномально на фоне среднестатистических клиентов, но поскольку они составляют менее 2% от общего количества клиентов банка - удалять их не будем."
   ]
  },
  {
   "cell_type": "markdown",
   "metadata": {},
   "source": [
    "<div class=\"alert alert-block alert-danger\">\n",
    "<h2> Комментарий тимлида ⛔️<a class=\"tocSkip\"></h2> \n",
    "<s>\n",
    "Но ведь такие клиенты вполне могут быть клиентами нашего банка, и вероятнее всего их будет не так много)"
   ]
  },
  {
   "cell_type": "markdown",
   "metadata": {},
   "source": [
    "<div class=\"alert alert-info\"> <b>Комментарий студента:</b> \n",
    "\n",
    "Вернула \"аномальных\" клиентов в анализ)\n",
    "</div>"
   ]
  },
  {
   "cell_type": "markdown",
   "metadata": {},
   "source": [
    "<div class=\"alert alert-success\">\n",
    "<h2> Комментарий тимлида 😊 v_2 <a class=\"tocSkip\"> </h2>\n",
    "\n",
    "👍"
   ]
  },
  {
   "cell_type": "markdown",
   "metadata": {},
   "source": [
    "Также детально рассмотрим клиентов с балансом и количеством используемых банковских продуктов, равными 0."
   ]
  },
  {
   "cell_type": "code",
   "execution_count": 28,
   "metadata": {},
   "outputs": [
    {
     "data": {
      "text/html": [
       "<div>\n",
       "<style scoped>\n",
       "    .dataframe tbody tr th:only-of-type {\n",
       "        vertical-align: middle;\n",
       "    }\n",
       "\n",
       "    .dataframe tbody tr th {\n",
       "        vertical-align: top;\n",
       "    }\n",
       "\n",
       "    .dataframe thead th {\n",
       "        text-align: right;\n",
       "    }\n",
       "</style>\n",
       "<table border=\"1\" class=\"dataframe\">\n",
       "  <thead>\n",
       "    <tr style=\"text-align: right;\">\n",
       "      <th></th>\n",
       "      <th>user_id</th>\n",
       "      <th>score</th>\n",
       "      <th>city</th>\n",
       "      <th>gender</th>\n",
       "      <th>age</th>\n",
       "      <th>equity</th>\n",
       "      <th>balance</th>\n",
       "      <th>products</th>\n",
       "      <th>credit_card</th>\n",
       "      <th>last_activity</th>\n",
       "      <th>est_salary</th>\n",
       "      <th>churn</th>\n",
       "    </tr>\n",
       "  </thead>\n",
       "  <tbody>\n",
       "    <tr>\n",
       "      <th>3900</th>\n",
       "      <td>179831</td>\n",
       "      <td>730.0</td>\n",
       "      <td>Ярославль</td>\n",
       "      <td>М</td>\n",
       "      <td>18.0</td>\n",
       "      <td>0</td>\n",
       "      <td>0.0</td>\n",
       "      <td>2</td>\n",
       "      <td>1</td>\n",
       "      <td>1</td>\n",
       "      <td>64548.33</td>\n",
       "      <td>0</td>\n",
       "    </tr>\n",
       "    <tr>\n",
       "      <th>6757</th>\n",
       "      <td>148456</td>\n",
       "      <td>813.0</td>\n",
       "      <td>Ярославль</td>\n",
       "      <td>М</td>\n",
       "      <td>20.0</td>\n",
       "      <td>2</td>\n",
       "      <td>0.0</td>\n",
       "      <td>2</td>\n",
       "      <td>1</td>\n",
       "      <td>0</td>\n",
       "      <td>23876.51</td>\n",
       "      <td>0</td>\n",
       "    </tr>\n",
       "  </tbody>\n",
       "</table>\n",
       "</div>"
      ],
      "text/plain": [
       "      user_id  score       city gender   age  equity  balance  products  \\\n",
       "3900   179831  730.0  Ярославль      М  18.0       0      0.0         2   \n",
       "6757   148456  813.0  Ярославль      М  20.0       2      0.0         2   \n",
       "\n",
       "      credit_card  last_activity  est_salary  churn  \n",
       "3900            1              1    64548.33      0  \n",
       "6757            1              0    23876.51      0  "
      ]
     },
     "execution_count": 28,
     "metadata": {},
     "output_type": "execute_result"
    }
   ],
   "source": [
    "df.query('balance == 0')"
   ]
  },
  {
   "cell_type": "code",
   "execution_count": 29,
   "metadata": {},
   "outputs": [
    {
     "data": {
      "text/html": [
       "<div>\n",
       "<style scoped>\n",
       "    .dataframe tbody tr th:only-of-type {\n",
       "        vertical-align: middle;\n",
       "    }\n",
       "\n",
       "    .dataframe tbody tr th {\n",
       "        vertical-align: top;\n",
       "    }\n",
       "\n",
       "    .dataframe thead th {\n",
       "        text-align: right;\n",
       "    }\n",
       "</style>\n",
       "<table border=\"1\" class=\"dataframe\">\n",
       "  <thead>\n",
       "    <tr style=\"text-align: right;\">\n",
       "      <th></th>\n",
       "      <th>user_id</th>\n",
       "      <th>score</th>\n",
       "      <th>city</th>\n",
       "      <th>gender</th>\n",
       "      <th>age</th>\n",
       "      <th>equity</th>\n",
       "      <th>balance</th>\n",
       "      <th>products</th>\n",
       "      <th>credit_card</th>\n",
       "      <th>last_activity</th>\n",
       "      <th>est_salary</th>\n",
       "      <th>churn</th>\n",
       "    </tr>\n",
       "  </thead>\n",
       "  <tbody>\n",
       "    <tr>\n",
       "      <th>8957</th>\n",
       "      <td>147837</td>\n",
       "      <td>962.0</td>\n",
       "      <td>Рыбинск</td>\n",
       "      <td>Ж</td>\n",
       "      <td>79.0</td>\n",
       "      <td>3</td>\n",
       "      <td>NaN</td>\n",
       "      <td>0</td>\n",
       "      <td>0</td>\n",
       "      <td>0</td>\n",
       "      <td>25063.96</td>\n",
       "      <td>1</td>\n",
       "    </tr>\n",
       "  </tbody>\n",
       "</table>\n",
       "</div>"
      ],
      "text/plain": [
       "      user_id  score     city gender   age  equity  balance  products  \\\n",
       "8957   147837  962.0  Рыбинск      Ж  79.0       3      NaN         0   \n",
       "\n",
       "      credit_card  last_activity  est_salary  churn  \n",
       "8957            0              0    25063.96      1  "
      ]
     },
     "execution_count": 29,
     "metadata": {},
     "output_type": "execute_result"
    }
   ],
   "source": [
    "df.query('products == 0')"
   ]
  },
  {
   "cell_type": "markdown",
   "metadata": {},
   "source": [
    "Нулевое значение баланса у клиентов может быть обусловлено наличием у них кредитной картой, а клиент, не использующий ни один из банковских продуктов, вероятнее всего уже не является действующим, поэтому удалим его из датасета."
   ]
  },
  {
   "cell_type": "code",
   "execution_count": 30,
   "metadata": {},
   "outputs": [
    {
     "data": {
      "text/html": [
       "<div>\n",
       "<style scoped>\n",
       "    .dataframe tbody tr th:only-of-type {\n",
       "        vertical-align: middle;\n",
       "    }\n",
       "\n",
       "    .dataframe tbody tr th {\n",
       "        vertical-align: top;\n",
       "    }\n",
       "\n",
       "    .dataframe thead th {\n",
       "        text-align: right;\n",
       "    }\n",
       "</style>\n",
       "<table border=\"1\" class=\"dataframe\">\n",
       "  <thead>\n",
       "    <tr style=\"text-align: right;\">\n",
       "      <th></th>\n",
       "      <th>user_id</th>\n",
       "      <th>score</th>\n",
       "      <th>city</th>\n",
       "      <th>gender</th>\n",
       "      <th>age</th>\n",
       "      <th>equity</th>\n",
       "      <th>balance</th>\n",
       "      <th>products</th>\n",
       "      <th>credit_card</th>\n",
       "      <th>last_activity</th>\n",
       "      <th>est_salary</th>\n",
       "      <th>churn</th>\n",
       "    </tr>\n",
       "  </thead>\n",
       "  <tbody>\n",
       "    <tr>\n",
       "      <th>0</th>\n",
       "      <td>183012</td>\n",
       "      <td>850.0</td>\n",
       "      <td>Рыбинск</td>\n",
       "      <td>Ж</td>\n",
       "      <td>25.0</td>\n",
       "      <td>1</td>\n",
       "      <td>59214.82</td>\n",
       "      <td>2</td>\n",
       "      <td>0</td>\n",
       "      <td>1</td>\n",
       "      <td>75719.14</td>\n",
       "      <td>1</td>\n",
       "    </tr>\n",
       "    <tr>\n",
       "      <th>1</th>\n",
       "      <td>146556</td>\n",
       "      <td>861.0</td>\n",
       "      <td>Рыбинск</td>\n",
       "      <td>Ж</td>\n",
       "      <td>37.0</td>\n",
       "      <td>5</td>\n",
       "      <td>850594.33</td>\n",
       "      <td>3</td>\n",
       "      <td>1</td>\n",
       "      <td>0</td>\n",
       "      <td>86621.77</td>\n",
       "      <td>0</td>\n",
       "    </tr>\n",
       "    <tr>\n",
       "      <th>2</th>\n",
       "      <td>120722</td>\n",
       "      <td>892.0</td>\n",
       "      <td>Рыбинск</td>\n",
       "      <td>Ж</td>\n",
       "      <td>30.0</td>\n",
       "      <td>0</td>\n",
       "      <td>NaN</td>\n",
       "      <td>1</td>\n",
       "      <td>1</td>\n",
       "      <td>1</td>\n",
       "      <td>107683.34</td>\n",
       "      <td>0</td>\n",
       "    </tr>\n",
       "    <tr>\n",
       "      <th>3</th>\n",
       "      <td>225363</td>\n",
       "      <td>866.0</td>\n",
       "      <td>Ярославль</td>\n",
       "      <td>Ж</td>\n",
       "      <td>51.0</td>\n",
       "      <td>5</td>\n",
       "      <td>1524746.26</td>\n",
       "      <td>2</td>\n",
       "      <td>0</td>\n",
       "      <td>1</td>\n",
       "      <td>174423.53</td>\n",
       "      <td>1</td>\n",
       "    </tr>\n",
       "    <tr>\n",
       "      <th>4</th>\n",
       "      <td>157978</td>\n",
       "      <td>730.0</td>\n",
       "      <td>Ярославль</td>\n",
       "      <td>М</td>\n",
       "      <td>34.0</td>\n",
       "      <td>5</td>\n",
       "      <td>174.00</td>\n",
       "      <td>1</td>\n",
       "      <td>1</td>\n",
       "      <td>0</td>\n",
       "      <td>67353.16</td>\n",
       "      <td>1</td>\n",
       "    </tr>\n",
       "    <tr>\n",
       "      <th>...</th>\n",
       "      <td>...</td>\n",
       "      <td>...</td>\n",
       "      <td>...</td>\n",
       "      <td>...</td>\n",
       "      <td>...</td>\n",
       "      <td>...</td>\n",
       "      <td>...</td>\n",
       "      <td>...</td>\n",
       "      <td>...</td>\n",
       "      <td>...</td>\n",
       "      <td>...</td>\n",
       "      <td>...</td>\n",
       "    </tr>\n",
       "    <tr>\n",
       "      <th>9994</th>\n",
       "      <td>120553</td>\n",
       "      <td>814.0</td>\n",
       "      <td>Рыбинск</td>\n",
       "      <td>М</td>\n",
       "      <td>27.0</td>\n",
       "      <td>1</td>\n",
       "      <td>78144.65</td>\n",
       "      <td>1</td>\n",
       "      <td>0</td>\n",
       "      <td>1</td>\n",
       "      <td>18943.64</td>\n",
       "      <td>0</td>\n",
       "    </tr>\n",
       "    <tr>\n",
       "      <th>9995</th>\n",
       "      <td>139170</td>\n",
       "      <td>894.0</td>\n",
       "      <td>Ярославль</td>\n",
       "      <td>М</td>\n",
       "      <td>46.0</td>\n",
       "      <td>0</td>\n",
       "      <td>NaN</td>\n",
       "      <td>1</td>\n",
       "      <td>1</td>\n",
       "      <td>0</td>\n",
       "      <td>196898.29</td>\n",
       "      <td>0</td>\n",
       "    </tr>\n",
       "    <tr>\n",
       "      <th>9996</th>\n",
       "      <td>115639</td>\n",
       "      <td>903.0</td>\n",
       "      <td>Ярославль</td>\n",
       "      <td>М</td>\n",
       "      <td>24.0</td>\n",
       "      <td>0</td>\n",
       "      <td>NaN</td>\n",
       "      <td>2</td>\n",
       "      <td>1</td>\n",
       "      <td>1</td>\n",
       "      <td>108905.09</td>\n",
       "      <td>0</td>\n",
       "    </tr>\n",
       "    <tr>\n",
       "      <th>9997</th>\n",
       "      <td>148700</td>\n",
       "      <td>777.0</td>\n",
       "      <td>Ярославль</td>\n",
       "      <td>Ж</td>\n",
       "      <td>68.0</td>\n",
       "      <td>3</td>\n",
       "      <td>865457.97</td>\n",
       "      <td>3</td>\n",
       "      <td>0</td>\n",
       "      <td>1</td>\n",
       "      <td>86874.90</td>\n",
       "      <td>0</td>\n",
       "    </tr>\n",
       "    <tr>\n",
       "      <th>9998</th>\n",
       "      <td>96267</td>\n",
       "      <td>828.0</td>\n",
       "      <td>Рыбинск</td>\n",
       "      <td>Ж</td>\n",
       "      <td>58.0</td>\n",
       "      <td>3</td>\n",
       "      <td>1180886.70</td>\n",
       "      <td>4</td>\n",
       "      <td>0</td>\n",
       "      <td>1</td>\n",
       "      <td>21422.37</td>\n",
       "      <td>0</td>\n",
       "    </tr>\n",
       "  </tbody>\n",
       "</table>\n",
       "<p>9999 rows × 12 columns</p>\n",
       "</div>"
      ],
      "text/plain": [
       "      user_id  score       city gender   age  equity     balance  products  \\\n",
       "0      183012  850.0    Рыбинск      Ж  25.0       1    59214.82         2   \n",
       "1      146556  861.0    Рыбинск      Ж  37.0       5   850594.33         3   \n",
       "2      120722  892.0    Рыбинск      Ж  30.0       0         NaN         1   \n",
       "3      225363  866.0  Ярославль      Ж  51.0       5  1524746.26         2   \n",
       "4      157978  730.0  Ярославль      М  34.0       5      174.00         1   \n",
       "...       ...    ...        ...    ...   ...     ...         ...       ...   \n",
       "9994   120553  814.0    Рыбинск      М  27.0       1    78144.65         1   \n",
       "9995   139170  894.0  Ярославль      М  46.0       0         NaN         1   \n",
       "9996   115639  903.0  Ярославль      М  24.0       0         NaN         2   \n",
       "9997   148700  777.0  Ярославль      Ж  68.0       3   865457.97         3   \n",
       "9998    96267  828.0    Рыбинск      Ж  58.0       3  1180886.70         4   \n",
       "\n",
       "      credit_card  last_activity  est_salary  churn  \n",
       "0               0              1    75719.14      1  \n",
       "1               1              0    86621.77      0  \n",
       "2               1              1   107683.34      0  \n",
       "3               0              1   174423.53      1  \n",
       "4               1              0    67353.16      1  \n",
       "...           ...            ...         ...    ...  \n",
       "9994            0              1    18943.64      0  \n",
       "9995            1              0   196898.29      0  \n",
       "9996            1              1   108905.09      0  \n",
       "9997            0              1    86874.90      0  \n",
       "9998            0              1    21422.37      0  \n",
       "\n",
       "[9999 rows x 12 columns]"
      ]
     },
     "execution_count": 30,
     "metadata": {},
     "output_type": "execute_result"
    }
   ],
   "source": [
    "# удаление строки и обновление индексации\n",
    "df = df[df['products'] != 0]\n",
    "df = df.reset_index(drop=True)\n",
    "df"
   ]
  },
  {
   "cell_type": "markdown",
   "metadata": {},
   "source": [
    "<div class=\"alert alert-block alert-danger\">\n",
    "<h2> Комментарий тимлида ⛔️<a class=\"tocSkip\"></h2> \n",
    "<s>\n",
    "С первыми клиентами не могу согласиться, у них есть кредитные карты, поэтому баланс может быть пустым)\n",
    "    \n",
    "Ручной ввод индексов нужно заменить. Фильтрацию лучше проводить по значению)"
   ]
  },
  {
   "cell_type": "markdown",
   "metadata": {},
   "source": [
    "<div class=\"alert alert-info\"> <b>Комментарий студента:</b> \n",
    "\n",
    "Сделала удаление клиента с 0 продуктов через срез\n",
    "</div>"
   ]
  },
  {
   "cell_type": "markdown",
   "metadata": {},
   "source": [
    "<div class=\"alert alert-success\">\n",
    "<h2> Комментарий тимлида 😊 v_2 <a class=\"tocSkip\"> </h2>\n",
    "\n",
    "Верно)"
   ]
  },
  {
   "cell_type": "markdown",
   "metadata": {},
   "source": [
    "### Кодирование данных"
   ]
  },
  {
   "cell_type": "markdown",
   "metadata": {},
   "source": [
    "Для последующей работы с корреляцией численно закодируем переменные `city` и `gender` с помощью pandas.get_dummies(), предварительно создав копии исходных столбцов."
   ]
  },
  {
   "cell_type": "code",
   "execution_count": 31,
   "metadata": {},
   "outputs": [
    {
     "data": {
      "text/html": [
       "<div>\n",
       "<style scoped>\n",
       "    .dataframe tbody tr th:only-of-type {\n",
       "        vertical-align: middle;\n",
       "    }\n",
       "\n",
       "    .dataframe tbody tr th {\n",
       "        vertical-align: top;\n",
       "    }\n",
       "\n",
       "    .dataframe thead th {\n",
       "        text-align: right;\n",
       "    }\n",
       "</style>\n",
       "<table border=\"1\" class=\"dataframe\">\n",
       "  <thead>\n",
       "    <tr style=\"text-align: right;\">\n",
       "      <th></th>\n",
       "      <th>user_id</th>\n",
       "      <th>score</th>\n",
       "      <th>city</th>\n",
       "      <th>gender</th>\n",
       "      <th>age</th>\n",
       "      <th>equity</th>\n",
       "      <th>balance</th>\n",
       "      <th>products</th>\n",
       "      <th>credit_card</th>\n",
       "      <th>last_activity</th>\n",
       "      <th>est_salary</th>\n",
       "      <th>churn</th>\n",
       "      <th>Ростов</th>\n",
       "      <th>Рыбинск</th>\n",
       "      <th>Ярославль</th>\n",
       "      <th>М</th>\n",
       "    </tr>\n",
       "  </thead>\n",
       "  <tbody>\n",
       "    <tr>\n",
       "      <th>0</th>\n",
       "      <td>183012</td>\n",
       "      <td>850.0</td>\n",
       "      <td>Рыбинск</td>\n",
       "      <td>Ж</td>\n",
       "      <td>25.0</td>\n",
       "      <td>1</td>\n",
       "      <td>59214.82</td>\n",
       "      <td>2</td>\n",
       "      <td>0</td>\n",
       "      <td>1</td>\n",
       "      <td>75719.14</td>\n",
       "      <td>1</td>\n",
       "      <td>0</td>\n",
       "      <td>1</td>\n",
       "      <td>0</td>\n",
       "      <td>0</td>\n",
       "    </tr>\n",
       "    <tr>\n",
       "      <th>1</th>\n",
       "      <td>146556</td>\n",
       "      <td>861.0</td>\n",
       "      <td>Рыбинск</td>\n",
       "      <td>Ж</td>\n",
       "      <td>37.0</td>\n",
       "      <td>5</td>\n",
       "      <td>850594.33</td>\n",
       "      <td>3</td>\n",
       "      <td>1</td>\n",
       "      <td>0</td>\n",
       "      <td>86621.77</td>\n",
       "      <td>0</td>\n",
       "      <td>0</td>\n",
       "      <td>1</td>\n",
       "      <td>0</td>\n",
       "      <td>0</td>\n",
       "    </tr>\n",
       "    <tr>\n",
       "      <th>2</th>\n",
       "      <td>120722</td>\n",
       "      <td>892.0</td>\n",
       "      <td>Рыбинск</td>\n",
       "      <td>Ж</td>\n",
       "      <td>30.0</td>\n",
       "      <td>0</td>\n",
       "      <td>NaN</td>\n",
       "      <td>1</td>\n",
       "      <td>1</td>\n",
       "      <td>1</td>\n",
       "      <td>107683.34</td>\n",
       "      <td>0</td>\n",
       "      <td>0</td>\n",
       "      <td>1</td>\n",
       "      <td>0</td>\n",
       "      <td>0</td>\n",
       "    </tr>\n",
       "    <tr>\n",
       "      <th>3</th>\n",
       "      <td>225363</td>\n",
       "      <td>866.0</td>\n",
       "      <td>Ярославль</td>\n",
       "      <td>Ж</td>\n",
       "      <td>51.0</td>\n",
       "      <td>5</td>\n",
       "      <td>1524746.26</td>\n",
       "      <td>2</td>\n",
       "      <td>0</td>\n",
       "      <td>1</td>\n",
       "      <td>174423.53</td>\n",
       "      <td>1</td>\n",
       "      <td>0</td>\n",
       "      <td>0</td>\n",
       "      <td>1</td>\n",
       "      <td>0</td>\n",
       "    </tr>\n",
       "    <tr>\n",
       "      <th>4</th>\n",
       "      <td>157978</td>\n",
       "      <td>730.0</td>\n",
       "      <td>Ярославль</td>\n",
       "      <td>М</td>\n",
       "      <td>34.0</td>\n",
       "      <td>5</td>\n",
       "      <td>174.00</td>\n",
       "      <td>1</td>\n",
       "      <td>1</td>\n",
       "      <td>0</td>\n",
       "      <td>67353.16</td>\n",
       "      <td>1</td>\n",
       "      <td>0</td>\n",
       "      <td>0</td>\n",
       "      <td>1</td>\n",
       "      <td>1</td>\n",
       "    </tr>\n",
       "  </tbody>\n",
       "</table>\n",
       "</div>"
      ],
      "text/plain": [
       "   user_id  score       city gender   age  equity     balance  products  \\\n",
       "0   183012  850.0    Рыбинск      Ж  25.0       1    59214.82         2   \n",
       "1   146556  861.0    Рыбинск      Ж  37.0       5   850594.33         3   \n",
       "2   120722  892.0    Рыбинск      Ж  30.0       0         NaN         1   \n",
       "3   225363  866.0  Ярославль      Ж  51.0       5  1524746.26         2   \n",
       "4   157978  730.0  Ярославль      М  34.0       5      174.00         1   \n",
       "\n",
       "   credit_card  last_activity  est_salary  churn  Ростов  Рыбинск  Ярославль  \\\n",
       "0            0              1    75719.14      1       0        1          0   \n",
       "1            1              0    86621.77      0       0        1          0   \n",
       "2            1              1   107683.34      0       0        1          0   \n",
       "3            0              1   174423.53      1       0        0          1   \n",
       "4            1              0    67353.16      1       0        0          1   \n",
       "\n",
       "   М  \n",
       "0  0  \n",
       "1  0  \n",
       "2  0  \n",
       "3  0  \n",
       "4  1  "
      ]
     },
     "execution_count": 31,
     "metadata": {},
     "output_type": "execute_result"
    }
   ],
   "source": [
    "df['city_copy'] = df['city']\n",
    "df['gender_copy'] = df['gender']\n",
    "df = pd.get_dummies(df, columns=['city_copy'], prefix = '', prefix_sep = '')\n",
    "df = pd.get_dummies(df, columns=['gender_copy'], prefix = '', prefix_sep = '', drop_first= True)\n",
    "df.head()"
   ]
  },
  {
   "cell_type": "markdown",
   "metadata": {},
   "source": [
    "<div class=\"alert alert-success\">\n",
    "<h2> Комментарий тимлида 😊<a class=\"tocSkip\"> </h2>\n",
    "    \n",
    "Кодирование проведено верно"
   ]
  },
  {
   "cell_type": "markdown",
   "metadata": {},
   "source": [
    "<div class=\"alert alert-warning\">\n",
    "<h2> Комментарий тимлида 🤓<a class=\"tocSkip\"> </h2>\n",
    "  \n",
    "Обрати внимание, что мы создаем два столбца с полом) А для анализа в целом будет достаточно и одного, можем использовать другой вариант кодирования или опустить лишний столбец, используя параметр `drop_first=True`)"
   ]
  },
  {
   "cell_type": "markdown",
   "metadata": {},
   "source": [
    "<div class=\"alert alert-info\"> <b>Комментарий студента:</b> \n",
    "\n",
    "Отбросила лишний столбец c полом)\n",
    "</div>"
   ]
  },
  {
   "cell_type": "markdown",
   "metadata": {},
   "source": [
    "<div class=\"alert alert-success\">\n",
    "<h2> Комментарий тимлида 😊 v_2 <a class=\"tocSkip\"> </h2>\n",
    "\n",
    "👍"
   ]
  },
  {
   "cell_type": "markdown",
   "metadata": {},
   "source": [
    "На этапе предобработки данных были выполнены следующие действия:\n",
    "- Названия столбцов приведены к нижнему регистру и snake_case\n",
    "- Исследованы пропущенные значения в столбцах `age` и `balance` - выявлено, что пропуски относятся к типу MNAR, т.е. отсутствуют не случайно, в связи с чем принято решение оставить их без изменений.\n",
    "- Произведена проверка на наличие явных и неявных дубликатов - устранены дублирования в столбце `user_id`\n",
    "- Удалены аномально большие значения в переменных `balance` и `est_salary`, а также нулевые значения в `balance` и `products`\n",
    "- Переменные `city` и `gender` численно закодированы для построения корреляционной матрицы"
   ]
  },
  {
   "cell_type": "markdown",
   "metadata": {},
   "source": [
    "<div class=\"alert alert-success\">\n",
    "<h2> Комментарий тимлида 😊 <a class=\"tocSkip\"> </h2>\n",
    "\n",
    "Здорово, что есть промежуточный вывод) Хорошая работа по блоку предобработки) "
   ]
  },
  {
   "cell_type": "markdown",
   "metadata": {},
   "source": [
    "## Исследовательский анализ данных"
   ]
  },
  {
   "cell_type": "markdown",
   "metadata": {},
   "source": [
    "### Составление и сравнение портретов типичных клиентов банка"
   ]
  },
  {
   "cell_type": "code",
   "execution_count": 32,
   "metadata": {},
   "outputs": [
    {
     "data": {
      "text/html": [
       "<div>\n",
       "<style scoped>\n",
       "    .dataframe tbody tr th:only-of-type {\n",
       "        vertical-align: middle;\n",
       "    }\n",
       "\n",
       "    .dataframe tbody tr th {\n",
       "        vertical-align: top;\n",
       "    }\n",
       "\n",
       "    .dataframe thead th {\n",
       "        text-align: right;\n",
       "    }\n",
       "</style>\n",
       "<table border=\"1\" class=\"dataframe\">\n",
       "  <thead>\n",
       "    <tr style=\"text-align: right;\">\n",
       "      <th></th>\n",
       "      <th>score</th>\n",
       "      <th>age</th>\n",
       "      <th>equity</th>\n",
       "      <th>balance</th>\n",
       "      <th>products</th>\n",
       "      <th>credit_card</th>\n",
       "      <th>last_activity</th>\n",
       "      <th>est_salary</th>\n",
       "      <th>churn</th>\n",
       "    </tr>\n",
       "  </thead>\n",
       "  <tbody>\n",
       "    <tr>\n",
       "      <th>count</th>\n",
       "      <td>9999.00</td>\n",
       "      <td>9973.00</td>\n",
       "      <td>9999.00</td>\n",
       "      <td>7705.00</td>\n",
       "      <td>9999.00</td>\n",
       "      <td>9999.00</td>\n",
       "      <td>9999.00</td>\n",
       "      <td>9999.00</td>\n",
       "      <td>9999.00</td>\n",
       "    </tr>\n",
       "    <tr>\n",
       "      <th>mean</th>\n",
       "      <td>848.69</td>\n",
       "      <td>42.73</td>\n",
       "      <td>2.63</td>\n",
       "      <td>827794.31</td>\n",
       "      <td>1.87</td>\n",
       "      <td>0.68</td>\n",
       "      <td>0.52</td>\n",
       "      <td>147879.17</td>\n",
       "      <td>0.18</td>\n",
       "    </tr>\n",
       "    <tr>\n",
       "      <th>std</th>\n",
       "      <td>65.44</td>\n",
       "      <td>12.18</td>\n",
       "      <td>1.98</td>\n",
       "      <td>1980614.15</td>\n",
       "      <td>0.79</td>\n",
       "      <td>0.47</td>\n",
       "      <td>0.50</td>\n",
       "      <td>139390.07</td>\n",
       "      <td>0.39</td>\n",
       "    </tr>\n",
       "    <tr>\n",
       "      <th>min</th>\n",
       "      <td>642.00</td>\n",
       "      <td>18.00</td>\n",
       "      <td>0.00</td>\n",
       "      <td>0.00</td>\n",
       "      <td>1.00</td>\n",
       "      <td>0.00</td>\n",
       "      <td>0.00</td>\n",
       "      <td>2546.30</td>\n",
       "      <td>0.00</td>\n",
       "    </tr>\n",
       "    <tr>\n",
       "      <th>25%</th>\n",
       "      <td>802.00</td>\n",
       "      <td>33.00</td>\n",
       "      <td>0.00</td>\n",
       "      <td>295554.16</td>\n",
       "      <td>1.00</td>\n",
       "      <td>0.00</td>\n",
       "      <td>0.00</td>\n",
       "      <td>75252.12</td>\n",
       "      <td>0.00</td>\n",
       "    </tr>\n",
       "    <tr>\n",
       "      <th>50%</th>\n",
       "      <td>853.00</td>\n",
       "      <td>40.00</td>\n",
       "      <td>3.00</td>\n",
       "      <td>524272.20</td>\n",
       "      <td>2.00</td>\n",
       "      <td>1.00</td>\n",
       "      <td>1.00</td>\n",
       "      <td>119661.51</td>\n",
       "      <td>0.00</td>\n",
       "    </tr>\n",
       "    <tr>\n",
       "      <th>75%</th>\n",
       "      <td>900.00</td>\n",
       "      <td>51.00</td>\n",
       "      <td>4.00</td>\n",
       "      <td>980705.85</td>\n",
       "      <td>2.00</td>\n",
       "      <td>1.00</td>\n",
       "      <td>1.00</td>\n",
       "      <td>174501.12</td>\n",
       "      <td>0.00</td>\n",
       "    </tr>\n",
       "    <tr>\n",
       "      <th>max</th>\n",
       "      <td>1000.00</td>\n",
       "      <td>86.00</td>\n",
       "      <td>9.00</td>\n",
       "      <td>119113552.01</td>\n",
       "      <td>5.00</td>\n",
       "      <td>1.00</td>\n",
       "      <td>1.00</td>\n",
       "      <td>1395064.45</td>\n",
       "      <td>1.00</td>\n",
       "    </tr>\n",
       "  </tbody>\n",
       "</table>\n",
       "</div>"
      ],
      "text/plain": [
       "        score     age  equity      balance  products  credit_card  \\\n",
       "count 9999.00 9973.00 9999.00      7705.00   9999.00      9999.00   \n",
       "mean   848.69   42.73    2.63    827794.31      1.87         0.68   \n",
       "std     65.44   12.18    1.98   1980614.15      0.79         0.47   \n",
       "min    642.00   18.00    0.00         0.00      1.00         0.00   \n",
       "25%    802.00   33.00    0.00    295554.16      1.00         0.00   \n",
       "50%    853.00   40.00    3.00    524272.20      2.00         1.00   \n",
       "75%    900.00   51.00    4.00    980705.85      2.00         1.00   \n",
       "max   1000.00   86.00    9.00 119113552.01      5.00         1.00   \n",
       "\n",
       "       last_activity  est_salary   churn  \n",
       "count        9999.00     9999.00 9999.00  \n",
       "mean            0.52   147879.17    0.18  \n",
       "std             0.50   139390.07    0.39  \n",
       "min             0.00     2546.30    0.00  \n",
       "25%             0.00    75252.12    0.00  \n",
       "50%             1.00   119661.51    0.00  \n",
       "75%             1.00   174501.12    0.00  \n",
       "max             1.00  1395064.45    1.00  "
      ]
     },
     "metadata": {},
     "output_type": "display_data"
    }
   ],
   "source": [
    "# вывод статического описания данных\n",
    "with pd.option_context('display.float_format', '{:.2f}'.format):\n",
    "    display(df.iloc[:, 1:12].describe())"
   ]
  },
  {
   "cell_type": "code",
   "execution_count": 33,
   "metadata": {},
   "outputs": [
    {
     "data": {
      "text/html": [
       "<div>\n",
       "<style scoped>\n",
       "    .dataframe tbody tr th:only-of-type {\n",
       "        vertical-align: middle;\n",
       "    }\n",
       "\n",
       "    .dataframe tbody tr th {\n",
       "        vertical-align: top;\n",
       "    }\n",
       "\n",
       "    .dataframe thead tr th {\n",
       "        text-align: left;\n",
       "    }\n",
       "\n",
       "    .dataframe thead tr:last-of-type th {\n",
       "        text-align: right;\n",
       "    }\n",
       "</style>\n",
       "<table border=\"1\" class=\"dataframe\">\n",
       "  <thead>\n",
       "    <tr>\n",
       "      <th></th>\n",
       "      <th>city</th>\n",
       "      <th>gender</th>\n",
       "      <th>equity</th>\n",
       "      <th>products</th>\n",
       "      <th>credit_card</th>\n",
       "      <th>last_activity</th>\n",
       "      <th>age</th>\n",
       "      <th>score</th>\n",
       "      <th colspan=\"2\" halign=\"left\">balance</th>\n",
       "      <th colspan=\"2\" halign=\"left\">est_salary</th>\n",
       "    </tr>\n",
       "    <tr>\n",
       "      <th></th>\n",
       "      <th>mode</th>\n",
       "      <th>mode</th>\n",
       "      <th>median</th>\n",
       "      <th>median</th>\n",
       "      <th>median</th>\n",
       "      <th>median</th>\n",
       "      <th>mean</th>\n",
       "      <th>mean</th>\n",
       "      <th>mean</th>\n",
       "      <th>median</th>\n",
       "      <th>mean</th>\n",
       "      <th>median</th>\n",
       "    </tr>\n",
       "    <tr>\n",
       "      <th>Признак оттока</th>\n",
       "      <th></th>\n",
       "      <th></th>\n",
       "      <th></th>\n",
       "      <th></th>\n",
       "      <th></th>\n",
       "      <th></th>\n",
       "      <th></th>\n",
       "      <th></th>\n",
       "      <th></th>\n",
       "      <th></th>\n",
       "      <th></th>\n",
       "      <th></th>\n",
       "    </tr>\n",
       "  </thead>\n",
       "  <tbody>\n",
       "    <tr>\n",
       "      <th>лояльный</th>\n",
       "      <td>Ярославль</td>\n",
       "      <td>Ж</td>\n",
       "      <td>3.0</td>\n",
       "      <td>2.0</td>\n",
       "      <td>1.0</td>\n",
       "      <td>0.0</td>\n",
       "      <td>43.02</td>\n",
       "      <td>845.43</td>\n",
       "      <td>733982.59</td>\n",
       "      <td>475382.44</td>\n",
       "      <td>147783.20</td>\n",
       "      <td>118257.72</td>\n",
       "    </tr>\n",
       "    <tr>\n",
       "      <th>отточный</th>\n",
       "      <td>Ярославль</td>\n",
       "      <td>М</td>\n",
       "      <td>4.0</td>\n",
       "      <td>2.0</td>\n",
       "      <td>1.0</td>\n",
       "      <td>1.0</td>\n",
       "      <td>41.43</td>\n",
       "      <td>863.35</td>\n",
       "      <td>1133993.27</td>\n",
       "      <td>782410.47</td>\n",
       "      <td>148310.73</td>\n",
       "      <td>125395.22</td>\n",
       "    </tr>\n",
       "    <tr>\n",
       "      <th>Относительная разница, %</th>\n",
       "      <td></td>\n",
       "      <td></td>\n",
       "      <td></td>\n",
       "      <td></td>\n",
       "      <td></td>\n",
       "      <td></td>\n",
       "      <td>-3.84</td>\n",
       "      <td>2.08</td>\n",
       "      <td>35.27</td>\n",
       "      <td></td>\n",
       "      <td>0.36</td>\n",
       "      <td></td>\n",
       "    </tr>\n",
       "  </tbody>\n",
       "</table>\n",
       "</div>"
      ],
      "text/plain": [
       "                               city gender equity products credit_card  \\\n",
       "                               mode   mode median   median      median   \n",
       "Признак оттока                                                           \n",
       "лояльный                  Ярославль      Ж    3.0      2.0         1.0   \n",
       "отточный                  Ярославль      М    4.0      2.0         1.0   \n",
       "Относительная разница, %                                                 \n",
       "\n",
       "                         last_activity    age   score     balance             \\\n",
       "                                median   mean    mean        mean     median   \n",
       "Признак оттока                                                                 \n",
       "лояльный                           0.0  43.02  845.43   733982.59  475382.44   \n",
       "отточный                           1.0  41.43  863.35  1133993.27  782410.47   \n",
       "Относительная разница, %                -3.84    2.08       35.27              \n",
       "\n",
       "                         est_salary             \n",
       "                               mean     median  \n",
       "Признак оттока                                  \n",
       "лояльный                  147783.20  118257.72  \n",
       "отточный                  148310.73  125395.22  \n",
       "Относительная разница, %       0.36             "
      ]
     },
     "execution_count": 33,
     "metadata": {},
     "output_type": "execute_result"
    }
   ],
   "source": [
    "portraits = (\n",
    "    df.groupby('churn').agg({\n",
    "        'city' : pd.Series.mode,\n",
    "        'gender' : pd.Series.mode,\n",
    "        'equity' : 'median',\n",
    "        'products' : 'median',\n",
    "        'credit_card': 'median',\n",
    "        'last_activity': 'median',\n",
    "        'age' : 'mean',\n",
    "        'score' : 'mean',\n",
    "        'balance' : ['mean', 'median'],\n",
    "        'est_salary' : ['mean', 'median'], \n",
    "}).round(2)\n",
    ")\n",
    "portraits.index.names = ['Признак оттока']\n",
    "portraits = portraits.rename(index={0: 'лояльный', 1: 'отточный'})\n",
    "portraits.loc['Относительная разница, %'] = (\n",
    "    portraits.loc[:, (slice(None), 'mean')]\n",
    "    .apply(lambda x: round((x['отточный'] - x['лояльный'])/x['отточный'] * 100, 2))\n",
    ")\n",
    "portraits.fillna('', inplace=True)\n",
    "portraits"
   ]
  },
  {
   "cell_type": "markdown",
   "metadata": {},
   "source": [
    "<div class=\"alert alert-warning\">\n",
    "<h2> Комментарий тимлида 🤓  <a class=\"tocSkip\"> </h2>\n",
    "\n",
    "Так как проект на русском языке, то подписи лояльного и отточного клиента лучше указать на русском. Можно транспонировать таблицу для наглядности)"
   ]
  },
  {
   "cell_type": "markdown",
   "metadata": {},
   "source": [
    "<div class=\"alert alert-info\"> <b>Комментарий студента:</b> \n",
    "\n",
    "Сделала подписи на русском)\n",
    "</div>"
   ]
  },
  {
   "cell_type": "markdown",
   "metadata": {},
   "source": [
    "<div class=\"alert alert-success\">\n",
    "<h2> Комментарий тимлида 😊 v_2 <a class=\"tocSkip\"> </h2>\n",
    "\n",
    "Спасибо)"
   ]
  },
  {
   "cell_type": "markdown",
   "metadata": {},
   "source": [
    "Портрет \"лояльного\" (оставшегося) клиента:\n",
    "- Город: Ярославль\n",
    "- Пол: Женщина\n",
    "- Количество баллов собственности: 3\n",
    "- Количество используемых банковских продуктов: 2\n",
    "- Есть кредитная карта\n",
    "- Активный клиент (в течение последних 3-х месяцев)\n",
    "- Возраст: 43 года\n",
    "- Количество баллов кредитного скоринга: 845\n",
    "- Баланс на счете: 734 232<br> \n",
    "- Оценочный доход клиента: 117 621<br>\n",
    "\n",
    "Портрет отточного клиента:\n",
    "- Город: Ярославль\n",
    "- Пол: Мужчина\n",
    "- Количество баллов собственности: 4\n",
    "- Количество используемых банковских продуктов: 2\n",
    "- Есть кредитная карта\n",
    "- Активный клиент (в течение последних 3-х месяцев)\n",
    "- Возраст: 41 год\n",
    "- Количество баллов кредитного скоринга: 862\n",
    "- Баланс на счете: 1 133 993<br>\n",
    "- Оценочный доход клиента: 147 041<br>\n",
    "\n",
    "При этом медиана, дополнительно рассчитанная для непрерывных параметров, в которых наблюдаются аномально большие значения, а именно: баланс на счете и оценочный доход, демонстрирует тяготение к меньшим значениям, чем среднее, и для лояльных, и для отточных клиентов.<br>\n",
    "Таким образом, наиболее существенные различия между оставшимися и отточными клиентами наблюдаются у параметров пол, количество баллов собственности и баланс на счете."
   ]
  },
  {
   "cell_type": "markdown",
   "metadata": {},
   "source": [
    "<div class=\"alert alert-success\">\n",
    "<h2> Комментарий тимлида 😊<a class=\"tocSkip\"> </h2>\n",
    "\n",
    "Замечательная работа по сравнению отточного и неотточного клиентов)  Наглядная табличка получилась, которую сможем использовать в презентации)"
   ]
  },
  {
   "cell_type": "markdown",
   "metadata": {},
   "source": [
    "### Анализ распределения клиентов по непрерывным показателям, в т.ч. в разрезе оттока "
   ]
  },
  {
   "cell_type": "code",
   "execution_count": 34,
   "metadata": {},
   "outputs": [
    {
     "data": {
      "image/png": "[encoded data removed]",
      "text/plain": [
       "<Figure size 1152x720 with 1 Axes>"
      ]
     },
     "metadata": {
      "needs_background": "light"
     },
     "output_type": "display_data"
    }
   ],
   "source": [
    "plt.figure(figsize=(16, 10))\n",
    "sns.histplot(data=df, x='score', hue='churn', stat='density', common_norm=False, alpha=0.3, bins = 50)\n",
    "plt.title('Распределение баллов кредитного скоринга')\n",
    "plt.legend(['отточные', 'лояльные'], title='Признак оттока')\n",
    "plt.xlabel('количество баллов кредитного скоринга')\n",
    "plt.ylabel('плотность распределения')\n",
    "plt.grid()\n",
    "plt.show()"
   ]
  },
  {
   "cell_type": "markdown",
   "metadata": {},
   "source": [
    "<div class=\"alert alert-block alert-danger\">\n",
    "<h2> Комментарий тимлида ⛔️<a class=\"tocSkip\"></h2>\n",
    "<s>\n",
    "Подписи отточного и лояльного нужно будет указать на русском)"
   ]
  },
  {
   "cell_type": "markdown",
   "metadata": {},
   "source": [
    "<div class=\"alert alert-info\"> <b>Комментарий студента:</b> \n",
    "\n",
    "Поправила легенду для всех гистограмм\n",
    "</div>"
   ]
  },
  {
   "cell_type": "markdown",
   "metadata": {},
   "source": [
    "<div class=\"alert alert-success\">\n",
    "<h2> Комментарий тимлида 😊 v_2 <a class=\"tocSkip\"> </h2>\n",
    "\n",
    "👍"
   ]
  },
  {
   "cell_type": "markdown",
   "metadata": {},
   "source": [
    "Больше всего склонны к оттоку клиенты, имеющие от 825 до 910 баллов кредитного скоринга.<br>\n",
    "Минимальный отток свойственнен клиентам с кредитным рейтингом в диапазоне от 940 до 1000."
   ]
  },
  {
   "cell_type": "markdown",
   "metadata": {},
   "source": [
    "<div class=\"alert alert-success\">\n",
    "<h2> Комментарий тимлида 😊  <a class=\"tocSkip\"> </h2>\n",
    "\n",
    "Верно определили промежуток оттока)"
   ]
  },
  {
   "cell_type": "code",
   "execution_count": 35,
   "metadata": {},
   "outputs": [
    {
     "data": {
      "image/png": "[encoded data removed]",
      "text/plain": [
       "<Figure size 1152x720 with 1 Axes>"
      ]
     },
     "metadata": {
      "needs_background": "light"
     },
     "output_type": "display_data"
    }
   ],
   "source": [
    "plt.figure(figsize=(16, 10))\n",
    "sns.histplot(data=df, x='age', hue='churn', stat='density', common_norm=False, alpha=0.3, bins = 65)\n",
    "plt.title('Распределение возраста')\n",
    "plt.legend(['отточные', 'лояльные'], title='Признак оттока')\n",
    "plt.xlabel('возраст')\n",
    "plt.ylabel('плотность распределения')\n",
    "plt.grid()\n",
    "plt.show()"
   ]
  },
  {
   "cell_type": "markdown",
   "metadata": {},
   "source": [
    "Максимальный отток демонстрируют клиенты в возрастных диапазонах от 25 до 35 лет и от 49 до 61 года."
   ]
  },
  {
   "cell_type": "code",
   "execution_count": 36,
   "metadata": {},
   "outputs": [
    {
     "data": {
      "image/png": "[encoded data removed]",
      "text/plain": [
       "<Figure size 1152x720 with 1 Axes>"
      ]
     },
     "metadata": {
      "needs_background": "light"
     },
     "output_type": "display_data"
    }
   ],
   "source": [
    "plt.figure(figsize=(16, 10))\n",
    "sns.histplot(data=df, x='balance', hue='churn', stat='density', common_norm=False, alpha=0.4, bins = 1900)\n",
    "plt.title('Распределение баланса на счете')\n",
    "plt.legend(['отточные', 'лояльные'], title='Признак оттока')\n",
    "plt.xlabel('баланс на счете, млн.')\n",
    "plt.ylabel('плотность распределения')\n",
    "plt.xlim(0, 3000000)\n",
    "plt.grid()\n",
    "plt.show()"
   ]
  },
  {
   "cell_type": "markdown",
   "metadata": {},
   "source": [
    "Основной отток клиентов начинает происходить с момента, когда баланс их счета достигает 700 тысяч, немного приостанавливается на цифре 1,2 млн. и увеличивает свою динамику с 1,25 млн. и до максимальных показателей клиентских средств."
   ]
  },
  {
   "cell_type": "code",
   "execution_count": 37,
   "metadata": {},
   "outputs": [
    {
     "data": {
      "image/png": "[encoded data removed]",
      "text/plain": [
       "<Figure size 1152x720 with 1 Axes>"
      ]
     },
     "metadata": {
      "needs_background": "light"
     },
     "output_type": "display_data"
    }
   ],
   "source": [
    "plt.figure(figsize=(16, 10))\n",
    "sns.histplot(data=df, x='est_salary', hue='churn', stat='density', common_norm=False, alpha=0.3, bins = 160)\n",
    "plt.title('Распределение оценочного дохода')\n",
    "plt.legend(['отточные', 'лояльные'], title='Признак оттока')\n",
    "plt.xlabel('оценочный доход')\n",
    "plt.ylabel('плотность распределения')\n",
    "plt.xlim(0, 500000)\n",
    "plt.grid()\n",
    "plt.show()"
   ]
  },
  {
   "cell_type": "markdown",
   "metadata": {},
   "source": [
    "Максимальная плотность отточных клиентов располагается в диапазоне оценочного дохода от 100 до 130 тысяч и от 150 до 220 тысяч."
   ]
  },
  {
   "cell_type": "markdown",
   "metadata": {},
   "source": [
    "<div class=\"alert alert-success\">\n",
    "<h2> Комментарий тимлида 😊<a class=\"tocSkip\"> </h2>\n",
    "\n",
    "Отлично справилась с нормированными гистограммами и выводами по ним)"
   ]
  },
  {
   "cell_type": "markdown",
   "metadata": {},
   "source": [
    "### Анализ уровня оттока по категориальным показателям"
   ]
  },
  {
   "cell_type": "code",
   "execution_count": 38,
   "metadata": {},
   "outputs": [
    {
     "data": {
      "text/html": [
       "<div>\n",
       "<style scoped>\n",
       "    .dataframe tbody tr th:only-of-type {\n",
       "        vertical-align: middle;\n",
       "    }\n",
       "\n",
       "    .dataframe tbody tr th {\n",
       "        vertical-align: top;\n",
       "    }\n",
       "\n",
       "    .dataframe thead th {\n",
       "        text-align: right;\n",
       "    }\n",
       "</style>\n",
       "<table border=\"1\" class=\"dataframe\">\n",
       "  <thead>\n",
       "    <tr style=\"text-align: right;\">\n",
       "      <th></th>\n",
       "      <th>city</th>\n",
       "      <th>mean_churn</th>\n",
       "    </tr>\n",
       "  </thead>\n",
       "  <tbody>\n",
       "    <tr>\n",
       "      <th>2</th>\n",
       "      <td>Ярославль</td>\n",
       "      <td>0.189708</td>\n",
       "    </tr>\n",
       "    <tr>\n",
       "      <th>0</th>\n",
       "      <td>Ростов</td>\n",
       "      <td>0.187721</td>\n",
       "    </tr>\n",
       "    <tr>\n",
       "      <th>1</th>\n",
       "      <td>Рыбинск</td>\n",
       "      <td>0.161841</td>\n",
       "    </tr>\n",
       "  </tbody>\n",
       "</table>\n",
       "</div>"
      ],
      "text/plain": [
       "        city  mean_churn\n",
       "2  Ярославль    0.189708\n",
       "0     Ростов    0.187721\n",
       "1    Рыбинск    0.161841"
      ]
     },
     "execution_count": 38,
     "metadata": {},
     "output_type": "execute_result"
    }
   ],
   "source": [
    "city = (\n",
    "    df.groupby('city', as_index=False)\n",
    "    .agg(mean_churn = ('churn', 'mean'))\n",
    "    .sort_values(by='mean_churn', ascending=False)\n",
    ")\n",
    "city"
   ]
  },
  {
   "cell_type": "code",
   "execution_count": 39,
   "metadata": {},
   "outputs": [
    {
     "data": {
      "image/png": "[encoded data removed]",
      "text/plain": [
       "<Figure size 720x576 with 1 Axes>"
      ]
     },
     "metadata": {
      "needs_background": "light"
     },
     "output_type": "display_data"
    }
   ],
   "source": [
    "plt.figure(figsize=(10, 8))\n",
    "sns.barplot(x='city', y='mean_churn', data=city, alpha=0.8)\n",
    "plt.title('Распределение уровня оттока клиентов по городам')\n",
    "plt.xlabel('город')\n",
    "plt.axhline(y=df['churn'].mean(), color='red', linestyle='--')\n",
    "plt.ylabel('доля ушедших клиентов')\n",
    "plt.grid()\n",
    "plt.show()"
   ]
  },
  {
   "cell_type": "markdown",
   "metadata": {},
   "source": [
    "Средний уровень оттока в представленных городах различается несущественно.<br>\n",
    "Отток, превышающий среднебанковский, почти с равными показателями демонстрируют Ярославль и Ростов."
   ]
  },
  {
   "cell_type": "code",
   "execution_count": 40,
   "metadata": {},
   "outputs": [
    {
     "data": {
      "text/html": [
       "<div>\n",
       "<style scoped>\n",
       "    .dataframe tbody tr th:only-of-type {\n",
       "        vertical-align: middle;\n",
       "    }\n",
       "\n",
       "    .dataframe tbody tr th {\n",
       "        vertical-align: top;\n",
       "    }\n",
       "\n",
       "    .dataframe thead th {\n",
       "        text-align: right;\n",
       "    }\n",
       "</style>\n",
       "<table border=\"1\" class=\"dataframe\">\n",
       "  <thead>\n",
       "    <tr style=\"text-align: right;\">\n",
       "      <th></th>\n",
       "      <th>gender</th>\n",
       "      <th>mean_churn</th>\n",
       "    </tr>\n",
       "  </thead>\n",
       "  <tbody>\n",
       "    <tr>\n",
       "      <th>1</th>\n",
       "      <td>мужчина</td>\n",
       "      <td>0.236364</td>\n",
       "    </tr>\n",
       "    <tr>\n",
       "      <th>0</th>\n",
       "      <td>женщина</td>\n",
       "      <td>0.127353</td>\n",
       "    </tr>\n",
       "  </tbody>\n",
       "</table>\n",
       "</div>"
      ],
      "text/plain": [
       "    gender  mean_churn\n",
       "1  мужчина    0.236364\n",
       "0  женщина    0.127353"
      ]
     },
     "execution_count": 40,
     "metadata": {},
     "output_type": "execute_result"
    }
   ],
   "source": [
    "gender = (\n",
    "    df.groupby('gender', as_index=False)\n",
    "    .agg(mean_churn = ('churn', 'mean'))\n",
    "    .sort_values(by='mean_churn', ascending=False)\n",
    ")\n",
    "gender['gender'] = gender['gender'].str.replace('Ж', 'женщина')\n",
    "gender['gender'] = gender['gender'].str.replace('М', 'мужчина')\n",
    "gender"
   ]
  },
  {
   "cell_type": "code",
   "execution_count": 41,
   "metadata": {},
   "outputs": [
    {
     "data": {
      "image/png": "[encoded data removed]",
      "text/plain": [
       "<Figure size 576x432 with 1 Axes>"
      ]
     },
     "metadata": {
      "needs_background": "light"
     },
     "output_type": "display_data"
    }
   ],
   "source": [
    "plt.figure(figsize=(8, 6))\n",
    "sns.barplot(x='gender', y='mean_churn', data=gender, alpha=0.8)\n",
    "plt.title('Распределение уровня оттока клиентов по полу')\n",
    "plt.xlabel('пол')\n",
    "plt.axhline(y=df['churn'].mean(), color='red', linestyle='--')\n",
    "plt.ylabel('доля ушедших клиентов')\n",
    "plt.grid()\n",
    "plt.show()"
   ]
  },
  {
   "cell_type": "markdown",
   "metadata": {},
   "source": [
    "В разрезе пола клиентов мужчины почти на 10% более склонны к оттоку, чем женщины."
   ]
  },
  {
   "cell_type": "code",
   "execution_count": 42,
   "metadata": {},
   "outputs": [
    {
     "data": {
      "text/html": [
       "<div>\n",
       "<style scoped>\n",
       "    .dataframe tbody tr th:only-of-type {\n",
       "        vertical-align: middle;\n",
       "    }\n",
       "\n",
       "    .dataframe tbody tr th {\n",
       "        vertical-align: top;\n",
       "    }\n",
       "\n",
       "    .dataframe thead th {\n",
       "        text-align: right;\n",
       "    }\n",
       "</style>\n",
       "<table border=\"1\" class=\"dataframe\">\n",
       "  <thead>\n",
       "    <tr style=\"text-align: right;\">\n",
       "      <th></th>\n",
       "      <th>equity</th>\n",
       "      <th>mean_churn</th>\n",
       "    </tr>\n",
       "  </thead>\n",
       "  <tbody>\n",
       "    <tr>\n",
       "      <th>0</th>\n",
       "      <td>0</td>\n",
       "      <td>0.034722</td>\n",
       "    </tr>\n",
       "    <tr>\n",
       "      <th>1</th>\n",
       "      <td>1</td>\n",
       "      <td>0.120155</td>\n",
       "    </tr>\n",
       "    <tr>\n",
       "      <th>2</th>\n",
       "      <td>2</td>\n",
       "      <td>0.157795</td>\n",
       "    </tr>\n",
       "    <tr>\n",
       "      <th>3</th>\n",
       "      <td>3</td>\n",
       "      <td>0.208171</td>\n",
       "    </tr>\n",
       "    <tr>\n",
       "      <th>4</th>\n",
       "      <td>4</td>\n",
       "      <td>0.250811</td>\n",
       "    </tr>\n",
       "    <tr>\n",
       "      <th>5</th>\n",
       "      <td>5</td>\n",
       "      <td>0.300834</td>\n",
       "    </tr>\n",
       "    <tr>\n",
       "      <th>6</th>\n",
       "      <td>6</td>\n",
       "      <td>0.360248</td>\n",
       "    </tr>\n",
       "    <tr>\n",
       "      <th>7</th>\n",
       "      <td>7</td>\n",
       "      <td>0.462500</td>\n",
       "    </tr>\n",
       "    <tr>\n",
       "      <th>8</th>\n",
       "      <td>8</td>\n",
       "      <td>0.352941</td>\n",
       "    </tr>\n",
       "    <tr>\n",
       "      <th>9</th>\n",
       "      <td>9</td>\n",
       "      <td>0.538462</td>\n",
       "    </tr>\n",
       "  </tbody>\n",
       "</table>\n",
       "</div>"
      ],
      "text/plain": [
       "   equity  mean_churn\n",
       "0       0    0.034722\n",
       "1       1    0.120155\n",
       "2       2    0.157795\n",
       "3       3    0.208171\n",
       "4       4    0.250811\n",
       "5       5    0.300834\n",
       "6       6    0.360248\n",
       "7       7    0.462500\n",
       "8       8    0.352941\n",
       "9       9    0.538462"
      ]
     },
     "execution_count": 42,
     "metadata": {},
     "output_type": "execute_result"
    }
   ],
   "source": [
    "equity = (\n",
    "    df.groupby('equity', as_index=False)\n",
    "    .agg(mean_churn = ('churn', 'mean'))\n",
    ")\n",
    "equity"
   ]
  },
  {
   "cell_type": "code",
   "execution_count": 43,
   "metadata": {},
   "outputs": [
    {
     "data": {
      "image/png": "[encoded data removed]",
      "text/plain": [
       "<Figure size 1008x576 with 1 Axes>"
      ]
     },
     "metadata": {
      "needs_background": "light"
     },
     "output_type": "display_data"
    }
   ],
   "source": [
    "plt.figure(figsize=(14, 8))\n",
    "sns.barplot(x='equity', y='mean_churn', data=equity, alpha=0.8)\n",
    "plt.title('Распределение уровня оттока клиентов по количеству баллов собственности')\n",
    "plt.xlabel('количество баллов собственности')\n",
    "plt.axhline(y=df['churn'].mean(), color='red', linestyle='--')\n",
    "plt.ylabel('доля ушедших клиентов')\n",
    "plt.grid()\n",
    "plt.show()"
   ]
  },
  {
   "cell_type": "markdown",
   "metadata": {},
   "source": [
    "Наибольший уровень оттока у клиентов, количество баллов собственности которых оценивается в 7 и 9, при этом среднебанковский уровень оттока превышают клиенты с количеством баллов собственности от 3."
   ]
  },
  {
   "cell_type": "code",
   "execution_count": 44,
   "metadata": {},
   "outputs": [
    {
     "data": {
      "text/html": [
       "<div>\n",
       "<style scoped>\n",
       "    .dataframe tbody tr th:only-of-type {\n",
       "        vertical-align: middle;\n",
       "    }\n",
       "\n",
       "    .dataframe tbody tr th {\n",
       "        vertical-align: top;\n",
       "    }\n",
       "\n",
       "    .dataframe thead th {\n",
       "        text-align: right;\n",
       "    }\n",
       "</style>\n",
       "<table border=\"1\" class=\"dataframe\">\n",
       "  <thead>\n",
       "    <tr style=\"text-align: right;\">\n",
       "      <th></th>\n",
       "      <th>products</th>\n",
       "      <th>mean_churn</th>\n",
       "    </tr>\n",
       "  </thead>\n",
       "  <tbody>\n",
       "    <tr>\n",
       "      <th>0</th>\n",
       "      <td>1</td>\n",
       "      <td>0.070338</td>\n",
       "    </tr>\n",
       "    <tr>\n",
       "      <th>1</th>\n",
       "      <td>2</td>\n",
       "      <td>0.190987</td>\n",
       "    </tr>\n",
       "    <tr>\n",
       "      <th>2</th>\n",
       "      <td>3</td>\n",
       "      <td>0.285852</td>\n",
       "    </tr>\n",
       "    <tr>\n",
       "      <th>3</th>\n",
       "      <td>4</td>\n",
       "      <td>0.632911</td>\n",
       "    </tr>\n",
       "    <tr>\n",
       "      <th>4</th>\n",
       "      <td>5</td>\n",
       "      <td>0.421053</td>\n",
       "    </tr>\n",
       "  </tbody>\n",
       "</table>\n",
       "</div>"
      ],
      "text/plain": [
       "   products  mean_churn\n",
       "0         1    0.070338\n",
       "1         2    0.190987\n",
       "2         3    0.285852\n",
       "3         4    0.632911\n",
       "4         5    0.421053"
      ]
     },
     "execution_count": 44,
     "metadata": {},
     "output_type": "execute_result"
    }
   ],
   "source": [
    "products = (\n",
    "    df.groupby('products', as_index=False)\n",
    "    .agg(mean_churn = ('churn', 'mean'))\n",
    ")\n",
    "products"
   ]
  },
  {
   "cell_type": "code",
   "execution_count": 45,
   "metadata": {},
   "outputs": [
    {
     "data": {
      "image/png": "[encoded data removed]",
      "text/plain": [
       "<Figure size 720x576 with 1 Axes>"
      ]
     },
     "metadata": {
      "needs_background": "light"
     },
     "output_type": "display_data"
    }
   ],
   "source": [
    "plt.figure(figsize=(10, 8))\n",
    "sns.barplot(x='products', y='mean_churn', data=products, alpha=0.8)\n",
    "plt.title('Распределение уровня оттока клиентов по количеству используемых банковских продуктов')\n",
    "plt.xlabel('количество используемых банковских продуктов')\n",
    "plt.axhline(y=df['churn'].mean(), color='red', linestyle='--')\n",
    "plt.ylabel('доля ушедших клиентов')\n",
    "plt.grid()\n",
    "plt.show()"
   ]
  },
  {
   "cell_type": "markdown",
   "metadata": {},
   "source": [
    "В зоне превышения общебанковского оттока находятся клиенты, использующие от 2 до 5 банковских продуктов, при этом самый высокий отток демонстрируют клиенты, использующие 4 продукта."
   ]
  },
  {
   "cell_type": "code",
   "execution_count": 46,
   "metadata": {},
   "outputs": [
    {
     "data": {
      "text/html": [
       "<div>\n",
       "<style scoped>\n",
       "    .dataframe tbody tr th:only-of-type {\n",
       "        vertical-align: middle;\n",
       "    }\n",
       "\n",
       "    .dataframe tbody tr th {\n",
       "        vertical-align: top;\n",
       "    }\n",
       "\n",
       "    .dataframe thead th {\n",
       "        text-align: right;\n",
       "    }\n",
       "</style>\n",
       "<table border=\"1\" class=\"dataframe\">\n",
       "  <thead>\n",
       "    <tr style=\"text-align: right;\">\n",
       "      <th></th>\n",
       "      <th>credit_card</th>\n",
       "      <th>mean_churn</th>\n",
       "    </tr>\n",
       "  </thead>\n",
       "  <tbody>\n",
       "    <tr>\n",
       "      <th>0</th>\n",
       "      <td>нет кредитной карты</td>\n",
       "      <td>0.255399</td>\n",
       "    </tr>\n",
       "    <tr>\n",
       "      <th>1</th>\n",
       "      <td>есть кредитная карта</td>\n",
       "      <td>0.147413</td>\n",
       "    </tr>\n",
       "  </tbody>\n",
       "</table>\n",
       "</div>"
      ],
      "text/plain": [
       "            credit_card  mean_churn\n",
       "0   нет кредитной карты    0.255399\n",
       "1  есть кредитная карта    0.147413"
      ]
     },
     "execution_count": 46,
     "metadata": {},
     "output_type": "execute_result"
    }
   ],
   "source": [
    "credit_card = (\n",
    "    df.groupby('credit_card', as_index=False)\n",
    "    .agg(mean_churn = ('churn', 'mean'))\n",
    ")\n",
    "credit_card['credit_card'] = credit_card['credit_card'].replace(0, 'нет кредитной карты')\n",
    "credit_card['credit_card'] = credit_card['credit_card'].replace(1, 'есть кредитная карта')\n",
    "credit_card"
   ]
  },
  {
   "cell_type": "code",
   "execution_count": 47,
   "metadata": {},
   "outputs": [
    {
     "data": {
      "image/png": "[encoded data removed]",
      "text/plain": [
       "<Figure size 576x432 with 1 Axes>"
      ]
     },
     "metadata": {
      "needs_background": "light"
     },
     "output_type": "display_data"
    }
   ],
   "source": [
    "plt.figure(figsize=(8, 6))\n",
    "sns.barplot(x='credit_card', y='mean_churn', data=credit_card, alpha=0.8)\n",
    "plt.title('Распределение уровня оттока клиентов по наличию кредитной карты')\n",
    "plt.xlabel('наличие кредитной карты')\n",
    "plt.axhline(y=df['churn'].mean(), color='red', linestyle='--')\n",
    "plt.ylabel('доля ушедших клиентов')\n",
    "plt.grid()\n",
    "plt.show()"
   ]
  },
  {
   "cell_type": "markdown",
   "metadata": {},
   "source": [
    "В разрезе наличия / отсутствия кредитный карты отток более свойственен клиентам без кредитной карты банка, их уровень оттока больше среднего оттока по банку ~ на 7,2%."
   ]
  },
  {
   "cell_type": "code",
   "execution_count": 48,
   "metadata": {},
   "outputs": [
    {
     "data": {
      "text/html": [
       "<div>\n",
       "<style scoped>\n",
       "    .dataframe tbody tr th:only-of-type {\n",
       "        vertical-align: middle;\n",
       "    }\n",
       "\n",
       "    .dataframe tbody tr th {\n",
       "        vertical-align: top;\n",
       "    }\n",
       "\n",
       "    .dataframe thead th {\n",
       "        text-align: right;\n",
       "    }\n",
       "</style>\n",
       "<table border=\"1\" class=\"dataframe\">\n",
       "  <thead>\n",
       "    <tr style=\"text-align: right;\">\n",
       "      <th></th>\n",
       "      <th>last_activity</th>\n",
       "      <th>mean_churn</th>\n",
       "    </tr>\n",
       "  </thead>\n",
       "  <tbody>\n",
       "    <tr>\n",
       "      <th>0</th>\n",
       "      <td>не активен</td>\n",
       "      <td>0.113560</td>\n",
       "    </tr>\n",
       "    <tr>\n",
       "      <th>1</th>\n",
       "      <td>активен</td>\n",
       "      <td>0.244126</td>\n",
       "    </tr>\n",
       "  </tbody>\n",
       "</table>\n",
       "</div>"
      ],
      "text/plain": [
       "  last_activity  mean_churn\n",
       "0    не активен    0.113560\n",
       "1       активен    0.244126"
      ]
     },
     "execution_count": 48,
     "metadata": {},
     "output_type": "execute_result"
    }
   ],
   "source": [
    "activity = (\n",
    "    df.groupby('last_activity', as_index=False)\n",
    "    .agg(mean_churn = ('churn', 'mean'))\n",
    ")\n",
    "activity['last_activity'] = activity['last_activity'].replace(0, 'не активен')\n",
    "activity['last_activity'] = activity['last_activity'].replace(1, 'активен')\n",
    "activity"
   ]
  },
  {
   "cell_type": "code",
   "execution_count": 49,
   "metadata": {},
   "outputs": [
    {
     "data": {
      "image/png": "[encoded data removed]",
      "text/plain": [
       "<Figure size 576x432 with 1 Axes>"
      ]
     },
     "metadata": {
      "needs_background": "light"
     },
     "output_type": "display_data"
    }
   ],
   "source": [
    "plt.figure(figsize=(8, 6))\n",
    "sns.barplot(x='last_activity', y='mean_churn', data=activity, alpha=0.8)\n",
    "plt.title('Распределение уровня оттока клиентов по активности')\n",
    "plt.xlabel('активность клиента')\n",
    "plt.axhline(y=df['churn'].mean(), color='red', linestyle='--')\n",
    "plt.ylabel('доля ушедших клиентов')\n",
    "plt.grid()\n",
    "plt.show()"
   ]
  },
  {
   "cell_type": "markdown",
   "metadata": {},
   "source": [
    "Гораздо более склонны к оттоку пользователи, которые были активны в течение последних 3-х месяцев, при этом их уровень оттока также значительно превышает общебанковский."
   ]
  },
  {
   "cell_type": "markdown",
   "metadata": {},
   "source": [
    "<div class=\"alert alert-success\">\n",
    "<h2> Комментарий тимлида 😊<a class=\"tocSkip\"> </h2>\n",
    "\n",
    "Категориальные данные изучены верно. Здорово, что отображаешь среднюю долю оттока по банку!)"
   ]
  },
  {
   "cell_type": "markdown",
   "metadata": {},
   "source": [
    "### Корреляционный анализ"
   ]
  },
  {
   "cell_type": "code",
   "execution_count": 50,
   "metadata": {},
   "outputs": [
    {
     "data": {
      "text/html": [
       "<div>\n",
       "<style scoped>\n",
       "    .dataframe tbody tr th:only-of-type {\n",
       "        vertical-align: middle;\n",
       "    }\n",
       "\n",
       "    .dataframe tbody tr th {\n",
       "        vertical-align: top;\n",
       "    }\n",
       "\n",
       "    .dataframe thead th {\n",
       "        text-align: right;\n",
       "    }\n",
       "</style>\n",
       "<table border=\"1\" class=\"dataframe\">\n",
       "  <thead>\n",
       "    <tr style=\"text-align: right;\">\n",
       "      <th></th>\n",
       "      <th>score</th>\n",
       "      <th>age</th>\n",
       "      <th>equity</th>\n",
       "      <th>balance</th>\n",
       "      <th>products</th>\n",
       "      <th>credit_card</th>\n",
       "      <th>last_activity</th>\n",
       "      <th>est_salary</th>\n",
       "      <th>Ростов</th>\n",
       "      <th>Рыбинск</th>\n",
       "      <th>Ярославль</th>\n",
       "      <th>М</th>\n",
       "      <th>churn</th>\n",
       "    </tr>\n",
       "  </thead>\n",
       "  <tbody>\n",
       "    <tr>\n",
       "      <th>score</th>\n",
       "      <td>1.000000</td>\n",
       "      <td>-0.012339</td>\n",
       "      <td>0.064103</td>\n",
       "      <td>0.235812</td>\n",
       "      <td>-0.003708</td>\n",
       "      <td>-0.094503</td>\n",
       "      <td>-0.031004</td>\n",
       "      <td>0.164049</td>\n",
       "      <td>-0.037572</td>\n",
       "      <td>-0.000609</td>\n",
       "      <td>0.027180</td>\n",
       "      <td>0.012429</td>\n",
       "      <td>0.105634</td>\n",
       "    </tr>\n",
       "    <tr>\n",
       "      <th>age</th>\n",
       "      <td>-0.012339</td>\n",
       "      <td>1.000000</td>\n",
       "      <td>0.020581</td>\n",
       "      <td>0.069745</td>\n",
       "      <td>0.017900</td>\n",
       "      <td>-0.122761</td>\n",
       "      <td>-0.007849</td>\n",
       "      <td>-0.039354</td>\n",
       "      <td>0.047128</td>\n",
       "      <td>0.028978</td>\n",
       "      <td>-0.059549</td>\n",
       "      <td>-0.212628</td>\n",
       "      <td>-0.050463</td>\n",
       "    </tr>\n",
       "    <tr>\n",
       "      <th>equity</th>\n",
       "      <td>0.064103</td>\n",
       "      <td>0.020581</td>\n",
       "      <td>1.000000</td>\n",
       "      <td>0.164126</td>\n",
       "      <td>0.432235</td>\n",
       "      <td>-0.167497</td>\n",
       "      <td>-0.001950</td>\n",
       "      <td>-0.171965</td>\n",
       "      <td>0.036300</td>\n",
       "      <td>-0.005651</td>\n",
       "      <td>-0.020634</td>\n",
       "      <td>-0.021604</td>\n",
       "      <td>0.270581</td>\n",
       "    </tr>\n",
       "    <tr>\n",
       "      <th>balance</th>\n",
       "      <td>0.235812</td>\n",
       "      <td>0.069745</td>\n",
       "      <td>0.164126</td>\n",
       "      <td>1.000000</td>\n",
       "      <td>0.075684</td>\n",
       "      <td>-0.059253</td>\n",
       "      <td>0.025004</td>\n",
       "      <td>0.339622</td>\n",
       "      <td>-0.035805</td>\n",
       "      <td>-0.034697</td>\n",
       "      <td>0.057342</td>\n",
       "      <td>0.051711</td>\n",
       "      <td>0.085577</td>\n",
       "    </tr>\n",
       "    <tr>\n",
       "      <th>products</th>\n",
       "      <td>-0.003708</td>\n",
       "      <td>0.017900</td>\n",
       "      <td>0.432235</td>\n",
       "      <td>0.075684</td>\n",
       "      <td>1.000000</td>\n",
       "      <td>-0.251831</td>\n",
       "      <td>0.036905</td>\n",
       "      <td>-0.118299</td>\n",
       "      <td>-0.006223</td>\n",
       "      <td>-0.042259</td>\n",
       "      <td>0.042515</td>\n",
       "      <td>-0.022916</td>\n",
       "      <td>0.301616</td>\n",
       "    </tr>\n",
       "    <tr>\n",
       "      <th>credit_card</th>\n",
       "      <td>-0.094503</td>\n",
       "      <td>-0.122761</td>\n",
       "      <td>-0.167497</td>\n",
       "      <td>-0.059253</td>\n",
       "      <td>-0.251831</td>\n",
       "      <td>1.000000</td>\n",
       "      <td>-0.033603</td>\n",
       "      <td>0.035432</td>\n",
       "      <td>-0.098534</td>\n",
       "      <td>-0.049880</td>\n",
       "      <td>0.114816</td>\n",
       "      <td>0.126223</td>\n",
       "      <td>-0.130524</td>\n",
       "    </tr>\n",
       "    <tr>\n",
       "      <th>last_activity</th>\n",
       "      <td>-0.031004</td>\n",
       "      <td>-0.007849</td>\n",
       "      <td>-0.001950</td>\n",
       "      <td>0.025004</td>\n",
       "      <td>0.036905</td>\n",
       "      <td>-0.033603</td>\n",
       "      <td>1.000000</td>\n",
       "      <td>0.002947</td>\n",
       "      <td>0.006962</td>\n",
       "      <td>0.048993</td>\n",
       "      <td>-0.049111</td>\n",
       "      <td>-0.013768</td>\n",
       "      <td>0.169037</td>\n",
       "    </tr>\n",
       "    <tr>\n",
       "      <th>est_salary</th>\n",
       "      <td>0.164049</td>\n",
       "      <td>-0.039354</td>\n",
       "      <td>-0.171965</td>\n",
       "      <td>0.339622</td>\n",
       "      <td>-0.118299</td>\n",
       "      <td>0.035432</td>\n",
       "      <td>0.002947</td>\n",
       "      <td>1.000000</td>\n",
       "      <td>-0.106101</td>\n",
       "      <td>-0.057300</td>\n",
       "      <td>0.126870</td>\n",
       "      <td>0.082295</td>\n",
       "      <td>0.001460</td>\n",
       "    </tr>\n",
       "    <tr>\n",
       "      <th>churn</th>\n",
       "      <td>0.105634</td>\n",
       "      <td>-0.050463</td>\n",
       "      <td>0.270581</td>\n",
       "      <td>0.085577</td>\n",
       "      <td>0.301616</td>\n",
       "      <td>-0.130524</td>\n",
       "      <td>0.169037</td>\n",
       "      <td>0.001460</td>\n",
       "      <td>0.006112</td>\n",
       "      <td>-0.031605</td>\n",
       "      <td>0.024165</td>\n",
       "      <td>0.141287</td>\n",
       "      <td>1.000000</td>\n",
       "    </tr>\n",
       "    <tr>\n",
       "      <th>Ростов</th>\n",
       "      <td>-0.037572</td>\n",
       "      <td>0.047128</td>\n",
       "      <td>0.036300</td>\n",
       "      <td>-0.035805</td>\n",
       "      <td>-0.006223</td>\n",
       "      <td>-0.098534</td>\n",
       "      <td>0.006962</td>\n",
       "      <td>-0.106101</td>\n",
       "      <td>1.000000</td>\n",
       "      <td>-0.246763</td>\n",
       "      <td>-0.486296</td>\n",
       "      <td>-0.015072</td>\n",
       "      <td>0.006112</td>\n",
       "    </tr>\n",
       "    <tr>\n",
       "      <th>Рыбинск</th>\n",
       "      <td>-0.000609</td>\n",
       "      <td>0.028978</td>\n",
       "      <td>-0.005651</td>\n",
       "      <td>-0.034697</td>\n",
       "      <td>-0.042259</td>\n",
       "      <td>-0.049880</td>\n",
       "      <td>0.048993</td>\n",
       "      <td>-0.057300</td>\n",
       "      <td>-0.246763</td>\n",
       "      <td>1.000000</td>\n",
       "      <td>-0.726773</td>\n",
       "      <td>-0.015997</td>\n",
       "      <td>-0.031605</td>\n",
       "    </tr>\n",
       "    <tr>\n",
       "      <th>Ярославль</th>\n",
       "      <td>0.027180</td>\n",
       "      <td>-0.059549</td>\n",
       "      <td>-0.020634</td>\n",
       "      <td>0.057342</td>\n",
       "      <td>0.042515</td>\n",
       "      <td>0.114816</td>\n",
       "      <td>-0.049111</td>\n",
       "      <td>0.126870</td>\n",
       "      <td>-0.486296</td>\n",
       "      <td>-0.726773</td>\n",
       "      <td>1.000000</td>\n",
       "      <td>0.025107</td>\n",
       "      <td>0.024165</td>\n",
       "    </tr>\n",
       "    <tr>\n",
       "      <th>М</th>\n",
       "      <td>0.012429</td>\n",
       "      <td>-0.212628</td>\n",
       "      <td>-0.021604</td>\n",
       "      <td>0.051711</td>\n",
       "      <td>-0.022916</td>\n",
       "      <td>0.126223</td>\n",
       "      <td>-0.013768</td>\n",
       "      <td>0.082295</td>\n",
       "      <td>-0.015072</td>\n",
       "      <td>-0.015997</td>\n",
       "      <td>0.025107</td>\n",
       "      <td>1.000000</td>\n",
       "      <td>0.141287</td>\n",
       "    </tr>\n",
       "  </tbody>\n",
       "</table>\n",
       "</div>"
      ],
      "text/plain": [
       "                  score       age    equity   balance  products  credit_card  \\\n",
       "score          1.000000 -0.012339  0.064103  0.235812 -0.003708    -0.094503   \n",
       "age           -0.012339  1.000000  0.020581  0.069745  0.017900    -0.122761   \n",
       "equity         0.064103  0.020581  1.000000  0.164126  0.432235    -0.167497   \n",
       "balance        0.235812  0.069745  0.164126  1.000000  0.075684    -0.059253   \n",
       "products      -0.003708  0.017900  0.432235  0.075684  1.000000    -0.251831   \n",
       "credit_card   -0.094503 -0.122761 -0.167497 -0.059253 -0.251831     1.000000   \n",
       "last_activity -0.031004 -0.007849 -0.001950  0.025004  0.036905    -0.033603   \n",
       "est_salary     0.164049 -0.039354 -0.171965  0.339622 -0.118299     0.035432   \n",
       "churn          0.105634 -0.050463  0.270581  0.085577  0.301616    -0.130524   \n",
       "Ростов        -0.037572  0.047128  0.036300 -0.035805 -0.006223    -0.098534   \n",
       "Рыбинск       -0.000609  0.028978 -0.005651 -0.034697 -0.042259    -0.049880   \n",
       "Ярославль      0.027180 -0.059549 -0.020634  0.057342  0.042515     0.114816   \n",
       "М              0.012429 -0.212628 -0.021604  0.051711 -0.022916     0.126223   \n",
       "\n",
       "               last_activity  est_salary    Ростов   Рыбинск  Ярославль  \\\n",
       "score              -0.031004    0.164049 -0.037572 -0.000609   0.027180   \n",
       "age                -0.007849   -0.039354  0.047128  0.028978  -0.059549   \n",
       "equity             -0.001950   -0.171965  0.036300 -0.005651  -0.020634   \n",
       "balance             0.025004    0.339622 -0.035805 -0.034697   0.057342   \n",
       "products            0.036905   -0.118299 -0.006223 -0.042259   0.042515   \n",
       "credit_card        -0.033603    0.035432 -0.098534 -0.049880   0.114816   \n",
       "last_activity       1.000000    0.002947  0.006962  0.048993  -0.049111   \n",
       "est_salary          0.002947    1.000000 -0.106101 -0.057300   0.126870   \n",
       "churn               0.169037    0.001460  0.006112 -0.031605   0.024165   \n",
       "Ростов              0.006962   -0.106101  1.000000 -0.246763  -0.486296   \n",
       "Рыбинск             0.048993   -0.057300 -0.246763  1.000000  -0.726773   \n",
       "Ярославль          -0.049111    0.126870 -0.486296 -0.726773   1.000000   \n",
       "М                  -0.013768    0.082295 -0.015072 -0.015997   0.025107   \n",
       "\n",
       "                      М     churn  \n",
       "score          0.012429  0.105634  \n",
       "age           -0.212628 -0.050463  \n",
       "equity        -0.021604  0.270581  \n",
       "balance        0.051711  0.085577  \n",
       "products      -0.022916  0.301616  \n",
       "credit_card    0.126223 -0.130524  \n",
       "last_activity -0.013768  0.169037  \n",
       "est_salary     0.082295  0.001460  \n",
       "churn          0.141287  1.000000  \n",
       "Ростов        -0.015072  0.006112  \n",
       "Рыбинск       -0.015997 -0.031605  \n",
       "Ярославль      0.025107  0.024165  \n",
       "М              1.000000  0.141287  "
      ]
     },
     "execution_count": 50,
     "metadata": {},
     "output_type": "execute_result"
    }
   ],
   "source": [
    "corr = (\n",
    "    df.drop(['user_id', 'city', 'gender'], axis=1)\n",
    "    .corr()\n",
    ")\n",
    "corr = corr.iloc[:, [0, 1, 2, 3, 4, 5, 6, 7, 9, 10, 11, 12, 8]]\n",
    "corr"
   ]
  },
  {
   "cell_type": "code",
   "execution_count": 51,
   "metadata": {},
   "outputs": [
    {
     "data": {
      "image/png": "[encoded data removed]",
      "text/plain": [
       "<Figure size 1080x720 with 2 Axes>"
      ]
     },
     "metadata": {
      "needs_background": "light"
     },
     "output_type": "display_data"
    }
   ],
   "source": [
    "plt.figure(figsize=(15, 10))\n",
    "ax = sns.heatmap(corr,\n",
    "                 center=0,\n",
    "                 annot=True,\n",
    "                 cmap='coolwarm'\n",
    ")\n",
    "plt.title('Матрица корреляций')\n",
    "plt.show()"
   ]
  },
  {
   "cell_type": "code",
   "execution_count": 52,
   "metadata": {},
   "outputs": [
    {
     "data": {
      "image/png": "[encoded data removed]",
      "text/plain": [
       "<Figure size 720x576 with 2 Axes>"
      ]
     },
     "metadata": {
      "needs_background": "light"
     },
     "output_type": "display_data"
    }
   ],
   "source": [
    "plt.figure(figsize=(10, 8))\n",
    "ax = sns.heatmap(corr.loc[:, ['churn']].drop('churn').sort_values('churn'),\n",
    "                 center=0,\n",
    "                 annot=True,\n",
    "                 cmap='coolwarm'\n",
    ")\n",
    "plt.title('Корреляция по оттоку')\n",
    "plt.show()"
   ]
  },
  {
   "cell_type": "markdown",
   "metadata": {},
   "source": [
    "Для интерпретации результатов будем опираться на шкалу корреляции Чеддока:\n",
    "- 0,1 – 0,3 — слабая связь\n",
    "- 0,3 – 0,5 — умеренная связь\n",
    "- 0,5 – 0,7 — заметная связь\n",
    "- 0,7–0,9 — высокая связь\n",
    "- 0,9 – 0,99 — весьма высокая связь\n",
    "\n",
    "Так, на основании полученной матрицы корреляции можно сделать следующие выводы:\n",
    "- Ни один из представленных признаков не продемонстрировал наличие заметной, высокой и весьма высокой связи с параметром оттока.\n",
    "- Присутствует умеренная связь оттока и количества используемых клиентом банковских продуктов (`products`) - 0,3\n",
    "- Слабая связь с параметром оттока наблюдается у таких переменных, как:\n",
    "    - количество баллов собственности (0,27)\n",
    "    - признак активности клиента (0,17)\n",
    "    - пол (0,14)\n",
    "    - количество баллов кредитного скоринга (0,1)\n",
    "    - наличие кредитной карты (-0,13 - обратная слабая связь)"
   ]
  },
  {
   "cell_type": "markdown",
   "metadata": {},
   "source": [
    "<div class=\"alert alert-success\">\n",
    "<h2> Комментарий тимлида 😊<a class=\"tocSkip\"> </h2>\n",
    "\n",
    "Чудесная работа по корреляционному анализу! Здорово, что ты добавила описание полученных результатов) "
   ]
  },
  {
   "cell_type": "markdown",
   "metadata": {},
   "source": [
    "<div class=\"alert alert-warning\">\n",
    "<h2> Комментарий тимлида 🤓<a class=\"tocSkip\"> </h2>\n",
    "  \n",
    "Такие тепловые карты в презентации не стоит указывать. Будет хорошо вывести данные только по одному интересующему нас столбцу В презентации к вводной встрече есть пример, как это сделать)\n",
    "    "
   ]
  },
  {
   "cell_type": "markdown",
   "metadata": {},
   "source": [
    "<div class=\"alert alert-info\"> <b>Комментарий студента:</b> \n",
    "\n",
    "Отдельно вывела корреляцию только по столбцу оттока)\n",
    "</div>"
   ]
  },
  {
   "cell_type": "markdown",
   "metadata": {},
   "source": [
    "<div class=\"alert alert-success\">\n",
    "<h2> Комментарий тимлида 😊 v_2 <a class=\"tocSkip\"> </h2>\n",
    "\n",
    "Супер)"
   ]
  },
  {
   "cell_type": "markdown",
   "metadata": {},
   "source": [
    "## Формулирование и проверка гипотез"
   ]
  },
  {
   "cell_type": "markdown",
   "metadata": {},
   "source": [
    "Для проверки гипотезы о равенстве средних двух генеральных совокупностей используют t-критерий Стьюдента.<br>\n",
    "T-тест предполагает, что данные соответствуют следующим требованиям:\n",
    "- Генеральные совокупности не зависят друг от друга.\n",
    "- Выборочные средние нормально распределены. \n",
    "- Дисперсии рассматриваемых генеральных совокупностей равны."
   ]
  },
  {
   "cell_type": "markdown",
   "metadata": {},
   "source": [
    "Проверим размеры и дисперсии выборок."
   ]
  },
  {
   "cell_type": "code",
   "execution_count": 53,
   "metadata": {},
   "outputs": [
    {
     "name": "stdout",
     "output_type": "stream",
     "text": [
      "Оставшиеся клиенты\n",
      "Размер выборки: 8180\n",
      "Дисперсия выборки: 20390026478.42\n"
     ]
    }
   ],
   "source": [
    "print('Оставшиеся клиенты')\n",
    "print('Размер выборки:', len(df[df['churn'] == 0]))\n",
    "print('Дисперсия выборки:', np.var(df[df['churn'] == 0])['est_salary'].round(2))"
   ]
  },
  {
   "cell_type": "code",
   "execution_count": 54,
   "metadata": {},
   "outputs": [
    {
     "name": "stdout",
     "output_type": "stream",
     "text": [
      "Отточные клиенты\n",
      "Размер выборки: 1819\n",
      "Дисперсия выборки: 15099630339.65\n"
     ]
    }
   ],
   "source": [
    "print('Отточные клиенты')\n",
    "print('Размер выборки:', len(df[df['churn'] == 1]))\n",
    "print('Дисперсия выборки:', np.var(df[df['churn'] == 1])['est_salary'].round(2))"
   ]
  },
  {
   "cell_type": "markdown",
   "metadata": {},
   "source": [
    "Поскольку размеры выборок и их дисперсии существенно отличаются, а распределение данных не подходит под нормальное из-за наличия больших значений (выбросов), проведем проверку с помощью 2 критериев: t-критерия Стьюдента и u-критерия Манна-Уитни.<br>\n",
    "Для проверки t-критерия будем применять метод scipy.stats.ttest_ind() с параметрами alternative='two-sided' и equal_var=False.<br>\n",
    "Пороговое значение alpha зададим равное 0.05, как общепринятое."
   ]
  },
  {
   "cell_type": "markdown",
   "metadata": {},
   "source": [
    "### Проверка гипотезы различия дохода между теми клиентами, которые ушли и теми, которые остались."
   ]
  },
  {
   "cell_type": "markdown",
   "metadata": {},
   "source": [
    "Сформулируем нулевую и альтернативную гипотезы:<br>\n",
    "H0: Средние оценочные доходы отточных клиентов **равны** средним оценочным доходам оставшихся клиентов.<br>\n",
    "H1: Средние оценочные доходы отточных клиентов **не равны** средним оценочным доходам оставшихся клиентов.<br>"
   ]
  },
  {
   "cell_type": "markdown",
   "metadata": {},
   "source": [
    "<div class=\"alert alert-success\">\n",
    "<h2> Комментарий тимлида 😊<a class=\"tocSkip\"> </h2>\n",
    "\n",
    "Гипотезы сформулированs верно)"
   ]
  },
  {
   "cell_type": "code",
   "execution_count": 55,
   "metadata": {},
   "outputs": [
    {
     "name": "stdout",
     "output_type": "stream",
     "text": [
      "p-значение: 0.8724727072323815\n",
      "Не получилось отвергнуть нулевую гипотезу\n"
     ]
    }
   ],
   "source": [
    "alpha = 0.05\n",
    "\n",
    "results = st.ttest_ind(\n",
    "    df.loc[df['churn'] == 0, 'est_salary'],\n",
    "    df.loc[df['churn'] == 1, 'est_salary'],\n",
    "    equal_var=False,\n",
    "    alternative='two-sided'\n",
    ")\n",
    "\n",
    "print('p-значение:', results.pvalue)\n",
    "\n",
    "if results.pvalue < alpha:\n",
    "    print('Отвергаем нулевую гипотезу')\n",
    "else:\n",
    "    print('Не получилось отвергнуть нулевую гипотезу')"
   ]
  },
  {
   "cell_type": "markdown",
   "metadata": {},
   "source": [
    "Вывод:<br>\n",
    "На основании t-теста при уровне значимости 5% мы не можем отвергнуть нулевую гипотезу о том, что средние оценочные доходы клиентов, которые ушли и которые остались, одинаковы.\n",
    "\n",
    "Дополнительно произведем проверку с помощью непараметрического u-критерия Манна-Уитни. Его основное отличие состоит в том, что он работает с рангами, не учитывая сами значения. Непараметрические методы используют при наличии в данных выбросов, которые могут сдвигать параметрические результаты."
   ]
  },
  {
   "cell_type": "code",
   "execution_count": 56,
   "metadata": {},
   "outputs": [
    {
     "name": "stdout",
     "output_type": "stream",
     "text": [
      "p-значение: 0.0002116065\n",
      "Отвергаем нулевую гипотезу\n"
     ]
    }
   ],
   "source": [
    "alpha = 0.05\n",
    "\n",
    "results = st.mannwhitneyu(\n",
    "    df.loc[df['churn'] == 0, 'est_salary'], \n",
    "    df.loc[df['churn'] == 1, 'est_salary']\n",
    ")\n",
    "\n",
    "print('p-значение: {:.10f}'.format(results[1]))\n",
    "if (results[1] < alpha):\n",
    "    print('Отвергаем нулевую гипотезу')\n",
    "else:\n",
    "    print('Не получилось отвергнуть нулевую гипотезу')"
   ]
  },
  {
   "cell_type": "markdown",
   "metadata": {},
   "source": [
    "Вывод:<br>\n",
    "Проверка гипотез  u-критерием при уровне значимости 5% позволила отвергнуть нулевую гипотезу о том, что средние оценочные доходы клиентов, которые ушли и которые остались, одинаковы. Есть основания полагать, что доходы отточных и оставшихся клиентов различны."
   ]
  },
  {
   "cell_type": "markdown",
   "metadata": {},
   "source": [
    "<div class=\"alert alert-success\">\n",
    "<h2> Комментарий тимлида 😊<a class=\"tocSkip\"> </h2>\n",
    "\n",
    "Правильно)"
   ]
  },
  {
   "cell_type": "markdown",
   "metadata": {},
   "source": [
    "### Проверка гипотезы различия среднего количества баллов собственности клиентов, которые ушли, и клиентов, которые остались."
   ]
  },
  {
   "cell_type": "markdown",
   "metadata": {},
   "source": [
    "Сформулируем нулевую и альтернативную гипотезы:<br>\n",
    "H0: Среднее количество баллов собственности отточных клиентов **равно** среднему количеству баллов оставшихся клиентов.<br>\n",
    "H1: Среднее количество баллов собственности отточных клиентов **не равно** среднему количеству баллов оставшихся клиентов.<br>"
   ]
  },
  {
   "cell_type": "code",
   "execution_count": 57,
   "metadata": {},
   "outputs": [
    {
     "name": "stdout",
     "output_type": "stream",
     "text": [
      "Дисперсия оставшихся клиентов: 3.89\n",
      "Дисперсия отточных клиентов: 2.51\n"
     ]
    }
   ],
   "source": [
    "print('Дисперсия оставшихся клиентов:', np.var(df[df['churn'] == 0])['equity'].round(2))\n",
    "print('Дисперсия отточных клиентов:', np.var(df[df['churn'] == 1])['equity'].round(2))"
   ]
  },
  {
   "cell_type": "code",
   "execution_count": 58,
   "metadata": {},
   "outputs": [
    {
     "data": {
      "image/png": "[encoded data removed]",
      "text/plain": [
       "<Figure size 432x288 with 1 Axes>"
      ]
     },
     "metadata": {
      "needs_background": "light"
     },
     "output_type": "display_data"
    }
   ],
   "source": [
    "sns.kdeplot(data=df, x='equity', hue='churn')\n",
    "plt.show()"
   ]
  },
  {
   "cell_type": "markdown",
   "metadata": {},
   "source": [
    "Поскольку дисперсии выборок различны, а распределение данных не подходит под нормальное, проверку гипотез осуществим с помощью u-критерия Манна-Уитни."
   ]
  },
  {
   "cell_type": "code",
   "execution_count": 59,
   "metadata": {},
   "outputs": [
    {
     "name": "stdout",
     "output_type": "stream",
     "text": [
      "p-значение: 2.03458413970638e-158\n",
      "Отвергаем нулевую гипотезу\n"
     ]
    }
   ],
   "source": [
    "alpha = 0.05\n",
    "\n",
    "results = st.mannwhitneyu(\n",
    "    df.loc[df['churn'] == 0, 'equity'], \n",
    "    df.loc[df['churn'] == 1, 'equity']\n",
    ")\n",
    "\n",
    "print('p-значение: {}'.format(results[1]))\n",
    "if (results[1] < alpha):\n",
    "    print('Отвергаем нулевую гипотезу')\n",
    "else:\n",
    "    print('Не получилось отвергнуть нулевую гипотезу')"
   ]
  },
  {
   "cell_type": "markdown",
   "metadata": {},
   "source": [
    "Вывод:<br>\n",
    "P-value значительно меньше 0.05 - следовательно, есть основания полагать, что среднее количество баллов собственности отточных и оставшихся клиентов различно."
   ]
  },
  {
   "cell_type": "markdown",
   "metadata": {},
   "source": [
    "<div class=\"alert alert-block alert-danger\">\n",
    "<h2> Комментарий тимлида ⛔️<a class=\"tocSkip\"></h2>\n",
    "<s>\n",
    "Говорим о возрасте, а тест по баллам собственности) Давай скорректируем)"
   ]
  },
  {
   "cell_type": "markdown",
   "metadata": {},
   "source": [
    "<div class=\"alert alert-info\"> <b>Комментарий студента:</b> \n",
    "\n",
    "Изначально хотела проверить именно баллы собственности, скорректировала переменную в проверке дисперсии, распределении и выводах 😅\n",
    "</div>"
   ]
  },
  {
   "cell_type": "markdown",
   "metadata": {},
   "source": [
    "<div class=\"alert alert-success\">\n",
    "<h2> Комментарий тимлида 😊 v_2 <a class=\"tocSkip\"> </h2>\n",
    "\n",
    "Хорошо)"
   ]
  },
  {
   "cell_type": "markdown",
   "metadata": {},
   "source": [
    "### Подведение промежуточного итога о стратегическом влиянии показателей на отток"
   ]
  },
  {
   "cell_type": "markdown",
   "metadata": {},
   "source": [
    "На основании проведенного исследовательского анализа данных и проверки гипотез с помощью статистических критериев можно сделать вывод, что наибольшее стратегическое влияние на отток имеют следующие показатели:\n",
    "1. *Пол*<br>\n",
    "Клиенты мужчины имеют большую мобильность в распоряжении финансовыми средствами, клиенты женщины тяготеют к стабильности и большей инертности.\n",
    "2. *Объем денежных средств, размещенных в банке*<br>\n",
    "Преодоление порога в размере 700 тысяч создает у клиента потребность в перераспределении дополнительно возникающих средств в более выгодные финансовые инструменты.\n",
    "3. *Возрастной диапазон*<br>\n",
    "Период с 25 до 35 лет - максимально активный возраст личности с большим количеством реализуемых проектов, в т.ч. финансово емких, в этом периоде клиентами банка чаще всего привлекаются заемные средства для реализации образовательных и жилищных проектов, поэтому они наиболее заинтересованы в поиске оптимального решения для их финансирования.<br>\n",
    "Возрастной диапазон от 49 до 61 характеризуется большей финансовой свободой в связи с уже выполненными финансовыми обязательствами по жилищных проектам, выросшими и приобретшими самостоятельность детьми, но у таких клиентов сохраняется проблема обеспечения пенсионного возраста и поиска наиболее эффективного инвестиционного инструмента для размещения накоплений.\n",
    "4. *Кредитный рейтинг*<br>\n",
    "По достижении кредитного рейтинга в размере 825 баллов клиент банка становится достаточно привлекательным для кредитующих финансовых институтов, что позволяет банкам с минимальным риском предлагать кредитные и прочие продукты, создавая конкуренцию друг другу, чем увеличивают свободу выбора и мобильность подобных клиентов.\n",
    "5. *Количество баллов собственности*<br>\n",
    "Вероятно, наличие высокого балла является признаком многочисленной и разноплановой собственности, что создает потенциал обращения собственности в денежные средства с последующим использованием их для инвестиций.\n",
    "\n",
    "Факторы наличия кредитной карты, количества используемых банковских продуктов и активности являются скорее следствием позиции и степеней свободы клиента."
   ]
  },
  {
   "cell_type": "markdown",
   "metadata": {},
   "source": [
    "<div class=\"alert alert-success\">\n",
    "<h2> Комментарий тимлида 😊  <a class=\"tocSkip\"> </h2>\n",
    "\n",
    "Подробный вывод)"
   ]
  },
  {
   "cell_type": "markdown",
   "metadata": {},
   "source": [
    "## Сегментация клиентов и приоритизация сегментов"
   ]
  },
  {
   "cell_type": "code",
   "execution_count": 60,
   "metadata": {},
   "outputs": [
    {
     "name": "stdout",
     "output_type": "stream",
     "text": [
      "Средний уровень оттока по банку: 18.19%\n"
     ]
    }
   ],
   "source": [
    "print(f\"Средний уровень оттока по банку: {df['churn'].mean():.2%}\")"
   ]
  },
  {
   "cell_type": "markdown",
   "metadata": {},
   "source": [
    "**Сегмент 1**\n",
    "- Оценочный доход: от 100 000 до 220 000\n",
    "- Количество баллов собственности: более 2\n",
    "- Активен"
   ]
  },
  {
   "cell_type": "code",
   "execution_count": 61,
   "metadata": {},
   "outputs": [
    {
     "data": {
      "text/html": [
       "<div>\n",
       "<style scoped>\n",
       "    .dataframe tbody tr th:only-of-type {\n",
       "        vertical-align: middle;\n",
       "    }\n",
       "\n",
       "    .dataframe tbody tr th {\n",
       "        vertical-align: top;\n",
       "    }\n",
       "\n",
       "    .dataframe thead th {\n",
       "        text-align: right;\n",
       "    }\n",
       "</style>\n",
       "<table border=\"1\" class=\"dataframe\">\n",
       "  <thead>\n",
       "    <tr style=\"text-align: right;\">\n",
       "      <th></th>\n",
       "      <th>churn</th>\n",
       "    </tr>\n",
       "  </thead>\n",
       "  <tbody>\n",
       "    <tr>\n",
       "      <th>mean</th>\n",
       "      <td>0.445378</td>\n",
       "    </tr>\n",
       "    <tr>\n",
       "      <th>sum</th>\n",
       "      <td>583.000000</td>\n",
       "    </tr>\n",
       "    <tr>\n",
       "      <th>count</th>\n",
       "      <td>1309.000000</td>\n",
       "    </tr>\n",
       "  </tbody>\n",
       "</table>\n",
       "</div>"
      ],
      "text/plain": [
       "             churn\n",
       "mean      0.445378\n",
       "sum     583.000000\n",
       "count  1309.000000"
      ]
     },
     "execution_count": 61,
     "metadata": {},
     "output_type": "execute_result"
    }
   ],
   "source": [
    "segment_1 = df.query('100000 <= est_salary <= 220000 and equity > 2 and last_activity == 1')\n",
    "segment_1.agg({\"churn\":['mean','sum','count']})"
   ]
  },
  {
   "cell_type": "markdown",
   "metadata": {},
   "source": [
    "**Сегмент 2**\n",
    "- Пол: мужчина\n",
    "- Баланс на счете: более 1 250 000\n",
    "- Нет кредитной карты"
   ]
  },
  {
   "cell_type": "code",
   "execution_count": 62,
   "metadata": {},
   "outputs": [
    {
     "data": {
      "text/html": [
       "<div>\n",
       "<style scoped>\n",
       "    .dataframe tbody tr th:only-of-type {\n",
       "        vertical-align: middle;\n",
       "    }\n",
       "\n",
       "    .dataframe tbody tr th {\n",
       "        vertical-align: top;\n",
       "    }\n",
       "\n",
       "    .dataframe thead th {\n",
       "        text-align: right;\n",
       "    }\n",
       "</style>\n",
       "<table border=\"1\" class=\"dataframe\">\n",
       "  <thead>\n",
       "    <tr style=\"text-align: right;\">\n",
       "      <th></th>\n",
       "      <th>churn</th>\n",
       "    </tr>\n",
       "  </thead>\n",
       "  <tbody>\n",
       "    <tr>\n",
       "      <th>mean</th>\n",
       "      <td>0.59824</td>\n",
       "    </tr>\n",
       "    <tr>\n",
       "      <th>sum</th>\n",
       "      <td>204.00000</td>\n",
       "    </tr>\n",
       "    <tr>\n",
       "      <th>count</th>\n",
       "      <td>341.00000</td>\n",
       "    </tr>\n",
       "  </tbody>\n",
       "</table>\n",
       "</div>"
      ],
      "text/plain": [
       "           churn\n",
       "mean     0.59824\n",
       "sum    204.00000\n",
       "count  341.00000"
      ]
     },
     "execution_count": 62,
     "metadata": {},
     "output_type": "execute_result"
    }
   ],
   "source": [
    "segment_2 = df.query('gender == \"М\" and balance >= 1250000 and credit_card == 0')\n",
    "segment_2.agg({\"churn\":['mean','sum','count']})"
   ]
  },
  {
   "cell_type": "markdown",
   "metadata": {},
   "source": [
    "**Сегмент 3**\n",
    "- Количество баллов кредитного скоринга: от 820 до 910\n",
    "- Количество используемых банковских продуктов: более 3"
   ]
  },
  {
   "cell_type": "code",
   "execution_count": 63,
   "metadata": {
    "scrolled": true
   },
   "outputs": [
    {
     "data": {
      "text/html": [
       "<div>\n",
       "<style scoped>\n",
       "    .dataframe tbody tr th:only-of-type {\n",
       "        vertical-align: middle;\n",
       "    }\n",
       "\n",
       "    .dataframe tbody tr th {\n",
       "        vertical-align: top;\n",
       "    }\n",
       "\n",
       "    .dataframe thead th {\n",
       "        text-align: right;\n",
       "    }\n",
       "</style>\n",
       "<table border=\"1\" class=\"dataframe\">\n",
       "  <thead>\n",
       "    <tr style=\"text-align: right;\">\n",
       "      <th></th>\n",
       "      <th>churn</th>\n",
       "    </tr>\n",
       "  </thead>\n",
       "  <tbody>\n",
       "    <tr>\n",
       "      <th>mean</th>\n",
       "      <td>0.547009</td>\n",
       "    </tr>\n",
       "    <tr>\n",
       "      <th>sum</th>\n",
       "      <td>192.000000</td>\n",
       "    </tr>\n",
       "    <tr>\n",
       "      <th>count</th>\n",
       "      <td>351.000000</td>\n",
       "    </tr>\n",
       "  </tbody>\n",
       "</table>\n",
       "</div>"
      ],
      "text/plain": [
       "            churn\n",
       "mean     0.547009\n",
       "sum    192.000000\n",
       "count  351.000000"
      ]
     },
     "execution_count": 63,
     "metadata": {},
     "output_type": "execute_result"
    }
   ],
   "source": [
    "segment_3 = df.query('820 <= score <= 910 and products > 3')\n",
    "segment_3.agg({\"churn\":['mean','sum','count']})"
   ]
  },
  {
   "cell_type": "markdown",
   "metadata": {},
   "source": [
    "**Сегмент 4**\n",
    "- Возраст: от 49 до 61\n",
    "- Количество баллов собственности: более 3\n",
    "- Активен"
   ]
  },
  {
   "cell_type": "code",
   "execution_count": 64,
   "metadata": {
    "scrolled": true
   },
   "outputs": [
    {
     "data": {
      "text/html": [
       "<div>\n",
       "<style scoped>\n",
       "    .dataframe tbody tr th:only-of-type {\n",
       "        vertical-align: middle;\n",
       "    }\n",
       "\n",
       "    .dataframe tbody tr th {\n",
       "        vertical-align: top;\n",
       "    }\n",
       "\n",
       "    .dataframe thead th {\n",
       "        text-align: right;\n",
       "    }\n",
       "</style>\n",
       "<table border=\"1\" class=\"dataframe\">\n",
       "  <thead>\n",
       "    <tr style=\"text-align: right;\">\n",
       "      <th></th>\n",
       "      <th>churn</th>\n",
       "    </tr>\n",
       "  </thead>\n",
       "  <tbody>\n",
       "    <tr>\n",
       "      <th>mean</th>\n",
       "      <td>0.428571</td>\n",
       "    </tr>\n",
       "    <tr>\n",
       "      <th>sum</th>\n",
       "      <td>198.000000</td>\n",
       "    </tr>\n",
       "    <tr>\n",
       "      <th>count</th>\n",
       "      <td>462.000000</td>\n",
       "    </tr>\n",
       "  </tbody>\n",
       "</table>\n",
       "</div>"
      ],
      "text/plain": [
       "            churn\n",
       "mean     0.428571\n",
       "sum    198.000000\n",
       "count  462.000000"
      ]
     },
     "execution_count": 64,
     "metadata": {},
     "output_type": "execute_result"
    }
   ],
   "source": [
    "segment_4 = df.query('49 <= age <= 61 and equity > 3 and last_activity==1')\n",
    "segment_4.agg({\"churn\":['mean','sum','count']})"
   ]
  },
  {
   "cell_type": "markdown",
   "metadata": {},
   "source": [
    "**Сегмент 5**\n",
    "- Возраст: от 25 до 35\n",
    "- Количество баллов кредитного скоринга: от 820 до 910\n",
    "- Нет кредитной карты"
   ]
  },
  {
   "cell_type": "code",
   "execution_count": 65,
   "metadata": {
    "scrolled": true
   },
   "outputs": [
    {
     "data": {
      "text/html": [
       "<div>\n",
       "<style scoped>\n",
       "    .dataframe tbody tr th:only-of-type {\n",
       "        vertical-align: middle;\n",
       "    }\n",
       "\n",
       "    .dataframe tbody tr th {\n",
       "        vertical-align: top;\n",
       "    }\n",
       "\n",
       "    .dataframe thead th {\n",
       "        text-align: right;\n",
       "    }\n",
       "</style>\n",
       "<table border=\"1\" class=\"dataframe\">\n",
       "  <thead>\n",
       "    <tr style=\"text-align: right;\">\n",
       "      <th></th>\n",
       "      <th>churn</th>\n",
       "    </tr>\n",
       "  </thead>\n",
       "  <tbody>\n",
       "    <tr>\n",
       "      <th>mean</th>\n",
       "      <td>0.455189</td>\n",
       "    </tr>\n",
       "    <tr>\n",
       "      <th>sum</th>\n",
       "      <td>193.000000</td>\n",
       "    </tr>\n",
       "    <tr>\n",
       "      <th>count</th>\n",
       "      <td>424.000000</td>\n",
       "    </tr>\n",
       "  </tbody>\n",
       "</table>\n",
       "</div>"
      ],
      "text/plain": [
       "            churn\n",
       "mean     0.455189\n",
       "sum    193.000000\n",
       "count  424.000000"
      ]
     },
     "execution_count": 65,
     "metadata": {},
     "output_type": "execute_result"
    }
   ],
   "source": [
    "segment_5 = df.query('25 <= age <= 35 and 825 <= score <= 910 and credit_card==0')\n",
    "segment_5.agg({\"churn\":['mean','sum','count']})"
   ]
  },
  {
   "cell_type": "markdown",
   "metadata": {},
   "source": [
    "Приоритизируем полученные сегменты по мере убывания процента отточных клиентов. \n",
    "\n",
    "**1. Сегмент 2**\n",
    "- Пол: мужчина\n",
    "- Баланс на счете: более 1 250 000\n",
    "- Нет кредитной карты\n",
    "\n",
    "- Уровень оттока: 61,9%\n",
    "- Количество отточных клиентов: 195\n",
    "- Общий размер сегмента: 315\n",
    "\n",
    "**2. Сегмент 3**\n",
    "- Количество баллов кредитного скоринга: от 820 до 910\n",
    "- Количество используемых банковских продуктов: более 3\n",
    "- Уровень оттока: 54,7%\n",
    "- Количество отточных клиентов: 192\n",
    "- Общий размер сегмента: 351\n",
    "\n",
    "**3. Сегмент 5**\n",
    "- Возраст: от 25 до 35\n",
    "- Количество баллов кредитного скоринга: от 820 до 910\n",
    "- Нет кредитной карты\n",
    "\n",
    "- Уровень оттока: 45,5%\n",
    "- Количество отточных клиентов: 193\n",
    "- Общий размер сегмента: 424\n",
    "\n",
    "**4. Сегмент 1**\n",
    "- Оценочный доход: от 100 000 до 220 000\n",
    "- Количество баллов собственности: более 2\n",
    "- Активен\n",
    "\n",
    "- Уровень оттока: 44,5%\n",
    "- Количество отточных клиентов: 583\n",
    "- Общий размер сегмента: 1308\n",
    "\n",
    "**5. Сегмент 4**\n",
    "- Возраст: от 49 до 61\n",
    "- Количество баллов собственности: более 3\n",
    "- Активен\n",
    "\n",
    "- Уровень оттока: 42,7%\n",
    "- Количество отточных клиентов: 191\n",
    "- Общий размер сегмента: 447"
   ]
  },
  {
   "cell_type": "markdown",
   "metadata": {},
   "source": [
    "<div class=\"alert alert-success\">\n",
    "<h2> Комментарий тимлида 😊<a class=\"tocSkip\"> </h2>\n",
    "\n",
    "Отличная работа по сегментации клиентов, нашли очень отточный сегмент!) "
   ]
  },
  {
   "cell_type": "markdown",
   "metadata": {},
   "source": [
    "## Формирование вывода и рекомендаций для заказчика"
   ]
  },
  {
   "cell_type": "markdown",
   "metadata": {},
   "source": [
    "В рамках проекта был проведен анализ оттока и сегментирование клиента банка «Метанпромбанк».\n",
    "\n",
    "В ходе подготовки данных были выполнены следующие действия:\n",
    "- Названия столбцов приведены к единому стилю\n",
    "- Исследованы пропущенные значения в столбцах age и balance - выявлено, что пропуски относятся к типу MNAR, в связи с чем принято решение оставить их без изменений.\n",
    "- Произведена проверка на наличие явных и неявных дубликатов - устранены дублирования в столбце user_id\n",
    "- Обработаны аномальные значения в переменных balance, est_salary и products\n",
    "- Переменные city и gender численно закодированы для дальнейшего построения корреляционной матрицы\n",
    "\n",
    "На этапе анализа данных были составлены портреты типичных клиентов банка в разрезе отточности, изучены особенности распределения клиентов по непрерывным показателям и уровня оттока по категориальным показателям, а также построена корреляционная матрица, результаты которой интерпретированы с помощью шкалы Чеддока.\n",
    "\n",
    "По результатам проверки гипотез о равенстве средних доходов оставшихся и отточных клиентов и гипотезы о равенстве среднего количества баллов собственности оставшихся и отточных клиентов было выявлено, что есть основания полагать, что в доходах и баллах собственности присутствуют различия.\n",
    "\n",
    "Далее была проведена сегментация клиентов по ранее выявленным показателям, оказывающим наибольшее стратегическое влияние на отток, данные сегменты приоритизированы по мере убывания процента отточных клиентов в сегменте.\n",
    "\n",
    "Ниже приведены рекомендации для отдела маркетинга по работе с данными сегментами в порядке их приоритетности."
   ]
  },
  {
   "cell_type": "markdown",
   "metadata": {},
   "source": [
    "**Рекомендации для отдела маркетинга**\n",
    "\n",
    "**Сегмент 2**\n",
    "- Пол: мужчина\n",
    "- Баланс на счете: более 1 250 000\n",
    "- Нет кредитной карты\n",
    "\n",
    "Рекомендации:<br>\n",
    "Данная группа демонстрирует максимальную финансовую независимость, вероятно, что для них будут привлекательны разнообразные, простые и доступные в понимании инвестиционные инструменты с минимальными рисками, как то: гарантированные вложения в ПИФы, приобретение драг. металлов, акции широко известных успешных компаний.\n",
    "\n",
    "**Сегмент 3**\n",
    "- Количество баллов кредитного скоринга: от 820 до 910\n",
    "- Количество используемых банковских продуктов: более 3\n",
    "\n",
    "Рекомендации:<br>\n",
    "С учетом достаточно высокого кредитного рейтинга данная группа является привлекательной для кредитования большинством банков, поэтому стоит акцентироваться на индивидуальных и комплексных кредитных программах.\n",
    "\n",
    "**Сегмент 5**\n",
    "- Возраст: от 25 до 35\n",
    "- Количество баллов кредитного скоринга: от 820 до 910\n",
    "- Нет кредитной карты\n",
    "\n",
    "Рекомендации:<br>\n",
    "Повышение привлекательности условий получения кредитной карты банка и ее обслуживания и расширение спектра кредитных программ на различные нужды (аналогично сегменту 1), поскольку данная возрастная категория является самой активной в смысле трат, имеет самый широкий диапазон применения денежных средств и как правило недостаточно высокие доходы с учетом нынешних цен.\n",
    "\n",
    "**Сегмент 1**\n",
    "- Оценочный доход: от 100 000 до 220 000\n",
    "- Количество баллов собственности: более 2\n",
    "- Активен\n",
    "\n",
    "Рекомендации:<br>\n",
    "Повышать закредитованность клиентов на самые различные нужды:\n",
    "- короткосрочные и долгосрочные образовательные программы\n",
    "- кредитование под отдых\n",
    "- кредитование под ремонтные проекты и т.д.<br>\n",
    "\n",
    "Стремиться к максимальному расширению перечня программ кредитования и информирования об этом клиентов, а также повышать привлекательность программ кешбэка, как общего от ежемесячных затрат, так и тематического.\n",
    "\n",
    "**Сегмент 4**\n",
    "- Возраст: от 49 до 61\n",
    "- Количество баллов собственности: более 3\n",
    "- Активен\n",
    "\n",
    "Рекомендации:<br>\n",
    "Широкое информирование клиентов об инвестиционных инструментах и пенсионных фондах, консультирование по вопросам перераспределения накоплений и объектов собственности, предложение привлекательных страховых программ (например, медицинского страхования)."
   ]
  },
  {
   "cell_type": "markdown",
   "metadata": {},
   "source": [
    "<div class=\"alert alert-success\">\n",
    "<h2> Комментарий тимлида 😊<a class=\"tocSkip\"> </h2>\n",
    "\n",
    "Прекрасная работа с выводами и рекомендации по сегментам!) "
   ]
  },
  {
   "cell_type": "markdown",
   "metadata": {},
   "source": [
    "<div style=\"border:solid Purple 2px; padding: 40px\">\n",
    "\n",
    "<h2> Общий комментарий тимлида 😊<a class=\"tocSkip\"> </h2>\n",
    "    <br/>\n",
    "Алина, ты замечательно справилась с проектом, все основные задачи выполнены!) Особенно хочу отметить сегментацию и работу с выводами в проекте!)  Но есть несколько важных моментов, которые необходимо доработать:\n",
    "    \n",
    "* Аномалии;\n",
    "* Скорректировать легенды;\n",
    "* Тест;\n",
    "* Остальные комментарии ты найдешь в работе    \n",
    "    \n",
    " Буду ждать презентацию на следующее ревью)"
   ]
  },
  {
   "cell_type": "markdown",
   "metadata": {},
   "source": [
    "<div style=\"border:solid Purple 2px; padding: 40px\">\n",
    "\n",
    "<h2> Общий комментарий тимлида 😊 v_5 <a class=\"tocSkip\"> </h2>\n",
    "    <br/>\n",
    "\n",
    "Отлично, спасибо за проект! Поздравляю с успешной сдачей!)"
   ]
  }
 ],
 "metadata": {
  "ExecuteTimeLog": [
   {
    "duration": 1466,
    "start_time": "2024-09-08T20:53:40.391Z"
   },
   {
    "duration": 146,
    "start_time": "2024-09-08T20:56:14.182Z"
   },
   {
    "duration": 23,
    "start_time": "2024-09-08T20:56:24.973Z"
   },
   {
    "duration": 12,
    "start_time": "2024-09-08T20:56:53.712Z"
   },
   {
    "duration": 39,
    "start_time": "2024-09-08T20:58:05.382Z"
   },
   {
    "duration": 8,
    "start_time": "2024-09-08T21:00:18.467Z"
   },
   {
    "duration": 7,
    "start_time": "2024-09-08T21:01:26.278Z"
   },
   {
    "duration": 53,
    "start_time": "2024-09-08T21:01:38.236Z"
   },
   {
    "duration": 13,
    "start_time": "2024-09-08T21:02:12.794Z"
   },
   {
    "duration": 14,
    "start_time": "2024-09-08T21:02:24.442Z"
   },
   {
    "duration": 12,
    "start_time": "2024-09-08T21:02:47.438Z"
   },
   {
    "duration": 12,
    "start_time": "2024-09-08T21:02:55.538Z"
   },
   {
    "duration": 13,
    "start_time": "2024-09-08T21:03:02.028Z"
   },
   {
    "duration": 3,
    "start_time": "2024-09-08T21:08:10.475Z"
   },
   {
    "duration": 12,
    "start_time": "2024-09-08T21:08:35.660Z"
   },
   {
    "duration": 5,
    "start_time": "2024-09-08T21:11:10.153Z"
   },
   {
    "duration": 10,
    "start_time": "2024-09-08T21:12:15.744Z"
   },
   {
    "duration": 9,
    "start_time": "2024-09-08T21:12:30.230Z"
   },
   {
    "duration": 6,
    "start_time": "2024-09-08T21:12:49.709Z"
   },
   {
    "duration": 5,
    "start_time": "2024-09-08T21:13:10.847Z"
   },
   {
    "duration": 5,
    "start_time": "2024-09-08T21:13:40.645Z"
   },
   {
    "duration": 5,
    "start_time": "2024-09-08T21:13:42.218Z"
   },
   {
    "duration": 42,
    "start_time": "2024-09-08T21:18:01.005Z"
   },
   {
    "duration": 39,
    "start_time": "2024-09-08T21:18:31.159Z"
   },
   {
    "duration": 39,
    "start_time": "2024-09-08T21:18:47.196Z"
   },
   {
    "duration": 36,
    "start_time": "2024-09-08T21:18:57.206Z"
   },
   {
    "duration": 256,
    "start_time": "2024-09-08T21:24:06.151Z"
   },
   {
    "duration": 296,
    "start_time": "2024-09-08T21:25:18.154Z"
   },
   {
    "duration": 146,
    "start_time": "2024-09-08T21:25:55.637Z"
   },
   {
    "duration": 81,
    "start_time": "2024-09-09T20:56:08.167Z"
   },
   {
    "duration": 1227,
    "start_time": "2024-09-09T21:00:18.756Z"
   },
   {
    "duration": 139,
    "start_time": "2024-09-09T21:00:23.193Z"
   },
   {
    "duration": 19,
    "start_time": "2024-09-09T21:00:26.632Z"
   },
   {
    "duration": 14,
    "start_time": "2024-09-09T21:00:28.633Z"
   },
   {
    "duration": 87,
    "start_time": "2024-09-09T21:00:29.822Z"
   },
   {
    "duration": 8,
    "start_time": "2024-09-09T21:00:38.912Z"
   },
   {
    "duration": 6,
    "start_time": "2024-09-09T21:01:35.412Z"
   },
   {
    "duration": 6,
    "start_time": "2024-09-09T21:01:41.685Z"
   },
   {
    "duration": 7,
    "start_time": "2024-09-09T21:03:20.987Z"
   },
   {
    "duration": 3,
    "start_time": "2024-09-09T21:04:10.863Z"
   },
   {
    "duration": 7,
    "start_time": "2024-09-09T21:04:17.042Z"
   },
   {
    "duration": 27,
    "start_time": "2024-09-09T21:04:38.618Z"
   },
   {
    "duration": 7,
    "start_time": "2024-09-09T21:04:59.571Z"
   },
   {
    "duration": 27,
    "start_time": "2024-09-09T21:06:35.830Z"
   },
   {
    "duration": 5,
    "start_time": "2024-09-09T21:07:33.147Z"
   },
   {
    "duration": 7,
    "start_time": "2024-09-09T21:07:35.239Z"
   },
   {
    "duration": 43,
    "start_time": "2024-09-09T21:07:36.425Z"
   },
   {
    "duration": 10,
    "start_time": "2024-09-09T21:07:40.808Z"
   },
   {
    "duration": 15,
    "start_time": "2024-09-09T21:10:53.133Z"
   },
   {
    "duration": 21,
    "start_time": "2024-09-09T21:11:42.337Z"
   },
   {
    "duration": 3,
    "start_time": "2024-09-09T21:13:21.974Z"
   },
   {
    "duration": 15,
    "start_time": "2024-09-09T21:13:34.107Z"
   },
   {
    "duration": 6,
    "start_time": "2024-09-09T21:14:05.105Z"
   },
   {
    "duration": 5,
    "start_time": "2024-09-09T21:14:18.150Z"
   },
   {
    "duration": 22,
    "start_time": "2024-09-09T21:14:35.633Z"
   },
   {
    "duration": 54,
    "start_time": "2024-09-09T21:14:59.143Z"
   },
   {
    "duration": 27,
    "start_time": "2024-09-09T21:17:58.545Z"
   },
   {
    "duration": 182,
    "start_time": "2024-09-09T21:24:27.163Z"
   },
   {
    "duration": 150,
    "start_time": "2024-09-09T21:27:31.318Z"
   },
   {
    "duration": 86,
    "start_time": "2024-09-09T21:28:04.315Z"
   },
   {
    "duration": 3,
    "start_time": "2024-09-09T21:28:37.831Z"
   },
   {
    "duration": 86,
    "start_time": "2024-09-09T21:28:43.887Z"
   },
   {
    "duration": 206,
    "start_time": "2024-09-09T21:29:29.231Z"
   },
   {
    "duration": 83,
    "start_time": "2024-09-09T21:29:40.339Z"
   },
   {
    "duration": 3,
    "start_time": "2024-09-09T21:31:15.953Z"
   },
   {
    "duration": 172,
    "start_time": "2024-09-09T21:31:21.839Z"
   },
   {
    "duration": 162,
    "start_time": "2024-09-09T21:31:41.321Z"
   },
   {
    "duration": 259,
    "start_time": "2024-09-09T21:32:07.425Z"
   },
   {
    "duration": 235,
    "start_time": "2024-09-09T21:32:24.969Z"
   },
   {
    "duration": 245,
    "start_time": "2024-09-09T21:33:15.691Z"
   },
   {
    "duration": 3,
    "start_time": "2024-09-09T21:35:42.299Z"
   },
   {
    "duration": 3,
    "start_time": "2024-09-09T21:35:52.274Z"
   },
   {
    "duration": 5,
    "start_time": "2024-09-09T21:37:32.394Z"
   },
   {
    "duration": 4,
    "start_time": "2024-09-09T21:38:59.775Z"
   },
   {
    "duration": 19,
    "start_time": "2024-09-09T21:40:58.299Z"
   },
   {
    "duration": 91,
    "start_time": "2024-09-09T21:41:18.595Z"
   },
   {
    "duration": 18,
    "start_time": "2024-09-09T21:41:46.021Z"
   },
   {
    "duration": 49,
    "start_time": "2024-09-10T17:23:50.818Z"
   },
   {
    "duration": 1444,
    "start_time": "2024-09-10T18:34:54.047Z"
   },
   {
    "duration": 111,
    "start_time": "2024-09-10T18:34:58.482Z"
   },
   {
    "duration": 24,
    "start_time": "2024-09-10T18:35:00.813Z"
   },
   {
    "duration": 13,
    "start_time": "2024-09-10T18:35:03.230Z"
   },
   {
    "duration": 35,
    "start_time": "2024-09-10T18:35:04.818Z"
   },
   {
    "duration": 5,
    "start_time": "2024-09-10T18:35:08.850Z"
   },
   {
    "duration": 7,
    "start_time": "2024-09-10T18:35:09.986Z"
   },
   {
    "duration": 51,
    "start_time": "2024-09-10T18:35:10.626Z"
   },
   {
    "duration": 11,
    "start_time": "2024-09-10T18:35:16.389Z"
   },
   {
    "duration": 5,
    "start_time": "2024-09-10T18:35:20.811Z"
   },
   {
    "duration": 101,
    "start_time": "2024-09-10T18:35:26.596Z"
   },
   {
    "duration": 7,
    "start_time": "2024-09-10T18:35:29.898Z"
   },
   {
    "duration": 7,
    "start_time": "2024-09-10T18:35:37.079Z"
   },
   {
    "duration": 23,
    "start_time": "2024-09-10T18:35:55.765Z"
   },
   {
    "duration": 7,
    "start_time": "2024-09-10T18:37:52.331Z"
   },
   {
    "duration": 8,
    "start_time": "2024-09-10T18:38:27.486Z"
   },
   {
    "duration": 105,
    "start_time": "2024-09-10T18:45:15.122Z"
   },
   {
    "duration": 4,
    "start_time": "2024-09-10T18:45:32.857Z"
   },
   {
    "duration": 11,
    "start_time": "2024-09-10T18:45:40.870Z"
   },
   {
    "duration": 5,
    "start_time": "2024-09-10T18:45:44.622Z"
   },
   {
    "duration": 11,
    "start_time": "2024-09-10T18:45:46.720Z"
   },
   {
    "duration": 6,
    "start_time": "2024-09-10T18:45:54.648Z"
   },
   {
    "duration": 6,
    "start_time": "2024-09-10T18:46:18.557Z"
   },
   {
    "duration": 7,
    "start_time": "2024-09-10T18:46:28.581Z"
   },
   {
    "duration": 13,
    "start_time": "2024-09-10T18:49:09.775Z"
   },
   {
    "duration": 6,
    "start_time": "2024-09-10T18:49:52.018Z"
   },
   {
    "duration": 5,
    "start_time": "2024-09-10T18:50:19.110Z"
   },
   {
    "duration": 4,
    "start_time": "2024-09-10T18:50:28.022Z"
   },
   {
    "duration": 128,
    "start_time": "2024-09-10T18:50:30.056Z"
   },
   {
    "duration": 21,
    "start_time": "2024-09-10T18:50:30.538Z"
   },
   {
    "duration": 12,
    "start_time": "2024-09-10T18:50:33.682Z"
   },
   {
    "duration": 34,
    "start_time": "2024-09-10T18:50:34.343Z"
   },
   {
    "duration": 6,
    "start_time": "2024-09-10T18:50:38.096Z"
   },
   {
    "duration": 7,
    "start_time": "2024-09-10T18:50:39.894Z"
   },
   {
    "duration": 14,
    "start_time": "2024-09-10T18:50:40.489Z"
   },
   {
    "duration": 11,
    "start_time": "2024-09-10T18:50:43.864Z"
   },
   {
    "duration": 6,
    "start_time": "2024-09-10T18:50:48.925Z"
   },
   {
    "duration": 59,
    "start_time": "2024-09-10T18:50:53.723Z"
   },
   {
    "duration": 5,
    "start_time": "2024-09-10T18:50:56.098Z"
   },
   {
    "duration": 6,
    "start_time": "2024-09-10T18:50:56.837Z"
   },
   {
    "duration": 7,
    "start_time": "2024-09-10T18:50:58.373Z"
   },
   {
    "duration": 5,
    "start_time": "2024-09-10T18:51:01.212Z"
   },
   {
    "duration": 6,
    "start_time": "2024-09-10T18:51:55.404Z"
   },
   {
    "duration": 4,
    "start_time": "2024-09-10T18:55:12.110Z"
   },
   {
    "duration": 107,
    "start_time": "2024-09-10T18:55:14.742Z"
   },
   {
    "duration": 24,
    "start_time": "2024-09-10T18:55:15.722Z"
   },
   {
    "duration": 13,
    "start_time": "2024-09-10T18:55:17.578Z"
   },
   {
    "duration": 35,
    "start_time": "2024-09-10T18:55:18.873Z"
   },
   {
    "duration": 6,
    "start_time": "2024-09-10T18:55:22.206Z"
   },
   {
    "duration": 7,
    "start_time": "2024-09-10T18:55:24.130Z"
   },
   {
    "duration": 13,
    "start_time": "2024-09-10T18:55:25.552Z"
   },
   {
    "duration": 10,
    "start_time": "2024-09-10T18:55:29.886Z"
   },
   {
    "duration": 6,
    "start_time": "2024-09-10T18:55:32.513Z"
   },
   {
    "duration": 58,
    "start_time": "2024-09-10T18:55:33.974Z"
   },
   {
    "duration": 4,
    "start_time": "2024-09-10T18:55:38.547Z"
   },
   {
    "duration": 6,
    "start_time": "2024-09-10T18:55:39.415Z"
   },
   {
    "duration": 7,
    "start_time": "2024-09-10T18:55:40.280Z"
   },
   {
    "duration": 5,
    "start_time": "2024-09-10T18:55:41.257Z"
   },
   {
    "duration": 7,
    "start_time": "2024-09-10T19:00:45.739Z"
   },
   {
    "duration": 5,
    "start_time": "2024-09-10T19:01:01.126Z"
   },
   {
    "duration": 7,
    "start_time": "2024-09-10T19:05:20.454Z"
   },
   {
    "duration": 4,
    "start_time": "2024-09-10T19:20:08.585Z"
   },
   {
    "duration": 110,
    "start_time": "2024-09-10T19:20:10.895Z"
   },
   {
    "duration": 21,
    "start_time": "2024-09-10T19:20:11.372Z"
   },
   {
    "duration": 12,
    "start_time": "2024-09-10T19:20:13.165Z"
   },
   {
    "duration": 38,
    "start_time": "2024-09-10T19:20:14.569Z"
   },
   {
    "duration": 5,
    "start_time": "2024-09-10T19:20:17.495Z"
   },
   {
    "duration": 7,
    "start_time": "2024-09-10T19:20:19.297Z"
   },
   {
    "duration": 14,
    "start_time": "2024-09-10T19:20:19.838Z"
   },
   {
    "duration": 10,
    "start_time": "2024-09-10T19:20:24.829Z"
   },
   {
    "duration": 5,
    "start_time": "2024-09-10T19:20:27.695Z"
   },
   {
    "duration": 57,
    "start_time": "2024-09-10T19:20:29.291Z"
   },
   {
    "duration": 8,
    "start_time": "2024-09-10T19:20:36.151Z"
   },
   {
    "duration": 6,
    "start_time": "2024-09-10T19:20:37.379Z"
   },
   {
    "duration": 8,
    "start_time": "2024-09-10T19:22:29.795Z"
   },
   {
    "duration": 34,
    "start_time": "2024-09-10T19:23:47.997Z"
   },
   {
    "duration": 14,
    "start_time": "2024-09-10T19:25:43.175Z"
   },
   {
    "duration": 23,
    "start_time": "2024-09-10T19:52:27.544Z"
   },
   {
    "duration": 21,
    "start_time": "2024-09-10T19:52:40.061Z"
   },
   {
    "duration": 106,
    "start_time": "2024-09-10T19:52:45.503Z"
   },
   {
    "duration": 6,
    "start_time": "2024-09-10T19:52:50.450Z"
   },
   {
    "duration": 22,
    "start_time": "2024-09-10T19:52:55.109Z"
   },
   {
    "duration": 13,
    "start_time": "2024-09-10T19:59:07.919Z"
   },
   {
    "duration": 12,
    "start_time": "2024-09-10T19:59:23.333Z"
   },
   {
    "duration": 40,
    "start_time": "2024-09-10T20:17:54.490Z"
   },
   {
    "duration": 34,
    "start_time": "2024-09-10T20:20:46.495Z"
   },
   {
    "duration": 4,
    "start_time": "2024-09-10T20:20:52.571Z"
   },
   {
    "duration": 169,
    "start_time": "2024-09-10T20:20:55.165Z"
   },
   {
    "duration": 20,
    "start_time": "2024-09-10T20:20:56.325Z"
   },
   {
    "duration": 12,
    "start_time": "2024-09-10T20:20:58.621Z"
   },
   {
    "duration": 37,
    "start_time": "2024-09-10T20:21:00.482Z"
   },
   {
    "duration": 7,
    "start_time": "2024-09-10T20:21:03.313Z"
   },
   {
    "duration": 7,
    "start_time": "2024-09-10T20:21:05.014Z"
   },
   {
    "duration": 13,
    "start_time": "2024-09-10T20:21:06.969Z"
   },
   {
    "duration": 23,
    "start_time": "2024-09-10T20:21:09.339Z"
   },
   {
    "duration": 39,
    "start_time": "2024-09-10T20:21:57.832Z"
   },
   {
    "duration": 51,
    "start_time": "2024-09-10T20:22:23.295Z"
   },
   {
    "duration": 42,
    "start_time": "2024-09-10T20:22:34.535Z"
   },
   {
    "duration": 48,
    "start_time": "2024-09-10T20:22:55.284Z"
   },
   {
    "duration": 40,
    "start_time": "2024-09-10T20:23:21.418Z"
   },
   {
    "duration": 16,
    "start_time": "2024-09-10T20:31:59.434Z"
   },
   {
    "duration": 6,
    "start_time": "2024-09-10T20:32:23.309Z"
   },
   {
    "duration": 16,
    "start_time": "2024-09-10T20:32:28.424Z"
   },
   {
    "duration": 13,
    "start_time": "2024-09-10T20:33:14.561Z"
   },
   {
    "duration": 18,
    "start_time": "2024-09-10T20:33:23.814Z"
   },
   {
    "duration": 13,
    "start_time": "2024-09-10T20:33:32.042Z"
   },
   {
    "duration": 21,
    "start_time": "2024-09-10T20:34:17.925Z"
   },
   {
    "duration": 21,
    "start_time": "2024-09-10T20:34:23.413Z"
   },
   {
    "duration": 16,
    "start_time": "2024-09-10T20:34:37.042Z"
   },
   {
    "duration": 15,
    "start_time": "2024-09-10T20:36:05.073Z"
   },
   {
    "duration": 18,
    "start_time": "2024-09-10T20:36:30.709Z"
   },
   {
    "duration": 7,
    "start_time": "2024-09-10T20:50:40.868Z"
   },
   {
    "duration": 7,
    "start_time": "2024-09-10T20:51:54.222Z"
   },
   {
    "duration": 7,
    "start_time": "2024-09-10T20:52:04.679Z"
   },
   {
    "duration": 4,
    "start_time": "2024-09-10T20:55:32.310Z"
   },
   {
    "duration": 4,
    "start_time": "2024-09-10T21:02:05.276Z"
   },
   {
    "duration": 8,
    "start_time": "2024-09-10T21:02:15.821Z"
   },
   {
    "duration": 23,
    "start_time": "2024-09-10T21:17:21.902Z"
   },
   {
    "duration": 15,
    "start_time": "2024-09-10T21:21:39.862Z"
   },
   {
    "duration": 8,
    "start_time": "2024-09-10T21:21:53.713Z"
   },
   {
    "duration": 13,
    "start_time": "2024-09-10T21:21:57.446Z"
   },
   {
    "duration": 34,
    "start_time": "2024-09-10T21:28:43.324Z"
   },
   {
    "duration": 1484,
    "start_time": "2024-09-11T20:50:42.871Z"
   },
   {
    "duration": 145,
    "start_time": "2024-09-11T20:50:44.357Z"
   },
   {
    "duration": 26,
    "start_time": "2024-09-11T20:50:44.503Z"
   },
   {
    "duration": 15,
    "start_time": "2024-09-11T20:50:44.531Z"
   },
   {
    "duration": 73,
    "start_time": "2024-09-11T20:50:44.548Z"
   },
   {
    "duration": 6,
    "start_time": "2024-09-11T20:50:44.622Z"
   },
   {
    "duration": 69,
    "start_time": "2024-09-11T20:50:44.630Z"
   },
   {
    "duration": 6,
    "start_time": "2024-09-11T20:50:44.700Z"
   },
   {
    "duration": 49,
    "start_time": "2024-09-11T20:50:44.720Z"
   },
   {
    "duration": 65,
    "start_time": "2024-09-11T20:50:44.771Z"
   },
   {
    "duration": 11,
    "start_time": "2024-09-11T20:50:44.838Z"
   },
   {
    "duration": 22,
    "start_time": "2024-09-11T20:50:44.851Z"
   },
   {
    "duration": 93,
    "start_time": "2024-09-11T20:50:44.874Z"
   },
   {
    "duration": 10,
    "start_time": "2024-09-11T20:50:44.969Z"
   },
   {
    "duration": 12,
    "start_time": "2024-09-11T20:50:44.980Z"
   },
   {
    "duration": 51,
    "start_time": "2024-09-11T20:50:44.993Z"
   },
   {
    "duration": 14,
    "start_time": "2024-09-11T20:50:45.046Z"
   },
   {
    "duration": 21,
    "start_time": "2024-09-11T20:50:45.061Z"
   },
   {
    "duration": 27,
    "start_time": "2024-09-11T20:50:45.084Z"
   },
   {
    "duration": 9,
    "start_time": "2024-09-11T20:50:45.113Z"
   },
   {
    "duration": 50,
    "start_time": "2024-09-11T20:50:45.123Z"
   },
   {
    "duration": 14,
    "start_time": "2024-09-11T20:50:45.175Z"
   },
   {
    "duration": 28,
    "start_time": "2024-09-11T20:50:45.191Z"
   },
   {
    "duration": 317,
    "start_time": "2024-09-11T20:50:45.221Z"
   },
   {
    "duration": 4,
    "start_time": "2024-09-11T20:50:45.540Z"
   },
   {
    "duration": 209,
    "start_time": "2024-09-11T20:50:45.546Z"
   },
   {
    "duration": 63,
    "start_time": "2024-09-11T20:50:45.757Z"
   },
   {
    "duration": 90,
    "start_time": "2024-09-11T20:50:45.825Z"
   },
   {
    "duration": 24,
    "start_time": "2024-09-11T20:50:45.917Z"
   },
   {
    "duration": 51,
    "start_time": "2024-09-11T20:53:00.615Z"
   },
   {
    "duration": 53,
    "start_time": "2024-09-11T20:53:26.859Z"
   },
   {
    "duration": 56,
    "start_time": "2024-09-11T21:10:54.284Z"
   },
   {
    "duration": 66,
    "start_time": "2024-09-11T21:14:02.718Z"
   },
   {
    "duration": 44,
    "start_time": "2024-09-11T21:14:10.670Z"
   },
   {
    "duration": 37,
    "start_time": "2024-09-11T21:15:31.938Z"
   },
   {
    "duration": 48,
    "start_time": "2024-09-11T21:15:45.726Z"
   },
   {
    "duration": 80,
    "start_time": "2024-09-11T21:40:15.615Z"
   },
   {
    "duration": 147,
    "start_time": "2024-09-11T21:40:35.237Z"
   },
   {
    "duration": 41,
    "start_time": "2024-09-11T21:40:53.621Z"
   },
   {
    "duration": 56,
    "start_time": "2024-09-11T21:41:06.546Z"
   },
   {
    "duration": 43,
    "start_time": "2024-09-11T21:41:15.527Z"
   },
   {
    "duration": 49,
    "start_time": "2024-09-11T21:42:33.531Z"
   },
   {
    "duration": 414,
    "start_time": "2024-09-11T21:49:04.651Z"
   },
   {
    "duration": 394,
    "start_time": "2024-09-11T21:50:47.228Z"
   },
   {
    "duration": 479,
    "start_time": "2024-09-11T21:51:03.971Z"
   },
   {
    "duration": 370,
    "start_time": "2024-09-11T21:51:22.424Z"
   },
   {
    "duration": 371,
    "start_time": "2024-09-11T21:51:34.140Z"
   },
   {
    "duration": 1539,
    "start_time": "2024-09-12T15:07:15.060Z"
   },
   {
    "duration": 202,
    "start_time": "2024-09-12T15:07:16.601Z"
   },
   {
    "duration": 25,
    "start_time": "2024-09-12T15:07:16.805Z"
   },
   {
    "duration": 55,
    "start_time": "2024-09-12T15:07:16.832Z"
   },
   {
    "duration": 66,
    "start_time": "2024-09-12T15:07:16.889Z"
   },
   {
    "duration": 5,
    "start_time": "2024-09-12T15:07:16.957Z"
   },
   {
    "duration": 76,
    "start_time": "2024-09-12T15:07:16.964Z"
   },
   {
    "duration": 6,
    "start_time": "2024-09-12T15:07:17.041Z"
   },
   {
    "duration": 53,
    "start_time": "2024-09-12T15:07:17.048Z"
   },
   {
    "duration": 44,
    "start_time": "2024-09-12T15:07:17.104Z"
   },
   {
    "duration": 11,
    "start_time": "2024-09-12T15:07:17.155Z"
   },
   {
    "duration": 24,
    "start_time": "2024-09-12T15:07:17.167Z"
   },
   {
    "duration": 99,
    "start_time": "2024-09-12T15:07:17.193Z"
   },
   {
    "duration": 8,
    "start_time": "2024-09-12T15:07:17.294Z"
   },
   {
    "duration": 21,
    "start_time": "2024-09-12T15:07:17.304Z"
   },
   {
    "duration": 44,
    "start_time": "2024-09-12T15:07:17.326Z"
   },
   {
    "duration": 11,
    "start_time": "2024-09-12T15:07:17.372Z"
   },
   {
    "duration": 7,
    "start_time": "2024-09-12T15:07:17.385Z"
   },
   {
    "duration": 29,
    "start_time": "2024-09-12T15:07:17.393Z"
   },
   {
    "duration": 18,
    "start_time": "2024-09-12T15:07:17.424Z"
   },
   {
    "duration": 49,
    "start_time": "2024-09-12T15:07:17.444Z"
   },
   {
    "duration": 14,
    "start_time": "2024-09-12T15:07:17.495Z"
   },
   {
    "duration": 16,
    "start_time": "2024-09-12T15:07:17.510Z"
   },
   {
    "duration": 320,
    "start_time": "2024-09-12T15:07:17.528Z"
   },
   {
    "duration": 8,
    "start_time": "2024-09-12T15:07:17.850Z"
   },
   {
    "duration": 12,
    "start_time": "2024-09-12T15:07:17.860Z"
   },
   {
    "duration": 51,
    "start_time": "2024-09-12T15:07:17.873Z"
   },
   {
    "duration": 24,
    "start_time": "2024-09-12T15:07:17.927Z"
   },
   {
    "duration": 22,
    "start_time": "2024-09-12T15:07:17.953Z"
   },
   {
    "duration": 153,
    "start_time": "2024-09-12T15:07:17.977Z"
   },
   {
    "duration": 44,
    "start_time": "2024-09-12T15:07:18.132Z"
   },
   {
    "duration": 401,
    "start_time": "2024-09-12T15:07:18.178Z"
   },
   {
    "duration": 61,
    "start_time": "2024-09-12T15:07:44.764Z"
   },
   {
    "duration": 62,
    "start_time": "2024-09-12T15:07:50.389Z"
   },
   {
    "duration": 54,
    "start_time": "2024-09-12T15:08:03.349Z"
   },
   {
    "duration": 59,
    "start_time": "2024-09-12T15:15:37.585Z"
   },
   {
    "duration": 44,
    "start_time": "2024-09-12T15:16:09.653Z"
   },
   {
    "duration": 1377,
    "start_time": "2024-09-12T19:14:06.498Z"
   },
   {
    "duration": 155,
    "start_time": "2024-09-12T19:14:07.877Z"
   },
   {
    "duration": 29,
    "start_time": "2024-09-12T19:14:08.033Z"
   },
   {
    "duration": 13,
    "start_time": "2024-09-12T19:14:08.064Z"
   },
   {
    "duration": 38,
    "start_time": "2024-09-12T19:14:08.079Z"
   },
   {
    "duration": 5,
    "start_time": "2024-09-12T19:14:08.119Z"
   },
   {
    "duration": 77,
    "start_time": "2024-09-12T19:14:08.125Z"
   },
   {
    "duration": 5,
    "start_time": "2024-09-12T19:14:08.203Z"
   },
   {
    "duration": 55,
    "start_time": "2024-09-12T19:14:08.209Z"
   },
   {
    "duration": 43,
    "start_time": "2024-09-12T19:14:08.266Z"
   },
   {
    "duration": 12,
    "start_time": "2024-09-12T19:14:08.311Z"
   },
   {
    "duration": 29,
    "start_time": "2024-09-12T19:14:08.325Z"
   },
   {
    "duration": 76,
    "start_time": "2024-09-12T19:14:08.355Z"
   },
   {
    "duration": 9,
    "start_time": "2024-09-12T19:14:08.433Z"
   },
   {
    "duration": 6,
    "start_time": "2024-09-12T19:14:08.452Z"
   },
   {
    "duration": 12,
    "start_time": "2024-09-12T19:14:08.459Z"
   },
   {
    "duration": 10,
    "start_time": "2024-09-12T19:14:08.473Z"
   },
   {
    "duration": 5,
    "start_time": "2024-09-12T19:14:08.484Z"
   },
   {
    "duration": 18,
    "start_time": "2024-09-12T19:14:08.491Z"
   },
   {
    "duration": 9,
    "start_time": "2024-09-12T19:14:08.511Z"
   },
   {
    "duration": 48,
    "start_time": "2024-09-12T19:14:08.521Z"
   },
   {
    "duration": 12,
    "start_time": "2024-09-12T19:14:08.570Z"
   },
   {
    "duration": 18,
    "start_time": "2024-09-12T19:14:08.584Z"
   },
   {
    "duration": 266,
    "start_time": "2024-09-12T19:14:08.603Z"
   },
   {
    "duration": 3,
    "start_time": "2024-09-12T19:14:08.871Z"
   },
   {
    "duration": 58,
    "start_time": "2024-09-12T19:14:08.876Z"
   },
   {
    "duration": 22,
    "start_time": "2024-09-12T19:14:08.936Z"
   },
   {
    "duration": 20,
    "start_time": "2024-09-12T19:14:08.961Z"
   },
   {
    "duration": 21,
    "start_time": "2024-09-12T19:14:08.982Z"
   },
   {
    "duration": 64,
    "start_time": "2024-09-12T19:14:09.004Z"
   },
   {
    "duration": 41,
    "start_time": "2024-09-12T19:14:09.070Z"
   },
   {
    "duration": 364,
    "start_time": "2024-09-12T19:14:09.113Z"
   },
   {
    "duration": 10,
    "start_time": "2024-09-12T19:14:23.692Z"
   },
   {
    "duration": 52,
    "start_time": "2024-09-12T20:33:40.025Z"
   },
   {
    "duration": 40,
    "start_time": "2024-09-12T20:52:24.193Z"
   },
   {
    "duration": 45,
    "start_time": "2024-09-12T20:53:06.332Z"
   },
   {
    "duration": 41,
    "start_time": "2024-09-12T20:57:49.844Z"
   },
   {
    "duration": 147,
    "start_time": "2024-09-12T21:13:40.897Z"
   },
   {
    "duration": 45,
    "start_time": "2024-09-12T21:15:07.388Z"
   },
   {
    "duration": 45,
    "start_time": "2024-09-12T21:15:34.284Z"
   },
   {
    "duration": 43,
    "start_time": "2024-09-12T21:15:46.753Z"
   },
   {
    "duration": 48,
    "start_time": "2024-09-12T21:16:14.226Z"
   },
   {
    "duration": 22,
    "start_time": "2024-09-12T21:19:29.315Z"
   },
   {
    "duration": 14,
    "start_time": "2024-09-12T21:20:04.869Z"
   },
   {
    "duration": 8,
    "start_time": "2024-09-12T21:20:26.774Z"
   },
   {
    "duration": 40,
    "start_time": "2024-09-12T21:21:24.868Z"
   },
   {
    "duration": 14,
    "start_time": "2024-09-12T21:21:47.931Z"
   },
   {
    "duration": 12,
    "start_time": "2024-09-12T21:22:08.382Z"
   },
   {
    "duration": 14,
    "start_time": "2024-09-12T21:22:17.357Z"
   },
   {
    "duration": 15,
    "start_time": "2024-09-12T21:22:42.240Z"
   },
   {
    "duration": 71,
    "start_time": "2024-09-12T21:23:21.331Z"
   },
   {
    "duration": 16,
    "start_time": "2024-09-12T21:23:31.442Z"
   },
   {
    "duration": 34,
    "start_time": "2024-09-12T21:26:02.370Z"
   },
   {
    "duration": 596,
    "start_time": "2024-09-12T21:27:00.017Z"
   },
   {
    "duration": 40,
    "start_time": "2024-09-12T21:29:02.306Z"
   },
   {
    "duration": 46,
    "start_time": "2024-09-12T21:29:07.162Z"
   },
   {
    "duration": 50,
    "start_time": "2024-09-12T21:29:37.291Z"
   },
   {
    "duration": 57,
    "start_time": "2024-09-12T21:30:35.820Z"
   },
   {
    "duration": 48,
    "start_time": "2024-09-12T21:30:52.037Z"
   },
   {
    "duration": 28,
    "start_time": "2024-09-12T21:34:31.369Z"
   },
   {
    "duration": 31,
    "start_time": "2024-09-12T21:35:34.935Z"
   },
   {
    "duration": 32,
    "start_time": "2024-09-12T21:35:39.638Z"
   },
   {
    "duration": 30,
    "start_time": "2024-09-12T21:35:48.669Z"
   },
   {
    "duration": 32,
    "start_time": "2024-09-12T21:36:19.720Z"
   },
   {
    "duration": 484,
    "start_time": "2024-09-12T21:47:11.984Z"
   },
   {
    "duration": 421,
    "start_time": "2024-09-12T21:47:20.337Z"
   },
   {
    "duration": 349,
    "start_time": "2024-09-12T21:47:39.861Z"
   },
   {
    "duration": 384,
    "start_time": "2024-09-12T21:48:10.227Z"
   },
   {
    "duration": 388,
    "start_time": "2024-09-12T21:48:50.808Z"
   },
   {
    "duration": 379,
    "start_time": "2024-09-12T21:49:21.600Z"
   },
   {
    "duration": 475,
    "start_time": "2024-09-12T21:49:44.901Z"
   },
   {
    "duration": 385,
    "start_time": "2024-09-12T21:50:05.964Z"
   },
   {
    "duration": 155,
    "start_time": "2024-09-12T21:50:13.608Z"
   },
   {
    "duration": 409,
    "start_time": "2024-09-12T21:50:19.662Z"
   },
   {
    "duration": 383,
    "start_time": "2024-09-12T21:50:35.217Z"
   },
   {
    "duration": 338,
    "start_time": "2024-09-12T21:50:54.981Z"
   },
   {
    "duration": 503,
    "start_time": "2024-09-12T21:51:24.550Z"
   },
   {
    "duration": 344,
    "start_time": "2024-09-12T21:51:46.481Z"
   },
   {
    "duration": 387,
    "start_time": "2024-09-12T21:52:38.927Z"
   },
   {
    "duration": 360,
    "start_time": "2024-09-12T21:52:56.349Z"
   },
   {
    "duration": 362,
    "start_time": "2024-09-12T21:54:33.235Z"
   },
   {
    "duration": 471,
    "start_time": "2024-09-12T21:54:48.379Z"
   },
   {
    "duration": 369,
    "start_time": "2024-09-12T21:54:59.020Z"
   },
   {
    "duration": 375,
    "start_time": "2024-09-12T21:55:24.574Z"
   },
   {
    "duration": 378,
    "start_time": "2024-09-12T21:55:40.871Z"
   },
   {
    "duration": 405,
    "start_time": "2024-09-12T21:57:07.891Z"
   },
   {
    "duration": 370,
    "start_time": "2024-09-12T21:57:29.599Z"
   },
   {
    "duration": 484,
    "start_time": "2024-09-12T21:57:39.845Z"
   },
   {
    "duration": 391,
    "start_time": "2024-09-12T21:57:50.704Z"
   },
   {
    "duration": 338,
    "start_time": "2024-09-12T21:58:33.315Z"
   },
   {
    "duration": 342,
    "start_time": "2024-09-12T22:00:54.861Z"
   },
   {
    "duration": 86,
    "start_time": "2024-09-12T22:02:33.063Z"
   },
   {
    "duration": 338,
    "start_time": "2024-09-12T22:02:48.829Z"
   },
   {
    "duration": 440,
    "start_time": "2024-09-12T22:03:32.710Z"
   },
   {
    "duration": 350,
    "start_time": "2024-09-12T22:05:14.222Z"
   },
   {
    "duration": 411,
    "start_time": "2024-09-12T22:05:21.566Z"
   },
   {
    "duration": 418,
    "start_time": "2024-09-12T22:05:36.635Z"
   },
   {
    "duration": 269,
    "start_time": "2024-09-12T22:07:02.963Z"
   },
   {
    "duration": 240,
    "start_time": "2024-09-12T22:07:10.718Z"
   },
   {
    "duration": 256,
    "start_time": "2024-09-12T22:07:17.641Z"
   },
   {
    "duration": 351,
    "start_time": "2024-09-12T22:07:24.412Z"
   },
   {
    "duration": 247,
    "start_time": "2024-09-12T22:07:29.598Z"
   },
   {
    "duration": 242,
    "start_time": "2024-09-12T22:08:10.377Z"
   },
   {
    "duration": 254,
    "start_time": "2024-09-12T22:08:29.039Z"
   },
   {
    "duration": 263,
    "start_time": "2024-09-12T22:08:34.378Z"
   },
   {
    "duration": 521,
    "start_time": "2024-09-12T22:09:29.067Z"
   },
   {
    "duration": 373,
    "start_time": "2024-09-12T22:09:38.401Z"
   },
   {
    "duration": 3504,
    "start_time": "2024-09-12T22:10:01.091Z"
   },
   {
    "duration": 3550,
    "start_time": "2024-09-12T22:11:40.700Z"
   },
   {
    "duration": 3782,
    "start_time": "2024-09-12T22:12:52.815Z"
   },
   {
    "duration": 3753,
    "start_time": "2024-09-12T22:13:34.979Z"
   },
   {
    "duration": 3592,
    "start_time": "2024-09-12T22:13:42.012Z"
   },
   {
    "duration": 3404,
    "start_time": "2024-09-12T22:15:01.771Z"
   },
   {
    "duration": 3544,
    "start_time": "2024-09-12T22:15:10.221Z"
   },
   {
    "duration": 1949,
    "start_time": "2024-09-12T22:15:24.017Z"
   },
   {
    "duration": 1809,
    "start_time": "2024-09-12T22:15:50.923Z"
   },
   {
    "duration": 1277,
    "start_time": "2024-09-12T22:16:06.123Z"
   },
   {
    "duration": 1221,
    "start_time": "2024-09-12T22:17:12.040Z"
   },
   {
    "duration": 777,
    "start_time": "2024-09-12T22:17:26.276Z"
   },
   {
    "duration": 34,
    "start_time": "2024-09-12T22:35:36.574Z"
   },
   {
    "duration": 28,
    "start_time": "2024-09-12T22:37:01.798Z"
   },
   {
    "duration": 64,
    "start_time": "2024-09-12T22:37:51.239Z"
   },
   {
    "duration": 10,
    "start_time": "2024-09-12T22:38:02.191Z"
   },
   {
    "duration": 3349,
    "start_time": "2024-09-12T22:39:38.946Z"
   },
   {
    "duration": 130,
    "start_time": "2024-09-12T22:39:45.854Z"
   },
   {
    "duration": 57,
    "start_time": "2024-09-12T22:41:55.147Z"
   },
   {
    "duration": 10754,
    "start_time": "2024-09-12T22:44:13.029Z"
   },
   {
    "duration": 360,
    "start_time": "2024-09-12T22:53:07.161Z"
   },
   {
    "duration": 336,
    "start_time": "2024-09-12T22:53:16.444Z"
   },
   {
    "duration": 460,
    "start_time": "2024-09-12T22:57:47.599Z"
   },
   {
    "duration": 920,
    "start_time": "2024-09-12T22:58:09.427Z"
   },
   {
    "duration": 870,
    "start_time": "2024-09-12T22:59:48.279Z"
   },
   {
    "duration": 567,
    "start_time": "2024-09-12T23:02:12.259Z"
   },
   {
    "duration": 967,
    "start_time": "2024-09-12T23:02:15.968Z"
   },
   {
    "duration": 397,
    "start_time": "2024-09-12T23:05:00.084Z"
   },
   {
    "duration": 979,
    "start_time": "2024-09-12T23:05:02.927Z"
   },
   {
    "duration": 424,
    "start_time": "2024-09-12T23:05:22.944Z"
   },
   {
    "duration": 392,
    "start_time": "2024-09-12T23:05:30.268Z"
   },
   {
    "duration": 3574,
    "start_time": "2024-09-13T19:09:03.335Z"
   },
   {
    "duration": 1466,
    "start_time": "2024-09-13T19:09:06.912Z"
   },
   {
    "duration": 141,
    "start_time": "2024-09-13T19:09:08.380Z"
   },
   {
    "duration": 26,
    "start_time": "2024-09-13T19:09:08.523Z"
   },
   {
    "duration": 15,
    "start_time": "2024-09-13T19:09:08.551Z"
   },
   {
    "duration": 35,
    "start_time": "2024-09-13T19:09:08.568Z"
   },
   {
    "duration": 6,
    "start_time": "2024-09-13T19:09:08.605Z"
   },
   {
    "duration": 84,
    "start_time": "2024-09-13T19:09:08.612Z"
   },
   {
    "duration": 7,
    "start_time": "2024-09-13T19:09:08.698Z"
   },
   {
    "duration": 56,
    "start_time": "2024-09-13T19:09:08.709Z"
   },
   {
    "duration": 90,
    "start_time": "2024-09-13T19:09:08.767Z"
   },
   {
    "duration": 11,
    "start_time": "2024-09-13T19:09:08.859Z"
   },
   {
    "duration": 24,
    "start_time": "2024-09-13T19:09:08.872Z"
   },
   {
    "duration": 97,
    "start_time": "2024-09-13T19:09:08.898Z"
   },
   {
    "duration": 11,
    "start_time": "2024-09-13T19:09:08.998Z"
   },
   {
    "duration": 22,
    "start_time": "2024-09-13T19:09:09.012Z"
   },
   {
    "duration": 16,
    "start_time": "2024-09-13T19:09:09.036Z"
   },
   {
    "duration": 17,
    "start_time": "2024-09-13T19:09:09.053Z"
   },
   {
    "duration": 40,
    "start_time": "2024-09-13T19:09:09.072Z"
   },
   {
    "duration": 6,
    "start_time": "2024-09-13T19:09:09.114Z"
   },
   {
    "duration": 5,
    "start_time": "2024-09-13T19:09:09.121Z"
   },
   {
    "duration": 41,
    "start_time": "2024-09-13T19:09:09.127Z"
   },
   {
    "duration": 13,
    "start_time": "2024-09-13T19:09:09.170Z"
   },
   {
    "duration": 11,
    "start_time": "2024-09-13T19:09:09.185Z"
   },
   {
    "duration": 326,
    "start_time": "2024-09-13T19:09:09.198Z"
   },
   {
    "duration": 7,
    "start_time": "2024-09-13T19:09:09.526Z"
   },
   {
    "duration": 20,
    "start_time": "2024-09-13T19:09:09.535Z"
   },
   {
    "duration": 31,
    "start_time": "2024-09-13T19:09:09.559Z"
   },
   {
    "duration": 23,
    "start_time": "2024-09-13T19:09:09.592Z"
   },
   {
    "duration": 45,
    "start_time": "2024-09-13T19:09:09.617Z"
   },
   {
    "duration": 46,
    "start_time": "2024-09-13T19:09:09.663Z"
   },
   {
    "duration": 92,
    "start_time": "2024-09-13T19:09:09.711Z"
   },
   {
    "duration": 421,
    "start_time": "2024-09-13T19:09:09.804Z"
   },
   {
    "duration": 591,
    "start_time": "2024-09-13T19:09:10.227Z"
   },
   {
    "duration": 3829,
    "start_time": "2024-09-13T19:09:10.821Z"
   },
   {
    "duration": 868,
    "start_time": "2024-09-13T19:09:14.653Z"
   },
   {
    "duration": 463,
    "start_time": "2024-09-13T19:09:15.523Z"
   },
   {
    "duration": 1372,
    "start_time": "2024-09-13T19:09:15.988Z"
   },
   {
    "duration": 145,
    "start_time": "2024-09-13T19:14:57.722Z"
   },
   {
    "duration": 28,
    "start_time": "2024-09-13T19:15:21.495Z"
   },
   {
    "duration": 1531,
    "start_time": "2024-09-13T19:16:21.920Z"
   },
   {
    "duration": 86,
    "start_time": "2024-09-13T19:21:44.939Z"
   },
   {
    "duration": 21,
    "start_time": "2024-09-13T19:24:18.849Z"
   },
   {
    "duration": 28,
    "start_time": "2024-09-13T19:28:52.711Z"
   },
   {
    "duration": 26,
    "start_time": "2024-09-13T19:29:05.372Z"
   },
   {
    "duration": 42,
    "start_time": "2024-09-13T19:29:24.323Z"
   },
   {
    "duration": 41,
    "start_time": "2024-09-13T19:29:51.895Z"
   },
   {
    "duration": 1635,
    "start_time": "2024-09-13T19:29:56.554Z"
   },
   {
    "duration": 36,
    "start_time": "2024-09-13T19:30:26.126Z"
   },
   {
    "duration": 1527,
    "start_time": "2024-09-13T19:30:29.358Z"
   },
   {
    "duration": 498,
    "start_time": "2024-09-13T19:40:29.403Z"
   },
   {
    "duration": 390,
    "start_time": "2024-09-13T19:40:35.566Z"
   },
   {
    "duration": 404,
    "start_time": "2024-09-13T19:40:44.728Z"
   },
   {
    "duration": 459,
    "start_time": "2024-09-13T19:40:57.047Z"
   },
   {
    "duration": 3581,
    "start_time": "2024-09-13T19:41:05.597Z"
   },
   {
    "duration": 3712,
    "start_time": "2024-09-13T19:41:15.423Z"
   },
   {
    "duration": 966,
    "start_time": "2024-09-13T19:41:37.074Z"
   },
   {
    "duration": 1065,
    "start_time": "2024-09-13T19:41:47.166Z"
   },
   {
    "duration": 977,
    "start_time": "2024-09-13T19:41:54.003Z"
   },
   {
    "duration": 28,
    "start_time": "2024-09-13T19:45:21.810Z"
   },
   {
    "duration": 1560,
    "start_time": "2024-09-13T19:45:24.582Z"
   },
   {
    "duration": 19,
    "start_time": "2024-09-13T19:47:29.142Z"
   },
   {
    "duration": 18,
    "start_time": "2024-09-13T19:56:42.054Z"
   },
   {
    "duration": 16,
    "start_time": "2024-09-13T19:56:51.579Z"
   },
   {
    "duration": 15,
    "start_time": "2024-09-13T19:57:22.497Z"
   },
   {
    "duration": 16,
    "start_time": "2024-09-13T19:57:32.534Z"
   },
   {
    "duration": 17,
    "start_time": "2024-09-13T19:57:42.817Z"
   },
   {
    "duration": 15,
    "start_time": "2024-09-13T19:57:49.847Z"
   },
   {
    "duration": 15,
    "start_time": "2024-09-13T19:57:54.168Z"
   },
   {
    "duration": 21,
    "start_time": "2024-09-13T20:12:14.391Z"
   },
   {
    "duration": 15,
    "start_time": "2024-09-13T20:12:41.336Z"
   },
   {
    "duration": 24,
    "start_time": "2024-09-13T20:13:03.349Z"
   },
   {
    "duration": 153,
    "start_time": "2024-09-13T20:13:04.936Z"
   },
   {
    "duration": 233,
    "start_time": "2024-09-13T20:13:18.397Z"
   },
   {
    "duration": 18,
    "start_time": "2024-09-13T20:13:56.047Z"
   },
   {
    "duration": 274,
    "start_time": "2024-09-13T20:14:39.754Z"
   },
   {
    "duration": 296,
    "start_time": "2024-09-13T20:15:08.328Z"
   },
   {
    "duration": 275,
    "start_time": "2024-09-13T20:15:42.264Z"
   },
   {
    "duration": 309,
    "start_time": "2024-09-13T20:16:06.229Z"
   },
   {
    "duration": 252,
    "start_time": "2024-09-13T20:16:12.274Z"
   },
   {
    "duration": 354,
    "start_time": "2024-09-13T20:19:01.078Z"
   },
   {
    "duration": 282,
    "start_time": "2024-09-13T20:19:22.131Z"
   },
   {
    "duration": 17,
    "start_time": "2024-09-13T20:20:04.966Z"
   },
   {
    "duration": 15,
    "start_time": "2024-09-13T20:22:32.999Z"
   },
   {
    "duration": 15,
    "start_time": "2024-09-13T20:23:08.749Z"
   },
   {
    "duration": 17,
    "start_time": "2024-09-13T20:26:38.613Z"
   },
   {
    "duration": 234,
    "start_time": "2024-09-13T20:27:34.193Z"
   },
   {
    "duration": 250,
    "start_time": "2024-09-13T20:28:17.004Z"
   },
   {
    "duration": 287,
    "start_time": "2024-09-13T20:28:28.750Z"
   },
   {
    "duration": 252,
    "start_time": "2024-09-13T20:28:36.089Z"
   },
   {
    "duration": 259,
    "start_time": "2024-09-13T20:29:04.989Z"
   },
   {
    "duration": 235,
    "start_time": "2024-09-13T20:29:16.460Z"
   },
   {
    "duration": 238,
    "start_time": "2024-09-13T20:30:02.561Z"
   },
   {
    "duration": 264,
    "start_time": "2024-09-13T20:30:29.744Z"
   },
   {
    "duration": 202,
    "start_time": "2024-09-13T20:30:40.289Z"
   },
   {
    "duration": 220,
    "start_time": "2024-09-13T20:30:44.472Z"
   },
   {
    "duration": 220,
    "start_time": "2024-09-13T20:30:55.473Z"
   },
   {
    "duration": 251,
    "start_time": "2024-09-13T20:31:06.247Z"
   },
   {
    "duration": 183,
    "start_time": "2024-09-13T20:31:17.317Z"
   },
   {
    "duration": 16,
    "start_time": "2024-09-13T20:32:19.874Z"
   },
   {
    "duration": 233,
    "start_time": "2024-09-13T20:32:22.469Z"
   },
   {
    "duration": 16,
    "start_time": "2024-09-13T20:32:32.610Z"
   },
   {
    "duration": 14,
    "start_time": "2024-09-13T20:32:59.607Z"
   },
   {
    "duration": 381,
    "start_time": "2024-09-13T20:33:02.354Z"
   },
   {
    "duration": 17,
    "start_time": "2024-09-13T20:33:22.367Z"
   },
   {
    "duration": 269,
    "start_time": "2024-09-13T20:33:24.354Z"
   },
   {
    "duration": 14,
    "start_time": "2024-09-13T20:33:35.362Z"
   },
   {
    "duration": 329,
    "start_time": "2024-09-13T20:34:37.935Z"
   },
   {
    "duration": 240,
    "start_time": "2024-09-13T20:35:43.278Z"
   },
   {
    "duration": 265,
    "start_time": "2024-09-13T20:35:47.745Z"
   },
   {
    "duration": 243,
    "start_time": "2024-09-13T20:35:59.625Z"
   },
   {
    "duration": 319,
    "start_time": "2024-09-13T20:36:10.736Z"
   },
   {
    "duration": 15,
    "start_time": "2024-09-13T20:37:22.624Z"
   },
   {
    "duration": 285,
    "start_time": "2024-09-13T20:38:40.601Z"
   },
   {
    "duration": 297,
    "start_time": "2024-09-13T20:38:46.920Z"
   },
   {
    "duration": 10,
    "start_time": "2024-09-13T20:56:06.958Z"
   },
   {
    "duration": 13,
    "start_time": "2024-09-13T20:56:16.811Z"
   },
   {
    "duration": 16,
    "start_time": "2024-09-13T20:59:21.904Z"
   },
   {
    "duration": 259,
    "start_time": "2024-09-13T21:00:43.258Z"
   },
   {
    "duration": 20,
    "start_time": "2024-09-13T21:03:35.006Z"
   },
   {
    "duration": 183,
    "start_time": "2024-09-13T21:04:18.213Z"
   },
   {
    "duration": 9,
    "start_time": "2024-09-13T21:49:53.101Z"
   },
   {
    "duration": 13,
    "start_time": "2024-09-13T21:54:28.942Z"
   },
   {
    "duration": 23,
    "start_time": "2024-09-13T21:55:09.429Z"
   },
   {
    "duration": 13,
    "start_time": "2024-09-13T21:55:42.493Z"
   },
   {
    "duration": 14,
    "start_time": "2024-09-13T21:55:56.921Z"
   },
   {
    "duration": 60,
    "start_time": "2024-09-13T22:33:48.594Z"
   },
   {
    "duration": 6,
    "start_time": "2024-09-13T22:51:26.736Z"
   },
   {
    "duration": 6,
    "start_time": "2024-09-13T22:51:34.134Z"
   },
   {
    "duration": 13,
    "start_time": "2024-09-13T22:55:22.427Z"
   },
   {
    "duration": 11,
    "start_time": "2024-09-13T22:56:02.095Z"
   },
   {
    "duration": 10,
    "start_time": "2024-09-13T22:56:22.773Z"
   },
   {
    "duration": 27,
    "start_time": "2024-09-13T23:02:43.579Z"
   },
   {
    "duration": 1278,
    "start_time": "2024-09-14T12:38:22.385Z"
   },
   {
    "duration": 117,
    "start_time": "2024-09-14T12:38:23.664Z"
   },
   {
    "duration": 22,
    "start_time": "2024-09-14T12:38:23.783Z"
   },
   {
    "duration": 11,
    "start_time": "2024-09-14T12:38:23.806Z"
   },
   {
    "duration": 30,
    "start_time": "2024-09-14T12:38:23.819Z"
   },
   {
    "duration": 4,
    "start_time": "2024-09-14T12:38:23.850Z"
   },
   {
    "duration": 45,
    "start_time": "2024-09-14T12:38:23.876Z"
   },
   {
    "duration": 5,
    "start_time": "2024-09-14T12:38:23.922Z"
   },
   {
    "duration": 49,
    "start_time": "2024-09-14T12:38:23.928Z"
   },
   {
    "duration": 37,
    "start_time": "2024-09-14T12:38:23.979Z"
   },
   {
    "duration": 11,
    "start_time": "2024-09-14T12:38:24.017Z"
   },
   {
    "duration": 5,
    "start_time": "2024-09-14T12:38:24.029Z"
   },
   {
    "duration": 80,
    "start_time": "2024-09-14T12:38:24.036Z"
   },
   {
    "duration": 7,
    "start_time": "2024-09-14T12:38:24.117Z"
   },
   {
    "duration": 8,
    "start_time": "2024-09-14T12:38:24.125Z"
   },
   {
    "duration": 48,
    "start_time": "2024-09-14T12:38:24.134Z"
   },
   {
    "duration": 20,
    "start_time": "2024-09-14T12:38:24.183Z"
   },
   {
    "duration": 4,
    "start_time": "2024-09-14T12:38:24.205Z"
   },
   {
    "duration": 4,
    "start_time": "2024-09-14T12:38:24.210Z"
   },
   {
    "duration": 4,
    "start_time": "2024-09-14T12:38:24.215Z"
   },
   {
    "duration": 34,
    "start_time": "2024-09-14T12:38:24.221Z"
   },
   {
    "duration": 30,
    "start_time": "2024-09-14T12:38:24.257Z"
   },
   {
    "duration": 6,
    "start_time": "2024-09-14T12:38:24.289Z"
   },
   {
    "duration": 261,
    "start_time": "2024-09-14T12:38:24.296Z"
   },
   {
    "duration": 5,
    "start_time": "2024-09-14T12:38:24.558Z"
   },
   {
    "duration": 4,
    "start_time": "2024-09-14T12:38:24.576Z"
   },
   {
    "duration": 20,
    "start_time": "2024-09-14T12:38:24.581Z"
   },
   {
    "duration": 18,
    "start_time": "2024-09-14T12:38:24.604Z"
   },
   {
    "duration": 19,
    "start_time": "2024-09-14T12:38:24.624Z"
   },
   {
    "duration": 52,
    "start_time": "2024-09-14T12:38:24.645Z"
   },
   {
    "duration": 44,
    "start_time": "2024-09-14T12:38:24.699Z"
   },
   {
    "duration": 372,
    "start_time": "2024-09-14T12:38:24.744Z"
   },
   {
    "duration": 383,
    "start_time": "2024-09-14T12:38:25.117Z"
   },
   {
    "duration": 3116,
    "start_time": "2024-09-14T12:38:25.501Z"
   },
   {
    "duration": 924,
    "start_time": "2024-09-14T12:38:28.618Z"
   },
   {
    "duration": 13,
    "start_time": "2024-09-14T12:38:29.544Z"
   },
   {
    "duration": 296,
    "start_time": "2024-09-14T12:38:29.559Z"
   },
   {
    "duration": 29,
    "start_time": "2024-09-14T12:38:29.857Z"
   },
   {
    "duration": 430,
    "start_time": "2024-09-14T12:38:29.887Z"
   },
   {
    "duration": 13,
    "start_time": "2024-09-14T12:38:30.319Z"
   },
   {
    "duration": 346,
    "start_time": "2024-09-14T12:38:30.334Z"
   },
   {
    "duration": 13,
    "start_time": "2024-09-14T12:38:30.681Z"
   },
   {
    "duration": 265,
    "start_time": "2024-09-14T12:38:30.696Z"
   },
   {
    "duration": 22,
    "start_time": "2024-09-14T12:38:30.962Z"
   },
   {
    "duration": 227,
    "start_time": "2024-09-14T12:38:30.985Z"
   },
   {
    "duration": 14,
    "start_time": "2024-09-14T12:38:31.213Z"
   },
   {
    "duration": 197,
    "start_time": "2024-09-14T12:38:31.229Z"
   },
   {
    "duration": 52,
    "start_time": "2024-09-14T12:38:31.427Z"
   },
   {
    "duration": 1277,
    "start_time": "2024-09-14T12:38:31.480Z"
   },
   {
    "duration": 18,
    "start_time": "2024-09-14T12:38:32.758Z"
   },
   {
    "duration": 8,
    "start_time": "2024-09-14T12:38:32.777Z"
   },
   {
    "duration": 5,
    "start_time": "2024-09-14T12:38:32.786Z"
   },
   {
    "duration": 12,
    "start_time": "2024-09-14T12:38:32.792Z"
   },
   {
    "duration": 22,
    "start_time": "2024-09-14T12:39:04.103Z"
   },
   {
    "duration": 26,
    "start_time": "2024-09-14T12:39:49.194Z"
   },
   {
    "duration": 21,
    "start_time": "2024-09-14T12:39:57.590Z"
   },
   {
    "duration": 24,
    "start_time": "2024-09-14T12:40:29.199Z"
   },
   {
    "duration": 22,
    "start_time": "2024-09-14T12:40:31.248Z"
   },
   {
    "duration": 5,
    "start_time": "2024-09-14T12:41:48.702Z"
   },
   {
    "duration": 22,
    "start_time": "2024-09-14T12:41:53.626Z"
   },
   {
    "duration": 51,
    "start_time": "2024-09-14T12:43:16.237Z"
   },
   {
    "duration": 10,
    "start_time": "2024-09-14T12:43:55.802Z"
   },
   {
    "duration": 3,
    "start_time": "2024-09-14T12:44:04.685Z"
   },
   {
    "duration": 128,
    "start_time": "2024-09-14T12:44:05.715Z"
   },
   {
    "duration": 18,
    "start_time": "2024-09-14T12:44:06.265Z"
   },
   {
    "duration": 11,
    "start_time": "2024-09-14T12:44:08.689Z"
   },
   {
    "duration": 30,
    "start_time": "2024-09-14T12:44:10.241Z"
   },
   {
    "duration": 4,
    "start_time": "2024-09-14T12:44:14.212Z"
   },
   {
    "duration": 12,
    "start_time": "2024-09-14T12:44:15.944Z"
   },
   {
    "duration": 5,
    "start_time": "2024-09-14T12:44:17.906Z"
   },
   {
    "duration": 36,
    "start_time": "2024-09-14T12:44:18.483Z"
   },
   {
    "duration": 39,
    "start_time": "2024-09-14T12:44:20.362Z"
   },
   {
    "duration": 9,
    "start_time": "2024-09-14T12:44:23.749Z"
   },
   {
    "duration": 4,
    "start_time": "2024-09-14T12:44:24.584Z"
   },
   {
    "duration": 59,
    "start_time": "2024-09-14T12:44:25.633Z"
   },
   {
    "duration": 7,
    "start_time": "2024-09-14T12:44:28.578Z"
   },
   {
    "duration": 6,
    "start_time": "2024-09-14T12:44:29.108Z"
   },
   {
    "duration": 9,
    "start_time": "2024-09-14T12:44:30.047Z"
   },
   {
    "duration": 8,
    "start_time": "2024-09-14T12:44:30.511Z"
   },
   {
    "duration": 5,
    "start_time": "2024-09-14T12:44:31.003Z"
   },
   {
    "duration": 5,
    "start_time": "2024-09-14T12:44:31.459Z"
   },
   {
    "duration": 5,
    "start_time": "2024-09-14T12:44:32.899Z"
   },
   {
    "duration": 35,
    "start_time": "2024-09-14T12:44:35.374Z"
   },
   {
    "duration": 12,
    "start_time": "2024-09-14T12:44:36.975Z"
   },
   {
    "duration": 5,
    "start_time": "2024-09-14T12:44:38.438Z"
   },
   {
    "duration": 264,
    "start_time": "2024-09-14T12:44:40.552Z"
   },
   {
    "duration": 4,
    "start_time": "2024-09-14T12:44:46.408Z"
   },
   {
    "duration": 3,
    "start_time": "2024-09-14T12:44:47.019Z"
   },
   {
    "duration": 27,
    "start_time": "2024-09-14T12:44:51.447Z"
   },
   {
    "duration": 22,
    "start_time": "2024-09-14T12:44:54.263Z"
   },
   {
    "duration": 38,
    "start_time": "2024-09-14T12:45:16.379Z"
   },
   {
    "duration": 3,
    "start_time": "2024-09-14T12:46:40.430Z"
   },
   {
    "duration": 3,
    "start_time": "2024-09-14T12:46:42.625Z"
   },
   {
    "duration": 102,
    "start_time": "2024-09-14T12:46:43.835Z"
   },
   {
    "duration": 21,
    "start_time": "2024-09-14T12:46:44.343Z"
   },
   {
    "duration": 12,
    "start_time": "2024-09-14T12:46:46.647Z"
   },
   {
    "duration": 29,
    "start_time": "2024-09-14T12:46:47.045Z"
   },
   {
    "duration": 6,
    "start_time": "2024-09-14T12:46:49.978Z"
   },
   {
    "duration": 13,
    "start_time": "2024-09-14T12:46:50.958Z"
   },
   {
    "duration": 5,
    "start_time": "2024-09-14T12:46:51.520Z"
   },
   {
    "duration": 36,
    "start_time": "2024-09-14T12:46:52.009Z"
   },
   {
    "duration": 36,
    "start_time": "2024-09-14T12:46:53.102Z"
   },
   {
    "duration": 10,
    "start_time": "2024-09-14T12:46:54.731Z"
   },
   {
    "duration": 5,
    "start_time": "2024-09-14T12:46:56.444Z"
   },
   {
    "duration": 53,
    "start_time": "2024-09-14T12:46:57.620Z"
   },
   {
    "duration": 8,
    "start_time": "2024-09-14T12:47:00.198Z"
   },
   {
    "duration": 5,
    "start_time": "2024-09-14T12:47:00.592Z"
   },
   {
    "duration": 8,
    "start_time": "2024-09-14T12:47:01.467Z"
   },
   {
    "duration": 9,
    "start_time": "2024-09-14T12:47:01.913Z"
   },
   {
    "duration": 5,
    "start_time": "2024-09-14T12:47:04.578Z"
   },
   {
    "duration": 4,
    "start_time": "2024-09-14T12:47:04.899Z"
   },
   {
    "duration": 5,
    "start_time": "2024-09-14T12:47:05.373Z"
   },
   {
    "duration": 34,
    "start_time": "2024-09-14T12:47:07.663Z"
   },
   {
    "duration": 13,
    "start_time": "2024-09-14T12:47:08.206Z"
   },
   {
    "duration": 4,
    "start_time": "2024-09-14T12:47:09.568Z"
   },
   {
    "duration": 315,
    "start_time": "2024-09-14T12:47:10.137Z"
   },
   {
    "duration": 3,
    "start_time": "2024-09-14T12:47:12.966Z"
   },
   {
    "duration": 4,
    "start_time": "2024-09-14T12:47:13.437Z"
   },
   {
    "duration": 21,
    "start_time": "2024-09-14T12:47:15.590Z"
   },
   {
    "duration": 20,
    "start_time": "2024-09-14T12:47:17.016Z"
   },
   {
    "duration": 20,
    "start_time": "2024-09-14T12:47:27.576Z"
   },
   {
    "duration": 52,
    "start_time": "2024-09-14T12:48:00.227Z"
   },
   {
    "duration": 7,
    "start_time": "2024-09-14T12:49:03.468Z"
   },
   {
    "duration": 98,
    "start_time": "2024-09-14T12:49:10.819Z"
   },
   {
    "duration": 21,
    "start_time": "2024-09-14T12:49:13.453Z"
   },
   {
    "duration": 9,
    "start_time": "2024-09-14T12:49:15.768Z"
   },
   {
    "duration": 33,
    "start_time": "2024-09-14T12:49:16.475Z"
   },
   {
    "duration": 5,
    "start_time": "2024-09-14T12:49:19.062Z"
   },
   {
    "duration": 13,
    "start_time": "2024-09-14T12:49:20.254Z"
   },
   {
    "duration": 6,
    "start_time": "2024-09-14T12:49:21.253Z"
   },
   {
    "duration": 38,
    "start_time": "2024-09-14T12:49:21.998Z"
   },
   {
    "duration": 32,
    "start_time": "2024-09-14T12:49:23.234Z"
   },
   {
    "duration": 10,
    "start_time": "2024-09-14T12:49:25.571Z"
   },
   {
    "duration": 5,
    "start_time": "2024-09-14T12:49:26.892Z"
   },
   {
    "duration": 58,
    "start_time": "2024-09-14T12:49:28.691Z"
   },
   {
    "duration": 7,
    "start_time": "2024-09-14T12:49:34.053Z"
   },
   {
    "duration": 5,
    "start_time": "2024-09-14T12:49:34.517Z"
   },
   {
    "duration": 13,
    "start_time": "2024-09-14T12:49:35.707Z"
   },
   {
    "duration": 9,
    "start_time": "2024-09-14T12:49:36.184Z"
   },
   {
    "duration": 6,
    "start_time": "2024-09-14T12:49:36.703Z"
   },
   {
    "duration": 5,
    "start_time": "2024-09-14T12:49:37.239Z"
   },
   {
    "duration": 5,
    "start_time": "2024-09-14T12:49:37.785Z"
   },
   {
    "duration": 33,
    "start_time": "2024-09-14T12:49:40.922Z"
   },
   {
    "duration": 12,
    "start_time": "2024-09-14T12:49:41.658Z"
   },
   {
    "duration": 4,
    "start_time": "2024-09-14T12:52:14.630Z"
   },
   {
    "duration": 236,
    "start_time": "2024-09-14T12:52:18.728Z"
   },
   {
    "duration": 4,
    "start_time": "2024-09-14T12:52:21.003Z"
   },
   {
    "duration": 4,
    "start_time": "2024-09-14T12:52:22.726Z"
   },
   {
    "duration": 10,
    "start_time": "2024-09-14T12:52:23.333Z"
   },
   {
    "duration": 21,
    "start_time": "2024-09-14T12:52:25.070Z"
   },
   {
    "duration": 43,
    "start_time": "2024-09-14T12:54:51.921Z"
   },
   {
    "duration": 42,
    "start_time": "2024-09-14T12:55:33.182Z"
   },
   {
    "duration": 9,
    "start_time": "2024-09-14T12:56:05.232Z"
   },
   {
    "duration": 3,
    "start_time": "2024-09-14T12:56:11.581Z"
   },
   {
    "duration": 88,
    "start_time": "2024-09-14T12:56:12.800Z"
   },
   {
    "duration": 17,
    "start_time": "2024-09-14T12:56:13.377Z"
   },
   {
    "duration": 10,
    "start_time": "2024-09-14T12:56:15.177Z"
   },
   {
    "duration": 30,
    "start_time": "2024-09-14T12:56:16.815Z"
   },
   {
    "duration": 6,
    "start_time": "2024-09-14T12:56:19.784Z"
   },
   {
    "duration": 12,
    "start_time": "2024-09-14T12:56:21.362Z"
   },
   {
    "duration": 4,
    "start_time": "2024-09-14T12:56:22.629Z"
   },
   {
    "duration": 38,
    "start_time": "2024-09-14T12:56:23.033Z"
   },
   {
    "duration": 35,
    "start_time": "2024-09-14T12:56:24.790Z"
   },
   {
    "duration": 9,
    "start_time": "2024-09-14T12:56:28.287Z"
   },
   {
    "duration": 6,
    "start_time": "2024-09-14T12:56:29.917Z"
   },
   {
    "duration": 55,
    "start_time": "2024-09-14T12:56:30.775Z"
   },
   {
    "duration": 7,
    "start_time": "2024-09-14T12:56:33.525Z"
   },
   {
    "duration": 6,
    "start_time": "2024-09-14T12:56:33.947Z"
   },
   {
    "duration": 13,
    "start_time": "2024-09-14T12:56:34.886Z"
   },
   {
    "duration": 35,
    "start_time": "2024-09-14T12:56:37.583Z"
   },
   {
    "duration": 11,
    "start_time": "2024-09-14T12:56:39.667Z"
   },
   {
    "duration": 5,
    "start_time": "2024-09-14T12:56:40.782Z"
   },
   {
    "duration": 236,
    "start_time": "2024-09-14T12:56:41.390Z"
   },
   {
    "duration": 4,
    "start_time": "2024-09-14T12:56:55.779Z"
   },
   {
    "duration": 3,
    "start_time": "2024-09-14T12:56:56.805Z"
   },
   {
    "duration": 21,
    "start_time": "2024-09-14T12:57:52.959Z"
   },
   {
    "duration": 19,
    "start_time": "2024-09-14T12:58:03.693Z"
   },
   {
    "duration": 24,
    "start_time": "2024-09-14T12:59:11.033Z"
   },
   {
    "duration": 26,
    "start_time": "2024-09-14T13:00:18.116Z"
   },
   {
    "duration": 3061,
    "start_time": "2024-09-14T13:01:03.061Z"
   },
   {
    "duration": 7,
    "start_time": "2024-09-14T13:01:51.683Z"
   },
   {
    "duration": 12,
    "start_time": "2024-09-14T13:01:54.471Z"
   },
   {
    "duration": 4,
    "start_time": "2024-09-14T13:08:36.678Z"
   },
   {
    "duration": 103,
    "start_time": "2024-09-14T13:08:40.582Z"
   },
   {
    "duration": 18,
    "start_time": "2024-09-14T13:08:41.632Z"
   },
   {
    "duration": 12,
    "start_time": "2024-09-14T13:08:43.789Z"
   },
   {
    "duration": 35,
    "start_time": "2024-09-14T13:08:44.510Z"
   },
   {
    "duration": 4,
    "start_time": "2024-09-14T13:08:47.382Z"
   },
   {
    "duration": 14,
    "start_time": "2024-09-14T13:08:48.805Z"
   },
   {
    "duration": 4,
    "start_time": "2024-09-14T13:08:49.668Z"
   },
   {
    "duration": 36,
    "start_time": "2024-09-14T13:08:50.900Z"
   },
   {
    "duration": 33,
    "start_time": "2024-09-14T13:08:52.710Z"
   },
   {
    "duration": 9,
    "start_time": "2024-09-14T13:08:55.051Z"
   },
   {
    "duration": 6,
    "start_time": "2024-09-14T13:08:56.882Z"
   },
   {
    "duration": 63,
    "start_time": "2024-09-14T13:08:59.432Z"
   },
   {
    "duration": 10,
    "start_time": "2024-09-14T13:09:02.455Z"
   },
   {
    "duration": 6,
    "start_time": "2024-09-14T13:09:02.912Z"
   },
   {
    "duration": 12,
    "start_time": "2024-09-14T13:09:07.173Z"
   },
   {
    "duration": 4,
    "start_time": "2024-09-14T13:09:09.264Z"
   },
   {
    "duration": 5,
    "start_time": "2024-09-14T13:09:28.260Z"
   },
   {
    "duration": 4,
    "start_time": "2024-09-14T13:09:28.769Z"
   },
   {
    "duration": 22,
    "start_time": "2024-09-14T13:09:31.502Z"
   },
   {
    "duration": 24,
    "start_time": "2024-09-14T13:09:36.596Z"
   },
   {
    "duration": 20,
    "start_time": "2024-09-14T13:09:39.270Z"
   },
   {
    "duration": 22,
    "start_time": "2024-09-14T13:09:43.038Z"
   },
   {
    "duration": 27,
    "start_time": "2024-09-14T13:10:11.984Z"
   },
   {
    "duration": 10,
    "start_time": "2024-09-14T13:10:39.252Z"
   },
   {
    "duration": 9,
    "start_time": "2024-09-14T13:11:02.190Z"
   },
   {
    "duration": 91,
    "start_time": "2024-09-14T13:12:06.155Z"
   },
   {
    "duration": 22,
    "start_time": "2024-09-14T13:12:08.365Z"
   },
   {
    "duration": 6,
    "start_time": "2024-09-14T13:12:14.007Z"
   },
   {
    "duration": 18,
    "start_time": "2024-09-14T13:12:15.776Z"
   },
   {
    "duration": 5,
    "start_time": "2024-09-14T13:12:17.419Z"
   },
   {
    "duration": 40,
    "start_time": "2024-09-14T13:12:17.913Z"
   },
   {
    "duration": 34,
    "start_time": "2024-09-14T13:12:19.118Z"
   },
   {
    "duration": 11,
    "start_time": "2024-09-14T13:12:21.752Z"
   },
   {
    "duration": 5,
    "start_time": "2024-09-14T13:12:22.753Z"
   },
   {
    "duration": 54,
    "start_time": "2024-09-14T13:12:24.588Z"
   },
   {
    "duration": 8,
    "start_time": "2024-09-14T13:12:26.807Z"
   },
   {
    "duration": 7,
    "start_time": "2024-09-14T13:12:27.328Z"
   },
   {
    "duration": 5,
    "start_time": "2024-09-14T13:12:31.854Z"
   },
   {
    "duration": 20,
    "start_time": "2024-09-14T13:12:35.478Z"
   },
   {
    "duration": 22,
    "start_time": "2024-09-14T13:12:38.131Z"
   },
   {
    "duration": 23,
    "start_time": "2024-09-14T13:13:02.710Z"
   },
   {
    "duration": 11,
    "start_time": "2024-09-14T13:13:50.520Z"
   },
   {
    "duration": 9,
    "start_time": "2024-09-14T13:14:02.105Z"
   },
   {
    "duration": 10,
    "start_time": "2024-09-14T13:14:13.390Z"
   },
   {
    "duration": 9,
    "start_time": "2024-09-14T13:14:25.632Z"
   },
   {
    "duration": 13,
    "start_time": "2024-09-14T13:15:37.196Z"
   },
   {
    "duration": 1110,
    "start_time": "2024-09-14T13:16:26.260Z"
   },
   {
    "duration": 108,
    "start_time": "2024-09-14T13:16:27.375Z"
   },
   {
    "duration": 22,
    "start_time": "2024-09-14T13:16:27.484Z"
   },
   {
    "duration": 11,
    "start_time": "2024-09-14T13:16:27.508Z"
   },
   {
    "duration": 55,
    "start_time": "2024-09-14T13:16:27.522Z"
   },
   {
    "duration": 5,
    "start_time": "2024-09-14T13:16:27.579Z"
   },
   {
    "duration": 46,
    "start_time": "2024-09-14T13:16:27.585Z"
   },
   {
    "duration": 4,
    "start_time": "2024-09-14T13:16:27.633Z"
   },
   {
    "duration": 59,
    "start_time": "2024-09-14T13:16:27.639Z"
   },
   {
    "duration": 35,
    "start_time": "2024-09-14T13:16:27.699Z"
   },
   {
    "duration": 9,
    "start_time": "2024-09-14T13:16:27.735Z"
   },
   {
    "duration": 5,
    "start_time": "2024-09-14T13:16:27.746Z"
   },
   {
    "duration": 77,
    "start_time": "2024-09-14T13:16:27.752Z"
   },
   {
    "duration": 6,
    "start_time": "2024-09-14T13:16:27.832Z"
   },
   {
    "duration": 4,
    "start_time": "2024-09-14T13:16:27.840Z"
   },
   {
    "duration": 8,
    "start_time": "2024-09-14T13:16:27.846Z"
   },
   {
    "duration": 28,
    "start_time": "2024-09-14T13:16:27.855Z"
   },
   {
    "duration": 4,
    "start_time": "2024-09-14T13:16:27.885Z"
   },
   {
    "duration": 4,
    "start_time": "2024-09-14T13:16:27.890Z"
   },
   {
    "duration": 5,
    "start_time": "2024-09-14T13:16:27.895Z"
   },
   {
    "duration": 40,
    "start_time": "2024-09-14T13:16:27.901Z"
   },
   {
    "duration": 40,
    "start_time": "2024-09-14T13:16:27.943Z"
   },
   {
    "duration": 4,
    "start_time": "2024-09-14T13:16:27.985Z"
   },
   {
    "duration": 287,
    "start_time": "2024-09-14T13:16:27.990Z"
   },
   {
    "duration": 4,
    "start_time": "2024-09-14T13:16:28.278Z"
   },
   {
    "duration": 4,
    "start_time": "2024-09-14T13:16:28.284Z"
   },
   {
    "duration": 20,
    "start_time": "2024-09-14T13:16:28.290Z"
   },
   {
    "duration": 19,
    "start_time": "2024-09-14T13:16:28.312Z"
   },
   {
    "duration": 56,
    "start_time": "2024-09-14T13:16:28.333Z"
   },
   {
    "duration": 30,
    "start_time": "2024-09-14T13:16:28.391Z"
   },
   {
    "duration": 70,
    "start_time": "2024-09-14T13:16:28.422Z"
   },
   {
    "duration": 399,
    "start_time": "2024-09-14T13:16:28.494Z"
   },
   {
    "duration": 486,
    "start_time": "2024-09-14T13:16:28.894Z"
   },
   {
    "duration": 3240,
    "start_time": "2024-09-14T13:16:29.381Z"
   },
   {
    "duration": 774,
    "start_time": "2024-09-14T13:16:32.622Z"
   },
   {
    "duration": 26,
    "start_time": "2024-09-14T13:16:33.398Z"
   },
   {
    "duration": 3411,
    "start_time": "2024-09-14T13:16:33.426Z"
   },
   {
    "duration": 15,
    "start_time": "2024-09-14T13:16:36.838Z"
   },
   {
    "duration": 281,
    "start_time": "2024-09-14T13:16:36.854Z"
   },
   {
    "duration": 15,
    "start_time": "2024-09-14T13:16:37.136Z"
   },
   {
    "duration": 243,
    "start_time": "2024-09-14T13:16:37.154Z"
   },
   {
    "duration": 13,
    "start_time": "2024-09-14T13:16:37.398Z"
   },
   {
    "duration": 297,
    "start_time": "2024-09-14T13:16:37.412Z"
   },
   {
    "duration": 12,
    "start_time": "2024-09-14T13:16:37.710Z"
   },
   {
    "duration": 261,
    "start_time": "2024-09-14T13:16:37.724Z"
   },
   {
    "duration": 14,
    "start_time": "2024-09-14T13:16:37.986Z"
   },
   {
    "duration": 238,
    "start_time": "2024-09-14T13:16:38.001Z"
   },
   {
    "duration": 14,
    "start_time": "2024-09-14T13:16:38.240Z"
   },
   {
    "duration": 245,
    "start_time": "2024-09-14T13:16:38.255Z"
   },
   {
    "duration": 27,
    "start_time": "2024-09-14T13:16:38.501Z"
   },
   {
    "duration": 1451,
    "start_time": "2024-09-14T13:16:38.530Z"
   },
   {
    "duration": 10,
    "start_time": "2024-09-14T13:16:39.982Z"
   },
   {
    "duration": 8,
    "start_time": "2024-09-14T13:16:39.994Z"
   },
   {
    "duration": 6,
    "start_time": "2024-09-14T13:16:40.003Z"
   },
   {
    "duration": 14,
    "start_time": "2024-09-14T13:16:40.010Z"
   },
   {
    "duration": 1805,
    "start_time": "2024-09-14T13:16:52.858Z"
   },
   {
    "duration": 4830,
    "start_time": "2024-09-14T13:20:32.959Z"
   },
   {
    "duration": 1067,
    "start_time": "2024-09-14T13:20:46.113Z"
   },
   {
    "duration": 483,
    "start_time": "2024-09-14T13:21:02.954Z"
   },
   {
    "duration": 874,
    "start_time": "2024-09-14T13:27:32.645Z"
   },
   {
    "duration": 3248,
    "start_time": "2024-09-14T13:28:06.539Z"
   },
   {
    "duration": 992,
    "start_time": "2024-09-14T13:28:16.741Z"
   },
   {
    "duration": 651,
    "start_time": "2024-09-14T13:28:24.838Z"
   },
   {
    "duration": 494,
    "start_time": "2024-09-14T13:28:35.741Z"
   },
   {
    "duration": 581,
    "start_time": "2024-09-14T13:28:42.797Z"
   },
   {
    "duration": 752,
    "start_time": "2024-09-14T13:28:59.566Z"
   },
   {
    "duration": 742,
    "start_time": "2024-09-14T13:29:14.403Z"
   },
   {
    "duration": 350,
    "start_time": "2024-09-14T13:30:56.564Z"
   },
   {
    "duration": 7,
    "start_time": "2024-09-14T13:38:31.430Z"
   },
   {
    "duration": 3,
    "start_time": "2024-09-14T13:38:37.892Z"
   },
   {
    "duration": 140,
    "start_time": "2024-09-14T13:38:40.461Z"
   },
   {
    "duration": 17,
    "start_time": "2024-09-14T13:38:41.814Z"
   },
   {
    "duration": 11,
    "start_time": "2024-09-14T13:38:43.408Z"
   },
   {
    "duration": 30,
    "start_time": "2024-09-14T13:38:44.774Z"
   },
   {
    "duration": 5,
    "start_time": "2024-09-14T13:38:48.066Z"
   },
   {
    "duration": 12,
    "start_time": "2024-09-14T13:38:49.619Z"
   },
   {
    "duration": 4,
    "start_time": "2024-09-14T13:38:50.886Z"
   },
   {
    "duration": 37,
    "start_time": "2024-09-14T13:38:51.303Z"
   },
   {
    "duration": 37,
    "start_time": "2024-09-14T13:38:53.459Z"
   },
   {
    "duration": 11,
    "start_time": "2024-09-14T13:38:55.751Z"
   },
   {
    "duration": 5,
    "start_time": "2024-09-14T13:38:56.689Z"
   },
   {
    "duration": 53,
    "start_time": "2024-09-14T13:38:58.417Z"
   },
   {
    "duration": 7,
    "start_time": "2024-09-14T13:39:00.254Z"
   },
   {
    "duration": 5,
    "start_time": "2024-09-14T13:39:01.516Z"
   },
   {
    "duration": 9,
    "start_time": "2024-09-14T13:39:02.276Z"
   },
   {
    "duration": 8,
    "start_time": "2024-09-14T13:39:02.704Z"
   },
   {
    "duration": 6,
    "start_time": "2024-09-14T13:39:03.155Z"
   },
   {
    "duration": 6,
    "start_time": "2024-09-14T13:39:03.556Z"
   },
   {
    "duration": 5,
    "start_time": "2024-09-14T13:39:03.969Z"
   },
   {
    "duration": 39,
    "start_time": "2024-09-14T13:39:06.085Z"
   },
   {
    "duration": 12,
    "start_time": "2024-09-14T13:39:07.739Z"
   },
   {
    "duration": 6,
    "start_time": "2024-09-14T13:39:08.126Z"
   },
   {
    "duration": 238,
    "start_time": "2024-09-14T13:39:09.131Z"
   },
   {
    "duration": 4,
    "start_time": "2024-09-14T13:40:07.839Z"
   },
   {
    "duration": 4,
    "start_time": "2024-09-14T13:40:09.183Z"
   },
   {
    "duration": 9,
    "start_time": "2024-09-14T13:40:11.000Z"
   },
   {
    "duration": 20,
    "start_time": "2024-09-14T13:40:12.694Z"
   },
   {
    "duration": 6,
    "start_time": "2024-09-14T13:40:52.640Z"
   },
   {
    "duration": 6,
    "start_time": "2024-09-14T13:41:12.386Z"
   },
   {
    "duration": 6,
    "start_time": "2024-09-14T13:41:22.177Z"
   },
   {
    "duration": 12,
    "start_time": "2024-09-14T13:51:17.692Z"
   },
   {
    "duration": 12,
    "start_time": "2024-09-14T13:51:32.450Z"
   },
   {
    "duration": 23,
    "start_time": "2024-09-14T13:58:52.276Z"
   },
   {
    "duration": 12,
    "start_time": "2024-09-14T14:00:25.322Z"
   },
   {
    "duration": 6,
    "start_time": "2024-09-14T15:11:12.857Z"
   },
   {
    "duration": 21,
    "start_time": "2024-09-14T15:11:18.556Z"
   },
   {
    "duration": 4,
    "start_time": "2024-09-14T15:12:49.652Z"
   },
   {
    "duration": 138,
    "start_time": "2024-09-14T15:12:50.879Z"
   },
   {
    "duration": 22,
    "start_time": "2024-09-14T15:12:51.961Z"
   },
   {
    "duration": 11,
    "start_time": "2024-09-14T15:12:54.628Z"
   },
   {
    "duration": 32,
    "start_time": "2024-09-14T15:12:56.295Z"
   },
   {
    "duration": 4,
    "start_time": "2024-09-14T15:12:59.416Z"
   },
   {
    "duration": 12,
    "start_time": "2024-09-14T15:13:00.516Z"
   },
   {
    "duration": 6,
    "start_time": "2024-09-14T15:13:03.251Z"
   },
   {
    "duration": 41,
    "start_time": "2024-09-14T15:13:03.872Z"
   },
   {
    "duration": 37,
    "start_time": "2024-09-14T15:13:06.680Z"
   },
   {
    "duration": 10,
    "start_time": "2024-09-14T15:13:09.375Z"
   },
   {
    "duration": 6,
    "start_time": "2024-09-14T15:13:11.273Z"
   },
   {
    "duration": 54,
    "start_time": "2024-09-14T15:13:12.551Z"
   },
   {
    "duration": 8,
    "start_time": "2024-09-14T15:13:15.811Z"
   },
   {
    "duration": 6,
    "start_time": "2024-09-14T15:13:16.243Z"
   },
   {
    "duration": 10,
    "start_time": "2024-09-14T15:13:19.339Z"
   },
   {
    "duration": 9,
    "start_time": "2024-09-14T15:13:20.450Z"
   },
   {
    "duration": 5,
    "start_time": "2024-09-14T15:13:21.187Z"
   },
   {
    "duration": 5,
    "start_time": "2024-09-14T15:13:23.316Z"
   },
   {
    "duration": 5,
    "start_time": "2024-09-14T15:13:23.647Z"
   },
   {
    "duration": 35,
    "start_time": "2024-09-14T15:13:25.723Z"
   },
   {
    "duration": 254,
    "start_time": "2024-09-14T15:13:27.799Z"
   },
   {
    "duration": 3,
    "start_time": "2024-09-14T15:13:32.593Z"
   },
   {
    "duration": 3,
    "start_time": "2024-09-14T15:13:33.163Z"
   },
   {
    "duration": 8,
    "start_time": "2024-09-14T15:13:35.471Z"
   },
   {
    "duration": 6,
    "start_time": "2024-09-14T15:13:36.373Z"
   },
   {
    "duration": 11,
    "start_time": "2024-09-14T15:13:38.880Z"
   },
   {
    "duration": 14,
    "start_time": "2024-09-14T15:13:46.787Z"
   },
   {
    "duration": 12,
    "start_time": "2024-09-14T15:13:47.788Z"
   },
   {
    "duration": 24,
    "start_time": "2024-09-14T15:14:30.508Z"
   },
   {
    "duration": 20,
    "start_time": "2024-09-14T15:14:57.699Z"
   },
   {
    "duration": 21,
    "start_time": "2024-09-14T15:15:07.600Z"
   },
   {
    "duration": 93,
    "start_time": "2024-09-14T15:16:08.951Z"
   },
   {
    "duration": 6,
    "start_time": "2024-09-14T15:16:17.606Z"
   },
   {
    "duration": 4,
    "start_time": "2024-09-14T15:19:31.128Z"
   },
   {
    "duration": 21,
    "start_time": "2024-09-14T15:19:39.444Z"
   },
   {
    "duration": 3,
    "start_time": "2024-09-14T15:21:27.577Z"
   },
   {
    "duration": 18,
    "start_time": "2024-09-14T15:21:37.212Z"
   },
   {
    "duration": 25,
    "start_time": "2024-09-14T15:21:50.582Z"
   },
   {
    "duration": 21,
    "start_time": "2024-09-14T15:23:25.316Z"
   },
   {
    "duration": 23,
    "start_time": "2024-09-14T15:25:23.223Z"
   },
   {
    "duration": 33,
    "start_time": "2024-09-14T15:26:29.430Z"
   },
   {
    "duration": 45,
    "start_time": "2024-09-14T15:26:32.219Z"
   },
   {
    "duration": 357,
    "start_time": "2024-09-14T15:27:27.600Z"
   },
   {
    "duration": 516,
    "start_time": "2024-09-14T15:27:33.020Z"
   },
   {
    "duration": 3274,
    "start_time": "2024-09-14T15:27:35.660Z"
   },
   {
    "duration": 858,
    "start_time": "2024-09-14T15:28:00.587Z"
   },
   {
    "duration": 14,
    "start_time": "2024-09-14T15:28:10.808Z"
   },
   {
    "duration": 224,
    "start_time": "2024-09-14T15:28:13.601Z"
   },
   {
    "duration": 15,
    "start_time": "2024-09-14T15:28:15.335Z"
   },
   {
    "duration": 177,
    "start_time": "2024-09-14T15:28:16.130Z"
   },
   {
    "duration": 13,
    "start_time": "2024-09-14T15:28:17.546Z"
   },
   {
    "duration": 296,
    "start_time": "2024-09-14T15:28:18.907Z"
   },
   {
    "duration": 12,
    "start_time": "2024-09-14T15:28:20.376Z"
   },
   {
    "duration": 281,
    "start_time": "2024-09-14T15:28:21.260Z"
   },
   {
    "duration": 17,
    "start_time": "2024-09-14T15:28:23.268Z"
   },
   {
    "duration": 228,
    "start_time": "2024-09-14T15:28:23.477Z"
   },
   {
    "duration": 13,
    "start_time": "2024-09-14T15:28:24.851Z"
   },
   {
    "duration": 211,
    "start_time": "2024-09-14T15:28:25.198Z"
   },
   {
    "duration": 17,
    "start_time": "2024-09-14T15:28:27.052Z"
   },
   {
    "duration": 29,
    "start_time": "2024-09-14T15:28:48.216Z"
   },
   {
    "duration": 1314,
    "start_time": "2024-09-14T15:28:55.166Z"
   },
   {
    "duration": 226,
    "start_time": "2024-09-14T15:59:30.440Z"
   },
   {
    "duration": 260,
    "start_time": "2024-09-14T16:03:14.899Z"
   },
   {
    "duration": 164,
    "start_time": "2024-09-14T16:06:33.358Z"
   },
   {
    "duration": 160,
    "start_time": "2024-09-14T16:08:01.391Z"
   },
   {
    "duration": 168,
    "start_time": "2024-09-14T16:08:11.207Z"
   },
   {
    "duration": 147,
    "start_time": "2024-09-14T16:29:30.091Z"
   },
   {
    "duration": 5,
    "start_time": "2024-09-14T16:30:10.738Z"
   },
   {
    "duration": 5,
    "start_time": "2024-09-14T16:30:40.375Z"
   },
   {
    "duration": 15,
    "start_time": "2024-09-14T16:45:23.395Z"
   },
   {
    "duration": 11,
    "start_time": "2024-09-14T17:14:53.532Z"
   },
   {
    "duration": 179,
    "start_time": "2024-09-14T17:15:50.922Z"
   },
   {
    "duration": 180,
    "start_time": "2024-09-14T17:17:15.361Z"
   },
   {
    "duration": 75,
    "start_time": "2024-09-14T17:23:24.074Z"
   },
   {
    "duration": 48,
    "start_time": "2024-09-14T17:24:11.295Z"
   },
   {
    "duration": 14,
    "start_time": "2024-09-14T17:24:51.839Z"
   },
   {
    "duration": 13,
    "start_time": "2024-09-14T17:25:12.309Z"
   },
   {
    "duration": 8,
    "start_time": "2024-09-14T17:26:25.316Z"
   },
   {
    "duration": 8,
    "start_time": "2024-09-14T17:26:48.727Z"
   },
   {
    "duration": 159,
    "start_time": "2024-09-14T17:27:05.540Z"
   },
   {
    "duration": 13,
    "start_time": "2024-09-14T17:27:19.845Z"
   },
   {
    "duration": 8,
    "start_time": "2024-09-14T17:29:30.878Z"
   },
   {
    "duration": 9,
    "start_time": "2024-09-14T17:29:50.844Z"
   },
   {
    "duration": 12,
    "start_time": "2024-09-14T17:30:08.383Z"
   },
   {
    "duration": 164,
    "start_time": "2024-09-14T17:30:16.891Z"
   },
   {
    "duration": 15,
    "start_time": "2024-09-14T17:30:37.078Z"
   },
   {
    "duration": 13,
    "start_time": "2024-09-14T17:30:55.555Z"
   },
   {
    "duration": 12,
    "start_time": "2024-09-14T17:33:22.713Z"
   },
   {
    "duration": 14,
    "start_time": "2024-09-14T17:33:33.760Z"
   },
   {
    "duration": 14,
    "start_time": "2024-09-14T17:34:13.967Z"
   },
   {
    "duration": 13,
    "start_time": "2024-09-14T17:34:40.015Z"
   },
   {
    "duration": 15,
    "start_time": "2024-09-14T17:35:15.830Z"
   },
   {
    "duration": 12,
    "start_time": "2024-09-14T17:35:26.821Z"
   },
   {
    "duration": 13,
    "start_time": "2024-09-14T17:35:55.899Z"
   },
   {
    "duration": 13,
    "start_time": "2024-09-14T17:36:10.954Z"
   },
   {
    "duration": 168,
    "start_time": "2024-09-14T17:36:19.656Z"
   },
   {
    "duration": 12,
    "start_time": "2024-09-14T17:36:46.369Z"
   },
   {
    "duration": 13,
    "start_time": "2024-09-14T17:38:04.746Z"
   },
   {
    "duration": 12,
    "start_time": "2024-09-14T17:38:09.490Z"
   },
   {
    "duration": 12,
    "start_time": "2024-09-14T17:38:15.316Z"
   },
   {
    "duration": 13,
    "start_time": "2024-09-14T17:39:22.844Z"
   },
   {
    "duration": 13,
    "start_time": "2024-09-14T17:47:03.650Z"
   },
   {
    "duration": 10,
    "start_time": "2024-09-14T17:47:11.846Z"
   },
   {
    "duration": 359,
    "start_time": "2024-09-14T17:54:50.193Z"
   },
   {
    "duration": 525,
    "start_time": "2024-09-14T17:55:00.641Z"
   },
   {
    "duration": 360,
    "start_time": "2024-09-14T17:55:15.254Z"
   },
   {
    "duration": 55,
    "start_time": "2024-09-14T18:06:20.191Z"
   },
   {
    "duration": 4,
    "start_time": "2024-09-14T18:06:38.107Z"
   },
   {
    "duration": 12,
    "start_time": "2024-09-14T18:09:31.091Z"
   },
   {
    "duration": 1375,
    "start_time": "2024-09-14T19:35:55.246Z"
   },
   {
    "duration": 159,
    "start_time": "2024-09-14T19:35:56.623Z"
   },
   {
    "duration": 24,
    "start_time": "2024-09-14T19:35:56.783Z"
   },
   {
    "duration": 11,
    "start_time": "2024-09-14T19:35:56.809Z"
   },
   {
    "duration": 57,
    "start_time": "2024-09-14T19:35:56.821Z"
   },
   {
    "duration": 6,
    "start_time": "2024-09-14T19:35:56.881Z"
   },
   {
    "duration": 64,
    "start_time": "2024-09-14T19:35:56.890Z"
   },
   {
    "duration": 5,
    "start_time": "2024-09-14T19:35:56.956Z"
   },
   {
    "duration": 55,
    "start_time": "2024-09-14T19:35:56.963Z"
   },
   {
    "duration": 46,
    "start_time": "2024-09-14T19:35:57.021Z"
   },
   {
    "duration": 21,
    "start_time": "2024-09-14T19:35:57.069Z"
   },
   {
    "duration": 10,
    "start_time": "2024-09-14T19:35:57.092Z"
   },
   {
    "duration": 5,
    "start_time": "2024-09-14T19:35:57.104Z"
   },
   {
    "duration": 125,
    "start_time": "2024-09-14T19:35:57.110Z"
   },
   {
    "duration": 10,
    "start_time": "2024-09-14T19:35:57.237Z"
   },
   {
    "duration": 6,
    "start_time": "2024-09-14T19:35:57.249Z"
   },
   {
    "duration": 17,
    "start_time": "2024-09-14T19:35:57.256Z"
   },
   {
    "duration": 13,
    "start_time": "2024-09-14T19:35:57.276Z"
   },
   {
    "duration": 5,
    "start_time": "2024-09-14T19:35:57.291Z"
   },
   {
    "duration": 5,
    "start_time": "2024-09-14T19:35:57.298Z"
   },
   {
    "duration": 20,
    "start_time": "2024-09-14T19:35:57.304Z"
   },
   {
    "duration": 66,
    "start_time": "2024-09-14T19:35:57.325Z"
   },
   {
    "duration": 308,
    "start_time": "2024-09-14T19:35:57.393Z"
   },
   {
    "duration": 7,
    "start_time": "2024-09-14T19:35:57.703Z"
   },
   {
    "duration": 10,
    "start_time": "2024-09-14T19:35:57.712Z"
   },
   {
    "duration": 11,
    "start_time": "2024-09-14T19:35:57.724Z"
   },
   {
    "duration": 8,
    "start_time": "2024-09-14T19:35:57.752Z"
   },
   {
    "duration": 13,
    "start_time": "2024-09-14T19:35:57.765Z"
   },
   {
    "duration": 12,
    "start_time": "2024-09-14T19:35:57.780Z"
   },
   {
    "duration": 14,
    "start_time": "2024-09-14T19:35:57.794Z"
   },
   {
    "duration": 9,
    "start_time": "2024-09-14T19:35:57.809Z"
   },
   {
    "duration": 44,
    "start_time": "2024-09-14T19:35:57.819Z"
   },
   {
    "duration": 27,
    "start_time": "2024-09-14T19:35:57.865Z"
   },
   {
    "duration": 32,
    "start_time": "2024-09-14T19:35:57.894Z"
   },
   {
    "duration": 79,
    "start_time": "2024-09-14T19:35:57.928Z"
   },
   {
    "duration": 401,
    "start_time": "2024-09-14T19:35:58.009Z"
   },
   {
    "duration": 435,
    "start_time": "2024-09-14T19:35:58.411Z"
   },
   {
    "duration": 629,
    "start_time": "2024-09-14T19:35:58.847Z"
   },
   {
    "duration": 697,
    "start_time": "2024-09-14T19:35:59.478Z"
   },
   {
    "duration": 16,
    "start_time": "2024-09-14T19:36:00.177Z"
   },
   {
    "duration": 365,
    "start_time": "2024-09-14T19:36:00.195Z"
   },
   {
    "duration": 19,
    "start_time": "2024-09-14T19:36:00.561Z"
   },
   {
    "duration": 222,
    "start_time": "2024-09-14T19:36:00.581Z"
   },
   {
    "duration": 15,
    "start_time": "2024-09-14T19:36:00.805Z"
   },
   {
    "duration": 337,
    "start_time": "2024-09-14T19:36:00.822Z"
   },
   {
    "duration": 17,
    "start_time": "2024-09-14T19:36:01.162Z"
   },
   {
    "duration": 411,
    "start_time": "2024-09-14T19:36:01.181Z"
   },
   {
    "duration": 16,
    "start_time": "2024-09-14T19:36:01.594Z"
   },
   {
    "duration": 278,
    "start_time": "2024-09-14T19:36:01.612Z"
   },
   {
    "duration": 15,
    "start_time": "2024-09-14T19:36:01.891Z"
   },
   {
    "duration": 272,
    "start_time": "2024-09-14T19:36:01.908Z"
   },
   {
    "duration": 29,
    "start_time": "2024-09-14T19:36:02.181Z"
   },
   {
    "duration": 1519,
    "start_time": "2024-09-14T19:36:02.212Z"
   },
   {
    "duration": 29,
    "start_time": "2024-09-14T19:36:03.732Z"
   },
   {
    "duration": 38,
    "start_time": "2024-09-14T19:36:03.762Z"
   },
   {
    "duration": 68,
    "start_time": "2024-09-14T19:36:03.802Z"
   },
   {
    "duration": 45,
    "start_time": "2024-09-14T19:36:03.871Z"
   },
   {
    "duration": 83,
    "start_time": "2024-09-14T19:36:03.918Z"
   },
   {
    "duration": 233,
    "start_time": "2024-09-14T19:36:04.003Z"
   },
   {
    "duration": 21,
    "start_time": "2024-09-14T19:36:04.238Z"
   },
   {
    "duration": 41,
    "start_time": "2024-09-14T19:36:04.262Z"
   },
   {
    "duration": 53,
    "start_time": "2024-09-14T19:36:04.304Z"
   },
   {
    "duration": 11,
    "start_time": "2024-09-14T19:37:37.759Z"
   },
   {
    "duration": 12,
    "start_time": "2024-09-14T19:38:24.236Z"
   },
   {
    "duration": 13,
    "start_time": "2024-09-14T19:47:53.505Z"
   },
   {
    "duration": 19,
    "start_time": "2024-09-14T19:48:03.992Z"
   },
   {
    "duration": 13,
    "start_time": "2024-09-14T19:48:16.848Z"
   },
   {
    "duration": 12,
    "start_time": "2024-09-14T19:51:50.466Z"
   },
   {
    "duration": 11,
    "start_time": "2024-09-14T19:52:00.585Z"
   },
   {
    "duration": 12,
    "start_time": "2024-09-14T19:52:13.948Z"
   },
   {
    "duration": 17,
    "start_time": "2024-09-14T19:52:51.015Z"
   },
   {
    "duration": 12,
    "start_time": "2024-09-14T19:53:07.457Z"
   },
   {
    "duration": 12,
    "start_time": "2024-09-14T19:53:55.800Z"
   },
   {
    "duration": 13,
    "start_time": "2024-09-14T19:54:32.919Z"
   },
   {
    "duration": 11,
    "start_time": "2024-09-14T19:56:12.257Z"
   },
   {
    "duration": 11,
    "start_time": "2024-09-14T19:56:28.900Z"
   },
   {
    "duration": 11,
    "start_time": "2024-09-14T19:56:40.911Z"
   },
   {
    "duration": 11,
    "start_time": "2024-09-14T19:58:27.359Z"
   },
   {
    "duration": 42,
    "start_time": "2024-09-14T19:59:03.994Z"
   },
   {
    "duration": 11,
    "start_time": "2024-09-14T19:59:11.226Z"
   },
   {
    "duration": 54,
    "start_time": "2024-09-14T19:59:23.983Z"
   },
   {
    "duration": 12,
    "start_time": "2024-09-14T19:59:28.694Z"
   },
   {
    "duration": 11,
    "start_time": "2024-09-14T20:00:36.475Z"
   },
   {
    "duration": 12,
    "start_time": "2024-09-14T20:02:15.813Z"
   },
   {
    "duration": 22,
    "start_time": "2024-09-14T20:02:33.970Z"
   },
   {
    "duration": 24,
    "start_time": "2024-09-14T20:03:14.505Z"
   },
   {
    "duration": 25,
    "start_time": "2024-09-14T20:03:31.461Z"
   },
   {
    "duration": 61,
    "start_time": "2024-09-14T20:03:35.685Z"
   },
   {
    "duration": 12,
    "start_time": "2024-09-14T20:03:40.301Z"
   },
   {
    "duration": 12,
    "start_time": "2024-09-14T20:04:35.221Z"
   },
   {
    "duration": 12,
    "start_time": "2024-09-14T20:04:47.738Z"
   },
   {
    "duration": 11,
    "start_time": "2024-09-14T20:05:59.281Z"
   },
   {
    "duration": 11,
    "start_time": "2024-09-14T20:06:04.642Z"
   },
   {
    "duration": 12,
    "start_time": "2024-09-14T20:08:10.856Z"
   },
   {
    "duration": 15,
    "start_time": "2024-09-14T20:08:20.679Z"
   },
   {
    "duration": 11,
    "start_time": "2024-09-14T20:08:28.735Z"
   },
   {
    "duration": 13,
    "start_time": "2024-09-14T20:11:48.874Z"
   },
   {
    "duration": 12,
    "start_time": "2024-09-14T20:12:00.747Z"
   },
   {
    "duration": 12,
    "start_time": "2024-09-14T20:12:07.764Z"
   },
   {
    "duration": 11,
    "start_time": "2024-09-14T20:12:33.865Z"
   },
   {
    "duration": 12,
    "start_time": "2024-09-14T20:12:39.521Z"
   },
   {
    "duration": 10,
    "start_time": "2024-09-14T20:12:48.747Z"
   },
   {
    "duration": 39,
    "start_time": "2024-09-14T20:13:25.291Z"
   },
   {
    "duration": 12,
    "start_time": "2024-09-14T20:13:47.448Z"
   },
   {
    "duration": 11,
    "start_time": "2024-09-14T20:13:55.684Z"
   },
   {
    "duration": 11,
    "start_time": "2024-09-14T20:14:09.872Z"
   },
   {
    "duration": 11,
    "start_time": "2024-09-14T20:14:52.225Z"
   },
   {
    "duration": 10,
    "start_time": "2024-09-14T20:15:42.722Z"
   },
   {
    "duration": 406,
    "start_time": "2024-09-14T20:17:59.820Z"
   },
   {
    "duration": 399,
    "start_time": "2024-09-14T20:18:08.136Z"
   },
   {
    "duration": 462,
    "start_time": "2024-09-14T20:18:17.818Z"
   },
   {
    "duration": 365,
    "start_time": "2024-09-14T20:18:44.779Z"
   },
   {
    "duration": 355,
    "start_time": "2024-09-14T20:18:51.621Z"
   },
   {
    "duration": 359,
    "start_time": "2024-09-14T20:19:13.639Z"
   },
   {
    "duration": 398,
    "start_time": "2024-09-14T20:29:00.661Z"
   },
   {
    "duration": 475,
    "start_time": "2024-09-14T20:29:16.309Z"
   },
   {
    "duration": 399,
    "start_time": "2024-09-14T20:29:54.528Z"
   },
   {
    "duration": 455,
    "start_time": "2024-09-14T20:33:27.315Z"
   },
   {
    "duration": 377,
    "start_time": "2024-09-14T20:35:53.452Z"
   },
   {
    "duration": 379,
    "start_time": "2024-09-14T20:36:50.626Z"
   },
   {
    "duration": 420,
    "start_time": "2024-09-14T20:37:09.554Z"
   },
   {
    "duration": 669,
    "start_time": "2024-09-14T20:37:16.744Z"
   },
   {
    "duration": 673,
    "start_time": "2024-09-14T20:37:25.474Z"
   },
   {
    "duration": 11,
    "start_time": "2024-09-14T20:37:54.329Z"
   },
   {
    "duration": 538,
    "start_time": "2024-09-14T20:44:42.287Z"
   },
   {
    "duration": 12,
    "start_time": "2024-09-14T20:48:53.016Z"
   },
   {
    "duration": 12,
    "start_time": "2024-09-14T20:49:00.490Z"
   },
   {
    "duration": 13,
    "start_time": "2024-09-14T20:49:36.250Z"
   },
   {
    "duration": 12,
    "start_time": "2024-09-14T20:50:58.144Z"
   },
   {
    "duration": 43,
    "start_time": "2024-09-14T20:51:04.376Z"
   },
   {
    "duration": 11,
    "start_time": "2024-09-14T20:51:11.041Z"
   },
   {
    "duration": 13,
    "start_time": "2024-09-14T20:51:31.431Z"
   },
   {
    "duration": 13,
    "start_time": "2024-09-14T20:52:01.546Z"
   },
   {
    "duration": 11,
    "start_time": "2024-09-14T20:52:07.330Z"
   },
   {
    "duration": 11,
    "start_time": "2024-09-14T20:52:16.226Z"
   },
   {
    "duration": 11,
    "start_time": "2024-09-14T20:52:38.676Z"
   },
   {
    "duration": 11,
    "start_time": "2024-09-14T20:53:07.379Z"
   },
   {
    "duration": 12,
    "start_time": "2024-09-14T20:53:14.081Z"
   },
   {
    "duration": 119,
    "start_time": "2024-09-14T20:54:52.741Z"
   },
   {
    "duration": 12,
    "start_time": "2024-09-14T20:55:33.241Z"
   },
   {
    "duration": 12,
    "start_time": "2024-09-14T20:55:45.184Z"
   },
   {
    "duration": 12,
    "start_time": "2024-09-14T20:57:35.027Z"
   },
   {
    "duration": 13,
    "start_time": "2024-09-14T20:57:46.248Z"
   },
   {
    "duration": 13,
    "start_time": "2024-09-14T20:58:00.171Z"
   },
   {
    "duration": 13,
    "start_time": "2024-09-14T20:58:13.166Z"
   },
   {
    "duration": 13,
    "start_time": "2024-09-14T20:58:20.120Z"
   },
   {
    "duration": 12,
    "start_time": "2024-09-14T20:58:40.712Z"
   },
   {
    "duration": 11,
    "start_time": "2024-09-14T20:58:48.332Z"
   },
   {
    "duration": 12,
    "start_time": "2024-09-14T20:59:32.499Z"
   },
   {
    "duration": 23,
    "start_time": "2024-09-14T20:59:37.979Z"
   },
   {
    "duration": 81,
    "start_time": "2024-09-14T20:59:57.435Z"
   },
   {
    "duration": 25,
    "start_time": "2024-09-14T21:00:02.618Z"
   },
   {
    "duration": 54,
    "start_time": "2024-09-14T21:00:40.207Z"
   },
   {
    "duration": 15,
    "start_time": "2024-09-14T21:01:32.930Z"
   },
   {
    "duration": 8,
    "start_time": "2024-09-14T21:01:38.667Z"
   },
   {
    "duration": 10,
    "start_time": "2024-09-14T21:02:12.570Z"
   },
   {
    "duration": 56,
    "start_time": "2024-09-14T21:02:34.968Z"
   },
   {
    "duration": 14,
    "start_time": "2024-09-14T21:04:03.045Z"
   },
   {
    "duration": 11,
    "start_time": "2024-09-14T21:04:10.117Z"
   },
   {
    "duration": 17,
    "start_time": "2024-09-14T21:04:33.235Z"
   },
   {
    "duration": 12,
    "start_time": "2024-09-14T21:05:18.548Z"
   },
   {
    "duration": 12,
    "start_time": "2024-09-14T21:05:56.492Z"
   },
   {
    "duration": 12,
    "start_time": "2024-09-14T21:06:03.240Z"
   },
   {
    "duration": 13,
    "start_time": "2024-09-14T21:06:33.714Z"
   },
   {
    "duration": 11,
    "start_time": "2024-09-14T21:06:50.986Z"
   },
   {
    "duration": 12,
    "start_time": "2024-09-14T21:07:08.036Z"
   },
   {
    "duration": 11,
    "start_time": "2024-09-14T21:07:40.745Z"
   },
   {
    "duration": 13,
    "start_time": "2024-09-14T21:07:50.287Z"
   },
   {
    "duration": 41,
    "start_time": "2024-09-14T21:08:09.981Z"
   },
   {
    "duration": 12,
    "start_time": "2024-09-14T21:08:15.229Z"
   },
   {
    "duration": 11,
    "start_time": "2024-09-14T21:08:34.081Z"
   },
   {
    "duration": 16,
    "start_time": "2024-09-14T21:09:05.661Z"
   },
   {
    "duration": 12,
    "start_time": "2024-09-14T21:09:13.218Z"
   },
   {
    "duration": 13,
    "start_time": "2024-09-14T21:09:24.548Z"
   },
   {
    "duration": 11,
    "start_time": "2024-09-14T21:11:06.087Z"
   },
   {
    "duration": 12,
    "start_time": "2024-09-14T21:11:24.401Z"
   },
   {
    "duration": 12,
    "start_time": "2024-09-14T21:13:29.638Z"
   },
   {
    "duration": 13,
    "start_time": "2024-09-14T21:13:33.660Z"
   },
   {
    "duration": 12,
    "start_time": "2024-09-14T21:13:56.993Z"
   },
   {
    "duration": 12,
    "start_time": "2024-09-14T21:14:20.579Z"
   },
   {
    "duration": 40,
    "start_time": "2024-09-14T21:15:20.374Z"
   },
   {
    "duration": 13,
    "start_time": "2024-09-14T21:15:36.452Z"
   },
   {
    "duration": 10,
    "start_time": "2024-09-14T21:15:44.650Z"
   },
   {
    "duration": 12,
    "start_time": "2024-09-14T21:15:52.952Z"
   },
   {
    "duration": 11,
    "start_time": "2024-09-14T21:16:01.250Z"
   },
   {
    "duration": 13,
    "start_time": "2024-09-14T21:17:36.893Z"
   },
   {
    "duration": 12,
    "start_time": "2024-09-14T21:18:04.746Z"
   },
   {
    "duration": 12,
    "start_time": "2024-09-14T21:18:23.228Z"
   },
   {
    "duration": 14,
    "start_time": "2024-09-14T21:21:47.150Z"
   },
   {
    "duration": 12,
    "start_time": "2024-09-14T21:21:55.675Z"
   },
   {
    "duration": 14,
    "start_time": "2024-09-14T21:22:14.716Z"
   },
   {
    "duration": 14,
    "start_time": "2024-09-14T21:22:46.141Z"
   },
   {
    "duration": 13,
    "start_time": "2024-09-14T21:23:26.040Z"
   },
   {
    "duration": 13,
    "start_time": "2024-09-14T21:23:35.304Z"
   },
   {
    "duration": 11,
    "start_time": "2024-09-14T21:24:18.421Z"
   },
   {
    "duration": 38,
    "start_time": "2024-09-14T21:25:11.101Z"
   },
   {
    "duration": 37,
    "start_time": "2024-09-14T21:25:25.035Z"
   },
   {
    "duration": 12,
    "start_time": "2024-09-14T21:25:33.374Z"
   },
   {
    "duration": 19,
    "start_time": "2024-09-14T21:25:51.669Z"
   },
   {
    "duration": 12,
    "start_time": "2024-09-14T21:25:59.356Z"
   },
   {
    "duration": 14,
    "start_time": "2024-09-14T21:26:06.942Z"
   },
   {
    "duration": 13,
    "start_time": "2024-09-14T21:26:14.002Z"
   },
   {
    "duration": 12,
    "start_time": "2024-09-14T21:26:33.839Z"
   },
   {
    "duration": 13,
    "start_time": "2024-09-14T21:27:20.510Z"
   },
   {
    "duration": 13,
    "start_time": "2024-09-14T21:27:29.265Z"
   },
   {
    "duration": 11,
    "start_time": "2024-09-14T21:28:10.838Z"
   },
   {
    "duration": 12,
    "start_time": "2024-09-14T21:28:19.183Z"
   },
   {
    "duration": 12,
    "start_time": "2024-09-14T21:28:24.072Z"
   },
   {
    "duration": 13,
    "start_time": "2024-09-14T21:28:37.888Z"
   },
   {
    "duration": 11,
    "start_time": "2024-09-14T21:28:47.399Z"
   },
   {
    "duration": 15,
    "start_time": "2024-09-14T21:29:20.916Z"
   },
   {
    "duration": 14,
    "start_time": "2024-09-14T21:29:30.466Z"
   },
   {
    "duration": 13,
    "start_time": "2024-09-14T21:29:46.259Z"
   },
   {
    "duration": 12,
    "start_time": "2024-09-14T21:29:47.766Z"
   },
   {
    "duration": 57,
    "start_time": "2024-09-14T21:31:41.820Z"
   },
   {
    "duration": 11,
    "start_time": "2024-09-14T21:31:48.253Z"
   },
   {
    "duration": 14,
    "start_time": "2024-09-14T21:31:56.350Z"
   },
   {
    "duration": 12,
    "start_time": "2024-09-14T21:32:01.360Z"
   },
   {
    "duration": 12,
    "start_time": "2024-09-14T21:32:50.406Z"
   },
   {
    "duration": 12,
    "start_time": "2024-09-14T21:33:33.664Z"
   },
   {
    "duration": 13,
    "start_time": "2024-09-14T21:33:42.991Z"
   },
   {
    "duration": 13,
    "start_time": "2024-09-14T21:34:55.845Z"
   },
   {
    "duration": 12,
    "start_time": "2024-09-14T21:35:07.123Z"
   },
   {
    "duration": 17,
    "start_time": "2024-09-14T21:39:42.634Z"
   },
   {
    "duration": 12,
    "start_time": "2024-09-14T21:39:56.401Z"
   },
   {
    "duration": 12,
    "start_time": "2024-09-14T21:40:59.215Z"
   },
   {
    "duration": 12,
    "start_time": "2024-09-14T21:41:16.656Z"
   },
   {
    "duration": 12,
    "start_time": "2024-09-14T21:42:50.336Z"
   },
   {
    "duration": 12,
    "start_time": "2024-09-14T21:42:56.307Z"
   },
   {
    "duration": 14,
    "start_time": "2024-09-14T21:43:04.832Z"
   },
   {
    "duration": 12,
    "start_time": "2024-09-14T21:43:09.519Z"
   },
   {
    "duration": 12,
    "start_time": "2024-09-14T21:43:35.580Z"
   },
   {
    "duration": 15,
    "start_time": "2024-09-14T21:43:51.542Z"
   },
   {
    "duration": 15,
    "start_time": "2024-09-14T21:44:05.594Z"
   },
   {
    "duration": 11,
    "start_time": "2024-09-14T21:44:19.465Z"
   },
   {
    "duration": 11,
    "start_time": "2024-09-14T21:44:25.941Z"
   },
   {
    "duration": 11,
    "start_time": "2024-09-14T21:44:52.723Z"
   },
   {
    "duration": 12,
    "start_time": "2024-09-14T21:44:56.793Z"
   },
   {
    "duration": 13,
    "start_time": "2024-09-14T21:45:09.148Z"
   },
   {
    "duration": 13,
    "start_time": "2024-09-14T21:45:18.727Z"
   },
   {
    "duration": 13,
    "start_time": "2024-09-14T21:45:23.545Z"
   },
   {
    "duration": 13,
    "start_time": "2024-09-14T21:47:13.858Z"
   },
   {
    "duration": 13,
    "start_time": "2024-09-14T21:47:32.415Z"
   },
   {
    "duration": 11,
    "start_time": "2024-09-14T21:47:36.962Z"
   },
   {
    "duration": 15,
    "start_time": "2024-09-14T21:47:45.906Z"
   },
   {
    "duration": 16,
    "start_time": "2024-09-14T21:59:42.407Z"
   },
   {
    "duration": 15,
    "start_time": "2024-09-14T21:59:51.651Z"
   },
   {
    "duration": 20,
    "start_time": "2024-09-14T22:00:03.476Z"
   },
   {
    "duration": 12,
    "start_time": "2024-09-14T22:00:12.897Z"
   },
   {
    "duration": 12,
    "start_time": "2024-09-14T22:00:59.689Z"
   },
   {
    "duration": 14,
    "start_time": "2024-09-14T22:01:16.525Z"
   },
   {
    "duration": 13,
    "start_time": "2024-09-14T22:01:34.871Z"
   },
   {
    "duration": 14,
    "start_time": "2024-09-14T22:14:17.876Z"
   },
   {
    "duration": 12,
    "start_time": "2024-09-14T22:14:23.860Z"
   },
   {
    "duration": 13,
    "start_time": "2024-09-14T22:15:36.312Z"
   },
   {
    "duration": 10,
    "start_time": "2024-09-14T22:15:44.089Z"
   },
   {
    "duration": 12,
    "start_time": "2024-09-14T22:16:04.070Z"
   },
   {
    "duration": 14,
    "start_time": "2024-09-14T22:16:17.398Z"
   },
   {
    "duration": 11,
    "start_time": "2024-09-14T22:16:23.372Z"
   },
   {
    "duration": 12,
    "start_time": "2024-09-14T22:16:30.095Z"
   },
   {
    "duration": 11,
    "start_time": "2024-09-14T22:16:35.324Z"
   },
   {
    "duration": 13,
    "start_time": "2024-09-14T22:16:47.462Z"
   },
   {
    "duration": 14,
    "start_time": "2024-09-14T22:16:52.363Z"
   },
   {
    "duration": 17,
    "start_time": "2024-09-14T22:17:16.658Z"
   },
   {
    "duration": 13,
    "start_time": "2024-09-14T22:17:33.506Z"
   },
   {
    "duration": 13,
    "start_time": "2024-09-14T22:17:54.930Z"
   },
   {
    "duration": 12,
    "start_time": "2024-09-14T22:18:09.067Z"
   },
   {
    "duration": 12,
    "start_time": "2024-09-14T22:18:26.047Z"
   },
   {
    "duration": 13,
    "start_time": "2024-09-14T22:18:40.707Z"
   },
   {
    "duration": 11,
    "start_time": "2024-09-14T22:19:15.744Z"
   },
   {
    "duration": 15,
    "start_time": "2024-09-14T22:19:27.945Z"
   },
   {
    "duration": 88,
    "start_time": "2024-09-14T22:19:49.724Z"
   },
   {
    "duration": 12,
    "start_time": "2024-09-14T22:19:57.627Z"
   },
   {
    "duration": 12,
    "start_time": "2024-09-14T22:20:54.603Z"
   },
   {
    "duration": 13,
    "start_time": "2024-09-14T22:21:07.837Z"
   },
   {
    "duration": 12,
    "start_time": "2024-09-14T22:21:22.926Z"
   },
   {
    "duration": 11,
    "start_time": "2024-09-14T22:21:35.404Z"
   },
   {
    "duration": 15,
    "start_time": "2024-09-14T22:22:35.219Z"
   },
   {
    "duration": 12,
    "start_time": "2024-09-14T22:22:45.853Z"
   },
   {
    "duration": 13,
    "start_time": "2024-09-14T22:23:06.397Z"
   },
   {
    "duration": 15,
    "start_time": "2024-09-14T22:23:36.105Z"
   },
   {
    "duration": 13,
    "start_time": "2024-09-14T22:24:05.933Z"
   },
   {
    "duration": 12,
    "start_time": "2024-09-14T22:24:10.326Z"
   },
   {
    "duration": 12,
    "start_time": "2024-09-14T22:24:20.461Z"
   },
   {
    "duration": 13,
    "start_time": "2024-09-14T22:24:36.089Z"
   },
   {
    "duration": 12,
    "start_time": "2024-09-14T22:24:49.944Z"
   },
   {
    "duration": 13,
    "start_time": "2024-09-14T22:25:03.501Z"
   },
   {
    "duration": 11,
    "start_time": "2024-09-14T22:25:43.695Z"
   },
   {
    "duration": 12,
    "start_time": "2024-09-14T22:25:53.935Z"
   },
   {
    "duration": 12,
    "start_time": "2024-09-14T22:26:36.970Z"
   },
   {
    "duration": 11,
    "start_time": "2024-09-14T22:26:46.390Z"
   },
   {
    "duration": 13,
    "start_time": "2024-09-14T22:26:58.961Z"
   },
   {
    "duration": 12,
    "start_time": "2024-09-14T22:27:54.937Z"
   },
   {
    "duration": 13,
    "start_time": "2024-09-14T22:28:00.136Z"
   },
   {
    "duration": 16,
    "start_time": "2024-09-14T22:28:12.344Z"
   },
   {
    "duration": 12,
    "start_time": "2024-09-14T22:28:33.024Z"
   },
   {
    "duration": 12,
    "start_time": "2024-09-14T22:28:43.344Z"
   },
   {
    "duration": 11,
    "start_time": "2024-09-14T22:28:48.937Z"
   },
   {
    "duration": 13,
    "start_time": "2024-09-14T22:29:09.263Z"
   },
   {
    "duration": 12,
    "start_time": "2024-09-14T22:29:18.309Z"
   },
   {
    "duration": 11,
    "start_time": "2024-09-14T22:29:24.663Z"
   },
   {
    "duration": 12,
    "start_time": "2024-09-14T22:29:35.042Z"
   },
   {
    "duration": 13,
    "start_time": "2024-09-14T22:30:05.535Z"
   },
   {
    "duration": 12,
    "start_time": "2024-09-14T22:30:52.796Z"
   },
   {
    "duration": 13,
    "start_time": "2024-09-14T22:31:00.522Z"
   },
   {
    "duration": 13,
    "start_time": "2024-09-14T22:36:11.705Z"
   },
   {
    "duration": 11,
    "start_time": "2024-09-14T22:36:33.621Z"
   },
   {
    "duration": 12,
    "start_time": "2024-09-14T22:36:37.565Z"
   },
   {
    "duration": 13,
    "start_time": "2024-09-14T22:37:11.520Z"
   },
   {
    "duration": 12,
    "start_time": "2024-09-14T22:37:26.421Z"
   },
   {
    "duration": 12,
    "start_time": "2024-09-14T22:39:10.908Z"
   },
   {
    "duration": 11,
    "start_time": "2024-09-14T22:39:21.548Z"
   },
   {
    "duration": 16,
    "start_time": "2024-09-14T22:39:24.361Z"
   },
   {
    "duration": 11,
    "start_time": "2024-09-14T22:39:37.455Z"
   },
   {
    "duration": 12,
    "start_time": "2024-09-14T22:39:45.371Z"
   },
   {
    "duration": 12,
    "start_time": "2024-09-14T22:39:49.844Z"
   },
   {
    "duration": 11,
    "start_time": "2024-09-14T22:40:20.792Z"
   },
   {
    "duration": 12,
    "start_time": "2024-09-14T22:40:27.440Z"
   },
   {
    "duration": 12,
    "start_time": "2024-09-14T22:40:39.458Z"
   },
   {
    "duration": 11,
    "start_time": "2024-09-14T22:40:52.523Z"
   },
   {
    "duration": 10,
    "start_time": "2024-09-14T22:41:08.755Z"
   },
   {
    "duration": 11,
    "start_time": "2024-09-14T22:41:12.857Z"
   },
   {
    "duration": 11,
    "start_time": "2024-09-14T22:41:18.096Z"
   },
   {
    "duration": 12,
    "start_time": "2024-09-14T22:41:26.322Z"
   },
   {
    "duration": 12,
    "start_time": "2024-09-14T22:41:30.449Z"
   },
   {
    "duration": 15,
    "start_time": "2024-09-14T22:41:33.916Z"
   },
   {
    "duration": 10,
    "start_time": "2024-09-14T22:41:52.889Z"
   },
   {
    "duration": 11,
    "start_time": "2024-09-14T22:42:50.697Z"
   },
   {
    "duration": 14,
    "start_time": "2024-09-14T22:43:04.155Z"
   },
   {
    "duration": 10,
    "start_time": "2024-09-14T22:43:13.831Z"
   },
   {
    "duration": 12,
    "start_time": "2024-09-14T22:43:35.876Z"
   },
   {
    "duration": 13,
    "start_time": "2024-09-14T22:43:45.532Z"
   },
   {
    "duration": 12,
    "start_time": "2024-09-14T22:44:48.663Z"
   },
   {
    "duration": 12,
    "start_time": "2024-09-14T22:44:53.301Z"
   },
   {
    "duration": 12,
    "start_time": "2024-09-14T22:45:05.848Z"
   },
   {
    "duration": 14,
    "start_time": "2024-09-14T22:45:11.038Z"
   },
   {
    "duration": 15,
    "start_time": "2024-09-14T22:45:23.421Z"
   },
   {
    "duration": 15,
    "start_time": "2024-09-14T22:45:28.212Z"
   },
   {
    "duration": 11,
    "start_time": "2024-09-14T22:45:34.042Z"
   },
   {
    "duration": 13,
    "start_time": "2024-09-14T22:46:04.975Z"
   },
   {
    "duration": 12,
    "start_time": "2024-09-14T22:46:13.191Z"
   },
   {
    "duration": 13,
    "start_time": "2024-09-14T22:46:17.634Z"
   },
   {
    "duration": 12,
    "start_time": "2024-09-14T22:46:53.754Z"
   },
   {
    "duration": 14,
    "start_time": "2024-09-14T22:47:03.408Z"
   },
   {
    "duration": 13,
    "start_time": "2024-09-14T22:47:11.674Z"
   },
   {
    "duration": 12,
    "start_time": "2024-09-14T22:47:25.436Z"
   },
   {
    "duration": 12,
    "start_time": "2024-09-14T22:48:18.590Z"
   },
   {
    "duration": 11,
    "start_time": "2024-09-14T22:48:25.706Z"
   },
   {
    "duration": 12,
    "start_time": "2024-09-14T22:48:31.121Z"
   },
   {
    "duration": 11,
    "start_time": "2024-09-14T22:48:37.607Z"
   },
   {
    "duration": 13,
    "start_time": "2024-09-14T22:48:46.653Z"
   },
   {
    "duration": 13,
    "start_time": "2024-09-14T22:48:51.910Z"
   },
   {
    "duration": 12,
    "start_time": "2024-09-14T22:49:04.341Z"
   },
   {
    "duration": 12,
    "start_time": "2024-09-14T22:49:17.447Z"
   },
   {
    "duration": 11,
    "start_time": "2024-09-14T22:52:14.056Z"
   },
   {
    "duration": 15,
    "start_time": "2024-09-14T22:52:38.080Z"
   },
   {
    "duration": 12,
    "start_time": "2024-09-14T22:52:47.882Z"
   },
   {
    "duration": 13,
    "start_time": "2024-09-14T22:53:08.104Z"
   },
   {
    "duration": 13,
    "start_time": "2024-09-14T22:53:26.237Z"
   },
   {
    "duration": 16,
    "start_time": "2024-09-14T22:53:32.304Z"
   },
   {
    "duration": 11,
    "start_time": "2024-09-14T22:53:39.072Z"
   },
   {
    "duration": 12,
    "start_time": "2024-09-14T22:53:44.417Z"
   },
   {
    "duration": 11,
    "start_time": "2024-09-14T22:54:09.110Z"
   },
   {
    "duration": 13,
    "start_time": "2024-09-14T22:54:28.748Z"
   },
   {
    "duration": 13,
    "start_time": "2024-09-14T22:54:44.409Z"
   },
   {
    "duration": 15,
    "start_time": "2024-09-14T22:54:57.363Z"
   },
   {
    "duration": 13,
    "start_time": "2024-09-14T22:55:04.216Z"
   },
   {
    "duration": 14,
    "start_time": "2024-09-14T22:55:26.112Z"
   },
   {
    "duration": 13,
    "start_time": "2024-09-14T22:55:32.504Z"
   },
   {
    "duration": 12,
    "start_time": "2024-09-14T22:55:57.038Z"
   },
   {
    "duration": 12,
    "start_time": "2024-09-14T22:56:39.465Z"
   },
   {
    "duration": 13,
    "start_time": "2024-09-14T22:56:56.770Z"
   },
   {
    "duration": 13,
    "start_time": "2024-09-14T22:57:18.941Z"
   },
   {
    "duration": 14,
    "start_time": "2024-09-14T22:57:38.901Z"
   },
   {
    "duration": 13,
    "start_time": "2024-09-14T22:57:45.621Z"
   },
   {
    "duration": 12,
    "start_time": "2024-09-14T22:57:52.198Z"
   },
   {
    "duration": 13,
    "start_time": "2024-09-14T22:58:02.541Z"
   },
   {
    "duration": 12,
    "start_time": "2024-09-14T22:58:09.660Z"
   },
   {
    "duration": 12,
    "start_time": "2024-09-14T22:58:31.444Z"
   },
   {
    "duration": 12,
    "start_time": "2024-09-14T22:58:41.838Z"
   },
   {
    "duration": 13,
    "start_time": "2024-09-14T22:58:54.291Z"
   },
   {
    "duration": 14,
    "start_time": "2024-09-14T23:17:19.420Z"
   },
   {
    "duration": 12,
    "start_time": "2024-09-14T23:17:26.385Z"
   },
   {
    "duration": 13,
    "start_time": "2024-09-14T23:17:33.406Z"
   },
   {
    "duration": 12,
    "start_time": "2024-09-14T23:17:54.151Z"
   },
   {
    "duration": 11,
    "start_time": "2024-09-14T23:18:45.291Z"
   },
   {
    "duration": 13,
    "start_time": "2024-09-14T23:19:08.689Z"
   },
   {
    "duration": 13,
    "start_time": "2024-09-14T23:19:18.437Z"
   },
   {
    "duration": 12,
    "start_time": "2024-09-14T23:19:26.305Z"
   },
   {
    "duration": 12,
    "start_time": "2024-09-14T23:19:52.898Z"
   },
   {
    "duration": 12,
    "start_time": "2024-09-14T23:20:22.266Z"
   },
   {
    "duration": 12,
    "start_time": "2024-09-14T23:20:31.363Z"
   },
   {
    "duration": 13,
    "start_time": "2024-09-14T23:20:35.602Z"
   },
   {
    "duration": 13,
    "start_time": "2024-09-14T23:21:11.856Z"
   },
   {
    "duration": 12,
    "start_time": "2024-09-14T23:21:19.296Z"
   },
   {
    "duration": 15,
    "start_time": "2024-09-14T23:21:47.104Z"
   },
   {
    "duration": 12,
    "start_time": "2024-09-14T23:21:54.780Z"
   },
   {
    "duration": 13,
    "start_time": "2024-09-14T23:22:12.682Z"
   },
   {
    "duration": 44,
    "start_time": "2024-09-14T23:22:35.740Z"
   },
   {
    "duration": 12,
    "start_time": "2024-09-14T23:22:39.523Z"
   },
   {
    "duration": 12,
    "start_time": "2024-09-14T23:22:45.090Z"
   },
   {
    "duration": 13,
    "start_time": "2024-09-14T23:22:50.152Z"
   },
   {
    "duration": 13,
    "start_time": "2024-09-14T23:22:54.646Z"
   },
   {
    "duration": 14,
    "start_time": "2024-09-14T23:23:20.668Z"
   },
   {
    "duration": 13,
    "start_time": "2024-09-14T23:23:36.101Z"
   },
   {
    "duration": 12,
    "start_time": "2024-09-14T23:24:35.592Z"
   },
   {
    "duration": 13,
    "start_time": "2024-09-14T23:34:05.563Z"
   },
   {
    "duration": 12,
    "start_time": "2024-09-14T23:34:38.728Z"
   },
   {
    "duration": 11,
    "start_time": "2024-09-14T23:34:45.792Z"
   },
   {
    "duration": 16,
    "start_time": "2024-09-14T23:34:50.227Z"
   },
   {
    "duration": 13,
    "start_time": "2024-09-14T23:34:54.762Z"
   },
   {
    "duration": 12,
    "start_time": "2024-09-14T23:35:00.739Z"
   },
   {
    "duration": 11,
    "start_time": "2024-09-14T23:35:24.136Z"
   },
   {
    "duration": 14,
    "start_time": "2024-09-14T23:35:29.556Z"
   },
   {
    "duration": 52,
    "start_time": "2024-09-15T09:28:04.337Z"
   },
   {
    "duration": 1348,
    "start_time": "2024-09-15T09:28:11.341Z"
   },
   {
    "duration": 154,
    "start_time": "2024-09-15T09:28:12.692Z"
   },
   {
    "duration": 24,
    "start_time": "2024-09-15T09:28:12.847Z"
   },
   {
    "duration": 12,
    "start_time": "2024-09-15T09:28:12.873Z"
   },
   {
    "duration": 35,
    "start_time": "2024-09-15T09:28:12.887Z"
   },
   {
    "duration": 5,
    "start_time": "2024-09-15T09:28:12.924Z"
   },
   {
    "duration": 51,
    "start_time": "2024-09-15T09:28:12.952Z"
   },
   {
    "duration": 12,
    "start_time": "2024-09-15T09:28:13.004Z"
   },
   {
    "duration": 50,
    "start_time": "2024-09-15T09:28:13.018Z"
   },
   {
    "duration": 38,
    "start_time": "2024-09-15T09:28:13.070Z"
   },
   {
    "duration": 20,
    "start_time": "2024-09-15T09:28:13.110Z"
   },
   {
    "duration": 56,
    "start_time": "2024-09-15T09:28:13.132Z"
   },
   {
    "duration": 6,
    "start_time": "2024-09-15T09:28:13.190Z"
   },
   {
    "duration": 103,
    "start_time": "2024-09-15T09:28:13.197Z"
   },
   {
    "duration": 7,
    "start_time": "2024-09-15T09:28:13.302Z"
   },
   {
    "duration": 12,
    "start_time": "2024-09-15T09:28:13.311Z"
   },
   {
    "duration": 12,
    "start_time": "2024-09-15T09:28:13.325Z"
   },
   {
    "duration": 12,
    "start_time": "2024-09-15T09:28:13.338Z"
   },
   {
    "duration": 5,
    "start_time": "2024-09-15T09:28:13.351Z"
   },
   {
    "duration": 4,
    "start_time": "2024-09-15T09:28:13.358Z"
   },
   {
    "duration": 6,
    "start_time": "2024-09-15T09:28:13.364Z"
   },
   {
    "duration": 33,
    "start_time": "2024-09-15T09:28:13.372Z"
   },
   {
    "duration": 289,
    "start_time": "2024-09-15T09:28:13.406Z"
   },
   {
    "duration": 4,
    "start_time": "2024-09-15T09:28:13.696Z"
   },
   {
    "duration": 12,
    "start_time": "2024-09-15T09:28:13.702Z"
   },
   {
    "duration": 10,
    "start_time": "2024-09-15T09:28:13.715Z"
   },
   {
    "duration": 6,
    "start_time": "2024-09-15T09:28:13.727Z"
   },
   {
    "duration": 11,
    "start_time": "2024-09-15T09:28:13.753Z"
   },
   {
    "duration": 13,
    "start_time": "2024-09-15T09:28:13.765Z"
   },
   {
    "duration": 11,
    "start_time": "2024-09-15T09:28:13.780Z"
   },
   {
    "duration": 9,
    "start_time": "2024-09-15T09:28:13.792Z"
   },
   {
    "duration": 26,
    "start_time": "2024-09-15T09:28:13.803Z"
   },
   {
    "duration": 44,
    "start_time": "2024-09-15T09:28:13.830Z"
   },
   {
    "duration": 50,
    "start_time": "2024-09-15T09:28:13.876Z"
   },
   {
    "duration": 83,
    "start_time": "2024-09-15T09:28:13.929Z"
   },
   {
    "duration": 401,
    "start_time": "2024-09-15T09:28:14.013Z"
   },
   {
    "duration": 437,
    "start_time": "2024-09-15T09:28:14.415Z"
   },
   {
    "duration": 605,
    "start_time": "2024-09-15T09:28:14.853Z"
   },
   {
    "duration": 543,
    "start_time": "2024-09-15T09:28:15.459Z"
   },
   {
    "duration": 15,
    "start_time": "2024-09-15T09:28:16.003Z"
   },
   {
    "duration": 341,
    "start_time": "2024-09-15T09:28:16.019Z"
   },
   {
    "duration": 16,
    "start_time": "2024-09-15T09:28:16.362Z"
   },
   {
    "duration": 213,
    "start_time": "2024-09-15T09:28:16.379Z"
   },
   {
    "duration": 15,
    "start_time": "2024-09-15T09:28:16.593Z"
   },
   {
    "duration": 349,
    "start_time": "2024-09-15T09:28:16.609Z"
   },
   {
    "duration": 14,
    "start_time": "2024-09-15T09:28:16.960Z"
   },
   {
    "duration": 303,
    "start_time": "2024-09-15T09:28:16.976Z"
   },
   {
    "duration": 16,
    "start_time": "2024-09-15T09:28:17.281Z"
   },
   {
    "duration": 214,
    "start_time": "2024-09-15T09:28:17.299Z"
   },
   {
    "duration": 16,
    "start_time": "2024-09-15T09:28:17.514Z"
   },
   {
    "duration": 352,
    "start_time": "2024-09-15T09:28:17.531Z"
   },
   {
    "duration": 27,
    "start_time": "2024-09-15T09:28:17.885Z"
   },
   {
    "duration": 1442,
    "start_time": "2024-09-15T09:28:17.914Z"
   },
   {
    "duration": 10,
    "start_time": "2024-09-15T09:28:19.358Z"
   },
   {
    "duration": 8,
    "start_time": "2024-09-15T09:28:19.370Z"
   },
   {
    "duration": 6,
    "start_time": "2024-09-15T09:28:19.380Z"
   },
   {
    "duration": 14,
    "start_time": "2024-09-15T09:28:19.388Z"
   },
   {
    "duration": 54,
    "start_time": "2024-09-15T09:28:19.403Z"
   },
   {
    "duration": 198,
    "start_time": "2024-09-15T09:28:19.458Z"
   },
   {
    "duration": 11,
    "start_time": "2024-09-15T09:28:19.658Z"
   },
   {
    "duration": 6,
    "start_time": "2024-09-15T09:28:19.671Z"
   },
   {
    "duration": 13,
    "start_time": "2024-09-15T09:28:19.679Z"
   },
   {
    "duration": 10,
    "start_time": "2024-09-15T09:28:19.694Z"
   },
   {
    "duration": 10,
    "start_time": "2024-09-15T09:28:19.706Z"
   },
   {
    "duration": 42,
    "start_time": "2024-09-15T09:28:19.717Z"
   },
   {
    "duration": 11,
    "start_time": "2024-09-15T09:28:19.760Z"
   },
   {
    "duration": 10,
    "start_time": "2024-09-15T09:28:19.773Z"
   },
   {
    "duration": 63,
    "start_time": "2024-09-15T09:28:19.784Z"
   },
   {
    "duration": 0,
    "start_time": "2024-09-15T09:28:19.848Z"
   },
   {
    "duration": 0,
    "start_time": "2024-09-15T09:28:19.849Z"
   },
   {
    "duration": 12,
    "start_time": "2024-09-15T09:28:33.784Z"
   },
   {
    "duration": 12,
    "start_time": "2024-09-15T09:28:36.810Z"
   },
   {
    "duration": 12,
    "start_time": "2024-09-15T09:30:13.113Z"
   },
   {
    "duration": 13,
    "start_time": "2024-09-15T09:30:40.682Z"
   },
   {
    "duration": 13,
    "start_time": "2024-09-15T09:30:45.776Z"
   },
   {
    "duration": 12,
    "start_time": "2024-09-15T09:30:56.093Z"
   },
   {
    "duration": 12,
    "start_time": "2024-09-15T09:31:47.911Z"
   },
   {
    "duration": 13,
    "start_time": "2024-09-15T09:31:52.070Z"
   },
   {
    "duration": 13,
    "start_time": "2024-09-15T09:31:56.355Z"
   },
   {
    "duration": 12,
    "start_time": "2024-09-15T09:32:01.050Z"
   },
   {
    "duration": 24,
    "start_time": "2024-09-15T09:32:51.837Z"
   },
   {
    "duration": 13,
    "start_time": "2024-09-15T09:32:57.149Z"
   },
   {
    "duration": 13,
    "start_time": "2024-09-15T09:33:14.912Z"
   },
   {
    "duration": 13,
    "start_time": "2024-09-15T09:33:20.837Z"
   },
   {
    "duration": 13,
    "start_time": "2024-09-15T09:33:34.340Z"
   },
   {
    "duration": 13,
    "start_time": "2024-09-15T09:34:48.813Z"
   },
   {
    "duration": 14,
    "start_time": "2024-09-15T09:35:04.453Z"
   },
   {
    "duration": 14,
    "start_time": "2024-09-15T09:35:16.678Z"
   },
   {
    "duration": 14,
    "start_time": "2024-09-15T09:35:22.985Z"
   },
   {
    "duration": 13,
    "start_time": "2024-09-15T09:36:00.050Z"
   },
   {
    "duration": 12,
    "start_time": "2024-09-15T09:36:04.826Z"
   },
   {
    "duration": 12,
    "start_time": "2024-09-15T09:36:46.248Z"
   },
   {
    "duration": 15,
    "start_time": "2024-09-15T09:36:53.421Z"
   },
   {
    "duration": 11,
    "start_time": "2024-09-15T09:36:57.559Z"
   },
   {
    "duration": 13,
    "start_time": "2024-09-15T09:37:25.308Z"
   },
   {
    "duration": 12,
    "start_time": "2024-09-15T09:37:43.704Z"
   },
   {
    "duration": 13,
    "start_time": "2024-09-15T09:37:52.076Z"
   },
   {
    "duration": 12,
    "start_time": "2024-09-15T09:37:56.402Z"
   },
   {
    "duration": 13,
    "start_time": "2024-09-15T09:42:57.785Z"
   },
   {
    "duration": 14,
    "start_time": "2024-09-15T09:43:24.619Z"
   },
   {
    "duration": 12,
    "start_time": "2024-09-15T09:43:28.588Z"
   },
   {
    "duration": 11,
    "start_time": "2024-09-15T09:43:59.259Z"
   },
   {
    "duration": 12,
    "start_time": "2024-09-15T09:44:05.751Z"
   },
   {
    "duration": 12,
    "start_time": "2024-09-15T09:44:10.320Z"
   },
   {
    "duration": 13,
    "start_time": "2024-09-15T09:44:15.377Z"
   },
   {
    "duration": 11,
    "start_time": "2024-09-15T09:44:19.952Z"
   },
   {
    "duration": 10,
    "start_time": "2024-09-15T09:44:59.353Z"
   },
   {
    "duration": 12,
    "start_time": "2024-09-15T09:46:03.194Z"
   },
   {
    "duration": 12,
    "start_time": "2024-09-15T09:46:07.386Z"
   },
   {
    "duration": 11,
    "start_time": "2024-09-15T09:46:44.406Z"
   },
   {
    "duration": 14,
    "start_time": "2024-09-15T09:47:00.059Z"
   },
   {
    "duration": 13,
    "start_time": "2024-09-15T09:47:15.115Z"
   },
   {
    "duration": 13,
    "start_time": "2024-09-15T09:47:21.621Z"
   },
   {
    "duration": 12,
    "start_time": "2024-09-15T09:47:32.955Z"
   },
   {
    "duration": 11,
    "start_time": "2024-09-15T09:48:29.765Z"
   },
   {
    "duration": 12,
    "start_time": "2024-09-15T09:48:35.063Z"
   },
   {
    "duration": 15,
    "start_time": "2024-09-15T09:50:51.776Z"
   },
   {
    "duration": 12,
    "start_time": "2024-09-15T09:50:56.838Z"
   },
   {
    "duration": 11,
    "start_time": "2024-09-15T09:51:03.318Z"
   },
   {
    "duration": 11,
    "start_time": "2024-09-15T09:51:33.263Z"
   },
   {
    "duration": 12,
    "start_time": "2024-09-15T09:52:08.739Z"
   },
   {
    "duration": 11,
    "start_time": "2024-09-15T09:52:17.465Z"
   },
   {
    "duration": 11,
    "start_time": "2024-09-15T09:52:21.627Z"
   },
   {
    "duration": 11,
    "start_time": "2024-09-15T09:52:45.255Z"
   },
   {
    "duration": 12,
    "start_time": "2024-09-15T09:52:53.302Z"
   },
   {
    "duration": 12,
    "start_time": "2024-09-15T09:53:26.561Z"
   },
   {
    "duration": 11,
    "start_time": "2024-09-15T09:53:34.122Z"
   },
   {
    "duration": 11,
    "start_time": "2024-09-15T09:53:41.468Z"
   },
   {
    "duration": 11,
    "start_time": "2024-09-15T09:54:14.102Z"
   },
   {
    "duration": 12,
    "start_time": "2024-09-15T09:54:21.555Z"
   },
   {
    "duration": 13,
    "start_time": "2024-09-15T09:54:27.551Z"
   },
   {
    "duration": 263,
    "start_time": "2024-09-15T10:29:18.744Z"
   },
   {
    "duration": 3,
    "start_time": "2024-09-15T10:29:46.018Z"
   },
   {
    "duration": 159,
    "start_time": "2024-09-15T10:29:57.773Z"
   },
   {
    "duration": 23,
    "start_time": "2024-09-15T10:29:59.529Z"
   },
   {
    "duration": 12,
    "start_time": "2024-09-15T10:30:02.106Z"
   },
   {
    "duration": 7,
    "start_time": "2024-09-15T10:30:07.273Z"
   },
   {
    "duration": 5,
    "start_time": "2024-09-15T10:30:22.771Z"
   },
   {
    "duration": 14,
    "start_time": "2024-09-15T10:30:27.150Z"
   },
   {
    "duration": 11,
    "start_time": "2024-09-15T10:30:32.697Z"
   },
   {
    "duration": 8,
    "start_time": "2024-09-15T10:30:33.268Z"
   },
   {
    "duration": 10,
    "start_time": "2024-09-15T10:30:34.472Z"
   },
   {
    "duration": 5,
    "start_time": "2024-09-15T10:30:35.516Z"
   },
   {
    "duration": 57,
    "start_time": "2024-09-15T10:30:38.563Z"
   },
   {
    "duration": 8,
    "start_time": "2024-09-15T10:30:47.243Z"
   },
   {
    "duration": 6,
    "start_time": "2024-09-15T10:30:47.798Z"
   },
   {
    "duration": 254,
    "start_time": "2024-09-15T10:30:52.509Z"
   },
   {
    "duration": 266,
    "start_time": "2024-09-15T10:30:59.932Z"
   },
   {
    "duration": 356,
    "start_time": "2024-09-15T10:31:17.607Z"
   },
   {
    "duration": 274,
    "start_time": "2024-09-15T10:31:31.724Z"
   },
   {
    "duration": 13,
    "start_time": "2024-09-15T10:33:25.352Z"
   },
   {
    "duration": 7,
    "start_time": "2024-09-15T10:33:36.856Z"
   },
   {
    "duration": 7,
    "start_time": "2024-09-15T10:33:40.034Z"
   },
   {
    "duration": 11,
    "start_time": "2024-09-15T10:33:41.411Z"
   },
   {
    "duration": 14,
    "start_time": "2024-09-15T10:33:43.790Z"
   },
   {
    "duration": 13,
    "start_time": "2024-09-15T10:33:44.211Z"
   },
   {
    "duration": 4,
    "start_time": "2024-09-15T10:33:46.090Z"
   },
   {
    "duration": 20,
    "start_time": "2024-09-15T10:33:52.940Z"
   },
   {
    "duration": 31,
    "start_time": "2024-09-15T10:38:00.332Z"
   },
   {
    "duration": 58,
    "start_time": "2024-09-15T12:14:08.572Z"
   },
   {
    "duration": 14,
    "start_time": "2024-09-15T12:19:56.301Z"
   },
   {
    "duration": 11,
    "start_time": "2024-09-15T12:20:32.653Z"
   },
   {
    "duration": 13,
    "start_time": "2024-09-15T12:21:06.220Z"
   },
   {
    "duration": 14,
    "start_time": "2024-09-15T12:29:49.212Z"
   },
   {
    "duration": 62,
    "start_time": "2024-09-15T12:34:20.051Z"
   },
   {
    "duration": 69,
    "start_time": "2024-09-15T12:34:27.077Z"
   },
   {
    "duration": 8,
    "start_time": "2024-09-15T12:34:32.226Z"
   },
   {
    "duration": 6,
    "start_time": "2024-09-15T12:34:49.306Z"
   },
   {
    "duration": 14,
    "start_time": "2024-09-15T12:36:53.095Z"
   },
   {
    "duration": 13,
    "start_time": "2024-09-15T12:37:34.651Z"
   },
   {
    "duration": 54,
    "start_time": "2024-09-15T12:37:53.408Z"
   },
   {
    "duration": 101,
    "start_time": "2024-09-15T12:39:02.892Z"
   },
   {
    "duration": 8,
    "start_time": "2024-09-15T12:39:07.002Z"
   },
   {
    "duration": 9,
    "start_time": "2024-09-15T12:39:25.032Z"
   },
   {
    "duration": 13,
    "start_time": "2024-09-15T12:39:59.629Z"
   },
   {
    "duration": 12,
    "start_time": "2024-09-15T12:40:21.359Z"
   },
   {
    "duration": 12,
    "start_time": "2024-09-15T12:40:41.292Z"
   },
   {
    "duration": 13,
    "start_time": "2024-09-15T12:41:02.743Z"
   },
   {
    "duration": 7,
    "start_time": "2024-09-15T12:41:05.584Z"
   },
   {
    "duration": 13,
    "start_time": "2024-09-15T12:41:14.724Z"
   },
   {
    "duration": 7,
    "start_time": "2024-09-15T12:41:24.688Z"
   },
   {
    "duration": 3,
    "start_time": "2024-09-15T12:41:37.732Z"
   },
   {
    "duration": 8,
    "start_time": "2024-09-15T12:41:46.685Z"
   },
   {
    "duration": 8,
    "start_time": "2024-09-15T12:42:42.561Z"
   },
   {
    "duration": 8,
    "start_time": "2024-09-15T12:43:21.353Z"
   },
   {
    "duration": 10,
    "start_time": "2024-09-15T12:43:32.145Z"
   },
   {
    "duration": 8,
    "start_time": "2024-09-15T12:43:58.409Z"
   },
   {
    "duration": 14,
    "start_time": "2024-09-15T12:48:44.981Z"
   },
   {
    "duration": 12,
    "start_time": "2024-09-15T12:50:52.677Z"
   },
   {
    "duration": 16,
    "start_time": "2024-09-15T12:51:08.027Z"
   },
   {
    "duration": 9,
    "start_time": "2024-09-15T12:54:12.594Z"
   },
   {
    "duration": 12,
    "start_time": "2024-09-15T12:54:39.177Z"
   },
   {
    "duration": 594,
    "start_time": "2024-09-15T13:32:21.941Z"
   },
   {
    "duration": 582,
    "start_time": "2024-09-15T13:32:30.250Z"
   },
   {
    "duration": 14,
    "start_time": "2024-09-15T14:50:21.288Z"
   },
   {
    "duration": 14,
    "start_time": "2024-09-15T14:50:31.726Z"
   },
   {
    "duration": 12,
    "start_time": "2024-09-15T14:50:34.081Z"
   },
   {
    "duration": 23,
    "start_time": "2024-09-15T14:50:37.731Z"
   },
   {
    "duration": 13,
    "start_time": "2024-09-15T14:50:40.887Z"
   },
   {
    "duration": 12,
    "start_time": "2024-09-15T14:50:42.499Z"
   },
   {
    "duration": 8,
    "start_time": "2024-09-15T14:50:51.313Z"
   },
   {
    "duration": 19,
    "start_time": "2024-09-15T14:52:49.083Z"
   },
   {
    "duration": 19,
    "start_time": "2024-09-15T14:54:23.865Z"
   },
   {
    "duration": 12,
    "start_time": "2024-09-15T14:54:30.516Z"
   },
   {
    "duration": 15,
    "start_time": "2024-09-15T14:54:35.793Z"
   },
   {
    "duration": 60,
    "start_time": "2024-09-15T14:54:58.150Z"
   },
   {
    "duration": 48,
    "start_time": "2024-09-15T14:55:09.451Z"
   },
   {
    "duration": 10,
    "start_time": "2024-09-15T14:55:14.250Z"
   },
   {
    "duration": 20,
    "start_time": "2024-09-15T14:55:23.626Z"
   },
   {
    "duration": 54,
    "start_time": "2024-09-15T14:58:11.789Z"
   },
   {
    "duration": 116,
    "start_time": "2024-09-15T14:58:17.781Z"
   },
   {
    "duration": 11,
    "start_time": "2024-09-15T15:01:17.423Z"
   },
   {
    "duration": 1222,
    "start_time": "2024-09-15T15:32:33.244Z"
   },
   {
    "duration": 193,
    "start_time": "2024-09-15T15:32:34.468Z"
   },
   {
    "duration": 24,
    "start_time": "2024-09-15T15:32:34.662Z"
   },
   {
    "duration": 12,
    "start_time": "2024-09-15T15:32:34.687Z"
   },
   {
    "duration": 56,
    "start_time": "2024-09-15T15:32:34.702Z"
   },
   {
    "duration": 5,
    "start_time": "2024-09-15T15:32:34.759Z"
   },
   {
    "duration": 54,
    "start_time": "2024-09-15T15:32:34.766Z"
   },
   {
    "duration": 6,
    "start_time": "2024-09-15T15:32:34.821Z"
   },
   {
    "duration": 80,
    "start_time": "2024-09-15T15:32:34.829Z"
   },
   {
    "duration": 38,
    "start_time": "2024-09-15T15:32:34.911Z"
   },
   {
    "duration": 15,
    "start_time": "2024-09-15T15:32:34.951Z"
   },
   {
    "duration": 11,
    "start_time": "2024-09-15T15:32:34.968Z"
   },
   {
    "duration": 6,
    "start_time": "2024-09-15T15:32:34.980Z"
   },
   {
    "duration": 114,
    "start_time": "2024-09-15T15:32:34.990Z"
   },
   {
    "duration": 7,
    "start_time": "2024-09-15T15:32:35.106Z"
   },
   {
    "duration": 15,
    "start_time": "2024-09-15T15:32:35.114Z"
   },
   {
    "duration": 10,
    "start_time": "2024-09-15T15:32:35.131Z"
   },
   {
    "duration": 11,
    "start_time": "2024-09-15T15:32:35.142Z"
   },
   {
    "duration": 4,
    "start_time": "2024-09-15T15:32:35.154Z"
   },
   {
    "duration": 4,
    "start_time": "2024-09-15T15:32:35.160Z"
   },
   {
    "duration": 5,
    "start_time": "2024-09-15T15:32:35.165Z"
   },
   {
    "duration": 33,
    "start_time": "2024-09-15T15:32:35.171Z"
   },
   {
    "duration": 302,
    "start_time": "2024-09-15T15:32:35.206Z"
   },
   {
    "duration": 5,
    "start_time": "2024-09-15T15:32:35.510Z"
   },
   {
    "duration": 10,
    "start_time": "2024-09-15T15:32:35.517Z"
   },
   {
    "duration": 25,
    "start_time": "2024-09-15T15:32:35.528Z"
   },
   {
    "duration": 35,
    "start_time": "2024-09-15T15:32:35.555Z"
   },
   {
    "duration": 24,
    "start_time": "2024-09-15T15:32:35.592Z"
   },
   {
    "duration": 28,
    "start_time": "2024-09-15T15:32:35.617Z"
   },
   {
    "duration": 24,
    "start_time": "2024-09-15T15:32:35.647Z"
   },
   {
    "duration": 8,
    "start_time": "2024-09-15T15:32:35.672Z"
   },
   {
    "duration": 34,
    "start_time": "2024-09-15T15:32:35.681Z"
   },
   {
    "duration": 21,
    "start_time": "2024-09-15T15:32:35.716Z"
   },
   {
    "duration": 31,
    "start_time": "2024-09-15T15:32:35.739Z"
   },
   {
    "duration": 50,
    "start_time": "2024-09-15T15:32:35.771Z"
   },
   {
    "duration": 409,
    "start_time": "2024-09-15T15:32:35.822Z"
   },
   {
    "duration": 440,
    "start_time": "2024-09-15T15:32:36.233Z"
   },
   {
    "duration": 602,
    "start_time": "2024-09-15T15:32:36.674Z"
   },
   {
    "duration": 517,
    "start_time": "2024-09-15T15:32:37.278Z"
   },
   {
    "duration": 18,
    "start_time": "2024-09-15T15:32:37.796Z"
   },
   {
    "duration": 292,
    "start_time": "2024-09-15T15:32:37.820Z"
   },
   {
    "duration": 18,
    "start_time": "2024-09-15T15:32:38.114Z"
   },
   {
    "duration": 247,
    "start_time": "2024-09-15T15:32:38.133Z"
   },
   {
    "duration": 16,
    "start_time": "2024-09-15T15:32:38.381Z"
   },
   {
    "duration": 344,
    "start_time": "2024-09-15T15:32:38.399Z"
   },
   {
    "duration": 14,
    "start_time": "2024-09-15T15:32:38.752Z"
   },
   {
    "duration": 263,
    "start_time": "2024-09-15T15:32:38.768Z"
   },
   {
    "duration": 24,
    "start_time": "2024-09-15T15:32:39.033Z"
   },
   {
    "duration": 237,
    "start_time": "2024-09-15T15:32:39.058Z"
   },
   {
    "duration": 15,
    "start_time": "2024-09-15T15:32:39.296Z"
   },
   {
    "duration": 363,
    "start_time": "2024-09-15T15:32:39.313Z"
   },
   {
    "duration": 26,
    "start_time": "2024-09-15T15:32:39.678Z"
   },
   {
    "duration": 1424,
    "start_time": "2024-09-15T15:32:39.705Z"
   },
   {
    "duration": 21,
    "start_time": "2024-09-15T15:32:41.130Z"
   },
   {
    "duration": 9,
    "start_time": "2024-09-15T15:32:41.153Z"
   },
   {
    "duration": 7,
    "start_time": "2024-09-15T15:32:41.163Z"
   },
   {
    "duration": 14,
    "start_time": "2024-09-15T15:32:41.172Z"
   },
   {
    "duration": 16,
    "start_time": "2024-09-15T15:32:41.187Z"
   },
   {
    "duration": 226,
    "start_time": "2024-09-15T15:32:41.204Z"
   },
   {
    "duration": 20,
    "start_time": "2024-09-15T15:32:41.432Z"
   },
   {
    "duration": 83,
    "start_time": "2024-09-15T15:32:41.453Z"
   },
   {
    "duration": 16,
    "start_time": "2024-09-15T15:32:41.538Z"
   },
   {
    "duration": 55,
    "start_time": "2024-09-15T15:32:41.556Z"
   },
   {
    "duration": 0,
    "start_time": "2024-09-15T15:32:41.612Z"
   },
   {
    "duration": 0,
    "start_time": "2024-09-15T15:32:41.613Z"
   },
   {
    "duration": 0,
    "start_time": "2024-09-15T15:32:41.614Z"
   },
   {
    "duration": 12,
    "start_time": "2024-09-15T15:33:03.497Z"
   },
   {
    "duration": 12,
    "start_time": "2024-09-15T15:33:08.932Z"
   },
   {
    "duration": 12,
    "start_time": "2024-09-15T15:33:11.031Z"
   },
   {
    "duration": 13,
    "start_time": "2024-09-15T15:33:14.821Z"
   },
   {
    "duration": 1283,
    "start_time": "2024-09-15T20:13:52.689Z"
   },
   {
    "duration": 100,
    "start_time": "2024-09-15T20:13:53.973Z"
   },
   {
    "duration": 24,
    "start_time": "2024-09-15T20:13:54.075Z"
   },
   {
    "duration": 11,
    "start_time": "2024-09-15T20:13:54.101Z"
   },
   {
    "duration": 38,
    "start_time": "2024-09-15T20:13:54.114Z"
   },
   {
    "duration": 5,
    "start_time": "2024-09-15T20:13:54.154Z"
   },
   {
    "duration": 67,
    "start_time": "2024-09-15T20:13:54.160Z"
   },
   {
    "duration": 5,
    "start_time": "2024-09-15T20:13:54.229Z"
   },
   {
    "duration": 79,
    "start_time": "2024-09-15T20:13:54.235Z"
   },
   {
    "duration": 53,
    "start_time": "2024-09-15T20:13:54.316Z"
   },
   {
    "duration": 14,
    "start_time": "2024-09-15T20:13:54.371Z"
   },
   {
    "duration": 34,
    "start_time": "2024-09-15T20:13:54.387Z"
   },
   {
    "duration": 28,
    "start_time": "2024-09-15T20:13:54.423Z"
   },
   {
    "duration": 63,
    "start_time": "2024-09-15T20:13:54.452Z"
   },
   {
    "duration": 9,
    "start_time": "2024-09-15T20:13:54.517Z"
   },
   {
    "duration": 6,
    "start_time": "2024-09-15T20:13:54.527Z"
   },
   {
    "duration": 9,
    "start_time": "2024-09-15T20:13:54.535Z"
   },
   {
    "duration": 128,
    "start_time": "2024-09-15T20:13:54.546Z"
   },
   {
    "duration": 5,
    "start_time": "2024-09-15T20:13:54.676Z"
   },
   {
    "duration": 11,
    "start_time": "2024-09-15T20:13:54.683Z"
   },
   {
    "duration": 6,
    "start_time": "2024-09-15T20:13:54.695Z"
   },
   {
    "duration": 39,
    "start_time": "2024-09-15T20:13:54.703Z"
   },
   {
    "duration": 291,
    "start_time": "2024-09-15T20:13:54.744Z"
   },
   {
    "duration": 5,
    "start_time": "2024-09-15T20:13:55.036Z"
   },
   {
    "duration": 19,
    "start_time": "2024-09-15T20:13:55.043Z"
   },
   {
    "duration": 10,
    "start_time": "2024-09-15T20:13:55.063Z"
   },
   {
    "duration": 9,
    "start_time": "2024-09-15T20:13:55.075Z"
   },
   {
    "duration": 28,
    "start_time": "2024-09-15T20:13:55.088Z"
   },
   {
    "duration": 19,
    "start_time": "2024-09-15T20:13:55.120Z"
   },
   {
    "duration": 17,
    "start_time": "2024-09-15T20:13:55.142Z"
   },
   {
    "duration": 20,
    "start_time": "2024-09-15T20:13:55.160Z"
   },
   {
    "duration": 27,
    "start_time": "2024-09-15T20:13:55.182Z"
   },
   {
    "duration": 27,
    "start_time": "2024-09-15T20:13:55.211Z"
   },
   {
    "duration": 34,
    "start_time": "2024-09-15T20:13:55.239Z"
   },
   {
    "duration": 72,
    "start_time": "2024-09-15T20:13:55.274Z"
   },
   {
    "duration": 414,
    "start_time": "2024-09-15T20:13:55.347Z"
   },
   {
    "duration": 450,
    "start_time": "2024-09-15T20:13:55.764Z"
   },
   {
    "duration": 675,
    "start_time": "2024-09-15T20:13:56.216Z"
   },
   {
    "duration": 544,
    "start_time": "2024-09-15T20:13:56.892Z"
   },
   {
    "duration": 14,
    "start_time": "2024-09-15T20:13:57.438Z"
   },
   {
    "duration": 251,
    "start_time": "2024-09-15T20:13:57.454Z"
   },
   {
    "duration": 29,
    "start_time": "2024-09-15T20:13:57.706Z"
   },
   {
    "duration": 241,
    "start_time": "2024-09-15T20:13:57.736Z"
   },
   {
    "duration": 15,
    "start_time": "2024-09-15T20:13:57.979Z"
   },
   {
    "duration": 338,
    "start_time": "2024-09-15T20:13:57.996Z"
   },
   {
    "duration": 15,
    "start_time": "2024-09-15T20:13:58.336Z"
   },
   {
    "duration": 258,
    "start_time": "2024-09-15T20:13:58.352Z"
   },
   {
    "duration": 17,
    "start_time": "2024-09-15T20:13:58.620Z"
   },
   {
    "duration": 233,
    "start_time": "2024-09-15T20:13:58.638Z"
   },
   {
    "duration": 55,
    "start_time": "2024-09-15T20:13:58.873Z"
   },
   {
    "duration": 334,
    "start_time": "2024-09-15T20:13:58.930Z"
   },
   {
    "duration": 29,
    "start_time": "2024-09-15T20:13:59.265Z"
   },
   {
    "duration": 1454,
    "start_time": "2024-09-15T20:13:59.296Z"
   },
   {
    "duration": 11,
    "start_time": "2024-09-15T20:14:00.752Z"
   },
   {
    "duration": 25,
    "start_time": "2024-09-15T20:14:00.764Z"
   },
   {
    "duration": 6,
    "start_time": "2024-09-15T20:14:00.791Z"
   },
   {
    "duration": 36,
    "start_time": "2024-09-15T20:14:00.799Z"
   },
   {
    "duration": 12,
    "start_time": "2024-09-15T20:14:00.836Z"
   },
   {
    "duration": 201,
    "start_time": "2024-09-15T20:14:00.850Z"
   },
   {
    "duration": 11,
    "start_time": "2024-09-15T20:14:01.053Z"
   },
   {
    "duration": 19,
    "start_time": "2024-09-15T20:14:01.065Z"
   },
   {
    "duration": 13,
    "start_time": "2024-09-15T20:14:01.086Z"
   },
   {
    "duration": 23,
    "start_time": "2024-09-15T20:14:01.100Z"
   },
   {
    "duration": 16,
    "start_time": "2024-09-15T20:14:01.124Z"
   },
   {
    "duration": 11,
    "start_time": "2024-09-15T20:14:01.141Z"
   },
   {
    "duration": 30,
    "start_time": "2024-09-15T20:14:01.154Z"
   },
   {
    "duration": 48,
    "start_time": "2024-09-15T21:44:40.941Z"
   },
   {
    "duration": 1370,
    "start_time": "2024-09-16T10:39:17.977Z"
   },
   {
    "duration": 216,
    "start_time": "2024-09-16T10:39:19.348Z"
   },
   {
    "duration": 23,
    "start_time": "2024-09-16T10:39:19.566Z"
   },
   {
    "duration": 11,
    "start_time": "2024-09-16T10:39:19.591Z"
   },
   {
    "duration": 34,
    "start_time": "2024-09-16T10:39:19.604Z"
   },
   {
    "duration": 5,
    "start_time": "2024-09-16T10:39:19.639Z"
   },
   {
    "duration": 63,
    "start_time": "2024-09-16T10:39:19.645Z"
   },
   {
    "duration": 5,
    "start_time": "2024-09-16T10:39:19.709Z"
   },
   {
    "duration": 39,
    "start_time": "2024-09-16T10:39:19.716Z"
   },
   {
    "duration": 54,
    "start_time": "2024-09-16T10:39:19.758Z"
   },
   {
    "duration": 15,
    "start_time": "2024-09-16T10:39:19.813Z"
   },
   {
    "duration": 10,
    "start_time": "2024-09-16T10:39:19.830Z"
   },
   {
    "duration": 5,
    "start_time": "2024-09-16T10:39:19.841Z"
   },
   {
    "duration": 108,
    "start_time": "2024-09-16T10:39:19.848Z"
   },
   {
    "duration": 8,
    "start_time": "2024-09-16T10:39:19.957Z"
   },
   {
    "duration": 7,
    "start_time": "2024-09-16T10:39:19.966Z"
   },
   {
    "duration": 8,
    "start_time": "2024-09-16T10:39:19.974Z"
   },
   {
    "duration": 15,
    "start_time": "2024-09-16T10:39:19.984Z"
   },
   {
    "duration": 11,
    "start_time": "2024-09-16T10:39:20.001Z"
   },
   {
    "duration": 29,
    "start_time": "2024-09-16T10:39:20.014Z"
   },
   {
    "duration": 13,
    "start_time": "2024-09-16T10:39:20.044Z"
   },
   {
    "duration": 44,
    "start_time": "2024-09-16T10:39:20.059Z"
   },
   {
    "duration": 282,
    "start_time": "2024-09-16T10:39:20.105Z"
   },
   {
    "duration": 5,
    "start_time": "2024-09-16T10:39:20.389Z"
   },
   {
    "duration": 19,
    "start_time": "2024-09-16T10:39:20.395Z"
   },
   {
    "duration": 6,
    "start_time": "2024-09-16T10:39:20.416Z"
   },
   {
    "duration": 7,
    "start_time": "2024-09-16T10:39:20.424Z"
   },
   {
    "duration": 17,
    "start_time": "2024-09-16T10:39:20.435Z"
   },
   {
    "duration": 20,
    "start_time": "2024-09-16T10:39:20.454Z"
   },
   {
    "duration": 21,
    "start_time": "2024-09-16T10:39:20.475Z"
   },
   {
    "duration": 28,
    "start_time": "2024-09-16T10:39:20.497Z"
   },
   {
    "duration": 32,
    "start_time": "2024-09-16T10:39:20.526Z"
   },
   {
    "duration": 1132,
    "start_time": "2024-09-16T10:39:20.560Z"
   },
   {
    "duration": 0,
    "start_time": "2024-09-16T10:39:21.694Z"
   },
   {
    "duration": 0,
    "start_time": "2024-09-16T10:39:21.695Z"
   },
   {
    "duration": 0,
    "start_time": "2024-09-16T10:39:21.697Z"
   },
   {
    "duration": 0,
    "start_time": "2024-09-16T10:39:21.698Z"
   },
   {
    "duration": 0,
    "start_time": "2024-09-16T10:39:21.699Z"
   },
   {
    "duration": 0,
    "start_time": "2024-09-16T10:39:21.700Z"
   },
   {
    "duration": 0,
    "start_time": "2024-09-16T10:39:21.701Z"
   },
   {
    "duration": 0,
    "start_time": "2024-09-16T10:39:21.702Z"
   },
   {
    "duration": 0,
    "start_time": "2024-09-16T10:39:21.703Z"
   },
   {
    "duration": 0,
    "start_time": "2024-09-16T10:39:21.705Z"
   },
   {
    "duration": 0,
    "start_time": "2024-09-16T10:39:21.706Z"
   },
   {
    "duration": 0,
    "start_time": "2024-09-16T10:39:21.707Z"
   },
   {
    "duration": 0,
    "start_time": "2024-09-16T10:39:21.708Z"
   },
   {
    "duration": 0,
    "start_time": "2024-09-16T10:39:21.709Z"
   },
   {
    "duration": 0,
    "start_time": "2024-09-16T10:39:21.710Z"
   },
   {
    "duration": 0,
    "start_time": "2024-09-16T10:39:21.711Z"
   },
   {
    "duration": 0,
    "start_time": "2024-09-16T10:39:21.712Z"
   },
   {
    "duration": 0,
    "start_time": "2024-09-16T10:39:21.713Z"
   },
   {
    "duration": 0,
    "start_time": "2024-09-16T10:39:21.714Z"
   },
   {
    "duration": 0,
    "start_time": "2024-09-16T10:39:21.715Z"
   },
   {
    "duration": 0,
    "start_time": "2024-09-16T10:39:21.716Z"
   },
   {
    "duration": 0,
    "start_time": "2024-09-16T10:39:21.717Z"
   },
   {
    "duration": 0,
    "start_time": "2024-09-16T10:39:21.718Z"
   },
   {
    "duration": 0,
    "start_time": "2024-09-16T10:39:21.719Z"
   },
   {
    "duration": 0,
    "start_time": "2024-09-16T10:39:21.720Z"
   },
   {
    "duration": 0,
    "start_time": "2024-09-16T10:39:21.721Z"
   },
   {
    "duration": 0,
    "start_time": "2024-09-16T10:39:21.722Z"
   },
   {
    "duration": 0,
    "start_time": "2024-09-16T10:39:21.723Z"
   },
   {
    "duration": 0,
    "start_time": "2024-09-16T10:39:21.725Z"
   },
   {
    "duration": 0,
    "start_time": "2024-09-16T10:39:21.726Z"
   },
   {
    "duration": 0,
    "start_time": "2024-09-16T10:39:21.727Z"
   },
   {
    "duration": 53,
    "start_time": "2024-09-16T10:40:11.152Z"
   },
   {
    "duration": 23,
    "start_time": "2024-09-16T10:44:32.161Z"
   },
   {
    "duration": 58,
    "start_time": "2024-09-16T10:52:22.899Z"
   },
   {
    "duration": 49,
    "start_time": "2024-09-16T10:52:53.775Z"
   },
   {
    "duration": 54,
    "start_time": "2024-09-16T10:52:57.660Z"
   },
   {
    "duration": 53,
    "start_time": "2024-09-16T10:53:00.769Z"
   },
   {
    "duration": 8,
    "start_time": "2024-09-16T10:53:46.019Z"
   },
   {
    "duration": 8,
    "start_time": "2024-09-16T10:53:51.637Z"
   },
   {
    "duration": 8,
    "start_time": "2024-09-16T10:54:10.569Z"
   },
   {
    "duration": 8,
    "start_time": "2024-09-16T10:54:18.219Z"
   },
   {
    "duration": 8,
    "start_time": "2024-09-16T10:54:32.022Z"
   },
   {
    "duration": 3,
    "start_time": "2024-09-16T10:55:01.712Z"
   },
   {
    "duration": 121,
    "start_time": "2024-09-16T10:55:04.775Z"
   },
   {
    "duration": 20,
    "start_time": "2024-09-16T10:55:05.328Z"
   },
   {
    "duration": 11,
    "start_time": "2024-09-16T10:55:07.858Z"
   },
   {
    "duration": 34,
    "start_time": "2024-09-16T10:55:08.492Z"
   },
   {
    "duration": 5,
    "start_time": "2024-09-16T10:55:12.613Z"
   },
   {
    "duration": 14,
    "start_time": "2024-09-16T10:55:13.689Z"
   },
   {
    "duration": 5,
    "start_time": "2024-09-16T10:55:14.979Z"
   },
   {
    "duration": 40,
    "start_time": "2024-09-16T10:55:15.535Z"
   },
   {
    "duration": 56,
    "start_time": "2024-09-16T10:55:17.269Z"
   },
   {
    "duration": 15,
    "start_time": "2024-09-16T10:55:19.534Z"
   },
   {
    "duration": 11,
    "start_time": "2024-09-16T10:55:21.812Z"
   },
   {
    "duration": 5,
    "start_time": "2024-09-16T10:55:22.802Z"
   },
   {
    "duration": 58,
    "start_time": "2024-09-16T10:55:25.381Z"
   },
   {
    "duration": 8,
    "start_time": "2024-09-16T10:55:27.797Z"
   },
   {
    "duration": 6,
    "start_time": "2024-09-16T10:55:28.309Z"
   },
   {
    "duration": 10,
    "start_time": "2024-09-16T10:55:31.573Z"
   },
   {
    "duration": 10,
    "start_time": "2024-09-16T10:55:32.005Z"
   },
   {
    "duration": 5,
    "start_time": "2024-09-16T10:55:32.538Z"
   },
   {
    "duration": 4,
    "start_time": "2024-09-16T10:55:33.026Z"
   },
   {
    "duration": 6,
    "start_time": "2024-09-16T10:55:33.514Z"
   },
   {
    "duration": 34,
    "start_time": "2024-09-16T10:55:36.659Z"
   },
   {
    "duration": 269,
    "start_time": "2024-09-16T10:55:39.224Z"
   },
   {
    "duration": 4,
    "start_time": "2024-09-16T10:55:47.587Z"
   },
   {
    "duration": 4,
    "start_time": "2024-09-16T10:55:48.137Z"
   },
   {
    "duration": 6,
    "start_time": "2024-09-16T10:55:50.242Z"
   },
   {
    "duration": 7,
    "start_time": "2024-09-16T10:55:52.280Z"
   },
   {
    "duration": 12,
    "start_time": "2024-09-16T10:56:25.830Z"
   },
   {
    "duration": 13,
    "start_time": "2024-09-16T10:56:27.155Z"
   },
   {
    "duration": 6,
    "start_time": "2024-09-16T10:56:30.114Z"
   },
   {
    "duration": 21,
    "start_time": "2024-09-16T10:56:41.540Z"
   },
   {
    "duration": 3,
    "start_time": "2024-09-16T10:57:04.841Z"
   },
   {
    "duration": 123,
    "start_time": "2024-09-16T10:57:06.113Z"
   },
   {
    "duration": 21,
    "start_time": "2024-09-16T10:57:06.734Z"
   },
   {
    "duration": 11,
    "start_time": "2024-09-16T10:57:09.231Z"
   },
   {
    "duration": 36,
    "start_time": "2024-09-16T10:57:09.876Z"
   },
   {
    "duration": 6,
    "start_time": "2024-09-16T10:57:13.154Z"
   },
   {
    "duration": 14,
    "start_time": "2024-09-16T10:57:14.296Z"
   },
   {
    "duration": 5,
    "start_time": "2024-09-16T10:57:14.973Z"
   },
   {
    "duration": 41,
    "start_time": "2024-09-16T10:57:15.468Z"
   },
   {
    "duration": 38,
    "start_time": "2024-09-16T10:57:16.562Z"
   },
   {
    "duration": 15,
    "start_time": "2024-09-16T10:57:18.096Z"
   },
   {
    "duration": 11,
    "start_time": "2024-09-16T10:57:19.503Z"
   },
   {
    "duration": 5,
    "start_time": "2024-09-16T10:57:20.367Z"
   },
   {
    "duration": 59,
    "start_time": "2024-09-16T10:57:21.552Z"
   },
   {
    "duration": 8,
    "start_time": "2024-09-16T10:57:24.156Z"
   },
   {
    "duration": 6,
    "start_time": "2024-09-16T10:57:24.611Z"
   },
   {
    "duration": 10,
    "start_time": "2024-09-16T10:57:26.199Z"
   },
   {
    "duration": 10,
    "start_time": "2024-09-16T10:57:26.891Z"
   },
   {
    "duration": 5,
    "start_time": "2024-09-16T10:57:28.179Z"
   },
   {
    "duration": 6,
    "start_time": "2024-09-16T10:57:28.535Z"
   },
   {
    "duration": 6,
    "start_time": "2024-09-16T10:57:29.047Z"
   },
   {
    "duration": 36,
    "start_time": "2024-09-16T10:57:30.484Z"
   },
   {
    "duration": 294,
    "start_time": "2024-09-16T10:57:32.635Z"
   },
   {
    "duration": 5,
    "start_time": "2024-09-16T10:57:35.945Z"
   },
   {
    "duration": 4,
    "start_time": "2024-09-16T10:57:36.535Z"
   },
   {
    "duration": 6,
    "start_time": "2024-09-16T10:57:37.745Z"
   },
   {
    "duration": 6,
    "start_time": "2024-09-16T10:57:39.198Z"
   },
   {
    "duration": 14,
    "start_time": "2024-09-16T10:58:12.287Z"
   },
   {
    "duration": 13,
    "start_time": "2024-09-16T10:58:13.043Z"
   },
   {
    "duration": 24,
    "start_time": "2024-09-16T10:58:19.684Z"
   },
   {
    "duration": 3,
    "start_time": "2024-09-16T10:59:25.485Z"
   },
   {
    "duration": 107,
    "start_time": "2024-09-16T10:59:27.237Z"
   },
   {
    "duration": 21,
    "start_time": "2024-09-16T10:59:27.919Z"
   },
   {
    "duration": 12,
    "start_time": "2024-09-16T10:59:29.205Z"
   },
   {
    "duration": 102,
    "start_time": "2024-09-16T10:59:31.311Z"
   },
   {
    "duration": 6,
    "start_time": "2024-09-16T10:59:43.968Z"
   },
   {
    "duration": 13,
    "start_time": "2024-09-16T10:59:47.197Z"
   },
   {
    "duration": 5,
    "start_time": "2024-09-16T10:59:48.825Z"
   },
   {
    "duration": 40,
    "start_time": "2024-09-16T10:59:49.226Z"
   },
   {
    "duration": 37,
    "start_time": "2024-09-16T10:59:51.159Z"
   },
   {
    "duration": 16,
    "start_time": "2024-09-16T10:59:52.942Z"
   },
   {
    "duration": 12,
    "start_time": "2024-09-16T11:00:05.329Z"
   },
   {
    "duration": 6,
    "start_time": "2024-09-16T11:00:06.258Z"
   },
   {
    "duration": 57,
    "start_time": "2024-09-16T11:00:08.892Z"
   },
   {
    "duration": 8,
    "start_time": "2024-09-16T11:00:11.139Z"
   },
   {
    "duration": 6,
    "start_time": "2024-09-16T11:00:11.559Z"
   },
   {
    "duration": 5,
    "start_time": "2024-09-16T11:00:18.504Z"
   },
   {
    "duration": 4,
    "start_time": "2024-09-16T11:00:19.123Z"
   },
   {
    "duration": 7,
    "start_time": "2024-09-16T11:00:22.068Z"
   },
   {
    "duration": 7,
    "start_time": "2024-09-16T11:00:22.585Z"
   },
   {
    "duration": 20,
    "start_time": "2024-09-16T11:00:28.740Z"
   },
   {
    "duration": 13,
    "start_time": "2024-09-16T11:00:38.075Z"
   },
   {
    "duration": 13,
    "start_time": "2024-09-16T11:00:41.091Z"
   },
   {
    "duration": 23,
    "start_time": "2024-09-16T11:00:44.700Z"
   },
   {
    "duration": 29,
    "start_time": "2024-09-16T11:12:25.308Z"
   },
   {
    "duration": 34,
    "start_time": "2024-09-16T11:14:06.311Z"
   },
   {
    "duration": 57,
    "start_time": "2024-09-16T11:14:08.328Z"
   },
   {
    "duration": 407,
    "start_time": "2024-09-16T11:14:20.131Z"
   },
   {
    "duration": 452,
    "start_time": "2024-09-16T11:14:34.984Z"
   },
   {
    "duration": 540,
    "start_time": "2024-09-16T11:14:43.025Z"
   },
   {
    "duration": 3561,
    "start_time": "2024-09-16T11:14:52.600Z"
   },
   {
    "duration": 5203,
    "start_time": "2024-09-16T11:15:02.571Z"
   },
   {
    "duration": 6265,
    "start_time": "2024-09-16T11:15:30.834Z"
   },
   {
    "duration": 6680,
    "start_time": "2024-09-16T11:15:48.114Z"
   },
   {
    "duration": 6841,
    "start_time": "2024-09-16T11:16:23.689Z"
   },
   {
    "duration": 5443,
    "start_time": "2024-09-16T11:16:41.409Z"
   },
   {
    "duration": 7066,
    "start_time": "2024-09-16T11:17:07.409Z"
   },
   {
    "duration": 6982,
    "start_time": "2024-09-16T11:17:37.585Z"
   },
   {
    "duration": 570,
    "start_time": "2024-09-16T11:17:57.250Z"
   },
   {
    "duration": 1213,
    "start_time": "2024-09-16T11:18:08.780Z"
   },
   {
    "duration": 683,
    "start_time": "2024-09-16T11:18:27.408Z"
   },
   {
    "duration": 979,
    "start_time": "2024-09-16T11:18:34.886Z"
   },
   {
    "duration": 772,
    "start_time": "2024-09-16T11:18:48.344Z"
   },
   {
    "duration": 864,
    "start_time": "2024-09-16T11:19:02.024Z"
   },
   {
    "duration": 727,
    "start_time": "2024-09-16T11:19:12.489Z"
   },
   {
    "duration": 708,
    "start_time": "2024-09-16T11:19:21.213Z"
   },
   {
    "duration": 861,
    "start_time": "2024-09-16T11:19:28.700Z"
   },
   {
    "duration": 769,
    "start_time": "2024-09-16T11:19:46.400Z"
   },
   {
    "duration": 851,
    "start_time": "2024-09-16T11:20:01.219Z"
   },
   {
    "duration": 724,
    "start_time": "2024-09-16T11:20:09.951Z"
   },
   {
    "duration": 808,
    "start_time": "2024-09-16T11:20:22.938Z"
   },
   {
    "duration": 736,
    "start_time": "2024-09-16T11:20:29.954Z"
   },
   {
    "duration": 17,
    "start_time": "2024-09-16T11:20:40.206Z"
   },
   {
    "duration": 369,
    "start_time": "2024-09-16T11:20:42.342Z"
   },
   {
    "duration": 16,
    "start_time": "2024-09-16T11:20:46.739Z"
   },
   {
    "duration": 212,
    "start_time": "2024-09-16T11:20:48.749Z"
   },
   {
    "duration": 15,
    "start_time": "2024-09-16T11:20:52.268Z"
   },
   {
    "duration": 335,
    "start_time": "2024-09-16T11:20:54.700Z"
   },
   {
    "duration": 14,
    "start_time": "2024-09-16T11:20:57.021Z"
   },
   {
    "duration": 399,
    "start_time": "2024-09-16T11:20:58.678Z"
   },
   {
    "duration": 26,
    "start_time": "2024-09-16T11:21:22.982Z"
   },
   {
    "duration": 258,
    "start_time": "2024-09-16T11:21:39.032Z"
   },
   {
    "duration": 24,
    "start_time": "2024-09-16T11:22:12.377Z"
   },
   {
    "duration": 14,
    "start_time": "2024-09-16T11:22:24.161Z"
   },
   {
    "duration": 275,
    "start_time": "2024-09-16T11:22:27.123Z"
   },
   {
    "duration": 14,
    "start_time": "2024-09-16T11:25:23.478Z"
   },
   {
    "duration": 27,
    "start_time": "2024-09-16T11:25:52.589Z"
   },
   {
    "duration": 22,
    "start_time": "2024-09-16T11:27:59.646Z"
   },
   {
    "duration": 4,
    "start_time": "2024-09-16T11:28:15.344Z"
   },
   {
    "duration": 108,
    "start_time": "2024-09-16T11:28:16.950Z"
   },
   {
    "duration": 23,
    "start_time": "2024-09-16T11:28:17.481Z"
   },
   {
    "duration": 12,
    "start_time": "2024-09-16T11:28:20.003Z"
   },
   {
    "duration": 34,
    "start_time": "2024-09-16T11:28:20.463Z"
   },
   {
    "duration": 6,
    "start_time": "2024-09-16T11:28:23.457Z"
   },
   {
    "duration": 14,
    "start_time": "2024-09-16T11:28:24.350Z"
   },
   {
    "duration": 5,
    "start_time": "2024-09-16T11:28:24.836Z"
   },
   {
    "duration": 40,
    "start_time": "2024-09-16T11:28:25.380Z"
   },
   {
    "duration": 39,
    "start_time": "2024-09-16T11:28:26.594Z"
   },
   {
    "duration": 15,
    "start_time": "2024-09-16T11:28:28.131Z"
   },
   {
    "duration": 10,
    "start_time": "2024-09-16T11:28:29.534Z"
   },
   {
    "duration": 6,
    "start_time": "2024-09-16T11:28:30.457Z"
   },
   {
    "duration": 60,
    "start_time": "2024-09-16T11:28:31.611Z"
   },
   {
    "duration": 7,
    "start_time": "2024-09-16T11:28:34.070Z"
   },
   {
    "duration": 6,
    "start_time": "2024-09-16T11:28:34.559Z"
   },
   {
    "duration": 11,
    "start_time": "2024-09-16T11:28:36.141Z"
   },
   {
    "duration": 10,
    "start_time": "2024-09-16T11:28:36.639Z"
   },
   {
    "duration": 5,
    "start_time": "2024-09-16T11:28:38.234Z"
   },
   {
    "duration": 6,
    "start_time": "2024-09-16T11:28:38.613Z"
   },
   {
    "duration": 4,
    "start_time": "2024-09-16T11:28:39.101Z"
   },
   {
    "duration": 35,
    "start_time": "2024-09-16T11:28:41.905Z"
   },
   {
    "duration": 269,
    "start_time": "2024-09-16T11:28:43.169Z"
   },
   {
    "duration": 4,
    "start_time": "2024-09-16T11:28:46.194Z"
   },
   {
    "duration": 4,
    "start_time": "2024-09-16T11:28:46.708Z"
   },
   {
    "duration": 7,
    "start_time": "2024-09-16T11:28:47.774Z"
   },
   {
    "duration": 7,
    "start_time": "2024-09-16T11:28:48.217Z"
   },
   {
    "duration": 18,
    "start_time": "2024-09-16T11:28:51.378Z"
   },
   {
    "duration": 18,
    "start_time": "2024-09-16T11:28:51.935Z"
   },
   {
    "duration": 29,
    "start_time": "2024-09-16T11:29:14.009Z"
   },
   {
    "duration": 13,
    "start_time": "2024-09-16T11:29:17.874Z"
   },
   {
    "duration": 29,
    "start_time": "2024-09-16T11:29:43.749Z"
   },
   {
    "duration": 15,
    "start_time": "2024-09-16T11:29:59.310Z"
   },
   {
    "duration": 289,
    "start_time": "2024-09-16T11:30:02.989Z"
   },
   {
    "duration": 24,
    "start_time": "2024-09-16T11:30:07.290Z"
   },
   {
    "duration": 247,
    "start_time": "2024-09-16T11:30:07.827Z"
   },
   {
    "duration": 17,
    "start_time": "2024-09-16T11:30:10.219Z"
   },
   {
    "duration": 218,
    "start_time": "2024-09-16T11:30:11.549Z"
   },
   {
    "duration": 18,
    "start_time": "2024-09-16T11:30:15.150Z"
   },
   {
    "duration": 19,
    "start_time": "2024-09-16T11:30:32.925Z"
   },
   {
    "duration": 22,
    "start_time": "2024-09-16T11:32:12.042Z"
   },
   {
    "duration": 17,
    "start_time": "2024-09-16T11:32:27.227Z"
   },
   {
    "duration": 29,
    "start_time": "2024-09-16T11:33:53.405Z"
   },
   {
    "duration": 27,
    "start_time": "2024-09-16T11:34:03.000Z"
   },
   {
    "duration": 1308,
    "start_time": "2024-09-16T11:34:09.526Z"
   },
   {
    "duration": 14,
    "start_time": "2024-09-16T11:34:14.961Z"
   },
   {
    "duration": 15,
    "start_time": "2024-09-16T11:34:21.769Z"
   },
   {
    "duration": 477,
    "start_time": "2024-09-16T11:35:50.936Z"
   },
   {
    "duration": 409,
    "start_time": "2024-09-16T11:36:11.484Z"
   },
   {
    "duration": 11,
    "start_time": "2024-09-16T11:44:56.653Z"
   },
   {
    "duration": 8,
    "start_time": "2024-09-16T11:44:57.982Z"
   },
   {
    "duration": 6,
    "start_time": "2024-09-16T11:45:06.469Z"
   },
   {
    "duration": 17,
    "start_time": "2024-09-16T11:45:13.902Z"
   },
   {
    "duration": 15,
    "start_time": "2024-09-16T11:45:19.010Z"
   },
   {
    "duration": 205,
    "start_time": "2024-09-16T11:45:19.989Z"
   },
   {
    "duration": 6,
    "start_time": "2024-09-16T11:45:22.525Z"
   },
   {
    "duration": 12,
    "start_time": "2024-09-16T11:48:45.376Z"
   },
   {
    "duration": 189,
    "start_time": "2024-09-16T11:48:47.784Z"
   },
   {
    "duration": 22,
    "start_time": "2024-09-16T11:50:00.801Z"
   },
   {
    "duration": 6,
    "start_time": "2024-09-16T12:01:17.977Z"
   },
   {
    "duration": 7,
    "start_time": "2024-09-16T12:01:23.931Z"
   },
   {
    "duration": 1148,
    "start_time": "2024-09-16T15:31:53.290Z"
   },
   {
    "duration": 115,
    "start_time": "2024-09-16T15:31:54.440Z"
   },
   {
    "duration": 24,
    "start_time": "2024-09-16T15:31:54.556Z"
   },
   {
    "duration": 12,
    "start_time": "2024-09-16T15:31:54.581Z"
   },
   {
    "duration": 33,
    "start_time": "2024-09-16T15:31:54.595Z"
   },
   {
    "duration": 5,
    "start_time": "2024-09-16T15:31:54.629Z"
   },
   {
    "duration": 54,
    "start_time": "2024-09-16T15:31:54.635Z"
   },
   {
    "duration": 16,
    "start_time": "2024-09-16T15:31:54.691Z"
   },
   {
    "duration": 39,
    "start_time": "2024-09-16T15:31:54.709Z"
   },
   {
    "duration": 37,
    "start_time": "2024-09-16T15:31:54.750Z"
   },
   {
    "duration": 31,
    "start_time": "2024-09-16T15:31:54.788Z"
   },
   {
    "duration": 9,
    "start_time": "2024-09-16T15:31:54.820Z"
   },
   {
    "duration": 5,
    "start_time": "2024-09-16T15:31:54.831Z"
   },
   {
    "duration": 90,
    "start_time": "2024-09-16T15:31:54.837Z"
   },
   {
    "duration": 7,
    "start_time": "2024-09-16T15:31:54.929Z"
   },
   {
    "duration": 7,
    "start_time": "2024-09-16T15:31:54.938Z"
   },
   {
    "duration": 10,
    "start_time": "2024-09-16T15:31:54.946Z"
   },
   {
    "duration": 20,
    "start_time": "2024-09-16T15:31:54.957Z"
   },
   {
    "duration": 37,
    "start_time": "2024-09-16T15:31:54.979Z"
   },
   {
    "duration": 22,
    "start_time": "2024-09-16T15:31:55.017Z"
   },
   {
    "duration": 15,
    "start_time": "2024-09-16T15:31:55.040Z"
   },
   {
    "duration": 41,
    "start_time": "2024-09-16T15:31:55.056Z"
   },
   {
    "duration": 285,
    "start_time": "2024-09-16T15:31:55.098Z"
   },
   {
    "duration": 4,
    "start_time": "2024-09-16T15:31:55.384Z"
   },
   {
    "duration": 18,
    "start_time": "2024-09-16T15:31:55.390Z"
   },
   {
    "duration": 7,
    "start_time": "2024-09-16T15:31:55.409Z"
   },
   {
    "duration": 6,
    "start_time": "2024-09-16T15:31:55.417Z"
   },
   {
    "duration": 12,
    "start_time": "2024-09-16T15:31:55.427Z"
   },
   {
    "duration": 13,
    "start_time": "2024-09-16T15:31:55.440Z"
   },
   {
    "duration": 20,
    "start_time": "2024-09-16T15:31:55.454Z"
   },
   {
    "duration": 56,
    "start_time": "2024-09-16T15:31:55.475Z"
   },
   {
    "duration": 75,
    "start_time": "2024-09-16T15:31:55.532Z"
   },
   {
    "duration": 50,
    "start_time": "2024-09-16T15:31:55.608Z"
   },
   {
    "duration": 404,
    "start_time": "2024-09-16T15:31:55.659Z"
   },
   {
    "duration": 452,
    "start_time": "2024-09-16T15:31:56.064Z"
   },
   {
    "duration": 6520,
    "start_time": "2024-09-16T15:31:56.518Z"
   },
   {
    "duration": 712,
    "start_time": "2024-09-16T15:32:03.039Z"
   },
   {
    "duration": 15,
    "start_time": "2024-09-16T15:32:03.752Z"
   },
   {
    "duration": 640,
    "start_time": "2024-09-16T15:32:03.769Z"
   },
   {
    "duration": 16,
    "start_time": "2024-09-16T15:32:04.411Z"
   },
   {
    "duration": 217,
    "start_time": "2024-09-16T15:32:04.429Z"
   },
   {
    "duration": 14,
    "start_time": "2024-09-16T15:32:04.647Z"
   },
   {
    "duration": 341,
    "start_time": "2024-09-16T15:32:04.662Z"
   },
   {
    "duration": 13,
    "start_time": "2024-09-16T15:32:05.008Z"
   },
   {
    "duration": 271,
    "start_time": "2024-09-16T15:32:05.022Z"
   },
   {
    "duration": 24,
    "start_time": "2024-09-16T15:32:05.294Z"
   },
   {
    "duration": 238,
    "start_time": "2024-09-16T15:32:05.319Z"
   },
   {
    "duration": 15,
    "start_time": "2024-09-16T15:32:05.559Z"
   },
   {
    "duration": 263,
    "start_time": "2024-09-16T15:32:05.576Z"
   },
   {
    "duration": 25,
    "start_time": "2024-09-16T15:32:05.841Z"
   },
   {
    "duration": 1312,
    "start_time": "2024-09-16T15:32:05.868Z"
   },
   {
    "duration": 405,
    "start_time": "2024-09-16T15:32:07.181Z"
   },
   {
    "duration": 21,
    "start_time": "2024-09-16T15:32:07.587Z"
   },
   {
    "duration": 8,
    "start_time": "2024-09-16T15:32:07.609Z"
   },
   {
    "duration": 50,
    "start_time": "2024-09-16T15:32:07.619Z"
   },
   {
    "duration": 20,
    "start_time": "2024-09-16T15:32:07.670Z"
   },
   {
    "duration": 66,
    "start_time": "2024-09-16T15:32:07.692Z"
   },
   {
    "duration": 178,
    "start_time": "2024-09-16T15:32:07.760Z"
   },
   {
    "duration": 12,
    "start_time": "2024-09-16T15:32:07.939Z"
   },
   {
    "duration": 20,
    "start_time": "2024-09-16T15:32:07.952Z"
   },
   {
    "duration": 20,
    "start_time": "2024-09-16T15:32:07.974Z"
   },
   {
    "duration": 27,
    "start_time": "2024-09-16T15:32:07.996Z"
   },
   {
    "duration": 101,
    "start_time": "2024-09-16T15:32:08.025Z"
   },
   {
    "duration": 26,
    "start_time": "2024-09-16T15:32:08.128Z"
   },
   {
    "duration": 26,
    "start_time": "2024-09-16T15:32:08.155Z"
   },
   {
    "duration": 1222,
    "start_time": "2024-09-16T21:26:37.006Z"
   },
   {
    "duration": 105,
    "start_time": "2024-09-16T21:26:38.230Z"
   },
   {
    "duration": 26,
    "start_time": "2024-09-16T21:26:38.337Z"
   },
   {
    "duration": 14,
    "start_time": "2024-09-16T21:26:38.365Z"
   },
   {
    "duration": 36,
    "start_time": "2024-09-16T21:26:38.380Z"
   },
   {
    "duration": 29,
    "start_time": "2024-09-16T21:26:38.418Z"
   },
   {
    "duration": 54,
    "start_time": "2024-09-16T21:26:38.448Z"
   },
   {
    "duration": 6,
    "start_time": "2024-09-16T21:26:38.503Z"
   },
   {
    "duration": 72,
    "start_time": "2024-09-16T21:26:38.511Z"
   },
   {
    "duration": 115,
    "start_time": "2024-09-16T21:26:38.587Z"
   },
   {
    "duration": 43,
    "start_time": "2024-09-16T21:26:38.704Z"
   },
   {
    "duration": 11,
    "start_time": "2024-09-16T21:26:38.749Z"
   },
   {
    "duration": 10,
    "start_time": "2024-09-16T21:26:38.761Z"
   },
   {
    "duration": 112,
    "start_time": "2024-09-16T21:26:38.773Z"
   },
   {
    "duration": 8,
    "start_time": "2024-09-16T21:26:38.886Z"
   },
   {
    "duration": 12,
    "start_time": "2024-09-16T21:26:38.896Z"
   },
   {
    "duration": 9,
    "start_time": "2024-09-16T21:26:38.910Z"
   },
   {
    "duration": 10,
    "start_time": "2024-09-16T21:26:38.946Z"
   },
   {
    "duration": 5,
    "start_time": "2024-09-16T21:26:38.957Z"
   },
   {
    "duration": 4,
    "start_time": "2024-09-16T21:26:38.964Z"
   },
   {
    "duration": 6,
    "start_time": "2024-09-16T21:26:38.970Z"
   },
   {
    "duration": 97,
    "start_time": "2024-09-16T21:26:38.978Z"
   },
   {
    "duration": 572,
    "start_time": "2024-09-16T21:26:39.076Z"
   },
   {
    "duration": 4,
    "start_time": "2024-09-16T21:26:39.650Z"
   },
   {
    "duration": 12,
    "start_time": "2024-09-16T21:26:39.656Z"
   },
   {
    "duration": 12,
    "start_time": "2024-09-16T21:26:39.670Z"
   },
   {
    "duration": 6,
    "start_time": "2024-09-16T21:26:39.684Z"
   },
   {
    "duration": 93,
    "start_time": "2024-09-16T21:26:39.695Z"
   },
   {
    "duration": 80,
    "start_time": "2024-09-16T21:26:39.789Z"
   },
   {
    "duration": 30,
    "start_time": "2024-09-16T21:26:39.870Z"
   },
   {
    "duration": 26,
    "start_time": "2024-09-16T21:26:39.902Z"
   },
   {
    "duration": 49,
    "start_time": "2024-09-16T21:26:39.930Z"
   },
   {
    "duration": 51,
    "start_time": "2024-09-16T21:26:39.982Z"
   },
   {
    "duration": 464,
    "start_time": "2024-09-16T21:26:40.035Z"
   },
   {
    "duration": 461,
    "start_time": "2024-09-16T21:26:40.501Z"
   },
   {
    "duration": 6706,
    "start_time": "2024-09-16T21:26:40.964Z"
   },
   {
    "duration": 738,
    "start_time": "2024-09-16T21:26:47.672Z"
   },
   {
    "duration": 15,
    "start_time": "2024-09-16T21:26:48.411Z"
   },
   {
    "duration": 711,
    "start_time": "2024-09-16T21:26:48.428Z"
   },
   {
    "duration": 17,
    "start_time": "2024-09-16T21:26:49.145Z"
   },
   {
    "duration": 231,
    "start_time": "2024-09-16T21:26:49.163Z"
   },
   {
    "duration": 15,
    "start_time": "2024-09-16T21:26:49.395Z"
   },
   {
    "duration": 364,
    "start_time": "2024-09-16T21:26:49.412Z"
   },
   {
    "duration": 14,
    "start_time": "2024-09-16T21:26:49.778Z"
   },
   {
    "duration": 313,
    "start_time": "2024-09-16T21:26:49.793Z"
   },
   {
    "duration": 16,
    "start_time": "2024-09-16T21:26:50.107Z"
   },
   {
    "duration": 265,
    "start_time": "2024-09-16T21:26:50.124Z"
   },
   {
    "duration": 15,
    "start_time": "2024-09-16T21:26:50.390Z"
   },
   {
    "duration": 280,
    "start_time": "2024-09-16T21:26:50.406Z"
   },
   {
    "duration": 26,
    "start_time": "2024-09-16T21:26:50.688Z"
   },
   {
    "duration": 1368,
    "start_time": "2024-09-16T21:26:50.715Z"
   },
   {
    "duration": 373,
    "start_time": "2024-09-16T21:26:52.084Z"
   },
   {
    "duration": 11,
    "start_time": "2024-09-16T21:26:52.459Z"
   },
   {
    "duration": 10,
    "start_time": "2024-09-16T21:26:52.472Z"
   },
   {
    "duration": 13,
    "start_time": "2024-09-16T21:26:52.483Z"
   },
   {
    "duration": 35,
    "start_time": "2024-09-16T21:26:52.498Z"
   },
   {
    "duration": 20,
    "start_time": "2024-09-16T21:26:52.535Z"
   },
   {
    "duration": 209,
    "start_time": "2024-09-16T21:26:52.557Z"
   },
   {
    "duration": 13,
    "start_time": "2024-09-16T21:26:52.768Z"
   },
   {
    "duration": 4,
    "start_time": "2024-09-16T21:26:52.783Z"
   },
   {
    "duration": 40,
    "start_time": "2024-09-16T21:26:52.788Z"
   },
   {
    "duration": 12,
    "start_time": "2024-09-16T21:26:52.829Z"
   },
   {
    "duration": 107,
    "start_time": "2024-09-16T21:26:52.842Z"
   },
   {
    "duration": 12,
    "start_time": "2024-09-16T21:26:52.951Z"
   },
   {
    "duration": 53,
    "start_time": "2024-09-16T21:26:52.964Z"
   }
  ],
  "kernelspec": {
   "display_name": "Python 3 (ipykernel)",
   "language": "python",
   "name": "python3"
  },
  "language_info": {
   "codemirror_mode": {
    "name": "ipython",
    "version": 3
   },
   "file_extension": ".py",
   "mimetype": "text/x-python",
   "name": "python",
   "nbconvert_exporter": "python",
   "pygments_lexer": "ipython3",
   "version": "3.9.5"
  },
  "toc": {
   "base_numbering": 1,
   "nav_menu": {},
   "number_sections": true,
   "sideBar": true,
   "skip_h1_title": true,
   "title_cell": "Table of Contents",
   "title_sidebar": "Contents",
   "toc_cell": false,
   "toc_position": {},
   "toc_section_display": true,
   "toc_window_display": false
  }
 },
 "nbformat": 4,
 "nbformat_minor": 2
}
